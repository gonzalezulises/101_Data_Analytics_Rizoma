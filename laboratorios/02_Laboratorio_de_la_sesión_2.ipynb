{
  "cells": [
    {
      "cell_type": "markdown",
      "metadata": {},
      "source": [
        "# 🌦️ Laboratorio 2: Descifrando los Patrones del Clima con Pandas 🐼\n",
        "\n",
        "## 🌎 Lectura de datos s iniciación con la librería Pandas\n",
        "\n",
        "---\n",
        "\n",
        "### 🚀 Bienvenidos al laboratorio de la sesión 2\n",
        "\n",
        "En la era del Big Data y el cambio climático, **tu capacidad para analizar datos meteorológicos es más crucial que nunca**. Este laboratorio te sumergirá en un océano de datos, donde cada línea de código te acercará a convertirte en un guardián del conocimiento climático.\n",
        "\n",
        "> \"El clima es lo que esperamos, el tiempo es lo que obtenemos.\" - Mark Twain\n",
        "\n",
        "### 🌡️ ¿Por qué es Importante?\n",
        "\n",
        "- **Predicción de eventos extremos**: Sequías, inundaciones, olas de calor.\n",
        "- **Gestión de recursos hídricos**: Planificación vital para comunidades.\n",
        "- **Alertas tempranas**: Protección de vidas y propiedades.\n",
        "- **Comprensión del cambio climático**: Datos que cuentan historias cruciales.\n",
        "\n",
        "### 🛠️ Tu Kit de Herramientas: Pandas y Datos Reales\n",
        "\n",
        "Con Pandas, una de las herramientas más poderosas en análisis de datos, explorarás datos meteorológicos reales de Panamá. Cada dataset es una puerta a nuevos descubrimientos.\n",
        "\n",
        "---\n",
        "\n",
        "## 🎯 Objetivos del Laboratorio\n",
        "\n",
        "Al final de esta sesión, serás capaz de:\n",
        "\n",
        "1. 📊 **Manipular** complejos conjuntos de datos meteorológicos.\n",
        "2. 🔍 **Identificar** patrones ocultos en variables climáticas.\n",
        "3. 🧮 **Calcular** estadísticas cruciales para el análisis meteorológico.\n",
        "4. 📈 **Visualizar** datos climáticos de manera impactante.\n",
        "5. 🤖 **Desarrollar** modelos para clasificar condiciones climáticas.\n",
        "6. 📝 **Generar** informes meteorológicos profesionales.\n",
        "\n",
        "---\n",
        "\n",
        "## 💪 Competencias que Desarrollarás\n",
        "\n",
        "| Competencia | Descripción |\n",
        "|-------------|-------------|\n",
        "| 🧠 Análisis de Datos | Dominarás la exploración y transformación de datos complejos. |\n",
        "| 📐 Pensamiento Estadístico | Aplicarás conceptos estadísticos al mundo real del clima. |\n",
        "| 💻 Programación en Python | Te volverás un experto en Pandas y bibliotecas relacionadas. |\n",
        "| 🎨 Visualización de Datos | Crearás gráficos que cuentan historias climáticas convincentes. |\n",
        "| 🌪️ Interpretación Meteorológica | Extraerás insights cruciales de los datos climáticos. |\n",
        "| 📢 Comunicación Científica | Presentarás hallazgos de manera clara y persuasiva. |\n",
        "| 🔬 Pensamiento Crítico | Evaluarás datos, identificarás anomalías y formularás hipótesis. |\n",
        "| 🧩 Resolución de Problemas | Abordarás desafíos complejos con soluciones creativas. |\n",
        "| ⏱️ Gestión del Tiempo | Manejarás múltiples análisis con eficiencia. |\n",
        "| 📚 Aprendizaje Continuo | Te mantendrás al día con las últimas técnicas en análisis climático. |\n",
        "\n",
        "---\n",
        "\n",
        "### 🌟 El Futuro está en tus Manos\n",
        "\n",
        "> \"Los datos son el nuevo petróleo. Es valioso, pero si no se refina, no se puede usar realmente.\" - Clive Humby\n",
        "\n",
        "Prepárate para sumergirte en un mundo donde los datos cobran vida. Cada línea de código que escribas te acercará más a descifrar los misterios del clima y a hacer un impacto real en el mundo.\n",
        "\n",
        "**¿Estás listo para convertir datos en conocimiento y ese conocimiento en acción?** 🌍🔬🚀"
      ]
    },
    {
      "cell_type": "markdown",
      "metadata": {},
      "source": [
        "API para conexión"
      ]
    },
    {
      "cell_type": "markdown",
      "metadata": {
        "id": "En_1lZAt6WnQ"
      },
      "source": [
        "Weather Forecast API\n",
        "https://open-meteo.com/"
      ]
    },
    {
      "cell_type": "markdown",
      "metadata": {
        "id": "4_OYj9263fD9"
      },
      "source": [
        "Instalación de bibliotecas:"
      ]
    },
    {
      "cell_type": "code",
      "execution_count": 32,
      "metadata": {
        "colab": {
          "base_uri": "https://localhost:8080/"
        },
        "collapsed": true,
        "id": "FmIxaA5y3Z24",
        "outputId": "5a33353f-68d1-495a-892c-2163286e6129"
      },
      "outputs": [
        {
          "name": "stdout",
          "output_type": "stream",
          "text": [
            "Collecting openmeteo-requests\n",
            "  Downloading openmeteo_requests-1.2.0-py3-none-any.whl (5.5 kB)\n",
            "Collecting openmeteo-sdk>=1.4.0 (from openmeteo-requests)\n",
            "  Downloading openmeteo_sdk-1.11.8-py3-none-any.whl (12 kB)\n",
            "Requirement already satisfied: requests in /usr/local/lib/python3.10/dist-packages (from openmeteo-requests) (2.31.0)\n",
            "Requirement already satisfied: flatbuffers>=24.0.0 in /usr/local/lib/python3.10/dist-packages (from openmeteo-sdk>=1.4.0->openmeteo-requests) (24.3.25)\n",
            "Requirement already satisfied: charset-normalizer<4,>=2 in /usr/local/lib/python3.10/dist-packages (from requests->openmeteo-requests) (3.3.2)\n",
            "Requirement already satisfied: idna<4,>=2.5 in /usr/local/lib/python3.10/dist-packages (from requests->openmeteo-requests) (3.7)\n",
            "Requirement already satisfied: urllib3<3,>=1.21.1 in /usr/local/lib/python3.10/dist-packages (from requests->openmeteo-requests) (2.0.7)\n",
            "Requirement already satisfied: certifi>=2017.4.17 in /usr/local/lib/python3.10/dist-packages (from requests->openmeteo-requests) (2024.6.2)\n",
            "Installing collected packages: openmeteo-sdk, openmeteo-requests\n",
            "Successfully installed openmeteo-requests-1.2.0 openmeteo-sdk-1.11.8\n",
            "Collecting requests-cache\n",
            "  Downloading requests_cache-1.2.1-py3-none-any.whl (61 kB)\n",
            "\u001b[2K     \u001b[90m━━━━━━━━━━━━━━━━━━━━━━━━━━━━━━━━━━━━━━━━\u001b[0m \u001b[32m61.4/61.4 kB\u001b[0m \u001b[31m649.3 kB/s\u001b[0m eta \u001b[36m0:00:00\u001b[0m\n",
            "\u001b[?25hCollecting retry-requests\n",
            "  Downloading retry_requests-2.0.0-py3-none-any.whl (15 kB)\n",
            "Requirement already satisfied: numpy in /usr/local/lib/python3.10/dist-packages (1.25.2)\n",
            "Requirement already satisfied: pandas in /usr/local/lib/python3.10/dist-packages (2.0.3)\n",
            "Requirement already satisfied: attrs>=21.2 in /usr/local/lib/python3.10/dist-packages (from requests-cache) (23.2.0)\n",
            "Collecting cattrs>=22.2 (from requests-cache)\n",
            "  Downloading cattrs-23.2.3-py3-none-any.whl (57 kB)\n",
            "\u001b[2K     \u001b[90m━━━━━━━━━━━━━━━━━━━━━━━━━━━━━━━━━━━━━━━━\u001b[0m \u001b[32m57.5/57.5 kB\u001b[0m \u001b[31m2.6 MB/s\u001b[0m eta \u001b[36m0:00:00\u001b[0m\n",
            "\u001b[?25hRequirement already satisfied: platformdirs>=2.5 in /usr/local/lib/python3.10/dist-packages (from requests-cache) (4.2.2)\n",
            "Requirement already satisfied: requests>=2.22 in /usr/local/lib/python3.10/dist-packages (from requests-cache) (2.31.0)\n",
            "Collecting url-normalize>=1.4 (from requests-cache)\n",
            "  Downloading url_normalize-1.4.3-py2.py3-none-any.whl (6.8 kB)\n",
            "Requirement already satisfied: urllib3>=1.25.5 in /usr/local/lib/python3.10/dist-packages (from requests-cache) (2.0.7)\n",
            "Requirement already satisfied: python-dateutil>=2.8.2 in /usr/local/lib/python3.10/dist-packages (from pandas) (2.8.2)\n",
            "Requirement already satisfied: pytz>=2020.1 in /usr/local/lib/python3.10/dist-packages (from pandas) (2023.4)\n",
            "Requirement already satisfied: tzdata>=2022.1 in /usr/local/lib/python3.10/dist-packages (from pandas) (2024.1)\n",
            "Requirement already satisfied: exceptiongroup>=1.1.1 in /usr/local/lib/python3.10/dist-packages (from cattrs>=22.2->requests-cache) (1.2.1)\n",
            "Requirement already satisfied: typing-extensions!=4.6.3,>=4.1.0 in /usr/local/lib/python3.10/dist-packages (from cattrs>=22.2->requests-cache) (4.12.2)\n",
            "Requirement already satisfied: six>=1.5 in /usr/local/lib/python3.10/dist-packages (from python-dateutil>=2.8.2->pandas) (1.16.0)\n",
            "Requirement already satisfied: charset-normalizer<4,>=2 in /usr/local/lib/python3.10/dist-packages (from requests>=2.22->requests-cache) (3.3.2)\n",
            "Requirement already satisfied: idna<4,>=2.5 in /usr/local/lib/python3.10/dist-packages (from requests>=2.22->requests-cache) (3.7)\n",
            "Requirement already satisfied: certifi>=2017.4.17 in /usr/local/lib/python3.10/dist-packages (from requests>=2.22->requests-cache) (2024.6.2)\n",
            "Installing collected packages: url-normalize, cattrs, retry-requests, requests-cache\n",
            "Successfully installed cattrs-23.2.3 requests-cache-1.2.1 retry-requests-2.0.0 url-normalize-1.4.3\n"
          ]
        }
      ],
      "source": [
        "!pip install openmeteo-requests\n",
        "!pip install requests-cache retry-requests numpy pandas"
      ]
    },
    {
      "cell_type": "markdown",
      "metadata": {
        "id": "-t1PiMDG7Z4u"
      },
      "source": [
        "Este código realiza los siguientes pasos:\n",
        "\n",
        "- Configuración del cliente Open-Meteo: Configura el cliente con caché y reintento en caso de error.\n",
        "- Definición de coordenadas: Usa las coordenadas de Panamá.\n",
        "- Definición de parámetros: Define los parámetros meteorológicos requeridos.\n",
        "- Realización de la solicitud: Realiza la solicitud a la API de Open-Meteo.\n",
        "- Procesamiento de la respuesta: Extrae y muestra información relevante de la respuesta.\n",
        "- Procesamiento de datos horarios: Extrae los datos horarios y los organiza en un DataFrame de pandas.\n",
        "\n",
        "Es importante destacar que el código de ejecución lo provee directamente la página, lo único que le incluí fueron las coordenadas para Panamá. Acá el link: https://open-meteo.com/en/docs#hourly=temperature_2m,relative_humidity_2m,precipitation_probability,rain,surface_pressure,visibility"
      ]
    },
    {
      "cell_type": "code",
      "execution_count": 34,
      "metadata": {
        "colab": {
          "base_uri": "https://localhost:8080/"
        },
        "id": "NdgYl8vU67D2",
        "outputId": "e0bda4c1-ce61-4e67-ecd5-e5d0221293bc"
      },
      "outputs": [
        {
          "name": "stdout",
          "output_type": "stream",
          "text": [
            "Coordinates 9.0°N -79.5°E\n",
            "Elevation 14.0 m asl\n",
            "Timezone None None\n",
            "Timezone difference to GMT+0 0 s\n",
            "                         date  temperature_2m  relative_humidity_2m  \\\n",
            "0   2024-06-24 00:00:00+00:00       27.462500                  84.0   \n",
            "1   2024-06-24 01:00:00+00:00       27.162500                  86.0   \n",
            "2   2024-06-24 02:00:00+00:00       27.062500                  87.0   \n",
            "3   2024-06-24 03:00:00+00:00       27.012501                  88.0   \n",
            "4   2024-06-24 04:00:00+00:00       26.862501                  88.0   \n",
            "..                        ...             ...                   ...   \n",
            "163 2024-06-30 19:00:00+00:00       31.362501                  65.0   \n",
            "164 2024-06-30 20:00:00+00:00       30.312500                  70.0   \n",
            "165 2024-06-30 21:00:00+00:00       29.462500                  75.0   \n",
            "166 2024-06-30 22:00:00+00:00       29.012501                  77.0   \n",
            "167 2024-06-30 23:00:00+00:00       28.762501                  79.0   \n",
            "\n",
            "     precipitation_probability  rain  surface_pressure  visibility  \n",
            "0                         81.0   0.0       1007.995300     24140.0  \n",
            "1                         62.0   0.0       1008.792419     24140.0  \n",
            "2                         42.0   0.0       1009.890076     24140.0  \n",
            "3                         23.0   0.0       1010.289062     24140.0  \n",
            "4                         26.0   0.0       1010.388306     24140.0  \n",
            "..                         ...   ...               ...         ...  \n",
            "163                       91.0   0.0       1007.916016     24140.0  \n",
            "164                       96.0   0.0       1007.311218     24140.0  \n",
            "165                      100.0   0.0       1006.907410     24140.0  \n",
            "166                      100.0   0.0       1006.905273     23940.0  \n",
            "167                      100.0   0.0       1007.203430     23760.0  \n",
            "\n",
            "[168 rows x 7 columns]\n"
          ]
        }
      ],
      "source": [
        "import openmeteo_requests\n",
        "import requests_cache\n",
        "import pandas as pd\n",
        "from retry_requests import retry\n",
        "\n",
        "# Setup the Open-Meteo API client with cache and retry on error\n",
        "cache_session = requests_cache.CachedSession('.cache', expire_after=3600)\n",
        "retry_session = retry(cache_session, retries=5, backoff_factor=0.2)\n",
        "openmeteo = openmeteo_requests.Client(session=retry_session)\n",
        "\n",
        "# Coordenadas para Panamá\n",
        "latitude = 8.9824\n",
        "longitude = -79.5199\n",
        "\n",
        "# Variables meteorológicas requeridas\n",
        "url = \"https://api.open-meteo.com/v1/forecast\"\n",
        "params = {\n",
        "    \"latitude\": latitude,\n",
        "    \"longitude\": longitude,\n",
        "    \"hourly\": [\"temperature_2m\", \"relative_humidity_2m\", \"precipitation_probability\", \"rain\", \"surface_pressure\", \"visibility\"]\n",
        "}\n",
        "\n",
        "# Realizar la solicitud a la API\n",
        "responses = openmeteo.weather_api(url, params=params)\n",
        "\n",
        "# Procesar la respuesta de la primera ubicación\n",
        "response = responses[0]\n",
        "print(f\"Coordinates {response.Latitude()}°N {response.Longitude()}°E\")\n",
        "print(f\"Elevation {response.Elevation()} m asl\")\n",
        "print(f\"Timezone {response.Timezone()} {response.TimezoneAbbreviation()}\")\n",
        "print(f\"Timezone difference to GMT+0 {response.UtcOffsetSeconds()} s\")\n",
        "\n",
        "# Procesar datos horarios\n",
        "hourly = response.Hourly()\n",
        "hourly_temperature_2m = hourly.Variables(0).ValuesAsNumpy()\n",
        "hourly_relative_humidity_2m = hourly.Variables(1).ValuesAsNumpy()\n",
        "hourly_precipitation_probability = hourly.Variables(2).ValuesAsNumpy()\n",
        "hourly_rain = hourly.Variables(3).ValuesAsNumpy()\n",
        "hourly_surface_pressure = hourly.Variables(4).ValuesAsNumpy()\n",
        "hourly_visibility = hourly.Variables(5).ValuesAsNumpy()\n",
        "\n",
        "# Crear un DataFrame con los datos horarios\n",
        "hourly_data = {\n",
        "    \"date\": pd.date_range(\n",
        "        start=pd.to_datetime(hourly.Time(), unit=\"s\", utc=True),\n",
        "        end=pd.to_datetime(hourly.TimeEnd(), unit=\"s\", utc=True),\n",
        "        freq=pd.Timedelta(seconds=hourly.Interval()),\n",
        "        inclusive=\"left\"\n",
        "    ),\n",
        "    \"temperature_2m\": hourly_temperature_2m,\n",
        "    \"relative_humidity_2m\": hourly_relative_humidity_2m,\n",
        "    \"precipitation_probability\": hourly_precipitation_probability,\n",
        "    \"rain\": hourly_rain,\n",
        "    \"surface_pressure\": hourly_surface_pressure,\n",
        "    \"visibility\": hourly_visibility\n",
        "}\n",
        "\n",
        "hourly_dataframe = pd.DataFrame(data=hourly_data)\n",
        "print(hourly_dataframe)\n"
      ]
    },
    {
      "cell_type": "markdown",
      "metadata": {
        "id": "6R0GQdGQ8fX4"
      },
      "source": [
        "# Ejercicios de aplicación\n",
        "\n",
        "### Ejercicio 1: Exploración básica de datos\n",
        "- Muestra las primeras 5 filas del DataFrame.\n",
        "- Imprime información básica del DataFrame (tipos de datos, no nulos, etc.).\n",
        "- Calcula y muestra estadísticas descriptivas básicas para todas las columnas numéricas."
      ]
    },
    {
      "cell_type": "markdown",
      "metadata": {},
      "source": [
        "\n",
        "\n",
        "### Ejercicio 2: Análisis de temperatura\n",
        "+ Encuentra la temperatura máxima y mínima en el período de pronóstico.\n",
        "+ Calcula la temperatura promedio para cada día.\n",
        "+ Identifica las horas del día con temperaturas superiores a 30°C.\n",
        "\n"
      ]
    },
    {
      "cell_type": "markdown",
      "metadata": {},
      "source": [
        "\n",
        "### Ejercicio 3: Probabilidad de precipitación\n",
        "- Calcula la probabilidad promedio de precipitación para cada día.\n",
        "- Encuentra el día con la mayor probabilidad de precipitación.\n",
        "- Crea un nuevo DataFrame que solo incluya las horas con probabilidad de precipitación mayor al 50%."
      ]
    },
    {
      "cell_type": "markdown",
      "metadata": {},
      "source": [
        "\n",
        "\n",
        "### Ejercicio 4: Análisis de visibilidad\n",
        "- Calcula la visibilidad promedio por día.\n",
        "- Identifica los períodos de baja visibilidad (menos de 1000 metros).\n",
        "- Crea un gráfico de líneas que muestre la variación de la visibilidad a lo largo del tiempo.\n",
        "\n"
      ]
    },
    {
      "cell_type": "markdown",
      "metadata": {},
      "source": [
        "\n",
        "### Ejercicio 5: Relación entre variables\n",
        "- Calcula la correlación entre la temperatura y la humedad relativa.\n",
        "- Crea un gráfico de dispersión de temperatura vs. humedad relativa.\n",
        "- Analiza cómo cambia la presión superficial con respecto a la probabilidad de precipitación.\n",
        "\n"
      ]
    },
    {
      "cell_type": "markdown",
      "metadata": {},
      "source": [
        "\n",
        "### Ejercicio 6: Análisis avanzado\n",
        "- Identifica patrones diurnos en la temperatura (comparación día/noche).\n",
        "- Calcula la amplitud térmica diaria (diferencia entre temperatura máxima y mínima) para cada día.\n",
        "- Crea una función que clasifique cada hora en una categoría de comfort basada en temperatura y humedad.(por ejemplo: frío, confortable, caluroso)\n",
        "\n"
      ]
    },
    {
      "cell_type": "markdown",
      "metadata": {},
      "source": [
        "\n",
        "### Ejercicio 7: Visualización de datos\n",
        "- Crea un gráfico de líneas que muestre la temperatura, humedad y probabilidad de precipitación en el mismo gráfico.\n",
        "- Genera un heatmap que muestre la correlación entre todas las variables.\n",
        "- Crea un gráfico de barras que muestre la precipitación total esperada por día.\n",
        "\n"
      ]
    },
    {
      "cell_type": "markdown",
      "metadata": {},
      "source": [
        "\n",
        "### Ejercicio 8: Preparación de informe meteorológico\n",
        "Crea una función que genere un resumen diario del pronóstico, incluyendo:\n",
        "- Temperatura máxima y mínima\n",
        "- Probabilidad de lluvia\n",
        "- Visibilidad promedio\n",
        "- Recomendación general basada en las condiciones (por ejemplo, \"Buen día para actividades al aire libre\")"
      ]
    }
  ],
  "metadata": {
    "colab": {
      "provenance": []
    },
    "kernelspec": {
      "display_name": "Python 3",
      "name": "python3"
    },
    "language_info": {
      "name": "python"
    }
  },
  "nbformat": 4,
  "nbformat_minor": 0
}
