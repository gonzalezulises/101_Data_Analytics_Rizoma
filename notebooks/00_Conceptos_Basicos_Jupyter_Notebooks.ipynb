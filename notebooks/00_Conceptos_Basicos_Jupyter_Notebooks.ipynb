{
  "cells": [
    {
      "cell_type": "markdown",
      "metadata": {
        "id": "kYcdDwf8HFlM"
      },
      "source": [
        "# 📒 Conceptos Básicos de Jupyter Notebooks\n",
        "\n",
        "## 🌟 Objetivos de Aprendizaje\n",
        "\n",
        "Al finalizar este módulo, serás capaz de:\n",
        "\n",
        "1. 💡 **Entender** qué es y para qué sirve Jupyter Notebook.\n",
        "2. 📘 **Comprender** conceptos y funcionalidades básicas de Jupyter Notebook.\n",
        "3. 🛠️ **Familiarizarte** con la herramienta y su uso en proyectos de análisis de datos."
      ]
    },
    {
      "cell_type": "markdown",
      "metadata": {
        "id": "K0qoFB86HFlN"
      },
      "source": [
        "<a id='Indice'></a>\n",
        "## Índice\n",
        "[Inicio ▲](#Indice)\n",
        "\n",
        "1. [¿Qué es Jupyter Notebook?](#Que-Es-Jupyter-Notebooks)\n",
        "1. [Jupyter Notebook App](#Jupyter-Notebook-App)\n",
        "    1. [Kernel](#Kernel)\n",
        "    1. [Dashboard](#Dashboard)\n",
        "1. [Instalación](#Instalacion)\n",
        "1. [Ejecución](#Ejecucion)\n",
        "1. [¿Cómo construír un Notebook?](#Como-construir-notebook)\n",
        "    1. [Celdas](#Celdas)\n",
        "        1. [¿Qué es una celda?](#Que-es-una-celda)\n",
        "        1. [¿Cómo se ejecuta?](#Como-se-ejecuta)\n",
        "        1. [¿Cómo se edita?](#Como-se-edita)\n",
        "    1. [Ejemplos](#Ejemplos)\n",
        "        1. [Markdown](#Markdown)\n",
        "        1. [Code](#Code)\n",
        "1. [Shortcuts](#Shortcuts)\n",
        "1. [Mejores Prácticas](#Mejores-Practicas)\n",
        "1. [Bibliografia](#Bibliografia)"
      ]
    },
    {
      "cell_type": "markdown",
      "metadata": {
        "id": "ceGeAUJeHFlO"
      },
      "source": [
        "<a id='Que-Es-Jupyter-Notebooks'></a>\n",
        "## ¿Qué es Jupyter Notebooks?\n",
        "[Inicio ▲](#Indice)\n",
        "\n",
        "Jupyter Notebook (o más comunmente un \"notebook\" a secas), es un documento producido por la aplicación [Jupyter Notebook App](https://jupyter-notebook-beginner-guide.readthedocs.io/en/latest/what_is_jupyter.html#notebook-app), que contiene tanto código de computadora (por ejemplo, Python o R) como elementos de texto enriquecido (párrafos, ecuaciones, figuras, enlaces, etc.). Es tanto un documento legible por un ser humano, pudiendo contener la descripción de un análisis de datos y sus resultados (figuras, tablas, etc.), como ejecutable por una computadora, pudiendo contener snippets de código que ejecutan por ejemplo un análisis de datos.\n",
        "\n",
        "Debido a esta capacidad de mezclar, código y elementos de texto, este tipo de documentos son ideales para colocar el trabajo de un data scientist (científico de datos), reuniendo el análisis y los resultados en un mismo lugar, a la vez que permite ser ejecutado en tiempo real.\n",
        "\n",
        "Fuente: http://ipython.org/notebook.html#notebook-documents\n",
        "\n",
        "## 🖥️ Importancia de Jupyter Notebooks en Data Analytics\n",
        "\n",
        "Jupyter Notebooks se ha convertido en una herramienta esencial para los profesionales de Data Analytics y Data Science. Su importancia radica en varias razones clave:\n",
        "\n",
        "### 🌟 Interactividad y Visualización\n",
        "\n",
        "- Una de las características más destacadas de Jupyter Notebooks es su capacidad para combinar código ejecutable, visualizaciones y texto descriptivo en un solo documento. Esto permite a los analistas de datos explorar, analizar y visualizar datos de manera interactiva y dinámica. La capacidad de ver los resultados de los análisis en tiempo real facilita la comprensión y comunicación de los hallazgos.\n",
        "\n",
        "### 📊 Documentación y Reproducibilidad\n",
        "\n",
        "- Jupyter Notebooks permite a los analistas de datos documentar cada paso de su análisis de datos con texto enriquecido, explicaciones y resultados intermedios. Esta documentación detallada es crucial para la reproducibilidad del análisis. Otros pueden seguir el mismo notebook y obtener los mismos resultados, lo que es fundamental para la colaboración y la validación de los hallazgos.\n",
        "\n",
        "### 🛠️ Flexibilidad y Compatibilidad\n",
        "\n",
        "- Jupyter Notebooks es compatible con una amplia variedad de lenguajes de programación a través de su arquitectura de kernels. Aunque Python es el lenguaje más comúnmente utilizado, también se pueden ejecutar notebooks en R, Julia y otros lenguajes. Esta flexibilidad permite a los analistas de datos utilizar la mejor herramienta para cada tarea específica.\n",
        "\n",
        "### 🚀 Facilidad de Uso y Accesibilidad\n",
        "\n",
        "- La interfaz de Jupyter Notebooks es intuitiva y fácil de usar, lo que la convierte en una excelente herramienta tanto para principiantes como para expertos. La instalación y configuración son sencillas, especialmente con distribuciones como Anaconda. Además, la posibilidad de ejecutar Jupyter Notebooks en entornos en la nube, como Google Colaboratory, elimina la necesidad de configuraciones locales complejas y hace que los notebooks sean accesibles desde cualquier lugar.\n",
        "\n",
        "### 🤝 Colaboración\n",
        "\n",
        "- Jupyter Notebooks facilita la colaboración entre equipos multidisciplinarios. Los notebooks pueden ser compartidos fácilmente, permitiendo que diferentes miembros del equipo contribuyan al análisis, revisen el trabajo y aporten comentarios. La capacidad de integrar texto, código y visualizaciones en un solo documento mejora significativamente la comunicación de ideas y resultados.\n",
        "\n",
        "### 🌍 Comunidad y Recursos\n",
        "\n",
        "- La popularidad de Jupyter Notebooks ha dado lugar a una amplia y activa comunidad de usuarios y desarrolladores. Esto significa que hay una abundancia de recursos disponibles, incluyendo tutoriales, documentación, ejemplos de notebooks y soluciones a problemas comunes. Esta comunidad también contribuye al desarrollo continuo de la herramienta, asegurando que Jupyter Notebooks se mantenga actualizado con las últimas tecnologías y prácticas en Data Science.\n",
        "\n"
      ]
    },
    {
      "cell_type": "markdown",
      "metadata": {
        "id": "pI8W2Ov1HFlP"
      },
      "source": [
        "<a id='#Jupyter-Notebook-App'></a>\n",
        "## Jupyter Notebook App\n",
        "[Inicio ▲](#Indice)\n",
        "\n",
        "Jupyter Notebook App, es una aplicación cliente-servidor que permite editar y ejecutar notebooks a través de un navegador web. La aplicación se puede instalar y ejecutar de forma local en una PC y no requiere acceso a Internet. A su vez se puede instalar en un servidor web remoto para luego accederla a través de Internet.\n",
        "\n",
        "Sus dos componentes principales son: (i) kernels y (ii) dashboard.\n",
        "\n",
        "<a id='Kernel'></a>\n",
        "### Kernel\n",
        "Un kernel es un \"motor\" computacional, que ejecuta el código contenido dentro del notebook. Cuando se abre un notebook, el kernel asociado se ejecuta de forma automática. Luego cuando se ejecuta un notebook (ya sea celda-por-celda o desde el menú *Cell -> Run All*), el kernel ejecuta los cálculos computacionales y produce los resultados.\n",
        "\n",
        "Por defecto la aplicación trae un kernel para el lenguaje Python, pero pueden agregarse kernels para otros lenguajes de programación como R.\n",
        "\n",
        "<a id='Dashboard'></a>\n",
        "### Dashboard\n",
        "El Dashboard de la aplicación, es la componente gráfica la cual se visualiza cuando uno ejecuta Jupyter Notebook App. Permite gestionar notebooks (agregar, crear, editar, etc), configurar y gestionar los Kernels disponibles (seleccionar, apagar, reiniciar, etc), entre otras opciones."
      ]
    },
    {
      "cell_type": "markdown",
      "metadata": {
        "id": "1ipSHwKrHFlP"
      },
      "source": [
        "<a id='Instalacion'></a>\n",
        "## Instalación\n",
        "[Inicio ▲](#Indice)\n",
        "\n",
        "Ya que utilizamos Anaconda para la gestión y despliegue del ambiente, no es necesario instalar Jupyter Notebooks (viene dentro de la distribución). Por cualquier duda, ver el *Instructivo de Instalacion de Herramientas* [3] en la sección de *Bibliografía* y referencias.\n",
        "\n",
        "Igualmente si deseas utilizar google colaboratory, el notebook está listo para su uso."
      ]
    },
    {
      "cell_type": "markdown",
      "metadata": {
        "id": "BSIT1YqMHFlP"
      },
      "source": [
        "\n",
        "# Ejecución\n",
        "[Inicio ▲](#Indice)\n",
        "\n",
        "Ahora que conocemos un poco más sobre la herramienta con la que se trabajará en este taller, es tiempo de aprender cómo utilizarla.\n",
        "\n",
        "Para ejecutar la aplicación de Jupyter Notebook en Python, sigue estos pasos:\n",
        "\n",
        "1. Abre una terminal.\n",
        "2. Activa el ambiente virtual del taller utilizando el comando `conda activate taller_cdatos`.\n",
        "3. Ejecuta el comando `jupyter notebook`.\n",
        "\n",
        "```bash\n",
        "$ conda activate taller_cdatos\n",
        "$ jupyter notebook\n",
        "```\n",
        "\n",
        "El comando `jupyter notebook` abrirá la aplicación y automáticamente abrirá tu navegador web predeterminado en la dirección `http://localhost:8888`.\n",
        "\n",
        "![figura1](https://github.com/efviodo/idatha-data-science-course/raw/master/notebooks/figures/content_jupyternotebook1.gif \"segment\")\n",
        "\n",
        "<center>Imagen extraída de <a href=\"https://www.datacamp.com/community/tutorials/tutorial-jupyter-notebook\">DataCamp</a></center>\n",
        "\n",
        "En la pestaña \"Files\" encontrarás todos los documentos referentes a tus \"notebooks\", mientras que en la pestaña \"Running\" podrás ver información sobre todos los procesos en ejecución. Desde la pestaña \"Clusters\", puedes controlar clusters de kernels para paralelismo en notebooks (aunque no se abordará en este curso).\n",
        "\n",
        "¡Intentemos crear un nuevo Notebook para empezar a trabajar!\n",
        "\n",
        "Para crear un nuevo Notebook, simplemente haz clic en el botón \"New\" en la pestaña \"Files\". Se desplegará un menú donde podrás seleccionar el tipo de archivo a crear, como Tex File, Folder, Terminal, Python 2, Python 3, R, etc. En este caso, seleccionaremos **Python** para empezar.\n",
        "\n",
        "<div class=\"alert alert-info\">\n",
        "    <b>NOTA:</b>\n",
        "    Las opciones disponibles al crear un Notebook dependen de los kernels instalados en tu ambiente. Si tienes Python 3 instalado, verás esa opción disponible. Cuando creas un ambiente virtual con conda create, Anaconda se asegura de instalar todas las bibliotecas necesarias para Python 3 y configura un kernel correspondiente para Jupyter Notebook.\n",
        "</div>\n",
        "\n",
        "Una vez creado tu primer \"notebook\", se abrirá un archivo en blanco con herramientas similares a las de un editor de texto estándar.\n",
        "\n",
        "En la siguiente sección, exploraremos las principales herramientas de Jupyter Notebook y aprenderemos cómo construir tu primer notebook desde cero. Antes de pasar a la siguiente sección, familiarízate navegando por los diferentes menús y opciones disponibles en la herramienta.\n"
      ]
    },
    {
      "cell_type": "markdown",
      "metadata": {
        "id": "lOuqE74hHFlP"
      },
      "source": [
        "<a id='Como-construir-notebook'></a>\n",
        "## ¿Cómo construír un Notebook?\n",
        "[Inicio ▲](#Indice)\n",
        "\n",
        "### Celdas\n",
        "\n",
        "<a id='Que-es-una-celda'></a>\n",
        "#### ¿Qué es una celda?\n",
        "Un notebook se compone por un conjunto de celdas o \"cells\" en inglés. Cada celda es una unidad independiente, que puede ser editada y ejecutada.\n",
        "\n",
        "Existen diferentes tipos de celdas:\n",
        "\n",
        "* *Code* : Contienen código que puede ser ejecutado, utilizando el Kernel seleccionado (ej. Python, R).\n",
        "* *Markdown*: Contienen información descriptiva como textos enriquecidos (descripciones, tablas, figuras).\n",
        "* *Raw NBConvert*: Tipo de celda utilizado cuando se quiere que Jupyter no interprete el contenido de la misma y lo muestre tal cual tu lo escribiste.\n",
        "* *Heading*: Antiguamente se utilizaba para crear títulos, actualmente se utiliza una celda Markdown para lo mismo.\n",
        "\n",
        "Cuando agregamos una nueva celda, por defecto se creará de tipo *Code*. Sin embargo puedes cambiar en cualquier momento el tipo de la misma simplemente seleccionando la celda y luego cambiando el tipo desde el menú que aparece en la parte superior del editor y eigiendo cualquier otro tipo.\n",
        "\n",
        "![figure2](https://github.com/efviodo/idatha-data-science-course/raw/master/notebooks/figures/change_cell_type.png)\n",
        "\n",
        "\n",
        "Repasando lo que hemos visto hasta ahora, simplemente con estos cuatro tipos de celdas podemos mostrar:\n",
        "\n",
        "- `Código`\n",
        "- Gráficas generadas a partir de código\n",
        "- Texto **enriquecido**\n",
        "- Expresiones matemáticas: $e^x=\\sum_{i=0}^\\infty \\frac{1}{i!}x^i$\n",
        "- Dibujos y *rich media* (HTML, LaTeX, PNG, SVG, etc.)\n",
        "\n",
        "<a id='Como-se-ejecuta'></a>\n",
        "#### ¿Cómo se ejecuta?\n",
        "Cuando se abre por primera vez un Notebook, Juypyter carga la información de cada una de las celdas pero **NO** las ejecuta en su totalidad. Solamente ejecuta las celdas de tipo *Markdown*. Para ejecutar todas las celdas (incluyendo las de tipo *Code*), debemos ejecutarlas utilizando alguna de las varias formas que Jupyter pone a nuestra disposición:\n",
        "\n",
        "* *Cell -> Run Cells*\n",
        "* *Cell -> Run All*\n",
        "* Seleccionar la celda y *Ctrl+Enter* (shortcut)\n",
        "\n",
        "<a id='Como-se-edita'></a>\n",
        "#### ¿Cómo se edita?\n",
        "Para editar el contenido de una celda, basta con seleccionar la celda y cambiar al [Modo edición](#Modo-Edicion). Para esto basta con hacer doble click en la selda que queremos editar.\n"
      ]
    },
    {
      "cell_type": "markdown",
      "metadata": {
        "id": "v_X9yMosHFlQ"
      },
      "source": [
        "### Ejemplos\n",
        "\n",
        "#### Markdown\n",
        "Esta es una celda de tipo *Markdown*; la misma permite escribir texto con cierto formato, por ejemplo títulos, listas, tablas. Probemos de insertar diferentes objetos, para investigar que tipo de cosas podemos hacer con ella:\n",
        "\n",
        "&rarr; Diferentes tipos de fuentes: **Negrita**, *Italica*, ~~Tacchado~~\n",
        "\n",
        "&rarr; Diferentes tamaños de letra:\n",
        "\n",
        "# Título 1\n",
        "## Título 2\n",
        "### Título 3\n",
        "#### Título 4\n",
        "\n",
        "&rarr; Lista de elementos\n",
        "    \n",
        "* Item 1\n",
        "* Item 2\n",
        "  * Item 2.1\n",
        "    * Item 2.2\n",
        "    * Item 2.3\n",
        "\n",
        "\n",
        "&rarr; Lista ordenada\n",
        "\n",
        "    1. Elemento 1\n",
        "    2. Elemento 2\n",
        "    3. Elemento 3\n",
        "\n",
        "&rarr; Tablas\n",
        "\n",
        "| Clase | Día | Fecha |\n",
        "| ----- | --- | ----- |\n",
        "| 1 | Lunes | 22/0/2018 |\n",
        "| 2 | Martes | 23/0/2018 |\n",
        "| 3 | Miércoles | 24/0/2018 |\n",
        "| 4 | Viernes | 26/0/2018 |\n",
        "\n",
        "&rarr; Imagenes\n",
        "\n",
        "<img src=\"https://github.com/efviodo/idatha-data-science-course/raw/master/notebooks/figures/jupyter-logo.png\" width=\"200px\" style=\"center; margin-top:50px\"/>\n",
        "\n",
        "&rarr; HTML\n",
        "\n",
        "\n",
        "<form>\n",
        "  First name:<br>\n",
        "  <input type=\"text\" name=\"firstname\"><br>\n",
        "  Last name:<br>\n",
        "  <input type=\"text\" name=\"lastname\">\n",
        "</form>\n",
        "\n",
        "Por más información sobre lenguaje Markdown ver https://github.com/adam-p/markdown-here/wiki/Markdown-Cheatsheet"
      ]
    },
    {
      "cell_type": "markdown",
      "metadata": {
        "id": "TA4rrvAVHFlQ"
      },
      "source": [
        "#### Código"
      ]
    },
    {
      "cell_type": "code",
      "execution_count": 2,
      "metadata": {
        "id": "rnq_c8jKHFlQ",
        "outputId": "6ebedd05-9941-4b41-8b36-728ce20f5587",
        "scrolled": true
      },
      "outputs": [
        {
          "name": "stdout",
          "output_type": "stream",
          "text": [
            "¡Hola mundo!\n"
          ]
        }
      ],
      "source": [
        "# Esto es una celda de código de python. Como puedes ver, es posible editar el contenido de la misma y ejecutarla para ver su resultado\n",
        "# El resultado se muestra debajo de la celda una vez que la misma fue ejecutada. \n",
        "# Prueba de editar el contenido de la celda para ver como cambia el resultado!\n",
        "\n",
        "print(\"¡Hola mundo!\")"
      ]
    },
    {
      "cell_type": "markdown",
      "metadata": {
        "id": "YruORRqcHFlS"
      },
      "source": [
        "\n",
        "# Obtener Ayuda en Jupyter Notebook para Análisis de Datos\n",
        "\n",
        "Durante el análisis de datos en Jupyter Notebook, puedes aprovechar varias funciones y comandos integrados para obtener ayuda y resolver problemas. Aquí se detallan algunas formas útiles de utilizar Jupyter Notebook para este propósito.\n"
      ]
    },
    {
      "cell_type": "markdown",
      "metadata": {},
      "source": [
        "\n",
        "## Uso del Comando `?`\n",
        "\n",
        "El comando `?` te permite obtener información sobre objetos específicos en Python, como funciones, métodos o incluso módulos completos. \n",
        "\n",
        "Por ejemplo, para obtener ayuda sobre la función `pandas.DataFrame`, puedes ejecutar:\n"
      ]
    },
    {
      "cell_type": "code",
      "execution_count": null,
      "metadata": {},
      "outputs": [],
      "source": [
        "sum?"
      ]
    },
    {
      "cell_type": "markdown",
      "metadata": {},
      "source": [
        "Esto abrirá una ventana con la documentación de la función sum, mostrando su firma, parámetros, y una breve descripción de su uso.\n"
      ]
    },
    {
      "cell_type": "markdown",
      "metadata": {},
      "source": [
        "\n",
        "Función help()\n",
        "La función help() en Python te proporciona documentación interactiva desde la consola de Python. En Jupyter Notebook, puedes usar help() para obtener ayuda detallada sobre cualquier objeto de Python.\n",
        "\n",
        "Por ejemplo, para obtener ayuda sobre la función read_csv() de pandas, puedes ejecutar:\n"
      ]
    },
    {
      "cell_type": "code",
      "execution_count": null,
      "metadata": {},
      "outputs": [],
      "source": [
        "help(sum)"
      ]
    },
    {
      "cell_type": "markdown",
      "metadata": {
        "id": "4guRzOm5HFlT"
      },
      "source": [
        "<a id='#Shortcuts'></a>\n",
        "## Shortcuts\n",
        "[Inicio ▲](#Indice)\n",
        "\n",
        "## Atajos de Teclado en Jupyter Notebook\n",
        "\n",
        "### Modo Comando vs. Modo Edición\n",
        "\n",
        "Jupyter Notebook tiene dos modos de entrada diferentes que puedes distinguir por el color del borde de la celda:\n",
        "\n",
        "**1. Modo comando**: Se indica con un borde azul. En este modo, puedes usar atajos de teclado para realizar acciones a nivel del notebook.\n",
        "\n",
        "**2. Modo edición**: Se indica con un borde verde. Aquí es donde puedes editar el contenido de la celda seleccionada.\n",
        "\n",
        "### Atajos de Teclado en Modo Comando\n",
        "\n",
        "- `Shift + Enter`: Ejecuta la celda actual y selecciona la siguiente.\n",
        "- `Ctrl + Enter`: Ejecuta la celda actual.\n",
        "- `Option + Enter`: Ejecuta la celda actual e inserta una nueva debajo.\n",
        "- `A`: Inserta una celda arriba de la celda actual.\n",
        "- `B`: Inserta una celda debajo de la celda actual.\n",
        "- `C`: Copia la celda o celdas seleccionadas.\n",
        "- `V`: Pega la celda desde el portapapeles.\n",
        "- `D`, `D` (presionar D dos veces seguidas): Borra la celda o celdas seleccionadas.\n",
        "- `Shift + M`: Fusiona el contenido de las celdas seleccionadas, o la celda actual con la de abajo si solo una está seleccionada.\n",
        "- `I`, `I` (presionar I dos veces seguidas): Detiene el kernel.\n",
        "- `0`, `0` (presionar 0 dos veces seguidas): Reinicia el kernel.\n",
        "- `Y`: Cambia el tipo de celda a *Code*.\n",
        "- `M`: Cambia el tipo de celda a *Markdown*.\n",
        "\n",
        "### Atajos de Teclado en Modo Edición\n",
        "\n",
        "- `Cmd + /` (en Mac) o `Ctrl + /` (en Windows/Linux): Alterna las líneas seleccionadas entre comentarios y código.\n",
        "- `Ctrl + Shift + -`: Divide la celda en el cursor.\n",
        "\n",
        "Estos atajos de teclado te permiten realizar diversas acciones de manera rápida y eficiente en Jupyter Notebook, mejorando tu flujo de trabajo tanto en la creación de código como en la redacción de documentos con Markdown.\n"
      ]
    },
    {
      "cell_type": "markdown",
      "metadata": {
        "id": "CxjYqP_IHFlT"
      },
      "source": [
        "\n",
        "<a id='#Mejores-Practicas'></a>\n",
        "## Mejores Prácticas\n",
        "[Inicio ▲](#Indice)\n",
        "\n",
        "A continuación se presentan una serie de buenas prácticas que te ayudarán a crear notebooks más organizados y eficientes en Python y Jupyter Notebook.\n",
        "\n",
        "### Importación de Dependencias en la Primera Celda\n",
        "* Realiza todas las importaciones necesarias al inicio del notebook en la primera celda. Esto mejora la legibilidad del código, asegura que todas las dependencias estén claras desde el principio y facilita la recarga de todas las dependencias al reiniciar el notebook.\n",
        "\n",
        "### Mantén Tus Celdas Simples\n",
        "* Procura que tus celdas sean claras y concisas. Evita tener una única celda con demasiado código o comentarios extensos. Asegúrate de mantener un equilibrio adecuado entre la cantidad de celdas y la complejidad del contenido en cada una.\n",
        "\n",
        "### Define Métodos y Funciones\n",
        "* Para análisis de datos complejos, aprovecha la programación modular definiendo métodos y funciones que encapsulen comportamientos repetitivos o complejos. Coloca secciones dedicadas a métodos útiles al inicio del notebook para facilitar la reutilización.\n",
        "\n",
        "### Utiliza un Sistema de Control de Versiones\n",
        "* Para mantener un registro claro y organizado de tus notebooks, utiliza un sistema de control de versiones como [Git](https://git-scm.com/), [Github](https://github.com/), o [GitLab](https://about.gitlab.com/). Esto te permite gestionar cambios, colaborar y mantener un historial de versiones de manera efectiva.\n",
        "\n",
        "### Convención de Nombres de Archivos\n",
        "* Adopta una convención clara para nombrar tus notebooks que refleje el contenido y propósito de cada uno. Por ejemplo:\n",
        "   - `001-Analisis-Compras-Estatales.ipynb`\n",
        "   - `002-Evaluacion-Calidad-Compras-Estatales.ipynb`\n",
        "\n",
        "Evita nombres genéricos como `Notebook 2` o `Calentamiento` que no describen adecuadamente el contenido.\n",
        "\n",
        "### Divide el Notebook en Secciones\n",
        "* Organiza tu notebook utilizando Markdown para dividirlo en secciones. Incluye una sección de **Objetivos** y un **Índice** al inicio para orientar al lector sobre la estructura y propósito del notebook.\n",
        "\n",
        "### Aprende Observando Otros Notebooks\n",
        "* Una excelente manera de mejorar tus habilidades en la creación de notebooks es estudiar ejemplos y buenas prácticas observando otros notebooks. Puedes encontrar muchos ejemplos en sitios como [nbviewer](https://nbviewer.jupyter.org/) o repositorios en [Github](https://github.com/jakevdp/PythonDataScienceHandbook/tree/master/notebooks).\n",
        "\n",
        "Estas prácticas te ayudarán a mantener tus notebooks organizados, legibles y eficientes, facilitando el trabajo colaborativo y la gestión de proyectos en Python con Jupyter Notebook.\n"
      ]
    },
    {
      "cell_type": "markdown",
      "metadata": {
        "id": "Me7hn09IHFlT"
      },
      "source": [
        "<a id='Bibliografia'></a>\n",
        "## Bilbiografía\n",
        "[Inicio ▲](#Indice)\n",
        "\n",
        "<ol>\n",
        "    <li><a href=\"https://www.datacamp.com/community/tutorials/tutorial-jupyter-notebook\">Tutorial Jupyter Notebooks</a></li>\n",
        "    <li><a href=\"http://maxmelnick.com/2016/04/19/python-beginner-tips-and-tricks.html\">Shortcuts Jupyter</a></li>\n",
        "</ol>"
      ]
    }
  ],
  "metadata": {
    "colab": {
      "provenance": []
    },
    "kernelspec": {
      "display_name": "Python 3",
      "language": "python",
      "name": "python3"
    },
    "language_info": {
      "codemirror_mode": {
        "name": "ipython",
        "version": 3
      },
      "file_extension": ".py",
      "mimetype": "text/x-python",
      "name": "python",
      "nbconvert_exporter": "python",
      "pygments_lexer": "ipython3",
      "version": "3.10.14"
    }
  },
  "nbformat": 4,
  "nbformat_minor": 0
}
