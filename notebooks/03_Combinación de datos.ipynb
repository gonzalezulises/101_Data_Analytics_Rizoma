{
 "cells": [
  {
   "cell_type": "markdown",
   "id": "fbc6cbc2-d06d-4ac5-af57-14cdf52a1101",
   "metadata": {},
   "source": [
    "# Combinación de datos en pandas con merge(), .join() y concat() 🐼"
   ]
  },
  {
   "cell_type": "markdown",
   "id": "baee4e4e-4fa2-4dcd-b18d-5c446397e545",
   "metadata": {},
   "source": [
    "Los objetos Series y DataFrame de Pandas son herramientas poderosas para explorar y analizar datos. Parte de su poder proviene de un enfoque multifacético para combinar conjuntos de datos separados. Con Pandas, puede fusionar, unir y concatenar sus conjuntos de datos, lo que le permite unificar y comprender mejor sus datos a medida que los analiza.\n",
    "\n",
    "En este tutorial, aprenderá cómo y cuándo combinar sus datos en pandas con:\n",
    "- merge() para combinar datos en columnas o índices comunes\n",
    "- join() para combinar datos en una columna clave o un índice\n",
    "- concat() para combinar DataFrames en filas o columnas\n",
    "\n",
    "merge(): Combinación de datos en columnas o índices comunes 🔗\n",
    "La primera técnica que aprenderá es merge(). Puede utilizarla merge() siempre que desee una funcionalidad similar a las operaciones de unión de una base de datos. Es la más flexible de las tres operaciones que aprenderá.\n",
    "\n",
    "Cuando desea combinar objetos de datos en función de una o más claves, de forma similar a lo que haría en una base de datos relacional, esta merge() es la herramienta que necesita. Más específicamente, merge() es más útil cuando desea combinar filas que comparten datos.\n",
    "\n",
    "Puede lograr uniones de varios a uno y de varios a varios con merge(). En una unión de varios a uno, uno de sus conjuntos de datos tendrá muchas filas en la columna de combinación que repiten los mismos valores. Por ejemplo, los valores podrían ser 1, 1, 3, 5 y 5. Al mismo tiempo, la columna de combinación en el otro conjunto de datos no tendrá valores repetidos. Tome 1, 3 y 5 como ejemplo.\n",
    "\n",
    "En una combinación de varios a varios, ambas columnas fusionadas tendrán valores repetidos. Estas combinaciones son más complejas y dan como resultado el producto cartesiano de las filas unidas. Esto significa que, después de la fusión, tendrás todas las combinaciones de filas que comparten el mismo valor en la columna clave.\n",
    "\n",
    "Lo que hace que sea merge() tan flexible es la gran cantidad de opciones para definir el comportamiento de la fusión. Si bien la lista puede parecer abrumadora, con la práctica podrá fusionar de manera experta conjuntos de datos de todo tipo.\n",
    "\n",
    "join(): Combinación de datos en una columna clave o un índice 🔍\n",
    "El método .join() se usa para combinar dos DataFrames en base a sus índices. Es una forma conveniente de hacer uniones tipo SQL utilizando los índices de los DataFrames.\n",
    "\n",
    "concat(): Combinación de datos en filas o columnas ➕\n",
    "La función concat() se usa para concatenar dos o más DataFrames a lo largo de un eje específico (filas o columnas)."
   ]
  },
  {
   "cell_type": "code",
   "execution_count": 5,
   "id": "2bbc0fe5-5c96-47a2-a518-3e0950fc2c6d",
   "metadata": {},
   "outputs": [],
   "source": [
    "import pandas as pd\n",
    "climate_temp = pd.read_csv(\"https://raw.githubusercontent.com/gonzalezulises/detodounpoco/main/climate_temp.csv\")\n",
    "climate_precip = pd.read_csv(\"https://raw.githubusercontent.com/gonzalezulises/detodounpoco/main/climate_precip.csv\")"
   ]
  },
  {
   "cell_type": "code",
   "execution_count": 49,
   "id": "7b004859-8cee-4682-9c6d-3968df7681bf",
   "metadata": {},
   "outputs": [
    {
     "name": "stdout",
     "output_type": "stream",
     "text": [
      "<class 'pandas.core.frame.DataFrame'>\n",
      "RangeIndex: 127020 entries, 0 to 127019\n",
      "Data columns (total 21 columns):\n",
      " #   Column           Non-Null Count   Dtype \n",
      "---  ------           --------------   ----- \n",
      " 0   STATION          127020 non-null  object\n",
      " 1   STATION_NAME     127020 non-null  object\n",
      " 2   ELEVATION        127020 non-null  object\n",
      " 3   LATITUDE         127020 non-null  object\n",
      " 4   LONGITUDE        127020 non-null  object\n",
      " 5   DATE             127020 non-null  int64 \n",
      " 6   DLY-CLDD-BASE45  127020 non-null  int64 \n",
      " 7   DLY-CLDD-BASE50  127020 non-null  int64 \n",
      " 8   DLY-CLDD-BASE55  127020 non-null  int64 \n",
      " 9   DLY-CLDD-BASE57  127020 non-null  int64 \n",
      " 10  DLY-CLDD-BASE60  127020 non-null  int64 \n",
      " 11  DLY-CLDD-NORMAL  127020 non-null  int64 \n",
      " 12  DLY-CLDD-BASE70  127020 non-null  int64 \n",
      " 13  DLY-CLDD-BASE72  127020 non-null  int64 \n",
      " 14  DLY-HTDD-BASE40  127020 non-null  int64 \n",
      " 15  DLY-HTDD-BASE45  127020 non-null  int64 \n",
      " 16  DLY-HTDD-BASE50  127020 non-null  int64 \n",
      " 17  DLY-HTDD-BASE55  127020 non-null  int64 \n",
      " 18  DLY-HTDD-BASE57  127020 non-null  int64 \n",
      " 19  DLY-HTDD-BASE60  127020 non-null  int64 \n",
      " 20  DLY-HTDD-NORMAL  127020 non-null  int64 \n",
      "dtypes: int64(16), object(5)\n",
      "memory usage: 20.4+ MB\n"
     ]
    }
   ],
   "source": [
    "climate_temp.info()\n"
   ]
  },
  {
   "cell_type": "code",
   "execution_count": 6,
   "id": "caf7ea1e-8eb8-4d98-9e27-ad8b2d1c3ff3",
   "metadata": {},
   "outputs": [
    {
     "data": {
      "text/html": [
       "<div>\n",
       "<style scoped>\n",
       "    .dataframe tbody tr th:only-of-type {\n",
       "        vertical-align: middle;\n",
       "    }\n",
       "\n",
       "    .dataframe tbody tr th {\n",
       "        vertical-align: top;\n",
       "    }\n",
       "\n",
       "    .dataframe thead th {\n",
       "        text-align: right;\n",
       "    }\n",
       "</style>\n",
       "<table border=\"1\" class=\"dataframe\">\n",
       "  <thead>\n",
       "    <tr style=\"text-align: right;\">\n",
       "      <th></th>\n",
       "      <th>STATION</th>\n",
       "      <th>STATION_NAME</th>\n",
       "      <th>ELEVATION</th>\n",
       "      <th>LATITUDE</th>\n",
       "      <th>LONGITUDE</th>\n",
       "      <th>DATE</th>\n",
       "      <th>DLY-CLDD-BASE45</th>\n",
       "      <th>DLY-CLDD-BASE50</th>\n",
       "      <th>DLY-CLDD-BASE55</th>\n",
       "      <th>DLY-CLDD-BASE57</th>\n",
       "      <th>...</th>\n",
       "      <th>DLY-CLDD-NORMAL</th>\n",
       "      <th>DLY-CLDD-BASE70</th>\n",
       "      <th>DLY-CLDD-BASE72</th>\n",
       "      <th>DLY-HTDD-BASE40</th>\n",
       "      <th>DLY-HTDD-BASE45</th>\n",
       "      <th>DLY-HTDD-BASE50</th>\n",
       "      <th>DLY-HTDD-BASE55</th>\n",
       "      <th>DLY-HTDD-BASE57</th>\n",
       "      <th>DLY-HTDD-BASE60</th>\n",
       "      <th>DLY-HTDD-NORMAL</th>\n",
       "    </tr>\n",
       "  </thead>\n",
       "  <tbody>\n",
       "    <tr>\n",
       "      <th>0</th>\n",
       "      <td>GHCND:USC00049099</td>\n",
       "      <td>TWENTYNINE PALMS CA US</td>\n",
       "      <td>602</td>\n",
       "      <td>34.12806</td>\n",
       "      <td>-116.03694</td>\n",
       "      <td>20100101</td>\n",
       "      <td>6</td>\n",
       "      <td>2</td>\n",
       "      <td>-7777</td>\n",
       "      <td>-7777</td>\n",
       "      <td>...</td>\n",
       "      <td>0</td>\n",
       "      <td>0</td>\n",
       "      <td>0</td>\n",
       "      <td>-7777</td>\n",
       "      <td>1</td>\n",
       "      <td>2</td>\n",
       "      <td>6</td>\n",
       "      <td>7</td>\n",
       "      <td>10</td>\n",
       "      <td>15</td>\n",
       "    </tr>\n",
       "    <tr>\n",
       "      <th>1</th>\n",
       "      <td>GHCND:USC00049099</td>\n",
       "      <td>TWENTYNINE PALMS CA US</td>\n",
       "      <td>602</td>\n",
       "      <td>34.12806</td>\n",
       "      <td>-116.03694</td>\n",
       "      <td>20100102</td>\n",
       "      <td>6</td>\n",
       "      <td>2</td>\n",
       "      <td>1</td>\n",
       "      <td>-7777</td>\n",
       "      <td>...</td>\n",
       "      <td>0</td>\n",
       "      <td>0</td>\n",
       "      <td>0</td>\n",
       "      <td>-7777</td>\n",
       "      <td>1</td>\n",
       "      <td>2</td>\n",
       "      <td>6</td>\n",
       "      <td>7</td>\n",
       "      <td>10</td>\n",
       "      <td>15</td>\n",
       "    </tr>\n",
       "    <tr>\n",
       "      <th>2</th>\n",
       "      <td>GHCND:USC00049099</td>\n",
       "      <td>TWENTYNINE PALMS CA US</td>\n",
       "      <td>602</td>\n",
       "      <td>34.12806</td>\n",
       "      <td>-116.03694</td>\n",
       "      <td>20100103</td>\n",
       "      <td>6</td>\n",
       "      <td>2</td>\n",
       "      <td>1</td>\n",
       "      <td>-7777</td>\n",
       "      <td>...</td>\n",
       "      <td>0</td>\n",
       "      <td>0</td>\n",
       "      <td>0</td>\n",
       "      <td>-7777</td>\n",
       "      <td>1</td>\n",
       "      <td>2</td>\n",
       "      <td>5</td>\n",
       "      <td>7</td>\n",
       "      <td>10</td>\n",
       "      <td>15</td>\n",
       "    </tr>\n",
       "    <tr>\n",
       "      <th>3</th>\n",
       "      <td>GHCND:USC00049099</td>\n",
       "      <td>TWENTYNINE PALMS CA US</td>\n",
       "      <td>602</td>\n",
       "      <td>34.12806</td>\n",
       "      <td>-116.03694</td>\n",
       "      <td>20100104</td>\n",
       "      <td>6</td>\n",
       "      <td>2</td>\n",
       "      <td>1</td>\n",
       "      <td>-7777</td>\n",
       "      <td>...</td>\n",
       "      <td>0</td>\n",
       "      <td>0</td>\n",
       "      <td>0</td>\n",
       "      <td>-7777</td>\n",
       "      <td>1</td>\n",
       "      <td>2</td>\n",
       "      <td>5</td>\n",
       "      <td>7</td>\n",
       "      <td>10</td>\n",
       "      <td>15</td>\n",
       "    </tr>\n",
       "    <tr>\n",
       "      <th>4</th>\n",
       "      <td>GHCND:USC00049099</td>\n",
       "      <td>TWENTYNINE PALMS CA US</td>\n",
       "      <td>602</td>\n",
       "      <td>34.12806</td>\n",
       "      <td>-116.03694</td>\n",
       "      <td>20100105</td>\n",
       "      <td>6</td>\n",
       "      <td>2</td>\n",
       "      <td>1</td>\n",
       "      <td>-7777</td>\n",
       "      <td>...</td>\n",
       "      <td>0</td>\n",
       "      <td>0</td>\n",
       "      <td>0</td>\n",
       "      <td>-7777</td>\n",
       "      <td>-7777</td>\n",
       "      <td>2</td>\n",
       "      <td>5</td>\n",
       "      <td>7</td>\n",
       "      <td>10</td>\n",
       "      <td>15</td>\n",
       "    </tr>\n",
       "  </tbody>\n",
       "</table>\n",
       "<p>5 rows × 21 columns</p>\n",
       "</div>"
      ],
      "text/plain": [
       "             STATION            STATION_NAME ELEVATION  LATITUDE   LONGITUDE  \\\n",
       "0  GHCND:USC00049099  TWENTYNINE PALMS CA US       602  34.12806  -116.03694   \n",
       "1  GHCND:USC00049099  TWENTYNINE PALMS CA US       602  34.12806  -116.03694   \n",
       "2  GHCND:USC00049099  TWENTYNINE PALMS CA US       602  34.12806  -116.03694   \n",
       "3  GHCND:USC00049099  TWENTYNINE PALMS CA US       602  34.12806  -116.03694   \n",
       "4  GHCND:USC00049099  TWENTYNINE PALMS CA US       602  34.12806  -116.03694   \n",
       "\n",
       "       DATE  DLY-CLDD-BASE45  DLY-CLDD-BASE50  DLY-CLDD-BASE55  \\\n",
       "0  20100101                6                2            -7777   \n",
       "1  20100102                6                2                1   \n",
       "2  20100103                6                2                1   \n",
       "3  20100104                6                2                1   \n",
       "4  20100105                6                2                1   \n",
       "\n",
       "   DLY-CLDD-BASE57  ...  DLY-CLDD-NORMAL  DLY-CLDD-BASE70  DLY-CLDD-BASE72  \\\n",
       "0            -7777  ...                0                0                0   \n",
       "1            -7777  ...                0                0                0   \n",
       "2            -7777  ...                0                0                0   \n",
       "3            -7777  ...                0                0                0   \n",
       "4            -7777  ...                0                0                0   \n",
       "\n",
       "   DLY-HTDD-BASE40  DLY-HTDD-BASE45  DLY-HTDD-BASE50  DLY-HTDD-BASE55  \\\n",
       "0            -7777                1                2                6   \n",
       "1            -7777                1                2                6   \n",
       "2            -7777                1                2                5   \n",
       "3            -7777                1                2                5   \n",
       "4            -7777            -7777                2                5   \n",
       "\n",
       "   DLY-HTDD-BASE57  DLY-HTDD-BASE60  DLY-HTDD-NORMAL  \n",
       "0                7               10               15  \n",
       "1                7               10               15  \n",
       "2                7               10               15  \n",
       "3                7               10               15  \n",
       "4                7               10               15  \n",
       "\n",
       "[5 rows x 21 columns]"
      ]
     },
     "execution_count": 6,
     "metadata": {},
     "output_type": "execute_result"
    }
   ],
   "source": [
    "climate_temp.head()"
   ]
  },
  {
   "cell_type": "code",
   "execution_count": 47,
   "id": "dec712ee-4651-4b5b-9a7c-27fcf07976f9",
   "metadata": {},
   "outputs": [
    {
     "name": "stdout",
     "output_type": "stream",
     "text": [
      "<class 'pandas.core.frame.DataFrame'>\n",
      "RangeIndex: 151110 entries, 0 to 151109\n",
      "Data columns (total 29 columns):\n",
      " #   Column                   Non-Null Count   Dtype  \n",
      "---  ------                   --------------   -----  \n",
      " 0   STATION                  151110 non-null  object \n",
      " 1   STATION_NAME             151110 non-null  object \n",
      " 2   DATE                     151110 non-null  int64  \n",
      " 3   DLY-PRCP-25PCTL          151110 non-null  float64\n",
      " 4   DLY-SNWD-25PCTL          151110 non-null  int64  \n",
      " 5   DLY-SNOW-25PCTL          151110 non-null  float64\n",
      " 6   DLY-PRCP-50PCTL          151110 non-null  float64\n",
      " 7   DLY-SNWD-50PCTL          151110 non-null  int64  \n",
      " 8   DLY-SNOW-50PCTL          151110 non-null  float64\n",
      " 9   DLY-PRCP-75PCTL          151110 non-null  float64\n",
      " 10  DLY-SNWD-75PCTL          151110 non-null  int64  \n",
      " 11  DLY-SNOW-75PCTL          151110 non-null  float64\n",
      " 12  MTD-PRCP-NORMAL          151110 non-null  float64\n",
      " 13  MTD-SNOW-NORMAL          151110 non-null  float64\n",
      " 14  YTD-PRCP-NORMAL          151110 non-null  float64\n",
      " 15  YTD-SNOW-NORMAL          151110 non-null  float64\n",
      " 16  DLY-PRCP-PCTALL-GE001HI  151110 non-null  int64  \n",
      " 17  DLY-PRCP-PCTALL-GE010HI  151110 non-null  int64  \n",
      " 18  DLY-PRCP-PCTALL-GE050HI  151110 non-null  int64  \n",
      " 19  DLY-PRCP-PCTALL-GE100HI  151110 non-null  int64  \n",
      " 20  DLY-SNWD-PCTALL-GE001WI  151110 non-null  int64  \n",
      " 21  DLY-SNWD-PCTALL-GE010WI  151110 non-null  int64  \n",
      " 22  DLY-SNWD-PCTALL-GE003WI  151110 non-null  int64  \n",
      " 23  DLY-SNWD-PCTALL-GE005WI  151110 non-null  int64  \n",
      " 24  DLY-SNOW-PCTALL-GE001TI  151110 non-null  int64  \n",
      " 25  DLY-SNOW-PCTALL-GE010TI  151110 non-null  int64  \n",
      " 26  DLY-SNOW-PCTALL-GE100TI  151110 non-null  int64  \n",
      " 27  DLY-SNOW-PCTALL-GE030TI  151110 non-null  int64  \n",
      " 28  DLY-SNOW-PCTALL-GE050TI  151110 non-null  int64  \n",
      "dtypes: float64(10), int64(17), object(2)\n",
      "memory usage: 33.4+ MB\n"
     ]
    }
   ],
   "source": [
    "climate_precip.info()"
   ]
  },
  {
   "cell_type": "code",
   "execution_count": 7,
   "id": "d702fef1-f1bf-4a79-8bc5-6a25ce563103",
   "metadata": {},
   "outputs": [
    {
     "data": {
      "text/html": [
       "<div>\n",
       "<style scoped>\n",
       "    .dataframe tbody tr th:only-of-type {\n",
       "        vertical-align: middle;\n",
       "    }\n",
       "\n",
       "    .dataframe tbody tr th {\n",
       "        vertical-align: top;\n",
       "    }\n",
       "\n",
       "    .dataframe thead th {\n",
       "        text-align: right;\n",
       "    }\n",
       "</style>\n",
       "<table border=\"1\" class=\"dataframe\">\n",
       "  <thead>\n",
       "    <tr style=\"text-align: right;\">\n",
       "      <th></th>\n",
       "      <th>STATION</th>\n",
       "      <th>STATION_NAME</th>\n",
       "      <th>DATE</th>\n",
       "      <th>DLY-PRCP-25PCTL</th>\n",
       "      <th>DLY-SNWD-25PCTL</th>\n",
       "      <th>DLY-SNOW-25PCTL</th>\n",
       "      <th>DLY-PRCP-50PCTL</th>\n",
       "      <th>DLY-SNWD-50PCTL</th>\n",
       "      <th>DLY-SNOW-50PCTL</th>\n",
       "      <th>DLY-PRCP-75PCTL</th>\n",
       "      <th>...</th>\n",
       "      <th>DLY-PRCP-PCTALL-GE100HI</th>\n",
       "      <th>DLY-SNWD-PCTALL-GE001WI</th>\n",
       "      <th>DLY-SNWD-PCTALL-GE010WI</th>\n",
       "      <th>DLY-SNWD-PCTALL-GE003WI</th>\n",
       "      <th>DLY-SNWD-PCTALL-GE005WI</th>\n",
       "      <th>DLY-SNOW-PCTALL-GE001TI</th>\n",
       "      <th>DLY-SNOW-PCTALL-GE010TI</th>\n",
       "      <th>DLY-SNOW-PCTALL-GE100TI</th>\n",
       "      <th>DLY-SNOW-PCTALL-GE030TI</th>\n",
       "      <th>DLY-SNOW-PCTALL-GE050TI</th>\n",
       "    </tr>\n",
       "  </thead>\n",
       "  <tbody>\n",
       "    <tr>\n",
       "      <th>0</th>\n",
       "      <td>GHCND:USC00049099</td>\n",
       "      <td>TWENTYNINE PALMS CA US</td>\n",
       "      <td>20100101</td>\n",
       "      <td>-6.66</td>\n",
       "      <td>-666</td>\n",
       "      <td>-66.6</td>\n",
       "      <td>-6.66</td>\n",
       "      <td>-666</td>\n",
       "      <td>-66.6</td>\n",
       "      <td>-6.66</td>\n",
       "      <td>...</td>\n",
       "      <td>3</td>\n",
       "      <td>-9999</td>\n",
       "      <td>0</td>\n",
       "      <td>-9999</td>\n",
       "      <td>-9999</td>\n",
       "      <td>-9999</td>\n",
       "      <td>-9999</td>\n",
       "      <td>0</td>\n",
       "      <td>-9999</td>\n",
       "      <td>-9999</td>\n",
       "    </tr>\n",
       "    <tr>\n",
       "      <th>1</th>\n",
       "      <td>GHCND:USC00049099</td>\n",
       "      <td>TWENTYNINE PALMS CA US</td>\n",
       "      <td>20100102</td>\n",
       "      <td>-6.66</td>\n",
       "      <td>-666</td>\n",
       "      <td>-66.6</td>\n",
       "      <td>-6.66</td>\n",
       "      <td>-666</td>\n",
       "      <td>-66.6</td>\n",
       "      <td>-6.66</td>\n",
       "      <td>...</td>\n",
       "      <td>3</td>\n",
       "      <td>-9999</td>\n",
       "      <td>0</td>\n",
       "      <td>-9999</td>\n",
       "      <td>-9999</td>\n",
       "      <td>-9999</td>\n",
       "      <td>-9999</td>\n",
       "      <td>0</td>\n",
       "      <td>-9999</td>\n",
       "      <td>-9999</td>\n",
       "    </tr>\n",
       "    <tr>\n",
       "      <th>2</th>\n",
       "      <td>GHCND:USC00049099</td>\n",
       "      <td>TWENTYNINE PALMS CA US</td>\n",
       "      <td>20100103</td>\n",
       "      <td>-6.66</td>\n",
       "      <td>-666</td>\n",
       "      <td>-66.6</td>\n",
       "      <td>-6.66</td>\n",
       "      <td>-666</td>\n",
       "      <td>-66.6</td>\n",
       "      <td>-6.66</td>\n",
       "      <td>...</td>\n",
       "      <td>3</td>\n",
       "      <td>-9999</td>\n",
       "      <td>0</td>\n",
       "      <td>-9999</td>\n",
       "      <td>-9999</td>\n",
       "      <td>-9999</td>\n",
       "      <td>-9999</td>\n",
       "      <td>0</td>\n",
       "      <td>-9999</td>\n",
       "      <td>-9999</td>\n",
       "    </tr>\n",
       "    <tr>\n",
       "      <th>3</th>\n",
       "      <td>GHCND:USC00049099</td>\n",
       "      <td>TWENTYNINE PALMS CA US</td>\n",
       "      <td>20100104</td>\n",
       "      <td>-6.66</td>\n",
       "      <td>-9999</td>\n",
       "      <td>-9999.0</td>\n",
       "      <td>-6.66</td>\n",
       "      <td>-9999</td>\n",
       "      <td>-9999.0</td>\n",
       "      <td>-6.66</td>\n",
       "      <td>...</td>\n",
       "      <td>3</td>\n",
       "      <td>0</td>\n",
       "      <td>0</td>\n",
       "      <td>0</td>\n",
       "      <td>0</td>\n",
       "      <td>0</td>\n",
       "      <td>0</td>\n",
       "      <td>0</td>\n",
       "      <td>0</td>\n",
       "      <td>0</td>\n",
       "    </tr>\n",
       "    <tr>\n",
       "      <th>4</th>\n",
       "      <td>GHCND:USC00049099</td>\n",
       "      <td>TWENTYNINE PALMS CA US</td>\n",
       "      <td>20100105</td>\n",
       "      <td>-6.66</td>\n",
       "      <td>-9999</td>\n",
       "      <td>-9999.0</td>\n",
       "      <td>-6.66</td>\n",
       "      <td>-9999</td>\n",
       "      <td>-9999.0</td>\n",
       "      <td>-6.66</td>\n",
       "      <td>...</td>\n",
       "      <td>3</td>\n",
       "      <td>0</td>\n",
       "      <td>0</td>\n",
       "      <td>0</td>\n",
       "      <td>0</td>\n",
       "      <td>0</td>\n",
       "      <td>0</td>\n",
       "      <td>0</td>\n",
       "      <td>0</td>\n",
       "      <td>0</td>\n",
       "    </tr>\n",
       "  </tbody>\n",
       "</table>\n",
       "<p>5 rows × 29 columns</p>\n",
       "</div>"
      ],
      "text/plain": [
       "             STATION            STATION_NAME      DATE  DLY-PRCP-25PCTL  \\\n",
       "0  GHCND:USC00049099  TWENTYNINE PALMS CA US  20100101            -6.66   \n",
       "1  GHCND:USC00049099  TWENTYNINE PALMS CA US  20100102            -6.66   \n",
       "2  GHCND:USC00049099  TWENTYNINE PALMS CA US  20100103            -6.66   \n",
       "3  GHCND:USC00049099  TWENTYNINE PALMS CA US  20100104            -6.66   \n",
       "4  GHCND:USC00049099  TWENTYNINE PALMS CA US  20100105            -6.66   \n",
       "\n",
       "   DLY-SNWD-25PCTL  DLY-SNOW-25PCTL  DLY-PRCP-50PCTL  DLY-SNWD-50PCTL  \\\n",
       "0             -666            -66.6            -6.66             -666   \n",
       "1             -666            -66.6            -6.66             -666   \n",
       "2             -666            -66.6            -6.66             -666   \n",
       "3            -9999          -9999.0            -6.66            -9999   \n",
       "4            -9999          -9999.0            -6.66            -9999   \n",
       "\n",
       "   DLY-SNOW-50PCTL  DLY-PRCP-75PCTL  ...  DLY-PRCP-PCTALL-GE100HI  \\\n",
       "0            -66.6            -6.66  ...                        3   \n",
       "1            -66.6            -6.66  ...                        3   \n",
       "2            -66.6            -6.66  ...                        3   \n",
       "3          -9999.0            -6.66  ...                        3   \n",
       "4          -9999.0            -6.66  ...                        3   \n",
       "\n",
       "   DLY-SNWD-PCTALL-GE001WI  DLY-SNWD-PCTALL-GE010WI  DLY-SNWD-PCTALL-GE003WI  \\\n",
       "0                    -9999                        0                    -9999   \n",
       "1                    -9999                        0                    -9999   \n",
       "2                    -9999                        0                    -9999   \n",
       "3                        0                        0                        0   \n",
       "4                        0                        0                        0   \n",
       "\n",
       "   DLY-SNWD-PCTALL-GE005WI  DLY-SNOW-PCTALL-GE001TI  DLY-SNOW-PCTALL-GE010TI  \\\n",
       "0                    -9999                    -9999                    -9999   \n",
       "1                    -9999                    -9999                    -9999   \n",
       "2                    -9999                    -9999                    -9999   \n",
       "3                        0                        0                        0   \n",
       "4                        0                        0                        0   \n",
       "\n",
       "   DLY-SNOW-PCTALL-GE100TI  DLY-SNOW-PCTALL-GE030TI  DLY-SNOW-PCTALL-GE050TI  \n",
       "0                        0                    -9999                    -9999  \n",
       "1                        0                    -9999                    -9999  \n",
       "2                        0                    -9999                    -9999  \n",
       "3                        0                        0                        0  \n",
       "4                        0                        0                        0  \n",
       "\n",
       "[5 rows x 29 columns]"
      ]
     },
     "execution_count": 7,
     "metadata": {},
     "output_type": "execute_result"
    }
   ],
   "source": [
    "climate_precip.head()"
   ]
  },
  {
   "cell_type": "code",
   "execution_count": 8,
   "id": "882ef2a0-692f-4487-a6e6-ad1a554e78df",
   "metadata": {},
   "outputs": [
    {
     "data": {
      "text/plain": [
       "(151110, 29)"
      ]
     },
     "execution_count": 8,
     "metadata": {},
     "output_type": "execute_result"
    }
   ],
   "source": [
    "climate_precip.shape"
   ]
  },
  {
   "cell_type": "code",
   "execution_count": 9,
   "id": "dac64e96-3a45-4cd1-a196-7031050792ca",
   "metadata": {},
   "outputs": [],
   "source": [
    "#aplica shape a ambos data frames"
   ]
  },
  {
   "cell_type": "code",
   "execution_count": null,
   "id": "4d11a3d8-ed8c-48bd-b532-442fca8e18dc",
   "metadata": {},
   "outputs": [],
   "source": []
  },
  {
   "cell_type": "markdown",
   "id": "06add79a-1748-4ee1-9c06-42a639ba891f",
   "metadata": {},
   "source": [
    "# Inner Join"
   ]
  },
  {
   "cell_type": "markdown",
   "id": "e9023878-d153-45d4-b524-b436e8fd701a",
   "metadata": {},
   "source": [
    "Se refiere a la operación de unión de datos entre dos DataFrames basada en una o más columnas comunes."
   ]
  },
  {
   "cell_type": "code",
   "execution_count": 15,
   "id": "5cb61a7f-4c20-4273-8936-538e51c14bc5",
   "metadata": {},
   "outputs": [],
   "source": [
    "inner_merged = pd.merge(climate_temp, climate_precip, on=[\"STATION\", \"DATE\"])"
   ]
  },
  {
   "cell_type": "code",
   "execution_count": 17,
   "id": "cbd52573-bdf4-4049-b999-f5b8c5499afc",
   "metadata": {},
   "outputs": [
    {
     "data": {
      "text/plain": [
       "(123005, 48)"
      ]
     },
     "execution_count": 17,
     "metadata": {},
     "output_type": "execute_result"
    }
   ],
   "source": [
    "inner_merged.shape"
   ]
  },
  {
   "cell_type": "code",
   "execution_count": 34,
   "id": "a2efb8d4-83a9-448b-aed9-b5055ac83c64",
   "metadata": {},
   "outputs": [
    {
     "data": {
      "text/html": [
       "<div>\n",
       "<style scoped>\n",
       "    .dataframe tbody tr th:only-of-type {\n",
       "        vertical-align: middle;\n",
       "    }\n",
       "\n",
       "    .dataframe tbody tr th {\n",
       "        vertical-align: top;\n",
       "    }\n",
       "\n",
       "    .dataframe thead th {\n",
       "        text-align: right;\n",
       "    }\n",
       "</style>\n",
       "<table border=\"1\" class=\"dataframe\">\n",
       "  <thead>\n",
       "    <tr style=\"text-align: right;\">\n",
       "      <th></th>\n",
       "      <th>STATION</th>\n",
       "      <th>STATION_NAME_x</th>\n",
       "      <th>ELEVATION</th>\n",
       "      <th>LATITUDE</th>\n",
       "      <th>LONGITUDE</th>\n",
       "      <th>DATE</th>\n",
       "      <th>DLY-CLDD-BASE45</th>\n",
       "      <th>DLY-CLDD-BASE50</th>\n",
       "      <th>DLY-CLDD-BASE55</th>\n",
       "      <th>DLY-CLDD-BASE57</th>\n",
       "      <th>...</th>\n",
       "      <th>DLY-PRCP-PCTALL-GE100HI</th>\n",
       "      <th>DLY-SNWD-PCTALL-GE001WI</th>\n",
       "      <th>DLY-SNWD-PCTALL-GE010WI</th>\n",
       "      <th>DLY-SNWD-PCTALL-GE003WI</th>\n",
       "      <th>DLY-SNWD-PCTALL-GE005WI</th>\n",
       "      <th>DLY-SNOW-PCTALL-GE001TI</th>\n",
       "      <th>DLY-SNOW-PCTALL-GE010TI</th>\n",
       "      <th>DLY-SNOW-PCTALL-GE100TI</th>\n",
       "      <th>DLY-SNOW-PCTALL-GE030TI</th>\n",
       "      <th>DLY-SNOW-PCTALL-GE050TI</th>\n",
       "    </tr>\n",
       "  </thead>\n",
       "  <tbody>\n",
       "    <tr>\n",
       "      <th>0</th>\n",
       "      <td>GHCND:USC00049099</td>\n",
       "      <td>TWENTYNINE PALMS CA US</td>\n",
       "      <td>602</td>\n",
       "      <td>34.12806</td>\n",
       "      <td>-116.03694</td>\n",
       "      <td>20100101</td>\n",
       "      <td>6</td>\n",
       "      <td>2</td>\n",
       "      <td>-7777</td>\n",
       "      <td>-7777</td>\n",
       "      <td>...</td>\n",
       "      <td>3</td>\n",
       "      <td>-9999</td>\n",
       "      <td>0</td>\n",
       "      <td>-9999</td>\n",
       "      <td>-9999</td>\n",
       "      <td>-9999</td>\n",
       "      <td>-9999</td>\n",
       "      <td>0</td>\n",
       "      <td>-9999</td>\n",
       "      <td>-9999</td>\n",
       "    </tr>\n",
       "    <tr>\n",
       "      <th>1</th>\n",
       "      <td>GHCND:USC00049099</td>\n",
       "      <td>TWENTYNINE PALMS CA US</td>\n",
       "      <td>602</td>\n",
       "      <td>34.12806</td>\n",
       "      <td>-116.03694</td>\n",
       "      <td>20100102</td>\n",
       "      <td>6</td>\n",
       "      <td>2</td>\n",
       "      <td>1</td>\n",
       "      <td>-7777</td>\n",
       "      <td>...</td>\n",
       "      <td>3</td>\n",
       "      <td>-9999</td>\n",
       "      <td>0</td>\n",
       "      <td>-9999</td>\n",
       "      <td>-9999</td>\n",
       "      <td>-9999</td>\n",
       "      <td>-9999</td>\n",
       "      <td>0</td>\n",
       "      <td>-9999</td>\n",
       "      <td>-9999</td>\n",
       "    </tr>\n",
       "    <tr>\n",
       "      <th>2</th>\n",
       "      <td>GHCND:USC00049099</td>\n",
       "      <td>TWENTYNINE PALMS CA US</td>\n",
       "      <td>602</td>\n",
       "      <td>34.12806</td>\n",
       "      <td>-116.03694</td>\n",
       "      <td>20100103</td>\n",
       "      <td>6</td>\n",
       "      <td>2</td>\n",
       "      <td>1</td>\n",
       "      <td>-7777</td>\n",
       "      <td>...</td>\n",
       "      <td>3</td>\n",
       "      <td>-9999</td>\n",
       "      <td>0</td>\n",
       "      <td>-9999</td>\n",
       "      <td>-9999</td>\n",
       "      <td>-9999</td>\n",
       "      <td>-9999</td>\n",
       "      <td>0</td>\n",
       "      <td>-9999</td>\n",
       "      <td>-9999</td>\n",
       "    </tr>\n",
       "    <tr>\n",
       "      <th>3</th>\n",
       "      <td>GHCND:USC00049099</td>\n",
       "      <td>TWENTYNINE PALMS CA US</td>\n",
       "      <td>602</td>\n",
       "      <td>34.12806</td>\n",
       "      <td>-116.03694</td>\n",
       "      <td>20100104</td>\n",
       "      <td>6</td>\n",
       "      <td>2</td>\n",
       "      <td>1</td>\n",
       "      <td>-7777</td>\n",
       "      <td>...</td>\n",
       "      <td>3</td>\n",
       "      <td>0</td>\n",
       "      <td>0</td>\n",
       "      <td>0</td>\n",
       "      <td>0</td>\n",
       "      <td>0</td>\n",
       "      <td>0</td>\n",
       "      <td>0</td>\n",
       "      <td>0</td>\n",
       "      <td>0</td>\n",
       "    </tr>\n",
       "    <tr>\n",
       "      <th>4</th>\n",
       "      <td>GHCND:USC00049099</td>\n",
       "      <td>TWENTYNINE PALMS CA US</td>\n",
       "      <td>602</td>\n",
       "      <td>34.12806</td>\n",
       "      <td>-116.03694</td>\n",
       "      <td>20100105</td>\n",
       "      <td>6</td>\n",
       "      <td>2</td>\n",
       "      <td>1</td>\n",
       "      <td>-7777</td>\n",
       "      <td>...</td>\n",
       "      <td>3</td>\n",
       "      <td>0</td>\n",
       "      <td>0</td>\n",
       "      <td>0</td>\n",
       "      <td>0</td>\n",
       "      <td>0</td>\n",
       "      <td>0</td>\n",
       "      <td>0</td>\n",
       "      <td>0</td>\n",
       "      <td>0</td>\n",
       "    </tr>\n",
       "  </tbody>\n",
       "</table>\n",
       "<p>5 rows × 48 columns</p>\n",
       "</div>"
      ],
      "text/plain": [
       "             STATION          STATION_NAME_x ELEVATION  LATITUDE   LONGITUDE  \\\n",
       "0  GHCND:USC00049099  TWENTYNINE PALMS CA US       602  34.12806  -116.03694   \n",
       "1  GHCND:USC00049099  TWENTYNINE PALMS CA US       602  34.12806  -116.03694   \n",
       "2  GHCND:USC00049099  TWENTYNINE PALMS CA US       602  34.12806  -116.03694   \n",
       "3  GHCND:USC00049099  TWENTYNINE PALMS CA US       602  34.12806  -116.03694   \n",
       "4  GHCND:USC00049099  TWENTYNINE PALMS CA US       602  34.12806  -116.03694   \n",
       "\n",
       "       DATE  DLY-CLDD-BASE45  DLY-CLDD-BASE50  DLY-CLDD-BASE55  \\\n",
       "0  20100101                6                2            -7777   \n",
       "1  20100102                6                2                1   \n",
       "2  20100103                6                2                1   \n",
       "3  20100104                6                2                1   \n",
       "4  20100105                6                2                1   \n",
       "\n",
       "   DLY-CLDD-BASE57  ...  DLY-PRCP-PCTALL-GE100HI  DLY-SNWD-PCTALL-GE001WI  \\\n",
       "0            -7777  ...                        3                    -9999   \n",
       "1            -7777  ...                        3                    -9999   \n",
       "2            -7777  ...                        3                    -9999   \n",
       "3            -7777  ...                        3                        0   \n",
       "4            -7777  ...                        3                        0   \n",
       "\n",
       "   DLY-SNWD-PCTALL-GE010WI  DLY-SNWD-PCTALL-GE003WI  DLY-SNWD-PCTALL-GE005WI  \\\n",
       "0                        0                    -9999                    -9999   \n",
       "1                        0                    -9999                    -9999   \n",
       "2                        0                    -9999                    -9999   \n",
       "3                        0                        0                        0   \n",
       "4                        0                        0                        0   \n",
       "\n",
       "   DLY-SNOW-PCTALL-GE001TI  DLY-SNOW-PCTALL-GE010TI  DLY-SNOW-PCTALL-GE100TI  \\\n",
       "0                    -9999                    -9999                        0   \n",
       "1                    -9999                    -9999                        0   \n",
       "2                    -9999                    -9999                        0   \n",
       "3                        0                        0                        0   \n",
       "4                        0                        0                        0   \n",
       "\n",
       "   DLY-SNOW-PCTALL-GE030TI  DLY-SNOW-PCTALL-GE050TI  \n",
       "0                    -9999                    -9999  \n",
       "1                    -9999                    -9999  \n",
       "2                    -9999                    -9999  \n",
       "3                        0                        0  \n",
       "4                        0                        0  \n",
       "\n",
       "[5 rows x 48 columns]"
      ]
     },
     "execution_count": 34,
     "metadata": {},
     "output_type": "execute_result"
    }
   ],
   "source": [
    "inner_merged.head()"
   ]
  },
  {
   "cell_type": "markdown",
   "id": "2614bbde-eabe-456d-8768-dc67dad474da",
   "metadata": {},
   "source": [
    "# Outer Join\n",
    "\n",
    "Si una fila no tiene coincidencia en el otro DataFrame basada en la columna clave, entonces no perderás la fila como sucede en un inner join. En su lugar, la fila estará en el DataFrame fusionado, con valores NaN llenados donde sea apropiado."
   ]
  },
  {
   "cell_type": "code",
   "execution_count": 28,
   "id": "2940b83c-beec-4ba1-9967-7a3af06eaada",
   "metadata": {},
   "outputs": [
    {
     "data": {
      "text/plain": [
       "(155125, 48)"
      ]
     },
     "execution_count": 28,
     "metadata": {},
     "output_type": "execute_result"
    }
   ],
   "source": [
    "outer_merged = pd.merge(climate_temp, climate_precip, how = \"outer\", on=[\"STATION\", \"DATE\"])\n",
    "outer_merged.shape"
   ]
  },
  {
   "cell_type": "markdown",
   "id": "d9a03079-043a-4446-9115-c29093c2af66",
   "metadata": {},
   "source": [
    "# Left Join\n",
    "\n",
    "En este ejemplo, especificarás un left join, también conocido como left outer join, con el parámetro how. Usar un left outer join dejará tu nuevo DataFrame fusionado con todas las filas del DataFrame izquierdo, mientras se descartan las filas del DataFrame derecho que no tienen una coincidencia en la columna clave del DataFrame izquierdo.\n"
   ]
  },
  {
   "cell_type": "code",
   "execution_count": 32,
   "id": "1a5d9fe4-b6fb-4e32-8392-7964391f41db",
   "metadata": {},
   "outputs": [
    {
     "data": {
      "text/plain": [
       "(127020, 48)"
      ]
     },
     "execution_count": 32,
     "metadata": {},
     "output_type": "execute_result"
    }
   ],
   "source": [
    "left_merged = pd.merge(climate_temp, climate_precip,how=\"left\", on=[\"STATION\", \"DATE\"])\n",
    "left_merged.shape"
   ]
  },
  {
   "cell_type": "markdown",
   "id": "5b6711a6-04ef-4bcf-a25b-887184e1ac75",
   "metadata": {},
   "source": [
    "# Right Join\n",
    "\n",
    "El right join, o right outer join, es la versión espejo del left join. Con este join, se retendrán todas las filas del DataFrame derecho, mientras que las filas del DataFrame izquierdo sin coincidencia en la columna clave del DataFrame derecho serán descartadas."
   ]
  },
  {
   "cell_type": "code",
   "execution_count": 37,
   "id": "0ef2db79-6952-443c-b9af-756539903640",
   "metadata": {},
   "outputs": [
    {
     "data": {
      "text/plain": [
       "(151110, 48)"
      ]
     },
     "execution_count": 37,
     "metadata": {},
     "output_type": "execute_result"
    }
   ],
   "source": [
    "right_merged = pd.merge(climate_temp, climate_precip,how=\"right\", on=[\"STATION\", \"DATE\"])\n",
    "right_merged.shape"
   ]
  },
  {
   "cell_type": "markdown",
   "id": "a7d2128a-348e-4085-a0e6-4111361bde2b",
   "metadata": {},
   "source": [
    "# pandas .join(): Combinando datos en una columna o índice\n",
    "\n",
    "Mientras merge() es una función de módulo, .join() es un método de instancia que pertenece a tu DataFrame. Esto te permite especificar solo un DataFrame, que se unirá al DataFrame en el que llamas a .join().\n",
    "\n",
    "Bajo la superficie, .join() utiliza merge(), pero proporciona una forma más eficiente de unir DataFrames que una llamada completamente especificada a merge(). Antes de explorar las opciones disponibles, echemos un vistazo a este breve ejemplo:"
   ]
  },
  {
   "cell_type": "code",
   "execution_count": 43,
   "id": "39cbc8d8-d057-4ac9-a71e-529f1dc749cb",
   "metadata": {},
   "outputs": [
    {
     "data": {
      "text/plain": [
       "(151110, 50)"
      ]
     },
     "execution_count": 43,
     "metadata": {},
     "output_type": "execute_result"
    }
   ],
   "source": [
    "climate_precip.join(climate_temp, lsuffix=\"_left\", rsuffix=\"_right\").shape\n"
   ]
  },
  {
   "cell_type": "markdown",
   "id": "47841906-f193-4d83-8b21-c21a20474943",
   "metadata": {},
   "source": [
    "# ¿Cómo Usar .join()?\n",
    "\n",
    "Por defecto, .join() intentará hacer un left join en los índices. Si quieres unir en columnas como lo harías con merge(), entonces necesitarás establecer las columnas como índices.\n",
    "\n",
    "Al igual que merge(), .join() tiene algunos parámetros que te dan más flexibilidad en tus joins. Sin embargo, con .join(), la lista de parámetros es relativamente corta:\n",
    "\n",
    "- other es el único parámetro requerido. Define el otro DataFrame para unir. También puedes especificar una lista de DataFrames aquí, lo que te permite combinar varios conjuntos de datos en una sola llamada a .join().\n",
    "\n",
    "- on especifica un nombre de columna o índice opcional para el DataFrame izquierdo (como climate_temp en el ejemplo anterior) para unir el índice del otro DataFrame. Si se establece en None, que es el valor por defecto, obtendrás un join de índice a índice.\n",
    "\n",
    "- how tiene las mismas opciones que how en merge(). La diferencia es que está basado en índices a menos que también especifiques columnas con on.\n",
    "\n",
    "- lsuffix y rsuffix son similares a suffixes en merge(). Especifican un sufijo para agregar a las columnas que se superponen, pero no tienen efecto al pasar una lista de otros DataFrames.\n",
    "\n",
    "- sort puede habilitarse para ordenar el DataFrame resultante por la clave de join."
   ]
  },
  {
   "cell_type": "markdown",
   "id": "b27939da-8e8f-4622-b2f0-8f4649ef45cc",
   "metadata": {},
   "source": [
    "# Ejercicios"
   ]
  },
  {
   "cell_type": "markdown",
   "id": "0829b1bc-2351-4820-82df-78bbd5aaff85",
   "metadata": {},
   "source": [
    "Ejercicio 1: Inner Join\n",
    "- Realiza un inner join para combinar climate_temp y climate_precip en las columnas \"STATION\" y \"DATE\". Luego, verifica el tamaño del DataFrame resultante."
   ]
  },
  {
   "cell_type": "code",
   "execution_count": 54,
   "id": "a1a81994-8bee-4d6e-8cda-674edb489b61",
   "metadata": {},
   "outputs": [
    {
     "name": "stdout",
     "output_type": "stream",
     "text": [
      "(123005, 48)\n"
     ]
    }
   ],
   "source": [
    "inner_merged = pd.merge(climate_temp, climate_precip, on=[\"STATION\", \"DATE\"], how=\"inner\")\n",
    "print(inner_merged.shape)\n"
   ]
  },
  {
   "cell_type": "markdown",
   "id": "f242fae4-52f3-497e-b84a-89dcd112f79c",
   "metadata": {},
   "source": [
    "Ejercicio 2: Left Join\n",
    "- Realiza un left join para conservar todas las filas de climate_temp y agregar información de climate_precip donde haya coincidencia en las columnas \"STATION\" y \"DATE\". Luego, verifica el tamaño del DataFrame resultante."
   ]
  },
  {
   "cell_type": "code",
   "execution_count": 56,
   "id": "ff3ff4ac-0d1d-4b29-9cea-9695739011fc",
   "metadata": {},
   "outputs": [
    {
     "name": "stdout",
     "output_type": "stream",
     "text": [
      "(127020, 48)\n"
     ]
    }
   ],
   "source": [
    "left_merged = pd.merge(climate_temp, climate_precip, on=[\"STATION\", \"DATE\"], how=\"left\")\n",
    "print(left_merged.shape)\n"
   ]
  },
  {
   "cell_type": "markdown",
   "id": "c463e830-683c-4e42-8d93-49d7ff3615fc",
   "metadata": {},
   "source": [
    "Ejercicio 3: Right Join\n",
    "- Realiza un right join para conservar todas las filas de climate_precip y agregar información de climate_temp donde haya coincidencia en las columnas \"STATION\" y \"DATE\". Luego, verifica el tamaño del DataFrame resultante."
   ]
  },
  {
   "cell_type": "code",
   "execution_count": null,
   "id": "c3372634-4929-444d-aa49-5774235c8929",
   "metadata": {},
   "outputs": [],
   "source": [
    "right_merged = pd.merge(climate_temp, climate_precip, on=[\"STATION\", \"DATE\"], how=\"right\")\n",
    "print(right_merged.shape)\n"
   ]
  },
  {
   "cell_type": "markdown",
   "id": "6787f534-547c-4cdf-908c-b5e69ba96a5e",
   "metadata": {},
   "source": [
    "Ejercicio 4: Outer Join\n",
    "- Realiza un outer join para combinar todas las filas de climate_temp y climate_precip, conservando todas las filas incluso cuando no haya coincidencias en las columnas \"STATION\" y \"DATE\". Luego, verifica el tamaño del DataFrame resultante."
   ]
  },
  {
   "cell_type": "code",
   "execution_count": null,
   "id": "63c16cd9-fbde-4486-af1b-88f67813e95f",
   "metadata": {},
   "outputs": [],
   "source": [
    "outer_merged = pd.merge(climate_temp, climate_precip, on=[\"STATION\", \"DATE\"], how=\"outer\")\n",
    "print(outer_merged.shape)\n"
   ]
  },
  {
   "cell_type": "markdown",
   "id": "8f71fd03-d8ea-4421-9fa0-8fc027331cf6",
   "metadata": {},
   "source": [
    "Ejercicio 5: Join con Sufijos\n",
    "- Realiza un join especificando sufijos para las columnas que se superponen en climate_temp y climate_precip. Utiliza lsuffix=\"_left\" para climate_temp y rsuffix=\"_right\" para climate_precip. Luego, verifica el tamaño del DataFrame resultante."
   ]
  },
  {
   "cell_type": "code",
   "execution_count": null,
   "id": "2806aa0a-4b88-4212-8f36-a684c18f4473",
   "metadata": {},
   "outputs": [],
   "source": [
    "suffixed_merged = pd.merge(climate_temp, climate_precip, on=[\"STATION\", \"DATE\"], suffixes=(\"_left\", \"_right\"))\n",
    "print(suffixed_merged.shape)\n"
   ]
  }
 ],
 "metadata": {
  "kernelspec": {
   "display_name": "anaconda-panel-2023.05-py310",
   "language": "python",
   "name": "conda-env-anaconda-panel-2023.05-py310-py"
  },
  "language_info": {
   "codemirror_mode": {
    "name": "ipython",
    "version": 3
   },
   "file_extension": ".py",
   "mimetype": "text/x-python",
   "name": "python",
   "nbconvert_exporter": "python",
   "pygments_lexer": "ipython3",
   "version": "3.11.5"
  }
 },
 "nbformat": 4,
 "nbformat_minor": 5
}
