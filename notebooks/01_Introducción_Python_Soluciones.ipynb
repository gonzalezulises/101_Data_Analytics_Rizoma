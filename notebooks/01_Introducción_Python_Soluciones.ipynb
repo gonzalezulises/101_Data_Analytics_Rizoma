{
 "cells": [
  {
   "cell_type": "markdown",
   "metadata": {},
   "source": [
    "# 🌦️ Introducción a Python 🐼\n",
    "\n",
    "## Soluciones a los problemas propuestos\n",
    "\n"
   ]
  },
  {
   "cell_type": "markdown",
   "metadata": {},
   "source": [
    "# Ejercicios de aplicacion"
   ]
  },
  {
   "cell_type": "markdown",
   "metadata": {},
   "source": [
    "## Ejercicio 1: Análisis de Calidad del Agua en un Río\n",
    "\n",
    "### Tienes datos de concentración de oxígeno disuelto (en mg/L) en diferentes puntos de un río.\n",
    "### La lista 'oxigeno_disuelto' contiene las mediciones en orden, desde la fuente hasta la desembocadura.\n",
    "\n",
    "oxigeno_disuelto = [8.5, 8.2, 7.9, 7.6, 7.2, 6.8, 6.5, 6.1, 5.8, 5.5]\n",
    "\n",
    "- Calcula la concentración promedio de oxígeno disuelto en el río.\n",
    "- Determina si en algún punto del río la concentración de oxígeno disuelto cae por debajo de 6.0 mg/L, lo cual es crítico para la vida acuática.\n",
    "- Obtén las mediciones de oxígeno disuelto en el tramo medio del río (desde el cuarto hasta el séptimo punto de medición, inclusive).\n",
    "- Calcula el porcentaje de disminución de oxígeno disuelto entre el primer y último punto de medición.\n",
    "### Imprime todos los resultados con mensajes descriptivos.\n"
   ]
  },
  {
   "cell_type": "markdown",
   "metadata": {},
   "source": [
    "## Solución: \n",
    "\n",
    "### Análisis de Calidad del Agua en un Río\n"
   ]
  },
  {
   "cell_type": "code",
   "execution_count": null,
   "metadata": {},
   "outputs": [],
   "source": [
    "\n",
    "oxigeno_disuelto = [8.5, 8.2, 7.9, 7.6, 7.2, 6.8, 6.5, 6.1, 5.8, 5.5]\n"
   ]
  },
  {
   "cell_type": "markdown",
   "metadata": {},
   "source": [
    "### Cálculo del promedio de oxígeno disuelto"
   ]
  },
  {
   "cell_type": "code",
   "execution_count": null,
   "metadata": {},
   "outputs": [],
   "source": [
    "promedio_oxigeno = sum(oxigeno_disuelto) / len(oxigeno_disuelto)\n",
    "print(f\"1. La concentración promedio de oxígeno disuelto es {promedio_oxigeno:.2f} mg/L\")\n"
   ]
  },
  {
   "cell_type": "markdown",
   "metadata": {},
   "source": [
    "\n",
    "### Verificar si en algún punto la concentración cae por debajo de 6.0 mg/L\n"
   ]
  },
  {
   "cell_type": "code",
   "execution_count": null,
   "metadata": {},
   "outputs": [],
   "source": [
    "nivel_critico = any(nivel < 6.0 for nivel in oxigeno_disuelto)\n",
    "print(f\"2. ¿Hay algún punto con nivel crítico de oxígeno disuelto? {nivel_critico}\")\n"
   ]
  },
  {
   "cell_type": "markdown",
   "metadata": {},
   "source": [
    "\n",
    "### Obtener mediciones del tramo medio del río"
   ]
  },
  {
   "cell_type": "code",
   "execution_count": null,
   "metadata": {},
   "outputs": [],
   "source": [
    "tramo_medio = oxigeno_disuelto[3:7]\n",
    "print(f\"3. Las mediciones en el tramo medio del río son: {tramo_medio}\")\n"
   ]
  },
  {
   "cell_type": "markdown",
   "metadata": {},
   "source": [
    "### Calcular el porcentaje de disminución entre el primer y último punto\n"
   ]
  },
  {
   "cell_type": "code",
   "execution_count": null,
   "metadata": {},
   "outputs": [],
   "source": [
    "disminucion_porcentaje = (oxigeno_disuelto[0] - oxigeno_disuelto[-1]) / oxigeno_disuelto[0] * 100\n",
    "print(f\"4. El porcentaje de disminución de oxígeno disuelto es {disminucion_porcentaje:.2f}%\")"
   ]
  },
  {
   "cell_type": "markdown",
   "metadata": {},
   "source": [
    "## Ejercicio 2: Cálculo de volumen de agua\n",
    "### Un embalse tiene forma rectangular con las siguientes dimensiones:\n",
    "### largo = 500 m, ancho = 200 m, profundidad = 10 m\n",
    "### Calcula el volumen de agua en el embalse en metros cúbicos.\n",
    "\n"
   ]
  },
  {
   "cell_type": "code",
   "execution_count": null,
   "metadata": {},
   "outputs": [],
   "source": [
    "largo = 500\n",
    "ancho = 200\n",
    "profundidad = 10\n",
    "\n",
    "volumen = # Tu código aquí\n",
    "\n",
    "print(f\"El volumen de agua en el embalse es {volumen} metros cúbicos.\")\n"
   ]
  },
  {
   "cell_type": "markdown",
   "metadata": {},
   "source": [
    "\n",
    "## Ejercicio 3: Comparación de niveles de pH\n",
    "### El pH neutro es 7. Un pH por debajo de 7 es ácido, por encima es básico.\n",
    "### Determina si una muestra de agua con pH 6.5 es ácida.\n"
   ]
  },
  {
   "cell_type": "code",
   "execution_count": null,
   "metadata": {},
   "outputs": [],
   "source": [
    "\n",
    "ph_muestra = 6.5\n",
    "es_acida = # Tu código aquí\n",
    "\n",
    "print(f\"¿La muestra de agua es ácida? {es_acida}\")\n"
   ]
  },
  {
   "cell_type": "markdown",
   "metadata": {},
   "source": [
    "\n",
    "## Ejercicio 4: Evaluación de la calidad del agua\n",
    "### El agua es potable si cumple todas estas condiciones:\n",
    "- pH entre 6.5 y 8.5\n",
    "- Turbidez menor a 5 NTU\n",
    "- Cloro residual entre 0.3 y 1.5 mg/L\n",
    "### Determina si una muestra de agua es potable con los siguientes valores:\n"
   ]
  },
  {
   "cell_type": "code",
   "execution_count": null,
   "metadata": {},
   "outputs": [],
   "source": [
    "\n",
    "ph = 7.2\n",
    "turbidez = 3.5\n",
    "cloro_residual = 0.5\n",
    "\n",
    "es_potable = # Tu código aquí\n",
    "\n",
    "print(f\"¿El agua es potable? {es_potable}\")\n"
   ]
  },
  {
   "cell_type": "markdown",
   "metadata": {},
   "source": [
    "\n",
    "## Ejercicio 5: Análisis de precipitaciones\n",
    "### Tienes una lista con las precipitaciones diarias (en mm) de la última semana.\n",
    "### Obtén las precipitaciones de los días laborables (índices 0 a 4).\n"
   ]
  },
  {
   "cell_type": "code",
   "execution_count": null,
   "metadata": {},
   "outputs": [],
   "source": [
    "\n",
    "precipitaciones = [5.2, 0.0, 12.8, 3.5, 1.0, 22.3, 8.7]\n",
    "precipitaciones_laborables = # Tu código aquí\n",
    "\n",
    "print(f\"Las precipitaciones en los días laborables fueron: {precipitaciones_laborables}\")\n"
   ]
  },
  {
   "cell_type": "markdown",
   "metadata": {},
   "source": [
    "\n",
    "## Ejercicio 6: Comparación de caudales\n",
    "### Tienes dos listas con mediciones de caudal (en m³/s) en dos puntos de un río.\n",
    "### Determina si el caudal promedio en el segundo punto es mayor que en el primero.\n"
   ]
  },
  {
   "cell_type": "code",
   "execution_count": null,
   "metadata": {},
   "outputs": [],
   "source": [
    "\n",
    "caudal_punto1 = [23.5, 25.1, 22.8, 24.3, 26.5]\n",
    "caudal_punto2 = [24.1, 25.3, 23.6, 24.8, 26.2]\n",
    "\n",
    "promedio_punto1 = # Tu código aquí\n",
    "promedio_punto2 = # Tu código aquí\n",
    "caudal_aumenta = # Tu código aquí\n",
    "\n",
    "print(f\"¿El caudal aumenta entre el punto 1 y el punto 2? {caudal_aumenta}\")"
   ]
  },
  {
   "cell_type": "markdown",
   "metadata": {},
   "source": [
    "# Ejercicio de aplicación resuelto"
   ]
  },
  {
   "cell_type": "markdown",
   "metadata": {},
   "source": [
    "## Problema: Análisis de Calidad del Agua\n",
    "\n",
    "- Crea una variable llamada 'nombre_rio' y asígnale el valor \"Río Colorado\".\n",
    "\n",
    "- Crea una lista llamada 'mediciones_ph' con los siguientes valores de pH: 7.2, 6.8, 7.5, 8.0, 7.1\n",
    "\n",
    "- Calcula el pH promedio y guárdalo en una variable llamada 'ph_promedio'.\n",
    "\n",
    "- Crea un mensaje que diga: \"El pH promedio del [nombre del río] es [pH promedio]\", usando .format() para insertar las variables.\n",
    "\n",
    "- Convierte el mensaje a mayúsculas usando un método de cadenas.\n",
    "\n",
    "- Imprime el mensaje final."
   ]
  },
  {
   "cell_type": "markdown",
   "metadata": {},
   "source": [
    "# Solución:"
   ]
  },
  {
   "cell_type": "markdown",
   "metadata": {},
   "source": [
    "- Crear la variable 'nombre_rio'\n"
   ]
  },
  {
   "cell_type": "code",
   "execution_count": 12,
   "metadata": {},
   "outputs": [
    {
     "data": {
      "text/plain": [
       "'Río Colorado'"
      ]
     },
     "execution_count": 12,
     "metadata": {},
     "output_type": "execute_result"
    }
   ],
   "source": [
    "nombre_rio = \"Río Colorado\"\n",
    "nombre_rio"
   ]
  },
  {
   "cell_type": "markdown",
   "metadata": {},
   "source": [
    "\n",
    "- Crear la lista 'mediciones_ph'\n"
   ]
  },
  {
   "cell_type": "code",
   "execution_count": 7,
   "metadata": {},
   "outputs": [],
   "source": [
    "mediciones_ph = [7.2, 6.8, 7.5, 8.0, 7.1]\n"
   ]
  },
  {
   "cell_type": "markdown",
   "metadata": {},
   "source": [
    "\n",
    "- Calcular el pH promedio"
   ]
  },
  {
   "cell_type": "code",
   "execution_count": 11,
   "metadata": {},
   "outputs": [
    {
     "data": {
      "text/plain": [
       "7.32"
      ]
     },
     "execution_count": 11,
     "metadata": {},
     "output_type": "execute_result"
    }
   ],
   "source": [
    "# Usamos sum() para sumar todos los valores de la lista\n",
    "# y len() para obtener el número de elementos\n",
    "ph_promedio = sum(mediciones_ph) / len(mediciones_ph)\n",
    "ph_promedio\n"
   ]
  },
  {
   "cell_type": "markdown",
   "metadata": {},
   "source": [
    "\n",
    "- Crear el mensaje usando .format()\n"
   ]
  },
  {
   "cell_type": "code",
   "execution_count": 14,
   "metadata": {},
   "outputs": [
    {
     "data": {
      "text/plain": [
       "'El pH promedio del Río Colorado es 7.32'"
      ]
     },
     "execution_count": 14,
     "metadata": {},
     "output_type": "execute_result"
    }
   ],
   "source": [
    "mensaje = \"El pH promedio del {} es {:.2f}\".format(nombre_rio, ph_promedio)\n",
    "mensaje"
   ]
  },
  {
   "cell_type": "markdown",
   "metadata": {},
   "source": [
    "\n",
    "- Convertir el mensaje a mayúsculas\n"
   ]
  },
  {
   "cell_type": "code",
   "execution_count": 16,
   "metadata": {},
   "outputs": [
    {
     "data": {
      "text/plain": [
       "'EL PH PROMEDIO DEL RÍO COLORADO ES 7.32'"
      ]
     },
     "execution_count": 16,
     "metadata": {},
     "output_type": "execute_result"
    }
   ],
   "source": [
    "mensaje_mayusculas = mensaje.upper()\n",
    "mensaje_mayusculas"
   ]
  },
  {
   "cell_type": "markdown",
   "metadata": {},
   "source": [
    "\n",
    "- Imprimir el mensaje final\n"
   ]
  },
  {
   "cell_type": "code",
   "execution_count": 17,
   "metadata": {},
   "outputs": [
    {
     "name": "stdout",
     "output_type": "stream",
     "text": [
      "EL PH PROMEDIO DEL RÍO COLORADO ES 7.32\n"
     ]
    }
   ],
   "source": [
    "print(mensaje_mayusculas)\n"
   ]
  },
  {
   "cell_type": "markdown",
   "metadata": {},
   "source": [
    "\n",
    "### El resultado será:\n",
    "#### EL PH PROMEDIO DEL RÍO COLORADO ES 7.32\n",
    "\n",
    "### Explicación adicional:\n",
    "- En el paso 3, usamos sum() y len(), que son funciones integradas de Python.\n",
    "- En el paso 4, usamos .format() para insertar las variables en el string.\n",
    "- El {:.2f} indica que queremos mostrar el número con 2 decimales.\n",
    "- En el paso 5, upper() es un método de cadenas que convierte todo a mayúsculas."
   ]
  },
  {
   "cell_type": "markdown",
   "metadata": {},
   "source": [
    "# Ejercicios de aplicación "
   ]
  },
  {
   "cell_type": "markdown",
   "metadata": {},
   "source": [
    "## Ejercicio 7: Asignación de variables\n",
    "- Asigna valores a variables para representar diferentes mediciones en un río.\n",
    "- Usa nombres de variables apropiados según las reglas mencionadas.\n",
    "- Desarrolla el código (asigna al menos 3 variables con diferentes tipos de datos)\n",
    "- Imprime las variables utilizando print()"
   ]
  },
  {
   "cell_type": "code",
   "execution_count": null,
   "metadata": {},
   "outputs": [],
   "source": [
    "# Asignación de variables\n",
    "\n",
    "# Nombre del río (cadena de caracteres)\n",
    "nombre_rio = \"Río Amazonas\"\n",
    "\n",
    "# Caudal del río en metros cúbicos por segundo (número entero)\n",
    "caudal_rio = 209000\n",
    "\n",
    "# Temperatura del agua en grados Celsius (número flotante)\n",
    "temperatura_agua = 26.5\n",
    "\n",
    "# Imprimir las variables\n",
    "print(\"Nombre del río:\", nombre_rio)\n",
    "print(\"Caudal del río (m³/s):\", caudal_rio)\n",
    "print(\"Temperatura del agua (°C):\", temperatura_agua)\n"
   ]
  },
  {
   "cell_type": "markdown",
   "metadata": {},
   "source": [
    "## Ejercicio 8: Formateo de cadenas\n",
    "- Utiliza los datos del problema 1 para crear un mensaje formateado sobre el estado del río.\n",
    "- Usa tanto .format() como los indicadores de formato (%d, %f, %s).\n",
    "- Desarrolla el código"
   ]
  },
  {
   "cell_type": "code",
   "execution_count": null,
   "metadata": {},
   "outputs": [],
   "source": [
    "\n",
    "# Datos del problema 1\n",
    "nombre_rio = \"Río Amazonas\"\n",
    "caudal_rio = 209000\n",
    "temperatura_agua = 26.5\n",
    "\n",
    "# Formateo de cadenas usando .format()\n",
    "mensaje_format = \"El {} tiene un caudal de {} m³/s y una temperatura del agua de {} °C.\".format(nombre_rio, caudal_rio, temperatura_agua)\n",
    "print(mensaje_format)\n",
    "\n",
    "# Formateo de cadenas usando indicadores de formato (%d, %f, %s)\n",
    "mensaje_indicadores = \"El %s tiene un caudal de %d m³/s y una temperatura del agua de %.1f °C.\" % (nombre_rio, caudal_rio, temperatura_agua)\n",
    "print(mensaje_indicadores)\n"
   ]
  },
  {
   "cell_type": "markdown",
   "metadata": {},
   "source": [
    "## Ejercicio 9: Manipulación de cadenas\n",
    "- Crea una cadena que describa los componentes de un sistema hídrico.\n",
    "- Utiliza al menos 3 métodos de cadenas diferentes (como lower(), upper(), split(), etc.).\n",
    "- sistema_hidrico = \"Río Chucunaque: Cuenca, Afluentes, Desembocadura\"\n",
    "- Desarrolla el código"
   ]
  },
  {
   "cell_type": "code",
   "execution_count": null,
   "metadata": {},
   "outputs": [],
   "source": [
    "## Ejercicio 9: Manipulación de cadenas\n",
    "\n",
    "# Crear una cadena que describa los componentes de un sistema hídrico\n",
    "sistema_hidrico = \"Río Chucunaque: Cuenca, Afluentes, Desembocadura\"\n",
    "\n",
    "# Utilizar diferentes métodos de cadenas\n",
    "\n",
    "# Convertir toda la cadena a minúsculas\n",
    "sistema_hidrico_lower = sistema_hidrico.lower()\n",
    "print(\"Cadena en minúsculas:\", sistema_hidrico_lower)\n",
    "\n",
    "# Convertir toda la cadena a mayúsculas\n",
    "sistema_hidrico_upper = sistema_hidrico.upper()\n",
    "print(\"Cadena en mayúsculas:\", sistema_hidrico_upper)\n",
    "\n",
    "# Separar la cadena en componentes usando el delimitador \":\"\n",
    "componentes = sistema_hidrico.split(\":\")\n",
    "print(\"Componentes del sistema hídrico:\", componentes)\n",
    "\n",
    "# Separar los componentes secundarios usando el delimitador \",\"\n",
    "componentes_secundarios = componentes[1].split(\", \")\n",
    "print(\"Componentes secundarios del sistema hídrico:\", componentes_secundarios)\n",
    "\n",
    "# Resultado final\n",
    "print(\"Sistema hídrico original:\", sistema_hidrico)\n",
    "print(\"Sistema hídrico en minúsculas:\", sistema_hidrico_lower)\n",
    "print(\"Sistema hídrico en mayúsculas:\", sistema_hidrico_upper)\n",
    "print(\"Componentes principales del sistema hídrico:\", componentes)\n",
    "print(\"Componentes secundarios del sistema hídrico:\", componentes_secundarios)\n"
   ]
  },
  {
   "cell_type": "markdown",
   "metadata": {},
   "source": [
    "## Ejercicio 10: Conversiones de tipos de datos\n",
    "### Convierte los siguientes datos a los tipos especificados:\n",
    "- El número 15.7 a entero\n",
    "- El número 24 a float\n",
    "- El número 30.5 a string"
   ]
  },
  {
   "cell_type": "code",
   "execution_count": null,
   "metadata": {},
   "outputs": [],
   "source": [
    "## Ejercicio 10: Conversiones de tipos de datos\n",
    "\n",
    "# Datos iniciales\n",
    "numero_float = 15.7\n",
    "numero_entero = 24\n",
    "numero_float_a_string = 30.5\n",
    "\n",
    "# Convertir el número 15.7 a entero\n",
    "numero_convertido_a_entero = int(numero_float)\n",
    "print(\"El número 15.7 convertido a entero es:\", numero_convertido_a_entero)\n",
    "\n",
    "# Convertir el número 24 a float\n",
    "numero_convertido_a_float = float(numero_entero)\n",
    "print(\"El número 24 convertido a float es:\", numero_convertido_a_float)\n",
    "\n",
    "# Convertir el número 30.5 a string\n",
    "numero_convertido_a_string = str(numero_float_a_string)\n",
    "print(\"El número 30.5 convertido a string es:\", numero_convertido_a_string)\n"
   ]
  },
  {
   "cell_type": "markdown",
   "metadata": {},
   "source": [
    "## Ejercicio 11: Asignación múltiple y operaciones básicas\n",
    "- Asigna en una sola línea valores a variables que representen mediciones de pH en diferentes puntos de un río.\n",
    "- Calcula el pH promedio y muestra el resultado."
   ]
  },
  {
   "cell_type": "code",
   "execution_count": null,
   "metadata": {},
   "outputs": [],
   "source": [
    "## Ejercicio 11: Asignación múltiple y operaciones básicas\n",
    "\n",
    "# Asignar en una sola línea valores a variables que representen mediciones de pH en diferentes puntos de un río\n",
    "ph_punto1, ph_punto2, ph_punto3, ph_punto4 = 7.5, 8.1, 7.8, 7.2\n",
    "\n",
    "# Calcular el pH promedio\n",
    "ph_promedio = (ph_punto1 + ph_punto2 + ph_punto3 + ph_punto4) / 4\n",
    "\n",
    "# Mostrar el resultado\n",
    "print(\"El pH promedio en los diferentes puntos del río es:\", ph_promedio)\n"
   ]
  },
  {
   "cell_type": "markdown",
   "metadata": {},
   "source": [
    "--------------------------------------------------------------------------------------------------------------------------------------------------------"
   ]
  },
  {
   "cell_type": "markdown",
   "metadata": {},
   "source": [
    "# Ejercicios"
   ]
  },
  {
   "cell_type": "markdown",
   "metadata": {},
   "source": [
    "## Ejercicio 12: Listas en el Contexto Meteorológico\n",
    "### Objetivo: Crear y manipular listas de datos meteorológicos.\n",
    "\n",
    "- Instrucciones:\n",
    "\n",
    "- Crea una lista llamada temperaturas_diarias que contenga las siguientes temperaturas en grados Celsius: 22.5, 23.3, 21.8, 19.5, 20.1.\n",
    "- Agrega la temperatura de hoy (por ejemplo, 24.0) a la lista.\n",
    "- Cambia la segunda temperatura (23.3) por 25.0 debido a una corrección en los datos.\n",
    "- Elimina la temperatura más baja de la lista.\n",
    "- Imprime el número de días de los que tienes datos de temperatura.\n",
    "- Ordena la lista de temperaturas en orden ascendente y luego imprímela."
   ]
  },
  {
   "cell_type": "markdown",
   "metadata": {},
   "source": [
    "## Ejercicio 13: Tuplas en el Contexto de Fauna\n",
    "### Objetivo: Utilizar tuplas para almacenar datos de especies animales y sus características.\n",
    "\n",
    "- Instrucciones:\n",
    "\n",
    "- Crea una tupla llamada especie_info que contenga el nombre de una especie animal, su hábitat y su promedio de vida en años. Ejemplo: (\"Lince\", \"Bosque\", 15).\n",
    "- Imprime la información de la especie en un formato claro.\n",
    "- Accede e imprime solo el hábitat de la especie."
   ]
  },
  {
   "cell_type": "markdown",
   "metadata": {},
   "source": [
    "## Ejercicio 14: Diccionarios en el Contexto de Embalses\n",
    "### Objetivo: Crear y manipular diccionarios que contengan información de embalses.\n",
    "\n",
    "- Instrucciones:\n",
    "\n",
    "- Crea un diccionario llamado embalses con la siguiente estructura: \n",
    "- embalses = {\n",
    "    \"Embalse A\": {\"capacidad\": 120, \"nivel_actual\": 80},\n",
    "    \"Embalse B\": {\"capacidad\": 200, \"nivel_actual\": 150},\n",
    "    \"Embalse C\": {\"capacidad\": 100, \"nivel_actual\": 70}\n",
    "  }\n",
    "- Agrega un nuevo embalse llamado \"Embalse D\" con una capacidad de 250 y un nivel actual de 200.\n",
    "- Actualiza el nivel actual del \"Embalse A\" a 90.\n",
    "- Elimina el \"Embalse C\" del diccionario.\n",
    "- Imprime la capacidad del \"Embalse B\"."
   ]
  },
  {
   "cell_type": "markdown",
   "metadata": {},
   "source": [
    "## Ejercicio 15: Conjuntos en el Contexto de Clima\n",
    "### Objetivo: Utilizar conjuntos para trabajar con datos únicos de fenómenos climáticos.\n",
    "\n",
    "- Instrucciones:\n",
    "\n",
    "- Crea un conjunto llamado fenomenos_climaticos que contenga los siguientes fenómenos: \"tormenta\", \"inundación\", \"sequía\".\n",
    "- Agrega \"huracán\" al conjunto.\n",
    "- Intenta agregar \"tormenta\" nuevamente al conjunto y observa qué sucede.\n",
    "- Elimina \"sequía\" del conjunto.\n",
    "- Imprime todos los fenómenos climáticos en el conjunto."
   ]
  },
  {
   "cell_type": "markdown",
   "metadata": {},
   "source": [
    "## Ejercicio 16: Combinando Estructuras de Datos en el Contexto Meteorológico\n",
    "### Objetivo: Utilizar listas, tuplas, diccionarios y conjuntos en un solo ejercicio para analizar datos meteorológicos.\n",
    "\n",
    "- Instrucciones:\n",
    "\n",
    "- Crea una lista de tuplas llamada datos_meteorologicos, donde cada tupla contenga el nombre de una ciudad, la temperatura promedio del día y la condición climática (por ejemplo: [(\"Madrid\", 30, \"soleado\"), (\"Londres\", 22, \"nublado\"), (\"Nueva York\", 25, \"lluvioso\")]).\n",
    "- Convierte esta lista en un diccionario llamado ciudades_meteorologia donde las claves sean los nombres de las ciudades y los valores sean otros diccionarios con las temperaturas y condiciones.\n",
    "- Crea un conjunto llamado condiciones_unicas que contenga todas las condiciones climáticas únicas presentes en ciudades_meteorologia.\n",
    "- Imprime las condiciones únicas y la temperatura promedio de Madrid."
   ]
  },
  {
   "cell_type": "markdown",
   "metadata": {},
   "source": [
    "# Soluciones"
   ]
  },
  {
   "cell_type": "markdown",
   "metadata": {},
   "source": [
    "## Ejercicio 12: Listas en el Contexto Meteorológico\n",
    "\n",
    "**Objetivo**: Crear y manipular listas de datos meteorológicos.\n",
    "\n",
    "**Instrucciones**:\n",
    "\n",
    "1. Crea una lista llamada `temperaturas_diarias` que contenga las siguientes temperaturas en grados Celsius: 22.5, 23.3, 21.8, 19.5, 20.1.\n",
    "2. Agrega la temperatura de hoy (por ejemplo, 24.0) a la lista.\n",
    "3. Cambia la segunda temperatura (23.3) por 25.0 debido a una corrección en los datos.\n",
    "4. Elimina la temperatura más baja de la lista.\n",
    "5. Imprime el número de días de los que tienes datos de temperatura.\n",
    "6. Ordena la lista de temperaturas en orden ascendente y luego imprímela.\n",
    "\n",
    "```python\n",
    "# Solución\n",
    "temperaturas_diarias = [22.5, 23.3, 21.8, 19.5, 20.1]\n",
    "temperaturas_diarias.append(24.0)\n",
    "temperaturas_diarias[1] = 25.0\n",
    "temperaturas_diarias.remove(min(temperaturas_diarias))\n",
    "print(\"Número de días con datos de temperatura:\", len(temperaturas_diarias))\n",
    "temperaturas_diarias.sort()\n",
    "print(\"Temperaturas ordenadas:\", temperaturas_diarias)\n",
    "\n"
   ]
  },
  {
   "cell_type": "markdown",
   "metadata": {},
   "source": [
    "---------"
   ]
  },
  {
   "cell_type": "markdown",
   "metadata": {},
   "source": [
    "# Ejercicio 13: Tuplas en el Contexto de Fauna\n",
    "\n",
    "**Objetivo**: Utilizar tuplas para almacenar datos de especies animales y sus características.\n",
    "\n",
    "**Instrucciones**:\n",
    "\n",
    "1. Crea una tupla llamada `especie_info` que contenga el nombre de una especie animal, su hábitat y su promedio de vida en años. Ejemplo: (\"Lince\", \"Bosque\", 15).\n",
    "2. Imprime la información de la especie en un formato claro.\n",
    "3. Accede e imprime solo el hábitat de la especie.\n",
    "\n",
    "```python\n",
    "# Solución\n",
    "especie_info = (\"Lince\", \"Bosque\", 15)\n",
    "print(f\"Especie: {especie_info[0]}, Hábitat: {especie_info[1]}, Promedio de vida: {especie_info[2]} años\")\n",
    "print(\"Hábitat de la especie:\", especie_info[1])\n",
    "\n",
    "\n"
   ]
  },
  {
   "cell_type": "markdown",
   "metadata": {},
   "source": [
    "---------"
   ]
  },
  {
   "cell_type": "markdown",
   "metadata": {},
   "source": [
    "# Ejercicio 14: Diccionarios en el Contexto de Embalses\n",
    "\n",
    "**Objetivo**: Crear y manipular diccionarios que contengan información de embalses.\n",
    "\n",
    "**Instrucciones**:\n",
    "\n",
    "1. Crea un diccionario llamado `embalses` con la siguiente estructura:\n",
    "   ```python\n",
    "   embalses = {\n",
    "       \"Embalse A\": {\"capacidad\": 120, \"nivel_actual\": 80},\n",
    "       \"Embalse B\": {\"capacidad\": 200, \"nivel_actual\": 150},\n",
    "       \"Embalse C\": {\"capacidad\": 100, \"nivel_actual\": 70}\n",
    "   }\n",
    "Agrega un nuevo embalse llamado \"Embalse D\" con una capacidad de 250 y un nivel actual de 200.\n",
    "Actualiza el nivel actual del \"Embalse A\" a 90.\n",
    "Elimina el \"Embalse C\" del diccionario.\n",
    "Imprime la capacidad del \"Embalse B\".\n",
    "\n",
    "```python\n",
    "# Solución\n",
    "embalses = {\n",
    "    \"Embalse A\": {\"capacidad\": 120, \"nivel_actual\": 80},\n",
    "    \"Embalse B\": {\"capacidad\": 200, \"nivel_actual\": 150},\n",
    "    \"Embalse C\": {\"capacidad\": 100, \"nivel_actual\": 70}\n",
    "}\n",
    "\n",
    "embalses[\"Embalse D\"] = {\"capacidad\": 250, \"nivel_actual\": 200}\n",
    "embalses[\"Embalse A\"][\"nivel_actual\"] = 90\n",
    "del embalses[\"Embalse C\"]\n",
    "\n",
    "print(\"Capacidad del Embalse B:\", embalses[\"Embalse B\"][\"capacidad\"])\n"
   ]
  },
  {
   "cell_type": "markdown",
   "metadata": {},
   "source": [
    "---------"
   ]
  },
  {
   "cell_type": "markdown",
   "metadata": {},
   "source": [
    "# Ejercicio 15: Conjuntos en el Contexto de Clima\n",
    "\n",
    "**Objetivo**: Utilizar conjuntos para trabajar con datos únicos de fenómenos climáticos.\n",
    "\n",
    "**Instrucciones**:\n",
    "\n",
    "1. Crea un conjunto llamado `fenomenos_climaticos` que contenga los siguientes fenómenos: \"tormenta\", \"inundación\", \"sequía\".\n",
    "2. Agrega \"huracán\" al conjunto.\n",
    "3. Intenta agregar \"tormenta\" nuevamente al conjunto y observa qué sucede.\n",
    "4. Elimina \"sequía\" del conjunto.\n",
    "5. Imprime todos los fenómenos climáticos en el conjunto.\n",
    "\n",
    "```python\n",
    "# Solución\n",
    "fenomenos_climaticos = {\"tormenta\", \"inundación\", \"sequía\"}\n",
    "fenomenos_climaticos.add(\"huracán\")\n",
    "fenomenos_climaticos.add(\"tormenta\")  # No se agregará porque ya existe en el conjunto\n",
    "fenomenos_climaticos.remove(\"sequía\")\n",
    "print(\"Fenómenos climáticos:\", fenomenos_climaticos)"
   ]
  },
  {
   "cell_type": "markdown",
   "metadata": {},
   "source": [
    "---------"
   ]
  },
  {
   "cell_type": "markdown",
   "metadata": {},
   "source": [
    "# Ejercicio 16: Combinando Estructuras de Datos en el Contexto Meteorológico\n",
    "\n",
    "**Objetivo**: Utilizar listas, tuplas, diccionarios y conjuntos en un solo ejercicio para analizar datos meteorológicos.\n",
    "\n",
    "**Instrucciones**:\n",
    "\n",
    "1. Crea una lista de tuplas llamada `datos_meteorologicos`, donde cada tupla contenga el nombre de una ciudad, la temperatura promedio del día y la condición climática (por ejemplo: [(\"Madrid\", 30, \"soleado\"), (\"Londres\", 22, \"nublado\"), (\"Nueva York\", 25, \"lluvioso\")]).\n",
    "2. Convierte esta lista en un diccionario llamado `ciudades_meteorologia` donde las claves sean los nombres de las ciudades y los valores sean otros diccionarios con las temperaturas y condiciones.\n",
    "3. Crea un conjunto llamado `condiciones_unicas` que contenga todas las condiciones climáticas únicas presentes en `ciudades_meteorologia`.\n",
    "4. Imprime las condiciones únicas y la temperatura promedio de Madrid.\n",
    "\n",
    "```python\n",
    "# Solución\n",
    "datos_meteorologicos = [(\"Madrid\", 30, \"soleado\"), (\"Londres\", 22, \"nublado\"), (\"Nueva York\", 25, \"lluvioso\")]\n",
    "\n",
    "ciudades_meteorologia = {ciudad: {\"temperatura\": temp, \"condicion\": cond} for ciudad, temp, cond in datos_meteorologicos}\n",
    "\n",
    "condiciones_unicas = {info[\"condicion\"] for info in ciudades_meteorologia.values()}\n",
    "\n",
    "print(\"Condiciones climáticas únicas:\", condiciones_unicas)\n",
    "print(\"Temperatura promedio en Madrid:\", ciudades_meteorologia[\"Madrid\"][\"temperatura\"])"
   ]
  },
  {
   "cell_type": "markdown",
   "metadata": {},
   "source": [
    "---------"
   ]
  },
  {
   "cell_type": "markdown",
   "metadata": {},
   "source": [
    "# Ejercicio 17: Tuplas en el Contexto de Fauna\n",
    "\n",
    "**Objetivo**: Utilizar tuplas para almacenar datos de especies animales y sus características.\n",
    "\n",
    "**Instrucciones**:\n",
    "\n",
    "1. Crea una tupla llamada `especie_info` que contenga el nombre de una especie animal, su hábitat y su promedio de vida en años. Ejemplo: (\"Lince\", \"Bosque\", 15).\n",
    "2. Imprime la información de la especie en un formato claro.\n",
    "3. Accede e imprime solo el hábitat de la especie.\n",
    "\n",
    "```python\n",
    "# Solución\n",
    "especie_info = (\"Lince\", \"Bosque\", 15)\n",
    "print(f\"Especie: {especie_info[0]}, Hábitat: {especie_info[1]}, Promedio de vida: {especie_info[2]} años\")\n",
    "print(\"Hábitat de la especie:\", especie_info[1])\n"
   ]
  },
  {
   "cell_type": "markdown",
   "metadata": {},
   "source": [
    "---------"
   ]
  },
  {
   "cell_type": "markdown",
   "metadata": {},
   "source": [
    "# Ejercicio 18: Diccionarios en el Contexto de Embalses\n",
    "\n",
    "**Objetivo**: Crear y manipular diccionarios que contengan información de embalses.\n",
    "\n",
    "**Instrucciones**:\n",
    "\n",
    "1. Crea un diccionario llamado `embalses` con la siguiente estructura:\n",
    "   ```python\n",
    "   embalses = {\n",
    "       \"Embalse A\": {\"capacidad\": 120, \"nivel_actual\": 80},\n",
    "       \"Embalse B\": {\"capacidad\": 200, \"nivel_actual\": 150},\n",
    "       \"Embalse C\": {\"capacidad\": 100, \"nivel_actual\": 70}\n",
    "   }\n",
    "Agrega un nuevo embalse llamado \"Embalse D\" con una capacidad de 250 y un nivel actual de 200.\n",
    "Actualiza el nivel actual del \"Embalse A\" a 90.\n",
    "Elimina el \"Embalse C\" del diccionario.\n",
    "Imprime la capacidad del \"Embalse B\".\n",
    "\n",
    "```python\n",
    "# Solución\n",
    "embalses = {\n",
    "    \"Embalse A\": {\"capacidad\": 120, \"nivel_actual\": 80},\n",
    "    \"Embalse B\": {\"capacidad\": 200, \"nivel_actual\": 150},\n",
    "    \"Embalse C\": {\"capacidad\": 100, \"nivel_actual\": 70}\n",
    "}\n",
    "\n",
    "embalses[\"Embalse D\"] = {\"capacidad\": 250, \"nivel_actual\": 200}\n",
    "embalses[\"Embalse A\"][\"nivel_actual\"] = 90\n",
    "del embalses[\"Embalse C\"]\n",
    "\n",
    "print(\"Capacidad del Embalse B:\", embalses[\"Embalse B\"][\"capacidad\"])"
   ]
  },
  {
   "cell_type": "markdown",
   "metadata": {},
   "source": [
    "--------------------------------------------------------------------------------------------------------------------------------------------------------"
   ]
  },
  {
   "cell_type": "markdown",
   "metadata": {},
   "source": [
    "# Ejercicio 19: Listas en el Contexto de Especies Vegetales\n",
    "\n",
    "#### Objetivo: Crear y manipular listas de datos sobre especies vegetales en Panamá.\n",
    "Instrucciones:\n",
    "\n",
    "1. Crea una lista llamada `especies_vegetales` que contenga los siguientes nombres de especies: \"Ceiba\", \"Guayacán\", \"Roble\", \"Caoba\", \"Cedro\".\n",
    "\n",
    "2. Agrega una nueva especie (por ejemplo, \"Mango\") a la lista.\n",
    "\n",
    "3. Cambia el segundo nombre de especie (\"Guayacán\") por \"Caimito\" debido a una corrección en los datos.\n",
    "\n",
    "4. Elimina la especie con el nombre más corto de la lista.\n",
    "\n",
    "5. Imprime el número de especies de las que tienes datos.\n",
    "\n",
    "6. Ordena la lista de especies en orden alfabético y luego imprímela."
   ]
  },
  {
   "cell_type": "code",
   "execution_count": 3,
   "metadata": {},
   "outputs": [
    {
     "name": "stdout",
     "output_type": "stream",
     "text": [
      "El número de especies es: 5\n",
      "Lista de especies ordenada alfabéticamente:\n",
      "['Caimito', 'Caoba', 'Cedro', 'Mango', 'Roble']\n"
     ]
    }
   ],
   "source": [
    "# Crear la lista de especies vegetales\n",
    "especies_vegetales = [\"Ceiba\", \"Guayacán\", \"Roble\", \"Caoba\", \"Cedro\"]\n",
    "\n",
    "# Agregar una nueva especie\n",
    "especies_vegetales.append(\"Mango\")\n",
    "\n",
    "# Cambiar la segunda especie (\"Guayacán\") por \"Caimito\"\n",
    "especies_vegetales[1] = \"Caimito\"\n",
    "\n",
    "# Eliminar la especie con el nombre más corto de la lista\n",
    "# Para ello, buscamos el elemento con el nombre más corto\n",
    "especie_mas_corta = min(especies_vegetales, key=len)\n",
    "especies_vegetales.remove(especie_mas_corta)\n",
    "\n",
    "# Imprimir el número de especies de las que tenemos datos\n",
    "print(f\"El número de especies es: {len(especies_vegetales)}\")\n",
    "\n",
    "# Ordenar la lista de especies en orden alfabético y luego imprimirla\n",
    "especies_vegetales.sort()\n",
    "print(\"Lista de especies ordenada alfabéticamente:\")\n",
    "print(especies_vegetales)"
   ]
  },
  {
   "cell_type": "markdown",
   "metadata": {},
   "source": [
    "# Ejercicio 20: Conjuntos en el Contexto de Clima\n",
    "\n",
    "**Objetivo**: Utilizar conjuntos para trabajar con datos únicos de fenómenos climáticos.\n",
    "\n",
    "**Instrucciones**:\n",
    "\n",
    "1. Crea un conjunto llamado `fenomenos_climaticos` que contenga los siguientes fenómenos: \"tormenta\", \"inundación\", \"sequía\".\n",
    "2. Agrega \"huracán\" al conjunto.\n",
    "3. Intenta agregar \"tormenta\" nuevamente al conjunto y observa qué sucede.\n",
    "4. Elimina \"sequía\" del conjunto.\n",
    "5. Imprime todos los fenómenos climáticos en el conjunto.\n",
    "\n",
    "```python\n",
    "# Solución\n",
    "fenomenos_climaticos = {\"tormenta\", \"inundación\", \"sequía\"}\n",
    "fenomenos_climaticos.add(\"huracán\")\n",
    "fenomenos_climaticos.add(\"tormenta\")  # No se agregará porque ya existe en el conjunto\n",
    "fenomenos_climaticos.remove(\"sequía\")\n",
    "print(\"Fenómenos climáticos:\", fenomenos_climaticos)"
   ]
  },
  {
   "cell_type": "markdown",
   "metadata": {},
   "source": [
    "# Ejercicio de aplicación resuelto"
   ]
  },
  {
   "cell_type": "code",
   "execution_count": 79,
   "metadata": {},
   "outputs": [],
   "source": [
    "# Problema: Análisis de Calidad del Agua en Embalses\n",
    "\n",
    "# Tienes datos de calidad del agua de varios embalses. Cada embalse tiene mediciones \n",
    "# de diferentes parámetros tomadas en distintos días. Tu tarea es analizar estos datos \n",
    "# y proporcionar un informe.\n",
    "\n",
    "datos_embalses = {\n",
    "    \"Embalse A\": [\n",
    "        (\"2023-06-01\", {\"pH\": 7.2, \"temperatura\": 22.5, \"turbidez\": 3.7}),\n",
    "        (\"2023-06-02\", {\"pH\": 7.3, \"temperatura\": 23.1, \"turbidez\": 3.5}),\n",
    "        (\"2023-06-03\", {\"pH\": 7.1, \"temperatura\": 22.8, \"turbidez\": 4.0})\n",
    "    ],\n",
    "    \"Embalse B\": [\n",
    "        (\"2023-06-01\", {\"pH\": 6.9, \"temperatura\": 21.8, \"turbidez\": 4.2}),\n",
    "        (\"2023-06-02\", {\"pH\": 7.0, \"temperatura\": 22.2, \"turbidez\": 4.0}),\n",
    "        (\"2023-06-03\", {\"pH\": 6.8, \"temperatura\": 22.5, \"turbidez\": 4.5})\n",
    "    ],\n",
    "    \"Embalse C\": [\n",
    "        (\"2023-06-01\", {\"pH\": 7.5, \"temperatura\": 23.5, \"turbidez\": 3.2}),\n",
    "        (\"2023-06-02\", {\"pH\": 7.4, \"temperatura\": 24.1, \"turbidez\": 3.3}),\n",
    "        (\"2023-06-03\", {\"pH\": 7.6, \"temperatura\": 23.8, \"turbidez\": 3.1})\n",
    "    ]\n",
    "}\n",
    "\n",
    "# Tareas:\n",
    "# 1. Calcula el promedio de pH, temperatura y turbidez para cada embalse.\n",
    "# 2. Identifica el embalse con la temperatura más alta y en qué fecha ocurrió.\n",
    "# 3. Clasifica cada embalse según su pH promedio: \n",
    "#    \"Ácido\" si pH < 7, \"Neutral\" si 7 <= pH <= 7.5, \"Alcalino\" si pH > 7.5\n",
    "# 4. Crea un conjunto con los embalses que tienen al menos una medición de turbidez superior a 4.0.\n",
    "# 5. Imprime un informe con todos estos resultados.\n",
    "\n"
   ]
  },
  {
   "cell_type": "code",
   "execution_count": 82,
   "metadata": {},
   "outputs": [
    {
     "name": "stdout",
     "output_type": "stream",
     "text": [
      "Promedios de Calidad del Agua por Embalse:\n",
      "------------------------------------------\n",
      "\n",
      "Embalse: Embalse A\n",
      "  pH promedio:          7.20\n",
      "  Temperatura promedio: 22.80°C\n",
      "  Turbidez promedio:    3.73 NTU\n",
      "\n",
      "Embalse: Embalse B\n",
      "  pH promedio:          6.90\n",
      "  Temperatura promedio: 22.17°C\n",
      "  Turbidez promedio:    4.23 NTU\n",
      "\n",
      "Embalse: Embalse C\n",
      "  pH promedio:          7.50\n",
      "  Temperatura promedio: 23.80°C\n",
      "  Turbidez promedio:    3.20 NTU\n",
      "\n",
      "------------------------------------------\n"
     ]
    }
   ],
   "source": [
    "# Solución: Análisis de Calidad del Agua en Embalses\n",
    "\n",
    "# 1. Calcular promedios\n",
    "promedios = {}\n",
    "for embalse, mediciones in datos_embalses.items():\n",
    "    suma_pH = suma_temp = suma_turb = 0\n",
    "    for _, datos in mediciones:\n",
    "        suma_pH += datos[\"pH\"]\n",
    "        suma_temp += datos[\"temperatura\"]\n",
    "        suma_turb += datos[\"turbidez\"]\n",
    "    n = len(mediciones)\n",
    "    promedios[embalse] = {\n",
    "        \"pH\": suma_pH / n,\n",
    "        \"temperatura\": suma_temp / n,\n",
    "        \"turbidez\": suma_turb / n\n",
    "    }\n",
    "print(\"Promedios de Calidad del Agua por Embalse:\")\n",
    "print(\"------------------------------------------\")\n",
    "\n",
    "for embalse, datos in promedios.items():\n",
    "    print(f\"\\nEmbalse: {embalse}\")\n",
    "    print(f\"  pH promedio:          {datos['pH']:.2f}\")\n",
    "    print(f\"  Temperatura promedio: {datos['temperatura']:.2f}°C\")\n",
    "    print(f\"  Turbidez promedio:    {datos['turbidez']:.2f} NTU\")\n",
    "\n",
    "print(\"\\n------------------------------------------\")\n",
    "\n",
    "# Explicación:\n",
    "# 1. Usamos un bucle for para iterar sobre el diccionario 'promedios'.\n",
    "# 2. Para cada embalse, imprimimos su nombre y los promedios de cada parámetro.\n",
    "# 3. Utilizamos f-strings para formatear la salida, incluyendo el nombre del embalse y los valores.\n",
    "# 4. Los valores se formatean a dos decimales usando :.2f para mejor legibilidad.\n",
    "# 5. Añadimos unidades a la temperatura (°C) y turbidez (NTU) para claridad.\n",
    "# 6. Usamos sangrías y líneas separadoras para mejorar la presentación visual.\n"
   ]
  },
  {
   "cell_type": "code",
   "execution_count": null,
   "metadata": {},
   "outputs": [],
   "source": [
    "\n",
    "# 3. Clasificar embalses por pH\n",
    "clasificacion_pH = {}\n",
    "for embalse, prom in promedios.items():\n",
    "    if prom[\"pH\"] < 7:\n",
    "        clasificacion_pH[embalse] = \"Ácido\"\n",
    "    elif prom[\"pH\"] <= 7.5:\n",
    "        clasificacion_pH[embalse] = \"Neutral\"\n",
    "    else:\n",
    "        clasificacion_pH[embalse] = \"Alcalino\"\n"
   ]
  },
  {
   "cell_type": "code",
   "execution_count": null,
   "metadata": {},
   "outputs": [],
   "source": [
    "\n",
    "# 4. Embalses con turbidez > 4.0\n",
    "embalses_alta_turbidez = set()\n",
    "for embalse, mediciones in datos_embalses.items():\n",
    "    for _, datos in mediciones:\n",
    "        if datos[\"turbidez\"] > 4.0:\n",
    "            embalses_alta_turbidez.add(embalse)\n",
    "            break\n"
   ]
  },
  {
   "cell_type": "code",
   "execution_count": null,
   "metadata": {},
   "outputs": [],
   "source": [
    "\n",
    "# 5. Imprimir informe\n",
    "print(\"Informe de Calidad del Agua en Embalses\\n\")\n",
    "\n",
    "print(\"1. Promedios por embalse:\")\n",
    "for embalse, prom in promedios.items():\n",
    "    print(f\"{embalse}:\")\n",
    "    print(f\"  pH: {prom['pH']:.2f}\")\n",
    "    print(f\"  Temperatura: {prom['temperatura']:.2f}°C\")\n",
    "    print(f\"  Turbidez: {prom['turbidez']:.2f} NTU\")\n",
    "\n",
    "print(f\"\\n2. Temperatura más alta: {temp_max}°C\")\n",
    "print(f\"   Embalse: {embalse_max}\")\n",
    "print(f\"   Fecha: {fecha_max}\")\n",
    "\n",
    "print(\"\\n3. Clasificación por pH:\")\n",
    "for embalse, clas in clasificacion_pH.items():\n",
    "    print(f\"{embalse}: {clas}\")\n",
    "\n",
    "print(\"\\n4. Embalses con alta turbidez (>4.0 NTU):\")\n",
    "print(\", \".join(embalses_alta_turbidez) if embalses_alta_turbidez else \"Ninguno\")"
   ]
  },
  {
   "cell_type": "markdown",
   "metadata": {},
   "source": [
    "# Ejercicios de aplicación"
   ]
  },
  {
   "cell_type": "code",
   "execution_count": 1,
   "metadata": {},
   "outputs": [
    {
     "name": "stdout",
     "output_type": "stream",
     "text": [
      "Precipitación total del mes: 275.0 mm\n",
      "Promedio diario de precipitación: 9.166666666666666 mm\n",
      "Clasificación del mes: seco\n"
     ]
    }
   ],
   "source": [
    "# Problema 1: Análisis de Precipitaciones\n",
    "# Crea una lista con las precipitaciones diarias (en mm) de un mes.\n",
    "# Utiliza un bucle for para calcular la precipitación total y el promedio.\n",
    "# Usa una estructura if para clasificar el mes como \"seco\" si el promedio es menor a 50 mm,\n",
    "# \"normal\" si está entre 50 y 100 mm, y \"lluvioso\" si es mayor a 100 mm.\n",
    "\n",
    "precipitaciones = [12.5, 8.0, 0.0, 22.3, 15.7, 30.1, 0.0, 5.2, 18.9, 7.6, \n",
    "                   0.0, 0.0, 2.1, 9.8, 25.4, 11.2, 0.0, 3.5, 14.7, 6.9, \n",
    "                   0.0, 1.8, 4.3, 8.7, 20.1, 13.5, 0.0, 6.4, 17.2, 9.1]\n",
    "\n",
    "# Inicializar la suma de precipitaciones\n",
    "precipitacion_total = 0\n",
    "\n",
    "# Utilizar un bucle for para calcular la precipitación total\n",
    "for precipitacion in precipitaciones:\n",
    "    precipitacion_total += precipitacion\n",
    "\n",
    "# Calcular el promedio de precipitaciones\n",
    "promedio_precipitacion = precipitacion_total / len(precipitaciones)\n",
    "\n",
    "# Clasificar el mes según el promedio de precipitaciones\n",
    "if promedio_precipitacion < 50:\n",
    "    clasificacion_mes = \"seco\"\n",
    "elif 50 <= promedio_precipitacion <= 100:\n",
    "    clasificacion_mes = \"normal\"\n",
    "else:\n",
    "    clasificacion_mes = \"lluvioso\"\n",
    "\n",
    "# Mostrar los resultados\n",
    "print(\"Precipitación total del mes:\", precipitacion_total, \"mm\")\n",
    "print(\"Promedio diario de precipitación:\", promedio_precipitacion, \"mm\")\n",
    "print(\"Clasificación del mes:\", clasificacion_mes)\n"
   ]
  },
  {
   "cell_type": "code",
   "execution_count": 2,
   "metadata": {},
   "outputs": [
    {
     "name": "stdout",
     "output_type": "stream",
     "text": [
      "Avistamientos de especies:\n",
      "águila real: 5 avistamientos\n",
      "oso pardo: 2 avistamientos\n",
      "lobo ibérico: 3 avistamientos\n",
      "lince ibérico: 1 avistamientos\n",
      "buitre leonado: 8 avistamientos\n",
      "cabra montés: 12 avistamientos\n",
      "\n",
      "La especie con más avistamientos es: cabra montés con 12 avistamientos\n"
     ]
    }
   ],
   "source": [
    "# Problema 2: Registro de Especies\n",
    "# Crea un diccionario donde las claves sean nombres de especies y los valores sean \n",
    "# el número de avistamientos. Usa un bucle for para imprimir cada especie y su conteo.\n",
    "# Luego, encuentra la especie con más avistamientos.\n",
    "\n",
    "avistamientos = {\n",
    "    \"águila real\": 5,\n",
    "    \"oso pardo\": 2,\n",
    "    \"lobo ibérico\": 3,\n",
    "    \"lince ibérico\": 1,\n",
    "    \"buitre leonado\": 8,\n",
    "    \"cabra montés\": 12\n",
    "}\n",
    "\n",
    "# Utilizar un bucle for para imprimir cada especie y su conteo\n",
    "print(\"Avistamientos de especies:\")\n",
    "for especie, conteo in avistamientos.items():\n",
    "    print(f\"{especie}: {conteo} avistamientos\")\n",
    "\n",
    "# Encontrar la especie con más avistamientos\n",
    "especie_mas_avistamientos = max(avistamientos, key=avistamientos.get)\n",
    "\n",
    "# Mostrar la especie con más avistamientos\n",
    "print(f\"\\nLa especie con más avistamientos es: {especie_mas_avistamientos} con {avistamientos[especie_mas_avistamientos]} avistamientos\")\n"
   ]
  },
  {
   "cell_type": "code",
   "execution_count": 3,
   "metadata": {},
   "outputs": [
    {
     "name": "stdout",
     "output_type": "stream",
     "text": [
      "El río Tajo tiene un pH de 7.1 y es clasificado como alcalino.\n",
      "El río Ebro tiene un pH de 8.2 y es clasificado como alcalino.\n",
      "El río Duero tiene un pH de 6.8 y es clasificado como ácido.\n",
      "El río Guadalquivir tiene un pH de 7.8 y es clasificado como alcalino.\n",
      "El río Guadiana tiene un pH de 6.9 y es clasificado como ácido.\n"
     ]
    }
   ],
   "source": [
    "# Problema 3: Análisis de Calidad del Agua\n",
    "# Crea una lista de tuplas, donde cada tupla contenga el nombre de un río y su pH.\n",
    "# Usa un bucle for con tuple unpacking para clasificar cada río como \n",
    "# \"ácido\" (pH < 7), \"neutral\" (pH == 7), o \"alcalino\" (pH > 7).\n",
    "\n",
    "rios_ph = [(\"Tajo\", 7.1), (\"Ebro\", 8.2), (\"Duero\", 6.8), \n",
    "           (\"Guadalquivir\", 7.8), (\"Guadiana\", 6.9)]\n",
    "\n",
    "# Utilizar un bucle for con tuple unpacking para clasificar cada río\n",
    "for rio, ph in rios_ph:\n",
    "    if ph < 7:\n",
    "        clasificacion = \"ácido\"\n",
    "    elif ph == 7:\n",
    "        clasificacion = \"neutral\"\n",
    "    else:\n",
    "        clasificacion = \"alcalino\"\n",
    "    \n",
    "    print(f\"El río {rio} tiene un pH de {ph} y es clasificado como {clasificacion}.\")\n"
   ]
  },
  {
   "cell_type": "code",
   "execution_count": 4,
   "metadata": {},
   "outputs": [
    {
     "name": "stdout",
     "output_type": "stream",
     "text": [
      "Estaciones que reportarán ambos días: {'Barcelona', 'Sevilla', 'Madrid'}\n",
      "Estaciones que reportarán mañana pero no reportaron hoy: {'Bilbao', 'Málaga'}\n",
      "Estaciones que reportaron hoy pero no reportarán mañana: {'Valencia', 'Zaragoza'}\n"
     ]
    }
   ],
   "source": [
    "# Problema 4: Estaciones Meteorológicas\n",
    "# Crea un conjunto con los nombres de las estaciones que reportaron datos hoy,\n",
    "# y otro conjunto con las que se espera que reporten mañana.\n",
    "# Usa operaciones de conjuntos para encontrar:\n",
    "# 1. Estaciones que reportarán ambos días\n",
    "# 2. Estaciones que reportarán mañana pero no reportaron hoy\n",
    "# 3. Estaciones que reportaron hoy pero no reportarán mañana\n",
    "\n",
    "estaciones_hoy = {\"Madrid\", \"Barcelona\", \"Sevilla\", \"Valencia\", \"Zaragoza\"}\n",
    "estaciones_manana = {\"Madrid\", \"Barcelona\", \"Sevilla\", \"Bilbao\", \"Málaga\"}\n",
    "\n",
    "# 1. Estaciones que reportarán ambos días\n",
    "estaciones_ambos_dias = estaciones_hoy.intersection(estaciones_manana)\n",
    "print(\"Estaciones que reportarán ambos días:\", estaciones_ambos_dias)\n",
    "\n",
    "# 2. Estaciones que reportarán mañana pero no reportaron hoy\n",
    "estaciones_solo_manana = estaciones_manana.difference(estaciones_hoy)\n",
    "print(\"Estaciones que reportarán mañana pero no reportaron hoy:\", estaciones_solo_manana)\n",
    "\n",
    "# 3. Estaciones que reportaron hoy pero no reportarán mañana\n",
    "estaciones_solo_hoy = estaciones_hoy.difference(estaciones_manana)\n",
    "print(\"Estaciones que reportaron hoy pero no reportarán mañana:\", estaciones_solo_hoy)\n"
   ]
  },
  {
   "cell_type": "code",
   "execution_count": 5,
   "metadata": {},
   "outputs": [
    {
     "name": "stdout",
     "output_type": "stream",
     "text": [
      "El río con el caudal máximo es el Ebro con 620 m³/s, ocurrido el día 3 de la semana.\n"
     ]
    }
   ],
   "source": [
    "# Problema 5: Análisis de Caudales\n",
    "# Crea un diccionario donde las claves sean nombres de ríos y los valores sean \n",
    "# listas con los caudales diarios (m³/s) durante una semana.\n",
    "# Usa bucles anidados para encontrar el río con el caudal máximo y el día en que ocurrió.\n",
    "\n",
    "caudales = {\n",
    "    \"Ebro\": [600, 580, 620, 590, 605, 615, 595],\n",
    "    \"Tajo\": [320, 310, 330, 305, 325, 315, 318],\n",
    "    \"Duero\": [400, 420, 380, 410, 405, 415, 390],\n",
    "    \"Guadalquivir\": [280, 290, 270, 285, 275, 295, 288]\n",
    "}\n",
    "\n",
    "# Inicializar variables para rastrear el caudal máximo y su correspondiente río y día\n",
    "caudal_maximo = 0\n",
    "rio_caudal_maximo = \"\"\n",
    "dia_caudal_maximo = 0\n",
    "\n",
    "# Utilizar bucles anidados para encontrar el río con el caudal máximo y el día en que ocurrió\n",
    "for rio, caudales_semanales in caudales.items():\n",
    "    for dia, caudal in enumerate(caudales_semanales):\n",
    "        if caudal > caudal_maximo:\n",
    "            caudal_maximo = caudal\n",
    "            rio_caudal_maximo = rio\n",
    "            dia_caudal_maximo = dia + 1  # +1 para ajustar a días de la semana (1-7)\n",
    "\n",
    "# Mostrar el resultado\n",
    "print(f\"El río con el caudal máximo es el {rio_caudal_maximo} con {caudal_maximo} m³/s, ocurrido el día {dia_caudal_maximo} de la semana.\")"
   ]
  }
 ],
 "metadata": {
  "kernelspec": {
   "display_name": "Python 3 (ipykernel)",
   "language": "python",
   "name": "python3"
  },
  "language_info": {
   "codemirror_mode": {
    "name": "ipython",
    "version": 3
   },
   "file_extension": ".py",
   "mimetype": "text/x-python",
   "name": "python",
   "nbconvert_exporter": "python",
   "pygments_lexer": "ipython3",
   "version": "3.10.14"
  },
  "toc": {
   "base_numbering": 1,
   "nav_menu": {},
   "number_sections": true,
   "sideBar": true,
   "skip_h1_title": false,
   "title_cell": "Table of Contents",
   "title_sidebar": "Contents",
   "toc_cell": false,
   "toc_position": {
    "height": "calc(100% - 180px)",
    "left": "10px",
    "top": "150px",
    "width": "428.8px"
   },
   "toc_section_display": true,
   "toc_window_display": true
  },
  "varInspector": {
   "cols": {
    "lenName": 16,
    "lenType": 16,
    "lenVar": 40
   },
   "kernels_config": {
    "python": {
     "delete_cmd_postfix": "",
     "delete_cmd_prefix": "del ",
     "library": "var_list.py",
     "varRefreshCmd": "print(var_dic_list())"
    },
    "r": {
     "delete_cmd_postfix": ") ",
     "delete_cmd_prefix": "rm(",
     "library": "var_list.r",
     "varRefreshCmd": "cat(var_dic_list()) "
    }
   },
   "oldHeight": 122.84966599999998,
   "position": {
    "height": "144.683px",
    "left": "1373px",
    "right": "20px",
    "top": "119px",
    "width": "350px"
   },
   "types_to_exclude": [
    "module",
    "function",
    "builtin_function_or_method",
    "instance",
    "_Feature"
   ],
   "varInspector_section_display": "block",
   "window_display": false
  }
 },
 "nbformat": 4,
 "nbformat_minor": 2
}
