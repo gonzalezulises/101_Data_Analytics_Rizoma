{
  "cells": [
    {
      "cell_type": "markdown",
      "metadata": {
        "cellView": "form",
        "id": "xelqowdAL51s",
        "outputId": "2c324e0e-07a9-45d5-e4d6-525284af1249"
      },
      "source": [
        "<h1><center>Walkthrough - Lab 4<center>\n",
        "\n",
        "<div>\n",
        "<td>\n",
        "<img src=\"https://upload.wikimedia.org/wikipedia/commons/thumb/2/2b/Logo_Universit%C3%A9_de_Lausanne.svg/2000px-Logo_Universit%C3%A9_de_Lausanne.svg.png\" style=\"padding-right:10px;width:240px;float:left\" width=700/></td>\n",
        "<h2 style=\"white-space: nowrap\">Business Intelligence and Analytics</h2></td>\n",
        "<hr style=\"clear:both\">\n",
        "<p style=\"font-size:0.85em; margin:2px; text-align:justify\">\n",
        "\n",
        "</div>"
      ]
    },
    {
      "cell_type": "markdown",
      "metadata": {
        "id": "BM5wVWxxjdZz"
      },
      "source": [
        ">The goal of this week's walkthrough is to introduce you to visualization tools and to teach you how to present and interpret data in graphical formats. In essence, Data Visualization can be thought of as whole science looking at the numerous ways and choices one has to represent Data. Therefore, we will also show you some typical examples of visualization for proper representation or analysis of a given problem.\n",
        ">\n",
        "> In the first part of this walkthrough, you will likely encounter visualization used in the last lab session along some new ones.\n",
        ">\n",
        "> Then in a second part, we will go a bit further and show you how to build interactive visualizations."
      ]
    },
    {
      "cell_type": "markdown",
      "metadata": {
        "id": "389Q2JK58WLb"
      },
      "source": [
        "##Imports and data set\n",
        ">First, let's import the various librairies we'll need throughout the walkthrough.\n",
        ">\n",
        ">We will use [`matplotlib`](https://matplotlib.org/stable/index.html) a library for plotting and [`seaborn`](https://seaborn.pydata.org) a package for statistical data visualization."
      ]
    },
    {
      "cell_type": "code",
      "execution_count": null,
      "metadata": {
        "id": "_AtSzzEOjYVf"
      },
      "outputs": [],
      "source": [
        "#Library imports\n",
        "import pandas as pd #nothing new here\n",
        "import matplotlib\n",
        "import matplotlib.pyplot as plt\n",
        "import seaborn as sns"
      ]
    },
    {
      "cell_type": "markdown",
      "metadata": {
        "id": "-7ZhLjcm94AH"
      },
      "source": [
        ">Today, we will use the **credit.csv** data set, wich contains personal and economical information of credit card owners."
      ]
    },
    {
      "cell_type": "code",
      "execution_count": null,
      "metadata": {
        "id": "3CbyEYa3-tHx"
      },
      "outputs": [],
      "source": [
        "url = 'https://media.githubusercontent.com/media/michalis0/Business-Intelligence-and-Analytics/master/data/Credit.csv'\n",
        "data = pd.read_csv(url)\n",
        "data.head()\n"
      ]
    },
    {
      "cell_type": "markdown",
      "metadata": {
        "id": "Kbl4xwJrk_Kj"
      },
      "source": [
        "###Data Cleaning\n",
        ">As you probably wondered, it is not very helpful nor useful to have an \"Unnamed: 0\" column. Lets rename it and use it as index."
      ]
    },
    {
      "cell_type": "code",
      "execution_count": null,
      "metadata": {
        "id": "ibIxmwrLkbGx"
      },
      "outputs": [],
      "source": [
        "data = data.rename( columns = {'Unnamed: 0' : 'CustomerID' })\n",
        "#data = data.set_index('CustomerID')\n",
        "data.head()"
      ]
    },
    {
      "cell_type": "code",
      "execution_count": null,
      "metadata": {
        "id": "1epqNoQCanUh"
      },
      "outputs": [],
      "source": [
        "summary = data.describe()\n",
        "summary.round(2)"
      ]
    },
    {
      "cell_type": "markdown",
      "metadata": {
        "id": "oI4HKF0jAKmb"
      },
      "source": [
        ">As mentioned in previous labs, it is always important to check the types of each data entry in case of later of processings. We can start by getting an overview of our data set to be sure to what to expect."
      ]
    },
    {
      "cell_type": "code",
      "execution_count": null,
      "metadata": {
        "id": "McXHYoub_3gP"
      },
      "outputs": [],
      "source": [
        "#get information from data frame\n",
        "data.info()"
      ]
    },
    {
      "cell_type": "markdown",
      "metadata": {
        "id": "T53kfj7_Hhdh"
      },
      "source": [
        ">Now, let's begin with the visualization. During the course of this lab, we will always apply the major guidlines for successful visualization presented in the course.\n",
        ">\n",
        ">As a refresher :<br>\n",
        "**1. Keep It Simple**<br>\n",
        "**2. Design and choose the visualization well**<br>\n",
        "**3. Know your audience, tell a story**<br>\n",
        "**4. Have graphical integrity**"
      ]
    },
    {
      "cell_type": "markdown",
      "metadata": {
        "id": "nqCQ9nrgCag2"
      },
      "source": [
        "#Static Visualizations"
      ]
    },
    {
      "cell_type": "markdown",
      "metadata": {
        "id": "1CyiuaAaAQt_"
      },
      "source": [
        "##Boxplots\n",
        "\n",
        ">These kinds of charts are a must when you need a statistical overview of numerical data. In a boxplot, we can see:\n",
        ">\n",
        ">- Mean\n",
        "- Median\n",
        "- Quartiles (1st and 3rd)\n",
        "- Minimum\n",
        "- Maximum\n",
        "- Outliers\n",
        ">\n",
        ">For instance, imagine we were to investigate the **income distribution**. Having information on the Income satistics can be of major help in identifying the outliers."
      ]
    },
    {
      "cell_type": "code",
      "execution_count": null,
      "metadata": {
        "id": "RAru8Mk5Ar0U"
      },
      "outputs": [],
      "source": [
        "#using figure size to increase the window\n",
        "fig=plt.figure(figsize=(9,5))\n",
        "box_plot=data.boxplot(column='Income')"
      ]
    },
    {
      "cell_type": "markdown",
      "metadata": {
        "id": "p_Oxpt7_BDJr"
      },
      "source": [
        "##Bar plot/ Histogram\n",
        "\n",
        ">Now let's say we were to investigate the proportion of credit card holder per gender. Using a bar chart of each gender is a good way to gain rapid insights on this customer proportion.\n"
      ]
    },
    {
      "cell_type": "code",
      "execution_count": null,
      "metadata": {
        "id": "tug4uXVqHC0_"
      },
      "outputs": [],
      "source": [
        "data_bar = data['Gender'].value_counts()\n",
        "fig=plt.figure(figsize=(8,5))\n",
        "\n",
        "graph = data_bar.plot(kind= 'bar')\n",
        "\n",
        "# It is possible to add many details to a graph by using simple commands. eg.\n",
        "graph.set_title('Number of men and women', size=16)\n",
        "graph.set_xlabel('')\n",
        "txt=graph.set_ylabel('Number of people', size=14)\n"
      ]
    },
    {
      "cell_type": "markdown",
      "metadata": {
        "id": "KJ5DcJwFKZMR"
      },
      "source": [
        ">It's possible to do it horizontally too by setting the kind of bar plot to `barh`."
      ]
    },
    {
      "cell_type": "code",
      "execution_count": null,
      "metadata": {
        "id": "IttcA3A6KgzL"
      },
      "outputs": [],
      "source": [
        "fig=plt.figure(figsize=(8,5))\n",
        "\n",
        "data_bar = data['Gender'].value_counts()\n",
        "graph = data_bar.plot(kind= 'barh')\n",
        "graph.set_title('Number of men and women', size=16)\n",
        "graph.set_xlabel('Number of people', size=10)\n"
      ]
    },
    {
      "cell_type": "markdown",
      "metadata": {
        "id": "7K07jyPy4WLP"
      },
      "source": [
        ">Lastly, you have to keep in mind that granularity (how much datas are being shown on the graph) plays an important role in visualization.\n",
        "Here, let's take the example of the distribution of Income depending on Age."
      ]
    },
    {
      "cell_type": "code",
      "execution_count": null,
      "metadata": {
        "id": "v-8USsKO5D0e"
      },
      "outputs": [],
      "source": [
        "fig=plt.figure(figsize=(8,5))\n",
        "\n",
        "hist = plt.hist(data.groupby('Age')['Income'].mean())\n",
        "plt.title(\"Histogram of Income depending on Age\")\n",
        "plt.xlabel(\"Income\")\n",
        "y =plt.ylabel(\"Age\")"
      ]
    },
    {
      "cell_type": "markdown",
      "metadata": {
        "id": "vkePOTmkLcIj"
      },
      "source": [
        ">Is there another kind of chart that comes to your mind when thinking about how to visualize data propotion ?"
      ]
    },
    {
      "cell_type": "markdown",
      "metadata": {
        "id": "rIXP1jW-Xb5P"
      },
      "source": [
        "##Pie chart\n",
        ">Let's have a look at the proportion of customers that are students in the customer base.\n"
      ]
    },
    {
      "cell_type": "code",
      "execution_count": null,
      "metadata": {
        "id": "RiZqH_LzYyjq"
      },
      "outputs": [],
      "source": [
        "data_pie = data['Student'].value_counts()\n",
        "labels= data['Student'].unique() #get the unique values that can take this column of our dataframe\n",
        "labels= labels.tolist() # and make it a list in order to label our further piechart\n",
        "fig=plt.figure(figsize=(9,5))\n",
        "\n",
        "graph = plt.pie(data_pie, labels= labels) #you can add as much parameters as you wish\n",
        "plt.title(\"Proportion of customers that are students\", size=16)"
      ]
    },
    {
      "cell_type": "markdown",
      "metadata": {
        "id": "kittvL2lfI1h"
      },
      "source": [
        "##Scatter plot and Lines plot\n",
        "\n",
        "###1. Lines plot\n",
        "\n",
        ">Now moving on to linear representations, Lines plot are used to represent the evolution of a value in function of another variable. For this example, we want to represent the evolution of `Income` with respect to the `Age`."
      ]
    },
    {
      "cell_type": "code",
      "execution_count": null,
      "metadata": {
        "id": "N0SmS2kpNPmH"
      },
      "outputs": [],
      "source": [
        "fig=plt.figure(figsize=(9,5))\n",
        "sb = sns.lineplot(x=data['Age'], y=data.groupby('Age')['Income'].mean(), errorbar=None) #We specify 'None' to not have the 95% ci plotted too but you can try to display it"
      ]
    },
    {
      "cell_type": "markdown",
      "source": [
        "And we can select the category of people we want, for example here is the evolution of income by age for the married people (to see more, you can directly go to the [seaborn library page]('https://seaborn.pydata.org/generated/seaborn.lineplot.html')):"
      ],
      "metadata": {
        "id": "XIgcmqNyCI0y"
      }
    },
    {
      "cell_type": "code",
      "source": [
        "fig=plt.figure(figsize=(9,5))\n",
        "income_active= data.query(\"Married == 'Yes'\")\n",
        "sb = sns.lineplot(data = income_active, x='Age', y=income_active.groupby('Age')['Income'].mean(), errorbar=None)"
      ],
      "metadata": {
        "id": "Ndgjrp8u-eno"
      },
      "execution_count": null,
      "outputs": []
    },
    {
      "cell_type": "markdown",
      "metadata": {
        "id": "ioprdXsimnWL"
      },
      "source": [
        "###2. Scatter plot\n",
        "\n",
        ">This kind of chart is very useful to visualize correlation between inputs. Let's check if device maximum debit limit is correlated with Monthly charges.\n",
        ">\n",
        ">You can plot a regression line by using the command **plt.plot**"
      ]
    },
    {
      "cell_type": "code",
      "execution_count": null,
      "metadata": {
        "id": "gSlkeggFHw7C"
      },
      "outputs": [],
      "source": [
        "fig=plt.figure(figsize=(9,5))\n",
        "plt.scatter(data['Income'], data['Limit'], alpha=(1/2)) #alpha is the setting for the transparency of the regression line\n",
        "plot=plt.plot([0,200], [0,14000], color='red')\n",
        "plt.title(\"Income vs card Limit\")\n",
        "plt.xlabel(\"Income\")\n",
        "y =plt.ylabel(\"Card Limit\")"
      ]
    },
    {
      "cell_type": "markdown",
      "metadata": {
        "id": "d2ZwNaz-nzCA"
      },
      "source": [
        "##HeatMaps\n",
        "\n",
        ">Heatmaps enable you to visualize very easily the pearsons coefficient of correlation with an appropriate color map which can be changed depending on user's preferences.\n",
        ">\n",
        ">Let's try to create a heatmap of **correlations** of columns `Limit`, `Income`,`Age` and `Rating`.\n"
      ]
    },
    {
      "cell_type": "code",
      "execution_count": null,
      "metadata": {
        "id": "g1Z6f0yePGil"
      },
      "outputs": [],
      "source": [
        "fig=plt.figure(figsize=(7,4))\n",
        "\n",
        "heat_map = data[['Limit','Income', 'Age', 'Rating']].corr() #We must ad .corr() here as we are looking for the correlations between our variables.\n",
        "sb= sns.heatmap(data = heat_map)\n",
        "plt.title('Heatmap of correlations between dataset features')"
      ]
    },
    {
      "cell_type": "markdown",
      "metadata": {
        "id": "44-ZDAZrDEex"
      },
      "source": [
        "#Interactive Visualization"
      ]
    },
    {
      "cell_type": "markdown",
      "metadata": {
        "id": "24hYcOvmTQWW"
      },
      "source": [
        "## Ipywidgets\n",
        ">In this second part of the lab, we move to more interactive representations. As a first instance, we introduce widgets.  Notebooks come alive when interactive widgets are used. Using widgets helps you gain control on data and enables you to visualize changes in the data."
      ]
    },
    {
      "cell_type": "code",
      "execution_count": null,
      "metadata": {
        "id": "9E9AF25xRclR",
        "collapsed": true
      },
      "outputs": [],
      "source": [
        "!pip install ipywidgets --upgrade"
      ]
    },
    {
      "cell_type": "code",
      "execution_count": null,
      "metadata": {
        "id": "9FiqQRh8V6Rz"
      },
      "outputs": [],
      "source": [
        "import ipywidgets as widgets\n",
        "from ipywidgets import interact, interact_manual"
      ]
    },
    {
      "cell_type": "code",
      "execution_count": null,
      "metadata": {
        "id": "Y9GkGODCcp04"
      },
      "outputs": [],
      "source": [
        "from __future__ import print_function\n",
        "from ipywidgets import interact, interactive, fixed, interact_manual\n",
        "import ipywidgets as widgets"
      ]
    },
    {
      "cell_type": "markdown",
      "metadata": {
        "id": "B2DFqFKrq2Yh"
      },
      "source": [
        ">In this example, we'll simply calculate the total amount of a loan considering the **Loan Amount**, the **Interest Rate** and the number of **Years** until the term of the loan."
      ]
    },
    {
      "cell_type": "code",
      "execution_count": null,
      "metadata": {
        "id": "aH9ynxIHTnpZ"
      },
      "outputs": [],
      "source": [
        "def total_amount(amount,rate, years):\n",
        "  return (amount*pow((1+rate),years))"
      ]
    },
    {
      "cell_type": "code",
      "execution_count": null,
      "metadata": {
        "id": "8xFMPCBteOBU"
      },
      "outputs": [],
      "source": [
        "interact(total_amount, amount= widgets.IntSlider(min=10, max=300, description=\"Initial Amount\"),\n",
        "         rate = widgets.FloatSlider(min=0, max= 1,step=0.01, description='Interest Rate'),\n",
        "         years= widgets.IntSlider(min=1, max=20, description='Term (years)'))\n",
        "print(total_amount)"
      ]
    },
    {
      "cell_type": "markdown",
      "source": [
        "> We can also create an interactive plot, mixing libraries ipywidgets and matplotlib. For that, we have to include the ploting our function in the `total_amount` function. As an outcome, we have the same sliders than previously, but you see the amount reimbursed over time."
      ],
      "metadata": {
        "id": "KXv2mQtVbFb6"
      }
    },
    {
      "cell_type": "code",
      "source": [
        "fig= plt.figure(figsize = (10, 5))\n",
        "\n",
        "def total_amount(amount, rate, years):\n",
        "    time = np.arange(1, years+1)\n",
        "    amount_reimbursed = [amount * pow((1+rate), t) for t in time]\n",
        "    plt.plot(time, amount_reimbursed)\n",
        "    plt.xlabel('Time (years)')\n",
        "    plt.ylabel('Amount Reimbursed')\n",
        "    plt.title('Amount Reimbursed Over Time')\n",
        "    plt.grid(True)\n",
        "    plt.show()\n",
        "\n",
        "amount_slider = widgets.IntSlider(min=10, max=300, description=\"Initial Amount\")\n",
        "rate_slider = widgets.FloatSlider(min=0, max=1, step=0.01, description='Interest Rate')\n",
        "years_slider = widgets.IntSlider(min=1, max=20, description='Term (years)')\n",
        "\n",
        "interact(total_amount, amount=amount_slider, rate=rate_slider, years=years_slider)"
      ],
      "metadata": {
        "id": "OFnnYw8lZyO8"
      },
      "execution_count": null,
      "outputs": []
    },
    {
      "cell_type": "markdown",
      "metadata": {
        "id": "pXG53A1AQthU"
      },
      "source": [
        "> Here is another way to add sliders with Colab. You can either write **#@param** or click on the three dots to the right of a cell and click on **add form**. <br>\n",
        "Here is a [link](https://colab.research.google.com/notebooks/forms.ipynb) if you want to learn more about this feature of Colab."
      ]
    },
    {
      "cell_type": "code",
      "execution_count": null,
      "metadata": {
        "id": "i4A0RIPmQwr5"
      },
      "outputs": [],
      "source": [
        "var_1 = 80 #@param {type:\"slider\", min:10, max:300, step:1}\n",
        "var_2 = 0.58 #@param {type:\"slider\", min:0, max:1, step:0.01}\n",
        "var_3 = 9 #@param {type:\"slider\", min:1, max:20, step:1}\n",
        "\n",
        "print(total_amount(var_1,var_2,var_3))"
      ]
    },
    {
      "cell_type": "markdown",
      "metadata": {
        "id": "urdZk-EiiNnf"
      },
      "source": [
        ">It is also, possible to use widgets as filters. Let's get back to our **credit** dataset and suppose that we want to limit the display of rows to just the rows for which the value in a particular column matches a particular categorical value.\n",
        ">\n",
        ">We can create a drop down list containing the distinct/unique values contained within the column, and use this to control the display of the dataframe rows. Adding an “All” option allows us to display all the rows.\n",
        ">\n",
        " >Here we want to filter the values regarding the **gender** of customers:"
      ]
    },
    {
      "cell_type": "code",
      "execution_count": null,
      "metadata": {
        "id": "TgoKnOOxhWTk"
      },
      "outputs": [],
      "source": [
        "items = ['All']+sorted(data['Gender'].unique().tolist())\n",
        "\n",
        "def view(x=''):\n",
        "    if x=='All': return data\n",
        "    return data[data['Gender']==x]\n",
        "\n",
        "w = widgets.Select(options=items)\n",
        "interact(view, x=w)"
      ]
    },
    {
      "cell_type": "markdown",
      "metadata": {
        "id": "WLt2e2CvBXdO"
      },
      "source": [
        "##Folium\n",
        ">Sometimes, we need to show locations on maps. Here is a way to do so."
      ]
    },
    {
      "cell_type": "code",
      "execution_count": null,
      "metadata": {
        "id": "osL_vga6SdgN"
      },
      "outputs": [],
      "source": [
        "!pip install folium --upgrade"
      ]
    },
    {
      "cell_type": "code",
      "execution_count": null,
      "metadata": {
        "id": "Kza7Jb8ZCVjx"
      },
      "outputs": [],
      "source": [
        "import folium\n",
        "df2 = pd.DataFrame({\n",
        "   'lon':[46.5213,46.5236, 46.5209, 46.5228],\n",
        "   'lat':[6.5741, 6.5846, 6.5769, 6.5796],\n",
        "   'name':['Amphimax', 'Anthropole', 'Biophore', 'Banane'],\n",
        "   'value':[20, 50, 40, 30]\n",
        "})\n",
        "# Create an empty map\n",
        "v = folium.Map(location=[46.5211,  6.5802], zoom_start=15.5, width= 1000, height = 500)\n",
        "\n",
        "# Add marker one by one on the map\n",
        "for i in range(0,len(df2)):\n",
        "   folium.Circle(\n",
        "      location=[df2.iloc[i]['lon'], df2.iloc[i]['lat']],\n",
        "      popup=df2.iloc[i]['name'],\n",
        "      radius=float(df2.iloc[i]['value'])*2,\n",
        "      fill=True,\n",
        "      fill_color='crimson'\n",
        "   ).add_to(v)\n",
        "# Show the map\n",
        "display(v)"
      ]
    },
    {
      "cell_type": "markdown",
      "metadata": {
        "id": "OvSTZxZJoKWw"
      },
      "source": [
        "##Plotly"
      ]
    },
    {
      "cell_type": "markdown",
      "metadata": {
        "id": "m8HOA5sEAzWd"
      },
      "source": [
        "### Treemap"
      ]
    },
    {
      "cell_type": "markdown",
      "metadata": {
        "id": "4_l-xf9GoQY2"
      },
      "source": [
        ">Lastly, Treemaps allow to display hierarchical data using nested rectangles. Label based, this visualiation allow all sorts of dynamic manipulations such as zooming, sector clicking etc... Execute the next cell and play with the Tree map.\n",
        "We will be using the [`plotly`](https://plotly.com) library and specifically the `express` package.\n",
        "\n",
        "\n",
        "\n",
        "\n",
        "\n"
      ]
    },
    {
      "cell_type": "code",
      "execution_count": null,
      "metadata": {
        "id": "Z3VxjS2J410Y"
      },
      "outputs": [],
      "source": [
        "# will probably not need it but incase of a 'path' error\n",
        "!pip install plotly --upgrade\n"
      ]
    },
    {
      "cell_type": "markdown",
      "metadata": {
        "id": "DzG-21grsY_x"
      },
      "source": [
        ">Here, we get back to our initial dataset and are going to use Treemap to visualize the income repartition according to marital status, academic situation, gender and ethnicity.\n",
        "\n"
      ]
    },
    {
      "cell_type": "code",
      "execution_count": null,
      "metadata": {
        "id": "kPwZXRpVsWmu"
      },
      "outputs": [],
      "source": [
        "data.head()"
      ]
    },
    {
      "cell_type": "code",
      "execution_count": null,
      "metadata": {
        "id": "K0JfMboj4FGp"
      },
      "outputs": [],
      "source": [
        "import plotly.express as px\n",
        "df =data.groupby(['Ethnicity','Gender','Student','Married'])[['Income']]\\\n",
        "                                                                          .mean().reset_index()\n",
        "\n",
        "df[\"all\"] = \"all\" # in order to have a single root node\n",
        "fig = px.treemap(df, path=['Ethnicity',\t'Gender'\t,'Student',\t'Married'], values='Income')\n",
        "fig.show()"
      ]
    }
  ],
  "metadata": {
    "colab": {
      "name": "Walkthrough_4.ipynb",
      "provenance": []
    },
    "kernelspec": {
      "display_name": "Python 3",
      "name": "python3"
    },
    "language_info": {
      "codemirror_mode": {
        "name": "ipython",
        "version": 3
      },
      "file_extension": ".py",
      "mimetype": "text/x-python",
      "name": "python",
      "nbconvert_exporter": "python",
      "pygments_lexer": "ipython3",
      "version": "3.10.10"
    }
  },
  "nbformat": 4,
  "nbformat_minor": 0
}