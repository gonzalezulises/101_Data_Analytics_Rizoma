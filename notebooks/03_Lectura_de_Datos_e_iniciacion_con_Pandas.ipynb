{
 "cells": [
  {
   "cell_type": "markdown",
   "metadata": {},
   "source": [
    "# Sesión 2: Lectura de Datos y Análisis con Pandas en Ciencias Ambientales\n",
    "\n",
    "## Parte 1: Lectura de Archivos y Consumo de APIs\n",
    "\n",
    "### 1.1 Lectura de Archivos CSV\n"
   ]
  },
  {
   "cell_type": "code",
   "execution_count": 7,
   "metadata": {},
   "outputs": [
    {
     "ename": "ModuleNotFoundError",
     "evalue": "No module named 'pandas'",
     "output_type": "error",
     "traceback": [
      "\u001b[0;31m---------------------------------------------------------------------------\u001b[0m",
      "\u001b[0;31mModuleNotFoundError\u001b[0m                       Traceback (most recent call last)",
      "Cell \u001b[0;32mIn[7], line 1\u001b[0m\n\u001b[0;32m----> 1\u001b[0m \u001b[38;5;28;01mimport\u001b[39;00m \u001b[38;5;21;01mpandas\u001b[39;00m \u001b[38;5;28;01mas\u001b[39;00m \u001b[38;5;21;01mpd\u001b[39;00m\n",
      "\u001b[0;31mModuleNotFoundError\u001b[0m: No module named 'pandas'"
     ]
    }
   ],
   "source": [
    "import pandas as pd"
   ]
  },
  {
   "cell_type": "code",
   "execution_count": null,
   "metadata": {},
   "outputs": [],
   "source": [
    "# Leer un archivo CSV con datos de calidad del agua\n",
    "df_water_quality = pd.read_csv('https://raw.githubusercontent.com/gonzalezulises/101_Data_Analytics_Rizoma/master/data/water_potability.csv')\n",
    "print(df_water_quality.head())"
   ]
  },
  {
   "cell_type": "code",
   "execution_count": null,
   "metadata": {},
   "outputs": [],
   "source": [
    "### 1.2 Lectura de Archivos Excel\n",
    "\n",
    "# Leer un archivo Excel con datos meteorológicos\n",
    "df_weather = pd.read_excel('/Users/gonzalezulises/Documents/GitHub/101_Data_Analytics_Rizoma/data/Pronostico_del_tiempo.xlsx', sheet_name='Hoja 1 - data (1)')\n",
    "print(df_weather.head())"
   ]
  },
  {
   "cell_type": "code",
   "execution_count": null,
   "metadata": {},
   "outputs": [],
   "source": [
    "### 1.3 Consumo de API\n",
    "\n",
    "import requests\n",
    "\n",
    "# Obtener datos de calidad del aire de una API\n",
    "api_url = \"https://api.openaq.org/v1/latest?country=ES&parameter=pm25\"\n",
    "response = requests.get(api_url)\n",
    "air_quality_data = response.json()\n",
    "\n",
    "# Convertir los datos de la API a un DataFrame\n",
    "df_air_quality = pd.DataFrame(air_quality_data['results'])\n",
    "print(df_air_quality.head())\n"
   ]
  },
  {
   "cell_type": "code",
   "execution_count": null,
   "metadata": {},
   "outputs": [],
   "source": [
    "## Parte 2: Análisis de Datos con Pandas\n",
    "\n",
    "### 2.1 Exploración Inicial de Datos\n",
    "\n",
    "# Usando el DataFrame de calidad del agua\n",
    "print(df_water_quality.info())\n",
    "print(df_water_quality.describe())\n",
    "\n",
    "# Verificar valores nulos\n",
    "print(df_water_quality.isnull().sum())\n"
   ]
  },
  {
   "cell_type": "code",
   "execution_count": null,
   "metadata": {},
   "outputs": [],
   "source": [
    "\n",
    "### 2.2 Selección y Filtrado de Datos\n",
    "\n",
    "# Seleccionar columnas específicas\n",
    "ph_and_temp = df_water_quality[['pH', 'Temperature']]\n",
    "\n",
    "# Filtrar datos\n",
    "high_ph = df_water_quality[df_water_quality['pH'] > 8]"
   ]
  },
  {
   "cell_type": "code",
   "execution_count": null,
   "metadata": {},
   "outputs": [],
   "source": [
    "### 2.3 Agrupación y Agregación\n",
    "\n",
    "# Agrupar por ubicación y calcular promedios\n",
    "avg_by_location = df_water_quality.groupby('Location').mean()\n",
    "print(avg_by_location)"
   ]
  },
  {
   "cell_type": "code",
   "execution_count": null,
   "metadata": {},
   "outputs": [],
   "source": [
    "## 2.4 Operaciones con Series y DataFrames\n",
    "\n",
    "# Añadir una nueva columna\n",
    "df_water_quality['pH_category'] = pd.cut(df_water_quality['pH'], \n",
    "                                         bins=[0, 6.5, 7.5, 14],\n",
    "                                         labels=['Acidic', 'Neutral', 'Alkaline'])\n",
    "\n",
    "# Operaciones entre columnas\n",
    "df_weather['temp_difference'] = df_weather['max_temp'] - df_weather['min_temp']"
   ]
  },
  {
   "cell_type": "code",
   "execution_count": null,
   "metadata": {},
   "outputs": [],
   "source": [
    "### 2.5 Manejo de Datos Faltantes\n",
    "\n",
    "# Rellenar valores nulos\n",
    "df_water_quality['Dissolved_Oxygen'].fillna(df_water_quality['Dissolved_Oxygen'].mean(), inplace=True)\n",
    "\n",
    "# Eliminar filas con valores nulos\n",
    "df_water_quality.dropna(subset=['pH'], inplace=True)"
   ]
  },
  {
   "cell_type": "code",
   "execution_count": null,
   "metadata": {},
   "outputs": [],
   "source": [
    "### 2.6 Visualización Básica con Pandas\n",
    "\n",
    "# Gráfico de líneas para temperatura a lo largo del tiempo\n",
    "df_weather.plot(x='date', y='avg_temp', kind='line')\n",
    "\n",
    "# Histograma de pH\n",
    "df_water_quality['pH'].hist(bins=20)\n",
    "\n"
   ]
  },
  {
   "cell_type": "markdown",
   "metadata": {},
   "source": [
    "## Ejercicios Prácticos\n",
    "\n",
    "- Carga un conjunto de datos de precipitaciones mensuales desde el archivo CSV (https://raw.githubusercontent.com/gonzalezulises/detodounpoco/main/PREC_2021_Provincias.csv) y resuelve los siguientes ejercicios:\n",
    "\n",
    "1. Calcula la precipitación anual por región y muestra las 5 regiones más lluviosas. Usa `groupby()` para agrupar por región, `sum()` para sumar precipitaciones, `sort_values()` para ordenar y `head()` para mostrar las top 5.\n",
    "\n",
    "2. Encuentra los 3 meses más lluviosos y los 3 más secos en promedio para toda España. Utiliza `melt()` para reestructurar el DataFrame, `groupby()` para agrupar por mes, `mean()` para calcular promedios, `sort_values()` para ordenar y `head()` para seleccionar los extremos.\n",
    "\n",
    "3. Agrupa las regiones por niveles de precipitación anual (bajo: <500mm, medio: 500-1000mm, alto: >1000mm). Emplea `cut()` para categorizar las precipitaciones y `value_counts()` para contar las regiones en cada categoría.\n",
    "\n",
    "4. Crea un DataFrame con la variación mensual de precipitaciones para las 5 regiones más lluviosas. Usa `set_index()` para establecer las regiones como índice, `nlargest()` para seleccionar las top 5 regiones basadas en precipitación anual, y `T` para transponer el resultado si es necesario.\n",
    "\n",
    "5. Identifica regiones con condiciones extremas: a) al menos un mes >200mm, b) al menos tres meses consecutivos <10mm. Utiliza `melt()` para reestructurar, `groupby()` con `any()` para identificar meses >200mm, y `rolling()` con `all()` para periodos consecutivos <10mm.\n",
    "\n",
    "6. Calcula la correlación entre la precipitación de verano (junio, julio, agosto) y la anual. Selecciona las columnas relevantes con `[]` y usa `corr()` para calcular la correlación.\n",
    "\n",
    "7. Prepara un DataFrame para un mapa de calor de precipitaciones mensuales por región. Emplea `set_index()` para establecer las regiones como índice y selecciona solo las columnas de los meses con `[]`.\n",
    "\n",
    "8. Analiza la estacionalidad calculando el porcentaje de precipitación por estación para cada región. Agrupa los meses por estaciones usando `[]`, luego aplica `groupby()` y `sum()` para totales estacionales, y `apply()` con una función lambda para calcular porcentajes.\n",
    "\n",
    "9. Compara precipitaciones entre regiones costeras e interiores. Usa `isin()` para clasificar regiones como costeras o interiores, `groupby()` para agrupar por tipo, y `agg()` para calcular estadísticas descriptivas por grupo.\n",
    "\n",
    "10. Identifica posibles anomalías en los datos de precipitación mensual. Utiliza `melt()` para reestructurar, `groupby()` con `quantile()` para calcular umbrales de anomalías, y `query()` para filtrar valores atípicos basados en estos umbrales.\n",
    "\n"
   ]
  },
  {
   "cell_type": "markdown",
   "metadata": {},
   "source": [
    "## Soluciones"
   ]
  },
  {
   "cell_type": "code",
   "execution_count": null,
   "metadata": {},
   "outputs": [],
   "source": [
    "import pandas as pd\n",
    "\n",
    "df = pd.read_csv('https://raw.githubusercontent.com/gonzalezulises/detodounpoco/main/PREC_2021_Provincias.csv')"
   ]
  },
  {
   "cell_type": "code",
   "execution_count": null,
   "metadata": {},
   "outputs": [],
   "source": [
    "# 1. Precipitación anual por región y top 5 más lluviosas\n",
    "precipitacion_anual = df.groupby('region')['anual'].sum().sort_values(ascending=False)\n",
    "print(\"Top 5 regiones más lluviosas:\")\n",
    "print(precipitacion_anual.head())\n"
   ]
  },
  {
   "cell_type": "code",
   "execution_count": null,
   "metadata": {},
   "outputs": [],
   "source": [
    "\n",
    "# 2. 3 meses más lluviosos y 3 más secos en promedio\n",
    "df_melt = df.melt(id_vars=['Parametro', 'region', 'anual'], \n",
    "                  var_name='mes', value_name='precipitacion')\n",
    "precipitacion_mensual = df_melt.groupby('mes')['precipitacion'].mean().sort_values(ascending=False)\n",
    "print(\"\\n3 meses más lluviosos:\")\n",
    "print(precipitacion_mensual.head(3))\n",
    "print(\"\\n3 meses más secos:\")\n",
    "print(precipitacion_mensual.tail(3))\n"
   ]
  },
  {
   "cell_type": "code",
   "execution_count": null,
   "metadata": {},
   "outputs": [],
   "source": [
    "\n",
    "# 3. Agrupar regiones por niveles de precipitación anual\n",
    "df['categoria_precipitacion'] = pd.cut(df['anual'], \n",
    "                                       bins=[0, 500, 1000, float('inf')], \n",
    "                                       labels=['Bajo', 'Medio', 'Alto'])\n",
    "conteo_categorias = df['categoria_precipitacion'].value_counts()\n",
    "print(\"\\nConteo de regiones por categoría de precipitación:\")\n",
    "print(conteo_categorias)\n"
   ]
  },
  {
   "cell_type": "code",
   "execution_count": null,
   "metadata": {},
   "outputs": [],
   "source": [
    "\n",
    "# 4. Variación mensual de precipitaciones para las 5 regiones más lluviosas\n",
    "top_5_regiones = df.nlargest(5, 'anual')['region'].tolist()\n",
    "df_top_5 = df[df['region'].isin(top_5_regiones)].set_index('region')\n",
    "df_top_5_mensual = df_top_5.loc[:, 'enero':'diciembre']\n",
    "print(\"\\nVariación mensual de precipitaciones para las 5 regiones más lluviosas:\")\n",
    "print(df_top_5_mensual)\n"
   ]
  },
  {
   "cell_type": "code",
   "execution_count": null,
   "metadata": {},
   "outputs": [],
   "source": [
    "\n",
    "# 5. Identificar regiones con condiciones extremas\n",
    "df_melt = df.melt(id_vars=['Parametro', 'region', 'anual'], \n",
    "                  var_name='mes', value_name='precipitacion')\n",
    "regiones_extremas = df_melt.groupby('region').agg(\n",
    "    max_precipitacion=('precipitacion', 'max'),\n",
    "    meses_secos=('precipitacion', lambda x: (x < 10).rolling(3).sum().max())\n",
    ")\n",
    "regiones_extremas = regiones_extremas[\n",
    "    (regiones_extremas['max_precipitacion'] > 200) | \n",
    "    (regiones_extremas['meses_secos'] >= 3)\n",
    "]\n",
    "print(\"\\nRegiones con condiciones extremas:\")\n",
    "print(regiones_extremas)\n"
   ]
  },
  {
   "cell_type": "code",
   "execution_count": null,
   "metadata": {},
   "outputs": [],
   "source": [
    "\n",
    "# 6. Correlación entre precipitación de verano y anual\n",
    "df['precipitacion_verano'] = df[['junio', 'julio', 'agosto']].sum(axis=1)\n",
    "correlacion = df['precipitacion_verano'].corr(df['anual'])\n",
    "print(f\"\\nCorrelación entre precipitación de verano y anual: {correlacion:.2f}\")\n"
   ]
  },
  {
   "cell_type": "code",
   "execution_count": null,
   "metadata": {},
   "outputs": [],
   "source": [
    "\n",
    "# 7. Preparar DataFrame para mapa de calor\n",
    "df_heatmap = df.set_index('region').loc[:, 'enero':'diciembre']\n",
    "print(\"\\nDataFrame para mapa de calor de precipitaciones mensuales:\")\n",
    "print(df_heatmap.head())\n"
   ]
  },
  {
   "cell_type": "code",
   "execution_count": null,
   "metadata": {},
   "outputs": [],
   "source": [
    "\n",
    "# 8. Analizar estacionalidad\n",
    "df['primavera'] = df[['marzo', 'abril', 'mayo']].sum(axis=1)\n",
    "df['verano'] = df[['junio', 'julio', 'agosto']].sum(axis=1)\n",
    "df['otono'] = df[['septiembre', 'octubre', 'noviembre']].sum(axis=1)\n",
    "df['invierno'] = df[['diciembre', 'enero', 'febrero']].sum(axis=1)\n",
    "\n",
    "df_estaciones = df[['region', 'primavera', 'verano', 'otono', 'invierno', 'anual']]\n",
    "df_estaciones_pct = df_estaciones.set_index('region').apply(lambda x: x / x['anual'] * 100)\n",
    "print(\"\\nPorcentaje de precipitación por estación:\")\n",
    "print(df_estaciones_pct.head())\n"
   ]
  },
  {
   "cell_type": "code",
   "execution_count": null,
   "metadata": {},
   "outputs": [],
   "source": [
    "\n",
    "# 9. Comparar precipitaciones entre regiones costeras e interiores\n",
    "regiones_costeras = ['A CORUNA', 'ASTURIAS', 'CANTABRIA', 'BIZKAIA', 'GIPUZKOA', 'BARCELONA', \n",
    "                     'TARRAGONA', 'CASTELLON', 'VALENCIA', 'ALICANTE', 'MURCIA', 'ALMERIA', \n",
    "                     'GRANADA', 'MALAGA', 'CADIZ', 'HUELVA', 'PONTEVEDRA', 'ILLES BALEARS', \n",
    "                     'LAS PALMAS', 'SANTA CRUZ DE TENERIFE', 'CEUTA', 'MELILLA']\n",
    "\n",
    "df['tipo_region'] = df['region'].apply(lambda x: 'Costera' if x in regiones_costeras else 'Interior')\n",
    "comparacion = df.groupby('tipo_region')['anual'].agg(['mean', 'median', 'std'])\n",
    "print(\"\\nComparación de precipitaciones entre regiones costeras e interiores:\")\n",
    "print(comparacion)\n"
   ]
  },
  {
   "cell_type": "code",
   "execution_count": null,
   "metadata": {},
   "outputs": [],
   "source": [
    "\n",
    "# 10. Identificar posibles anomalías\n",
    "df_melt = df.melt(id_vars=['Parametro', 'region', 'anual'], \n",
    "                  var_name='mes', value_name='precipitacion')\n",
    "df_melt['z_score'] = df_melt.groupby('mes')['precipitacion'].transform(\n",
    "    lambda x: (x - x.mean()) / x.std()\n",
    ")\n",
    "anomalias = df_melt[df_melt['z_score'].abs() > 3]\n",
    "print(\"\\nPosibles anomalías en los datos de precipitación:\")\n",
    "print(anomalias[['region', 'mes', 'precipitacion', 'z_score']])"
   ]
  }
 ],
 "metadata": {
  "kernelspec": {
   "display_name": "Python 3",
   "language": "python",
   "name": "python3"
  },
  "language_info": {
   "codemirror_mode": {
    "name": "ipython",
    "version": 3
   },
   "file_extension": ".py",
   "mimetype": "text/x-python",
   "name": "python",
   "nbconvert_exporter": "python",
   "pygments_lexer": "ipython3",
   "version": "3.10.14"
  }
 },
 "nbformat": 4,
 "nbformat_minor": 2
}
