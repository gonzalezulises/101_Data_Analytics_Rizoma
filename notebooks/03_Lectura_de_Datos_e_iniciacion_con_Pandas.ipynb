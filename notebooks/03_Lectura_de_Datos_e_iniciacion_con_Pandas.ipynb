{
 "cells": [
  {
   "cell_type": "markdown",
   "metadata": {},
   "source": [
    "# Sesión 2: Lectura de Datos y Análisis con Pandas en Ciencias Ambientales\n",
    "\n",
    "## Parte 1: Lectura de Archivos y Consumo de APIs\n",
    "\n",
    "### 1.1 Lectura de Archivos CSV\n"
   ]
  },
  {
   "cell_type": "code",
   "execution_count": 4,
   "metadata": {},
   "outputs": [
    {
     "ename": "ModuleNotFoundError",
     "evalue": "No module named 'pandas'",
     "output_type": "error",
     "traceback": [
      "\u001b[0;31m---------------------------------------------------------------------------\u001b[0m",
      "\u001b[0;31mModuleNotFoundError\u001b[0m                       Traceback (most recent call last)",
      "Cell \u001b[0;32mIn[4], line 1\u001b[0m\n\u001b[0;32m----> 1\u001b[0m \u001b[38;5;28;01mimport\u001b[39;00m \u001b[38;5;21;01mpandas\u001b[39;00m \u001b[38;5;28;01mas\u001b[39;00m \u001b[38;5;21;01mpd\u001b[39;00m\n\u001b[1;32m      2\u001b[0m \u001b[38;5;66;03m# Leer un archivo CSV con datos de calidad del agua\u001b[39;00m\n\u001b[1;32m      3\u001b[0m df_water_quality \u001b[38;5;241m=\u001b[39m pd\u001b[38;5;241m.\u001b[39mread_csv(\u001b[38;5;124m'\u001b[39m\u001b[38;5;124m/Users/gonzalezulises/Documents/GitHub/101_Data_Analytics_Rizoma/data/yelp.csv\u001b[39m\u001b[38;5;124m'\u001b[39m)\n",
      "\u001b[0;31mModuleNotFoundError\u001b[0m: No module named 'pandas'"
     ]
    }
   ],
   "source": [
    "import pandas as pd\n",
    "# Leer un archivo CSV con datos de calidad del agua\n",
    "df_water_quality = pd.read_csv('/Users/gonzalezulises/Documents/GitHub/101_Data_Analytics_Rizoma/data/yelp.csv')\n",
    "print(df_water_quality.head())"
   ]
  },
  {
   "cell_type": "code",
   "execution_count": null,
   "metadata": {},
   "outputs": [],
   "source": [
    "### 1.2 Lectura de Archivos Excel\n",
    "\n",
    "# Leer un archivo Excel con datos meteorológicos\n",
    "df_weather = pd.read_excel('weather_data.xlsx', sheet_name='daily_records')\n",
    "print(df_weather.head())\n",
    "\n",
    "\n"
   ]
  },
  {
   "cell_type": "code",
   "execution_count": null,
   "metadata": {},
   "outputs": [],
   "source": [
    "### 1.3 Consumo de API\n",
    "\n",
    "import requests\n",
    "\n",
    "# Obtener datos de calidad del aire de una API\n",
    "api_url = \"https://api.openaq.org/v1/latest?country=ES&parameter=pm25\"\n",
    "response = requests.get(api_url)\n",
    "air_quality_data = response.json()\n",
    "\n",
    "# Convertir los datos de la API a un DataFrame\n",
    "df_air_quality = pd.DataFrame(air_quality_data['results'])\n",
    "print(df_air_quality.head())\n"
   ]
  },
  {
   "cell_type": "code",
   "execution_count": null,
   "metadata": {},
   "outputs": [],
   "source": [
    "## Parte 2: Análisis de Datos con Pandas\n",
    "\n",
    "### 2.1 Exploración Inicial de Datos\n",
    "\n",
    "# Usando el DataFrame de calidad del agua\n",
    "print(df_water_quality.info())\n",
    "print(df_water_quality.describe())\n",
    "\n",
    "# Verificar valores nulos\n",
    "print(df_water_quality.isnull().sum())\n",
    "\n",
    "### 2.2 Selección y Filtrado de Datos\n",
    "\n",
    "# Seleccionar columnas específicas\n",
    "ph_and_temp = df_water_quality[['pH', 'Temperature']]\n",
    "\n",
    "# Filtrar datos\n",
    "high_ph = df_water_quality[df_water_quality['pH'] > 8]"
   ]
  },
  {
   "cell_type": "code",
   "execution_count": null,
   "metadata": {},
   "outputs": [],
   "source": [
    "### 2.3 Agrupación y Agregación\n",
    "\n",
    "# Agrupar por ubicación y calcular promedios\n",
    "avg_by_location = df_water_quality.groupby('Location').mean()\n",
    "print(avg_by_location)"
   ]
  },
  {
   "cell_type": "code",
   "execution_count": null,
   "metadata": {},
   "outputs": [],
   "source": [
    "## 2.4 Operaciones con Series y DataFrames\n",
    "\n",
    "# Añadir una nueva columna\n",
    "df_water_quality['pH_category'] = pd.cut(df_water_quality['pH'], \n",
    "                                         bins=[0, 6.5, 7.5, 14],\n",
    "                                         labels=['Acidic', 'Neutral', 'Alkaline'])\n",
    "\n",
    "# Operaciones entre columnas\n",
    "df_weather['temp_difference'] = df_weather['max_temp'] - df_weather['min_temp']"
   ]
  },
  {
   "cell_type": "code",
   "execution_count": null,
   "metadata": {},
   "outputs": [],
   "source": [
    "### 2.5 Manejo de Datos Faltantes\n",
    "\n",
    "# Rellenar valores nulos\n",
    "df_water_quality['Dissolved_Oxygen'].fillna(df_water_quality['Dissolved_Oxygen'].mean(), inplace=True)\n",
    "\n",
    "# Eliminar filas con valores nulos\n",
    "df_water_quality.dropna(subset=['pH'], inplace=True)"
   ]
  },
  {
   "cell_type": "code",
   "execution_count": null,
   "metadata": {},
   "outputs": [],
   "source": [
    "### 2.6 Visualización Básica con Pandas\n",
    "\n",
    "# Gráfico de líneas para temperatura a lo largo del tiempo\n",
    "df_weather.plot(x='date', y='avg_temp', kind='line')\n",
    "\n",
    "# Histograma de pH\n",
    "df_water_quality['pH'].hist(bins=20)\n",
    "\n"
   ]
  },
  {
   "cell_type": "code",
   "execution_count": null,
   "metadata": {},
   "outputs": [],
   "source": [
    "\n",
    "## Ejercicios Prácticos\n",
    "\n",
    "#1. Carga un conjunto de datos de precipitaciones mensuales desde un archivo CSV y calcula la precipitación total anual por región.\n",
    "\n",
    "#2. Utilizando datos de una API de calidad del aire, encuentra las 5 ciudades con los niveles más altos de PM2.5.\n",
    "\n",
    "#3. Con un DataFrame de datos de ríos, agrupa por cuenca hidrográfica y calcula el caudal promedio, máximo y mínimo para cada una.\n",
    "\n",
    "#4. Crea un gráfico de dispersión que muestre la relación entre la temperatura y la concentración de oxígeno disuelto en lagos.\n",
    "\n",
    "#5. Utiliza datos meteorológicos para identificar los días con condiciones extremas (temperatura > 35°C o precipitación > 50mm) en el último año."
   ]
  }
 ],
 "metadata": {
  "kernelspec": {
   "display_name": "Python 3",
   "language": "python",
   "name": "python3"
  },
  "language_info": {
   "codemirror_mode": {
    "name": "ipython",
    "version": 3
   },
   "file_extension": ".py",
   "mimetype": "text/x-python",
   "name": "python",
   "nbconvert_exporter": "python",
   "pygments_lexer": "ipython3",
   "version": "3.10.14"
  }
 },
 "nbformat": 4,
 "nbformat_minor": 2
}
