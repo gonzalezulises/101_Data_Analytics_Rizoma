{
 "cells": [
  {
   "cell_type": "markdown",
   "metadata": {},
   "source": [
    "# Introducción a python\n",
    "\n",
    "Python se ha convertido en uno de los lenguajes de programación más ampliamente utilizados hasta la fecha, y rápidamente se está convirtiendo en el lenguaje de elección para profesionales de la ciencia de datos en particular. ¿Por qué? Aquí tienes algunas razones clave:\n",
    "\n",
    "* Facilidad para principiantes: Python es amigable para quienes se inician en la programación. Su sintaxis simple y su enfoque en la legibilidad hacen que sea accesible para personas de diferentes campos, incluso aquellos sin experiencia en tecnología. En solo unas semanas, puedes aprender a procesar datos y construir modelos básicos en Python.\n",
    "* Herramientas matemáticas y estadísticas: Python ofrece una amplia funcionalidad para realizar cálculos matemáticos, obtener estadísticas descriptivas y construir modelos estadísticos. Desde operaciones matemáticas básicas hasta funciones más avanzadas, Python tiene un conjunto de herramientas sólido para la ciencia de datos.\n",
    "* Automatización y scripting: Python es ideal para automatizar tareas repetitivas dentro de flujos de trabajo de ciencia de datos. Su capacidad para interactuar con otras tecnologías, como Apache Spark para big data, garantiza escalabilidad y flexibilidad2.\n",
    "* Librerías y frameworks: Python cuenta con una gran cantidad de librerías y frameworks específicos para la ciencia de datos, como Pandas, NumPy, SciPy y Scikit-Learn. Estas herramientas facilitan el análisis, la visualización y la construcción de modelos predictivos3.\n",
    "* Comunidad activa: La comunidad de Python es extensa y activa. Esto significa que siempre hay recursos, tutoriales y soluciones disponibles para resolver problemas específicos de ciencia de datos.\n",
    "* Versatilidad general: Además de la ciencia de datos, Python se utiliza en desarrollo web, automatización, inteligencia artificial, aprendizaje automático y más. Su versatilidad lo convierte en una opción poderosa para profesionales de diferentes áreas."
   ]
  },
  {
   "cell_type": "markdown",
   "metadata": {},
   "source": [
    "## Operadores aritméticos:\n",
    "- `+` (suma): Suma dos valores.\n",
    "- `-` (resta): Resta el segundo valor del primero.\n",
    "- `*` (multiplicación): Multiplica dos valores.\n",
    "- `/` (división): Divide el primer valor por el segundo.\n",
    "- `%` (módulo): Devuelve el residuo de la división.\n",
    "- `**` (exponenciación): Calcula la potencia.\n",
    "- `//` (división entera): Devuelve la parte entera de la división.\n",
    "\n",
    "## Operadores de asignación:\n",
    "- `=`: Asigna un valor a una variable.\n",
    "- `+=`, `-=`: Realiza una operación y actualiza el valor de la variable.\n",
    "- `*=`, `/=`, `%=`: Realiza una operación y actualiza el valor de la variable.\n",
    "- `**=`, `//=`: Realiza una operación y actualiza el valor de la variable.\n",
    "\n",
    "## Operadores de comparación:\n",
    "- `==` (igual): Compara si dos valores son iguales.\n",
    "- `!=` (distinto): Compara si dos valores son diferentes.\n",
    "- `>`, `<`, `>=`, `<=`: Compara si un valor es mayor, menor, mayor o igual, o menor o igual que otro.\n",
    "\n",
    "## Operadores lógicos:\n",
    "- `and` (y): Retorna verdadero si ambas condiciones son verdaderas.\n",
    "- `or` (o): Retorna verdadero si al menos una condición es verdadera.\n",
    "- `not` (no): Invierte el resultado de una condición.\n"
   ]
  },
  {
   "cell_type": "markdown",
   "metadata": {},
   "source": [
    "# Operadores básicos"
   ]
  },
  {
   "cell_type": "code",
   "execution_count": 1,
   "metadata": {
    "scrolled": false
   },
   "outputs": [
    {
     "data": {
      "text/plain": [
       "4"
      ]
     },
     "execution_count": 1,
     "metadata": {},
     "output_type": "execute_result"
    }
   ],
   "source": [
    "2 + 2"
   ]
  },
  {
   "cell_type": "code",
   "execution_count": 2,
   "metadata": {},
   "outputs": [
    {
     "data": {
      "text/plain": [
       "1"
      ]
     },
     "execution_count": 2,
     "metadata": {},
     "output_type": "execute_result"
    }
   ],
   "source": [
    "2 - 1"
   ]
  },
  {
   "cell_type": "code",
   "execution_count": 3,
   "metadata": {},
   "outputs": [
    {
     "data": {
      "text/plain": [
       "4"
      ]
     },
     "execution_count": 3,
     "metadata": {},
     "output_type": "execute_result"
    }
   ],
   "source": [
    "2 * 2"
   ]
  },
  {
   "cell_type": "code",
   "execution_count": 4,
   "metadata": {},
   "outputs": [
    {
     "data": {
      "text/plain": [
       "2.0"
      ]
     },
     "execution_count": 4,
     "metadata": {},
     "output_type": "execute_result"
    }
   ],
   "source": [
    "4 / 2"
   ]
  },
  {
   "cell_type": "code",
   "execution_count": 5,
   "metadata": {},
   "outputs": [
    {
     "data": {
      "text/plain": [
       "8"
      ]
     },
     "execution_count": 5,
     "metadata": {},
     "output_type": "execute_result"
    }
   ],
   "source": [
    "2 ** 3"
   ]
  },
  {
   "cell_type": "code",
   "execution_count": 6,
   "metadata": {},
   "outputs": [
    {
     "data": {
      "text/plain": [
       "True"
      ]
     },
     "execution_count": 6,
     "metadata": {},
     "output_type": "execute_result"
    }
   ],
   "source": [
    "True"
   ]
  },
  {
   "cell_type": "code",
   "execution_count": 7,
   "metadata": {},
   "outputs": [
    {
     "data": {
      "text/plain": [
       "False"
      ]
     },
     "execution_count": 7,
     "metadata": {},
     "output_type": "execute_result"
    }
   ],
   "source": [
    "False"
   ]
  },
  {
   "cell_type": "code",
   "execution_count": 8,
   "metadata": {},
   "outputs": [
    {
     "data": {
      "text/plain": [
       "True"
      ]
     },
     "execution_count": 8,
     "metadata": {},
     "output_type": "execute_result"
    }
   ],
   "source": [
    "5 < 8"
   ]
  },
  {
   "cell_type": "code",
   "execution_count": 9,
   "metadata": {},
   "outputs": [
    {
     "data": {
      "text/plain": [
       "True"
      ]
     },
     "execution_count": 9,
     "metadata": {},
     "output_type": "execute_result"
    }
   ],
   "source": [
    "8 > 5"
   ]
  },
  {
   "cell_type": "code",
   "execution_count": 10,
   "metadata": {},
   "outputs": [
    {
     "data": {
      "text/plain": [
       "True"
      ]
     },
     "execution_count": 10,
     "metadata": {},
     "output_type": "execute_result"
    }
   ],
   "source": [
    "5 <= 8"
   ]
  },
  {
   "cell_type": "code",
   "execution_count": 11,
   "metadata": {},
   "outputs": [
    {
     "data": {
      "text/plain": [
       "True"
      ]
     },
     "execution_count": 11,
     "metadata": {},
     "output_type": "execute_result"
    }
   ],
   "source": [
    "8 >= 5"
   ]
  },
  {
   "cell_type": "code",
   "execution_count": 12,
   "metadata": {},
   "outputs": [
    {
     "data": {
      "text/plain": [
       "True"
      ]
     },
     "execution_count": 12,
     "metadata": {},
     "output_type": "execute_result"
    }
   ],
   "source": [
    "5 == 5"
   ]
  },
  {
   "cell_type": "code",
   "execution_count": 13,
   "metadata": {},
   "outputs": [
    {
     "data": {
      "text/plain": [
       "False"
      ]
     },
     "execution_count": 13,
     "metadata": {},
     "output_type": "execute_result"
    }
   ],
   "source": [
    "5 != 5"
   ]
  },
  {
   "cell_type": "code",
   "execution_count": 14,
   "metadata": {},
   "outputs": [
    {
     "data": {
      "text/plain": [
       "False"
      ]
     },
     "execution_count": 14,
     "metadata": {},
     "output_type": "execute_result"
    }
   ],
   "source": [
    "('a' == 'a') and (5 != 5)"
   ]
  },
  {
   "cell_type": "code",
   "execution_count": 15,
   "metadata": {},
   "outputs": [
    {
     "data": {
      "text/plain": [
       "True"
      ]
     },
     "execution_count": 15,
     "metadata": {},
     "output_type": "execute_result"
    }
   ],
   "source": [
    "('a' == 'a') or (5 != 5)"
   ]
  },
  {
   "cell_type": "code",
   "execution_count": 16,
   "metadata": {},
   "outputs": [
    {
     "data": {
      "text/plain": [
       "False"
      ]
     },
     "execution_count": 16,
     "metadata": {},
     "output_type": "execute_result"
    }
   ],
   "source": [
    "('a' == 'a') & (5 != 5)"
   ]
  },
  {
   "cell_type": "code",
   "execution_count": 17,
   "metadata": {},
   "outputs": [
    {
     "data": {
      "text/plain": [
       "True"
      ]
     },
     "execution_count": 17,
     "metadata": {},
     "output_type": "execute_result"
    }
   ],
   "source": [
    "('a' == 'a') | (5 != 5)"
   ]
  },
  {
   "cell_type": "code",
   "execution_count": 18,
   "metadata": {},
   "outputs": [
    {
     "data": {
      "text/plain": [
       "False"
      ]
     },
     "execution_count": 18,
     "metadata": {},
     "output_type": "execute_result"
    }
   ],
   "source": [
    "not True"
   ]
  },
  {
   "cell_type": "code",
   "execution_count": 19,
   "metadata": {},
   "outputs": [],
   "source": [
    "a = [1,2,3,4]"
   ]
  },
  {
   "cell_type": "code",
   "execution_count": 20,
   "metadata": {},
   "outputs": [
    {
     "data": {
      "text/plain": [
       "[2, 3, 4]"
      ]
     },
     "execution_count": 20,
     "metadata": {},
     "output_type": "execute_result"
    }
   ],
   "source": [
    "a[1:4]"
   ]
  },
  {
   "cell_type": "code",
   "execution_count": 21,
   "metadata": {},
   "outputs": [
    {
     "data": {
      "text/plain": [
       "[2, 3]"
      ]
     },
     "execution_count": 21,
     "metadata": {},
     "output_type": "execute_result"
    }
   ],
   "source": [
    "#Operador slice. Se usa mucho para indexar por rango. [inicio:final:salto]\n",
    "#Tener en cuenta que en Python los índices empiezan por cero y que el intervalo de la derecha es abierto\n",
    "a = [1,2,3,4]\n",
    "a[1:3]"
   ]
  },
  {
   "cell_type": "code",
   "execution_count": 22,
   "metadata": {},
   "outputs": [
    {
     "data": {
      "text/plain": [
       "[1, 3]"
      ]
     },
     "execution_count": 22,
     "metadata": {},
     "output_type": "execute_result"
    }
   ],
   "source": [
    "#Ejemplo del salto\n",
    "a[0:3:2]"
   ]
  },
  {
   "cell_type": "code",
   "execution_count": null,
   "metadata": {},
   "outputs": [],
   "source": [
    "# Función sum()\n",
    "# La función sum() suma todos los elementos de un iterable (como una lista).\n",
    "# Sintaxis: sum(iterable, start=0)\n",
    "# 'start' es un valor opcional que se añade al total (por defecto es 0).\n",
    "\n",
    "numeros = [1, 2, 3, 4, 5]\n",
    "suma = sum(numeros)\n",
    "print(suma)  # Resultado: 15\n",
    "\n"
   ]
  },
  {
   "cell_type": "code",
   "execution_count": null,
   "metadata": {},
   "outputs": [],
   "source": [
    "# Ejemplo con 'start'\n",
    "suma_con_inicio = sum(numeros, 10)\n",
    "print(suma_con_inicio)  # Resultado: 25\n"
   ]
  },
  {
   "cell_type": "code",
   "execution_count": 2,
   "metadata": {},
   "outputs": [
    {
     "name": "stdout",
     "output_type": "stream",
     "text": [
      "5\n"
     ]
    }
   ],
   "source": [
    "\n",
    "# Función len()\n",
    "# La función len() devuelve el número de elementos en un objeto.\n",
    "# Funciona con strings, listas, tuplas, diccionarios, etc.\n",
    "# Sintaxis: len(objeto)\n",
    "\n",
    "lista = [1, 2, 3, 4, 5]\n",
    "longitud = len(lista)\n",
    "print(longitud)  # Resultado: 5\n",
    "\n"
   ]
  },
  {
   "cell_type": "code",
   "execution_count": null,
   "metadata": {},
   "outputs": [],
   "source": [
    "texto = \"Hola, mundo!\"\n",
    "longitud_texto = len(texto)\n",
    "print(longitud_texto)  # Resultado: 12\n"
   ]
  },
  {
   "cell_type": "code",
   "execution_count": null,
   "metadata": {},
   "outputs": [],
   "source": [
    "\n",
    "# Función any()\n",
    "# La función any() devuelve True si algún elemento del iterable es True.\n",
    "# Si el iterable está vacío, devuelve False.\n",
    "# Sintaxis: any(iterable)\n",
    "\n",
    "lista1 = [True, False, False]\n",
    "resultado1 = any(lista1)\n",
    "print(resultado1)  # Resultado: True\n"
   ]
  },
  {
   "cell_type": "code",
   "execution_count": null,
   "metadata": {},
   "outputs": [],
   "source": [
    "\n",
    "lista2 = [False, False, False]\n",
    "resultado2 = any(lista2)\n",
    "print(resultado2)  # Resultado: False\n"
   ]
  },
  {
   "cell_type": "code",
   "execution_count": null,
   "metadata": {},
   "outputs": [],
   "source": [
    "\n",
    "# any() también funciona con generadores\n",
    "numeros = [1, 2, 3, 4, 5]\n",
    "hay_par = any(num % 2 == 0 for num in numeros)\n",
    "print(hay_par)  # Resultado: True"
   ]
  },
  {
   "cell_type": "markdown",
   "metadata": {},
   "source": [
    "# Ejercicios de aplicacion"
   ]
  },
  {
   "cell_type": "code",
   "execution_count": null,
   "metadata": {},
   "outputs": [],
   "source": [
    "# Ejercicio: Análisis de Calidad del Agua en un Río\n",
    "\n",
    "# Tienes datos de concentración de oxígeno disuelto (en mg/L) en diferentes puntos de un río.\n",
    "# La lista 'oxigeno_disuelto' contiene las mediciones en orden, desde la fuente hasta la desembocadura.\n",
    "\n",
    "oxigeno_disuelto = [8.5, 8.2, 7.9, 7.6, 7.2, 6.8, 6.5, 6.1, 5.8, 5.5]\n",
    "\n",
    "# 1. Calcula la concentración promedio de oxígeno disuelto en el río.\n",
    "\n",
    "# 2. Determina si en algún punto del río la concentración de oxígeno disuelto \n",
    "#    cae por debajo de 6.0 mg/L, lo cual es crítico para la vida acuática.\n",
    "\n",
    "# 3. Obtén las mediciones de oxígeno disuelto en el tramo medio del río \n",
    "#    (desde el cuarto hasta el séptimo punto de medición, inclusive).\n",
    "\n",
    "# 4. Calcula el porcentaje de disminución de oxígeno disuelto entre el primer y último punto de medición.\n",
    "\n",
    "# Imprime todos los resultados con mensajes descriptivos."
   ]
  },
  {
   "cell_type": "code",
   "execution_count": 3,
   "metadata": {},
   "outputs": [],
   "source": [
    "# Solución: Análisis de Calidad del Agua en un Río\n",
    "\n",
    "oxigeno_disuelto = [8.5, 8.2, 7.9, 7.6, 7.2, 6.8, 6.5, 6.1, 5.8, 5.5]\n"
   ]
  },
  {
   "cell_type": "code",
   "execution_count": 7,
   "metadata": {},
   "outputs": [
    {
     "name": "stdout",
     "output_type": "stream",
     "text": [
      "1. La concentración promedio de oxígeno disuelto es 7.01 mg/L\n"
     ]
    }
   ],
   "source": [
    "\n",
    "# 1. Cálculo del promedio de oxígeno disuelto\n",
    "promedio_oxigeno = sum(oxigeno_disuelto) / len(oxigeno_disuelto)\n",
    "print(f\"1. La concentración promedio de oxígeno disuelto es {promedio_oxigeno:.2f} mg/L\")\n"
   ]
  },
  {
   "cell_type": "code",
   "execution_count": 6,
   "metadata": {},
   "outputs": [
    {
     "name": "stdout",
     "output_type": "stream",
     "text": [
      "2. ¿Hay algún punto con nivel crítico de oxígeno disuelto? True\n"
     ]
    }
   ],
   "source": [
    "\n",
    "# 2. Verificar si en algún punto la concentración cae por debajo de 6.0 mg/L\n",
    "nivel_critico = any(nivel < 6.0 for nivel in oxigeno_disuelto)\n",
    "print(f\"2. ¿Hay algún punto con nivel crítico de oxígeno disuelto? {nivel_critico}\")\n"
   ]
  },
  {
   "cell_type": "code",
   "execution_count": 8,
   "metadata": {},
   "outputs": [
    {
     "name": "stdout",
     "output_type": "stream",
     "text": [
      "3. Las mediciones en el tramo medio del río son: [7.6, 7.2, 6.8, 6.5]\n"
     ]
    }
   ],
   "source": [
    "\n",
    "# 3. Obtener mediciones del tramo medio del río\n",
    "tramo_medio = oxigeno_disuelto[3:7]\n",
    "print(f\"3. Las mediciones en el tramo medio del río son: {tramo_medio}\")\n"
   ]
  },
  {
   "cell_type": "code",
   "execution_count": 9,
   "metadata": {},
   "outputs": [
    {
     "name": "stdout",
     "output_type": "stream",
     "text": [
      "4. El porcentaje de disminución de oxígeno disuelto es 35.29%\n"
     ]
    }
   ],
   "source": [
    "# 4. Calcular el porcentaje de disminución entre el primer y último punto\n",
    "disminucion_porcentaje = (oxigeno_disuelto[0] - oxigeno_disuelto[-1]) / oxigeno_disuelto[0] * 100\n",
    "print(f\"4. El porcentaje de disminución de oxígeno disuelto es {disminucion_porcentaje:.2f}%\")"
   ]
  },
  {
   "cell_type": "code",
   "execution_count": 10,
   "metadata": {},
   "outputs": [
    {
     "ename": "SyntaxError",
     "evalue": "invalid syntax (2898764055.py, line 10)",
     "output_type": "error",
     "traceback": [
      "\u001b[0;36m  Cell \u001b[0;32mIn[10], line 10\u001b[0;36m\u001b[0m\n\u001b[0;31m    volumen = # Tu código aquí\u001b[0m\n\u001b[0m              ^\u001b[0m\n\u001b[0;31mSyntaxError\u001b[0m\u001b[0;31m:\u001b[0m invalid syntax\n"
     ]
    }
   ],
   "source": [
    "# Problema 1: Cálculo de volumen de agua\n",
    "# Un embalse tiene forma rectangular con las siguientes dimensiones:\n",
    "# largo = 500 m, ancho = 200 m, profundidad = 10 m\n",
    "# Calcula el volumen de agua en el embalse en metros cúbicos.\n",
    "\n",
    "largo = 500\n",
    "ancho = 200\n",
    "profundidad = 10\n",
    "\n",
    "volumen = # Tu código aquí\n",
    "\n",
    "print(f\"El volumen de agua en el embalse es {volumen} metros cúbicos.\")\n"
   ]
  },
  {
   "cell_type": "code",
   "execution_count": null,
   "metadata": {},
   "outputs": [],
   "source": [
    "\n",
    "# Problema 2: Comparación de niveles de pH\n",
    "# El pH neutro es 7. Un pH por debajo de 7 es ácido, por encima es básico.\n",
    "# Determina si una muestra de agua con pH 6.5 es ácida.\n",
    "\n",
    "ph_muestra = 6.5\n",
    "es_acida = # Tu código aquí\n",
    "\n",
    "print(f\"¿La muestra de agua es ácida? {es_acida}\")\n"
   ]
  },
  {
   "cell_type": "code",
   "execution_count": null,
   "metadata": {},
   "outputs": [],
   "source": [
    "\n",
    "# Problema 3: Evaluación de la calidad del agua\n",
    "# El agua es potable si cumple todas estas condiciones:\n",
    "# - pH entre 6.5 y 8.5\n",
    "# - Turbidez menor a 5 NTU\n",
    "# - Cloro residual entre 0.3 y 1.5 mg/L\n",
    "# Determina si una muestra de agua es potable con los siguientes valores:\n",
    "\n",
    "ph = 7.2\n",
    "turbidez = 3.5\n",
    "cloro_residual = 0.5\n",
    "\n",
    "es_potable = # Tu código aquí\n",
    "\n",
    "print(f\"¿El agua es potable? {es_potable}\")\n"
   ]
  },
  {
   "cell_type": "code",
   "execution_count": null,
   "metadata": {},
   "outputs": [],
   "source": [
    "\n",
    "# Problema 4: Análisis de precipitaciones\n",
    "# Tienes una lista con las precipitaciones diarias (en mm) de la última semana.\n",
    "# Obtén las precipitaciones de los días laborables (índices 0 a 4).\n",
    "\n",
    "precipitaciones = [5.2, 0.0, 12.8, 3.5, 1.0, 22.3, 8.7]\n",
    "precipitaciones_laborables = # Tu código aquí\n",
    "\n",
    "print(f\"Las precipitaciones en los días laborables fueron: {precipitaciones_laborables}\")\n"
   ]
  },
  {
   "cell_type": "code",
   "execution_count": null,
   "metadata": {},
   "outputs": [],
   "source": [
    "\n",
    "# Problema 5: Comparación de caudales\n",
    "# Tienes dos listas con mediciones de caudal (en m³/s) en dos puntos de un río.\n",
    "# Determina si el caudal promedio en el segundo punto es mayor que en el primero.\n",
    "\n",
    "caudal_punto1 = [23.5, 25.1, 22.8, 24.3, 26.5]\n",
    "caudal_punto2 = [24.1, 25.3, 23.6, 24.8, 26.2]\n",
    "\n",
    "promedio_punto1 = # Tu código aquí\n",
    "promedio_punto2 = # Tu código aquí\n",
    "caudal_aumenta = # Tu código aquí\n",
    "\n",
    "print(f\"¿El caudal aumenta entre el punto 1 y el punto 2? {caudal_aumenta}\")"
   ]
  },
  {
   "cell_type": "markdown",
   "metadata": {},
   "source": [
    "## ASIGNACIONES E IMPRESIÓN DINÁMICA"
   ]
  },
  {
   "cell_type": "code",
   "execution_count": 23,
   "metadata": {},
   "outputs": [],
   "source": [
    "caudal_rio = 25"
   ]
  },
  {
   "cell_type": "markdown",
   "metadata": {},
   "source": [
    "Reglas para los nombres de las variables:\n",
    "* Pueden ser arbitrariamente largos.\n",
    "* Pueden contener tanto letras como números.\n",
    "* Deben empezar con letras.\n",
    "* Pueden aparecer subrayados para unir múltiples palabras.\n",
    "* No pueden ser palabras reservadas de Python."
   ]
  },
  {
   "cell_type": "code",
   "execution_count": 12,
   "metadata": {},
   "outputs": [
    {
     "name": "stdout",
     "output_type": "stream",
     "text": [
      "['False', 'None', 'True', '__peg_parser__', 'and', 'as', 'assert', 'async', 'await', 'break', 'class', 'continue', 'def', 'del', 'elif', 'else', 'except', 'finally', 'for', 'from', 'global', 'if', 'import', 'in', 'is', 'lambda', 'nonlocal', 'not', 'or', 'pass', 'raise', 'return', 'try', 'while', 'with', 'yield']\n"
     ]
    }
   ],
   "source": [
    "#Esta es la lista de palabras reservadas\n",
    "import keyword\n",
    "print(keyword.kwlist)"
   ]
  },
  {
   "cell_type": "code",
   "execution_count": 13,
   "metadata": {},
   "outputs": [],
   "source": [
    "nombre = 'Paquita la del barrio'\n",
    "edad = 56"
   ]
  },
  {
   "cell_type": "code",
   "execution_count": 14,
   "metadata": {},
   "outputs": [
    {
     "data": {
      "text/plain": [
       "'Paquita la del barrio'"
      ]
     },
     "execution_count": 14,
     "metadata": {},
     "output_type": "execute_result"
    }
   ],
   "source": [
    "nombre"
   ]
  },
  {
   "cell_type": "code",
   "execution_count": 15,
   "metadata": {},
   "outputs": [
    {
     "name": "stdout",
     "output_type": "stream",
     "text": [
      "Paquita la del barrio\n"
     ]
    }
   ],
   "source": [
    "print(nombre)"
   ]
  },
  {
   "cell_type": "code",
   "execution_count": 28,
   "metadata": {},
   "outputs": [],
   "source": [
    "a = 1\n",
    "b = 2\n"
   ]
  },
  {
   "cell_type": "code",
   "execution_count": 29,
   "metadata": {},
   "outputs": [
    {
     "data": {
      "text/plain": [
       "3"
      ]
     },
     "execution_count": 29,
     "metadata": {},
     "output_type": "execute_result"
    }
   ],
   "source": [
    "#Se pueden hacer asignaciones directas a varias variables a la vez\n",
    "a,b,c,d = 1,2,3,4\n",
    "c"
   ]
  },
  {
   "cell_type": "code",
   "execution_count": 16,
   "metadata": {},
   "outputs": [
    {
     "data": {
      "text/plain": [
       "'comillas dobles'"
      ]
     },
     "execution_count": 16,
     "metadata": {},
     "output_type": "execute_result"
    }
   ],
   "source": [
    "\"comillas dobles\""
   ]
  },
  {
   "cell_type": "code",
   "execution_count": 17,
   "metadata": {},
   "outputs": [
    {
     "data": {
      "text/plain": [
       "'o comillas simples'"
      ]
     },
     "execution_count": 17,
     "metadata": {},
     "output_type": "execute_result"
    }
   ],
   "source": [
    "'o comillas simples'"
   ]
  },
  {
   "cell_type": "code",
   "execution_count": 32,
   "metadata": {},
   "outputs": [
    {
     "data": {
      "text/plain": [
       "\"o simples 'dentro de dobles'\""
      ]
     },
     "execution_count": 32,
     "metadata": {},
     "output_type": "execute_result"
    }
   ],
   "source": [
    "\"o simples 'dentro de dobles'\""
   ]
  },
  {
   "cell_type": "code",
   "execution_count": 33,
   "metadata": {},
   "outputs": [
    {
     "data": {
      "text/plain": [
       "'o simples \"dentro\" de dobles'"
      ]
     },
     "execution_count": 33,
     "metadata": {},
     "output_type": "execute_result"
    }
   ],
   "source": [
    "'o simples \"dentro\" de dobles'"
   ]
  },
  {
   "cell_type": "code",
   "execution_count": 18,
   "metadata": {},
   "outputs": [
    {
     "ename": "SyntaxError",
     "evalue": "invalid syntax (904581652.py, line 1)",
     "output_type": "error",
     "traceback": [
      "\u001b[0;36m  Cell \u001b[0;32mIn[18], line 1\u001b[0;36m\u001b[0m\n\u001b[0;31m    'pero del 'mismo' tipo no funcionan'\u001b[0m\n\u001b[0m               ^\u001b[0m\n\u001b[0;31mSyntaxError\u001b[0m\u001b[0;31m:\u001b[0m invalid syntax\n"
     ]
    }
   ],
   "source": [
    "'pero del 'mismo' tipo no funcionan'"
   ]
  },
  {
   "cell_type": "markdown",
   "metadata": {},
   "source": [
    "Se pueden meter variables dentro de textos de forma dinámica"
   ]
  },
  {
   "cell_type": "code",
   "execution_count": null,
   "metadata": {},
   "outputs": [],
   "source": [
    "print('Soy {} y tengo {} años'.format(nombre,edad))"
   ]
  },
  {
   "cell_type": "markdown",
   "metadata": {},
   "source": [
    "Otra manera de introducir datos en texto de forma dinámica es con los indicadores de formato:\n",
    "\n",
    "%d para enteros\n",
    "\n",
    "%f para reales\n",
    "\n",
    "%s para texto\n",
    "\n",
    "\n",
    "Al terminar el texto se pondrá de nuevo % con el valor a incluir"
   ]
  },
  {
   "cell_type": "code",
   "execution_count": null,
   "metadata": {
    "scrolled": true
   },
   "outputs": [],
   "source": [
    "print('Hola me llamo %s' %'Ulises')\n",
    "print('Tengo %d años y %d hijos' %(44,1))"
   ]
  },
  {
   "cell_type": "code",
   "execution_count": null,
   "metadata": {},
   "outputs": [],
   "source": [
    "#En los reales podemos decirle el número de decimales que queremos\n",
    "print('Con 2 decimales: %.2f' % 3.1416)"
   ]
  },
  {
   "cell_type": "code",
   "execution_count": null,
   "metadata": {},
   "outputs": [],
   "source": [
    "#Si sumamos cadenas lo que hace es concatenarlas\n",
    "print('Soy ' + 'Ulises y tengo ' + '44 años')"
   ]
  },
  {
   "cell_type": "markdown",
   "metadata": {},
   "source": [
    "## TIPOS DE DATOS"
   ]
  },
  {
   "cell_type": "markdown",
   "metadata": {},
   "source": [
    "### Individuales"
   ]
  },
  {
   "cell_type": "markdown",
   "metadata": {},
   "source": [
    "#### Números"
   ]
  },
  {
   "cell_type": "code",
   "execution_count": null,
   "metadata": {},
   "outputs": [],
   "source": [
    "#Tipo entero (int)\n",
    "a = 14\n",
    "print(type(a))\n"
   ]
  },
  {
   "cell_type": "code",
   "execution_count": null,
   "metadata": {},
   "outputs": [],
   "source": [
    "\n",
    "#Tipo real (float)\n",
    "b = 14.34\n",
    "print(type(b))"
   ]
  },
  {
   "cell_type": "markdown",
   "metadata": {},
   "source": [
    "#### Nulos"
   ]
  },
  {
   "cell_type": "markdown",
   "metadata": {},
   "source": [
    "En Python estandar se identifican con None. Pero cuidado porque en otros paquetes como Numpy, Pandas, ... tienen otras notaciones."
   ]
  },
  {
   "cell_type": "code",
   "execution_count": null,
   "metadata": {},
   "outputs": [],
   "source": [
    "nulo = None\n",
    "type(nulo)"
   ]
  },
  {
   "cell_type": "markdown",
   "metadata": {},
   "source": [
    "#### Fechas"
   ]
  },
  {
   "cell_type": "markdown",
   "metadata": {},
   "source": [
    "Python estandar no tiene un tipo de datos como tal para las fechas.\n",
    "Hay que usar un módulo específico, por ejemplo datetime.\n",
    "No lo vamos a ver ya que tiene cierta complejidad y para la gestión de fechas usaremos principalmente Pandas."
   ]
  },
  {
   "cell_type": "markdown",
   "metadata": {},
   "source": [
    "#### Cadenas (texto)"
   ]
  },
  {
   "cell_type": "markdown",
   "metadata": {},
   "source": [
    "Un tipo especial de datos es cuando trabajamos con textos. Python tiene métodos específicos para este tipo de variables. Vamos a conocer los más frecuentes."
   ]
  },
  {
   "cell_type": "code",
   "execution_count": 21,
   "metadata": {},
   "outputs": [],
   "source": [
    "cadena = 'Me llamo Ulises González y tengo 44 años'"
   ]
  },
  {
   "cell_type": "code",
   "execution_count": 22,
   "metadata": {},
   "outputs": [
    {
     "data": {
      "text/plain": [
       "str"
      ]
     },
     "execution_count": 22,
     "metadata": {},
     "output_type": "execute_result"
    }
   ],
   "source": [
    "type(cadena)"
   ]
  },
  {
   "cell_type": "code",
   "execution_count": 23,
   "metadata": {},
   "outputs": [
    {
     "data": {
      "text/plain": [
       "'me llamo ulises gonzález y tengo 44 años'"
      ]
     },
     "execution_count": 23,
     "metadata": {},
     "output_type": "execute_result"
    }
   ],
   "source": [
    "cadena.lower()"
   ]
  },
  {
   "cell_type": "code",
   "execution_count": null,
   "metadata": {},
   "outputs": [],
   "source": [
    "cadena.upper()"
   ]
  },
  {
   "cell_type": "code",
   "execution_count": null,
   "metadata": {},
   "outputs": [],
   "source": [
    "cadena.split()"
   ]
  },
  {
   "cell_type": "code",
   "execution_count": null,
   "metadata": {},
   "outputs": [],
   "source": [
    "cadena.split('y')"
   ]
  },
  {
   "cell_type": "code",
   "execution_count": null,
   "metadata": {},
   "outputs": [],
   "source": [
    "cadena.replace('Isaac','Mario')"
   ]
  },
  {
   "cell_type": "code",
   "execution_count": 20,
   "metadata": {},
   "outputs": [
    {
     "ename": "NameError",
     "evalue": "name 'cadena' is not defined",
     "output_type": "error",
     "traceback": [
      "\u001b[0;31m---------------------------------------------------------------------------\u001b[0m",
      "\u001b[0;31mNameError\u001b[0m                                 Traceback (most recent call last)",
      "Cell \u001b[0;32mIn[20], line 1\u001b[0m\n\u001b[0;32m----> 1\u001b[0m \u001b[43mcadena\u001b[49m\u001b[38;5;241m.\u001b[39mcount(\u001b[38;5;124m'\u001b[39m\u001b[38;5;124ma\u001b[39m\u001b[38;5;124m'\u001b[39m)\n",
      "\u001b[0;31mNameError\u001b[0m: name 'cadena' is not defined"
     ]
    }
   ],
   "source": [
    "cadena.count('a')"
   ]
  },
  {
   "cell_type": "code",
   "execution_count": null,
   "metadata": {},
   "outputs": [],
   "source": [
    "cadena.find('Isaac')"
   ]
  },
  {
   "cell_type": "markdown",
   "metadata": {},
   "source": [
    "Lista de todos los métodos de cadenas:\n",
    "https://www.w3schools.com/python/python_ref_string.asp"
   ]
  },
  {
   "cell_type": "markdown",
   "metadata": {},
   "source": [
    "#### Conversiones"
   ]
  },
  {
   "cell_type": "markdown",
   "metadata": {},
   "source": [
    "Se pueden convertir de un tipo a otro (siempre que tenga sentido, si no dará un error)"
   ]
  },
  {
   "cell_type": "code",
   "execution_count": null,
   "metadata": {},
   "outputs": [],
   "source": [
    "float(14)"
   ]
  },
  {
   "cell_type": "code",
   "execution_count": null,
   "metadata": {},
   "outputs": [],
   "source": [
    "int(14.34)"
   ]
  },
  {
   "cell_type": "code",
   "execution_count": null,
   "metadata": {},
   "outputs": [],
   "source": [
    "str(14.34)"
   ]
  },
  {
   "cell_type": "code",
   "execution_count": 19,
   "metadata": {},
   "outputs": [
    {
     "ename": "ValueError",
     "evalue": "invalid literal for int() with base 10: 'soy Ulises'",
     "output_type": "error",
     "traceback": [
      "\u001b[0;31m---------------------------------------------------------------------------\u001b[0m",
      "\u001b[0;31mValueError\u001b[0m                                Traceback (most recent call last)",
      "Cell \u001b[0;32mIn[19], line 1\u001b[0m\n\u001b[0;32m----> 1\u001b[0m \u001b[38;5;28;43mint\u001b[39;49m\u001b[43m(\u001b[49m\u001b[38;5;124;43m'\u001b[39;49m\u001b[38;5;124;43msoy Ulises\u001b[39;49m\u001b[38;5;124;43m'\u001b[39;49m\u001b[43m)\u001b[49m\n",
      "\u001b[0;31mValueError\u001b[0m: invalid literal for int() with base 10: 'soy Ulises'"
     ]
    }
   ],
   "source": [
    "int('soy Ulises')"
   ]
  },
  {
   "cell_type": "code",
   "execution_count": null,
   "metadata": {},
   "outputs": [],
   "source": []
  },
  {
   "cell_type": "markdown",
   "metadata": {},
   "source": [
    "### Secuencias"
   ]
  },
  {
   "cell_type": "markdown",
   "metadata": {},
   "source": [
    "#### Rango"
   ]
  },
  {
   "cell_type": "code",
   "execution_count": null,
   "metadata": {},
   "outputs": [],
   "source": [
    "#El rango en Python es tratado como un tipo de datos\n",
    "rango = range(10)\n",
    "type(rango)"
   ]
  },
  {
   "cell_type": "code",
   "execution_count": null,
   "metadata": {},
   "outputs": [],
   "source": [
    "#La sintaxis es range(inicio,final,paso)\n",
    "list(range(0,10,2))"
   ]
  },
  {
   "cell_type": "markdown",
   "metadata": {},
   "source": [
    "#### Listas"
   ]
  },
  {
   "cell_type": "markdown",
   "metadata": {},
   "source": [
    "Las listas se crean con corchetes. Pueden tener cualquier tipo de elemento (números, cadenas, otras listas, ...), e incluso mezclados. Son mutables (se pueden añadir, eliminar o modificar elementos)."
   ]
  },
  {
   "cell_type": "code",
   "execution_count": null,
   "metadata": {},
   "outputs": [],
   "source": [
    "lista1 = [1, 2, 3]\n",
    "lista2 = ['rojo','amarillo','verde','rosa']\n",
    "print(lista1,lista2)"
   ]
  },
  {
   "cell_type": "code",
   "execution_count": null,
   "metadata": {},
   "outputs": [],
   "source": [
    "lista_mezclada = ['rojo',1,['Isaac','41']]\n",
    "lista_mezclada"
   ]
  },
  {
   "cell_type": "code",
   "execution_count": null,
   "metadata": {},
   "outputs": [],
   "source": [
    "# también se pueden crear con la función list\n",
    "lista3 = list((1,2,3))\n",
    "lista3"
   ]
  },
  {
   "cell_type": "code",
   "execution_count": null,
   "metadata": {},
   "outputs": [],
   "source": [
    "#O simplemente crear una lista vacía para luego ir añadiendo elementos\n",
    "vacia = []\n",
    "type(vacia)"
   ]
  },
  {
   "cell_type": "code",
   "execution_count": null,
   "metadata": {},
   "outputs": [],
   "source": [
    "lista2"
   ]
  },
  {
   "cell_type": "code",
   "execution_count": null,
   "metadata": {},
   "outputs": [],
   "source": [
    "# Añadir un elemento a la lista\n",
    "lista2.append('azul')\n",
    "print(lista2)"
   ]
  },
  {
   "cell_type": "code",
   "execution_count": null,
   "metadata": {},
   "outputs": [],
   "source": [
    "# Para añadir varios elementos a la lista usamos extend\n",
    "lista2.extend(['gris','negro'])\n",
    "print(lista2)"
   ]
  },
  {
   "cell_type": "code",
   "execution_count": null,
   "metadata": {},
   "outputs": [],
   "source": [
    "lista2[0]"
   ]
  },
  {
   "cell_type": "code",
   "execution_count": null,
   "metadata": {},
   "outputs": [],
   "source": [
    "# Reemplazar elementos\n",
    "lista2[0] = 'bermellon'\n",
    "print(lista2)"
   ]
  },
  {
   "cell_type": "code",
   "execution_count": null,
   "metadata": {},
   "outputs": [],
   "source": [
    "# Eliminar elementos por el índice\n",
    "del lista2[1]\n",
    "lista2"
   ]
  },
  {
   "cell_type": "code",
   "execution_count": null,
   "metadata": {},
   "outputs": [],
   "source": [
    "# Eliminar elementos por su valor. Notar que ahora es un método\n",
    "lista2.remove('rosa')\n",
    "lista2"
   ]
  },
  {
   "cell_type": "code",
   "execution_count": null,
   "metadata": {},
   "outputs": [],
   "source": [
    "# Sacar un elemento para meterlos en otra variable\n",
    "cielo = lista2.pop(2)\n",
    "cielo"
   ]
  },
  {
   "cell_type": "code",
   "execution_count": null,
   "metadata": {},
   "outputs": [],
   "source": [
    "# Si no le pasamos argumento a pop saca el último elemento que haya\n",
    "ultimo = lista2.pop()\n",
    "ultimo"
   ]
  },
  {
   "cell_type": "code",
   "execution_count": null,
   "metadata": {},
   "outputs": [],
   "source": [
    "lista2"
   ]
  },
  {
   "cell_type": "code",
   "execution_count": null,
   "metadata": {},
   "outputs": [],
   "source": [
    "# Comprobar si un elemento está en una lista (parte 1)\n",
    "'azul' in lista2"
   ]
  },
  {
   "cell_type": "code",
   "execution_count": null,
   "metadata": {},
   "outputs": [],
   "source": [
    "# Comprobar si un elemento está en una lista (parte 2)\n",
    "'bermellon' in lista2"
   ]
  },
  {
   "cell_type": "code",
   "execution_count": null,
   "metadata": {},
   "outputs": [],
   "source": [
    "# Ver la longitud de una lista\n",
    "len(lista2)"
   ]
  },
  {
   "cell_type": "code",
   "execution_count": null,
   "metadata": {},
   "outputs": [],
   "source": [
    "# Ordenar una lista. Fijarse que lo hace al vuelo (inplace)\n",
    "sin_orden = ['f','h','a','g']\n",
    "sin_orden.sort()\n",
    "sin_orden"
   ]
  },
  {
   "cell_type": "code",
   "execution_count": null,
   "metadata": {},
   "outputs": [],
   "source": [
    "# Pero cuidado, sort sigue un orden donde las mayúsculas van antes que las minúsculas\n",
    "sin_orden = ['Isaac','alba']\n",
    "sin_orden.sort()\n",
    "sin_orden"
   ]
  },
  {
   "cell_type": "code",
   "execution_count": null,
   "metadata": {},
   "outputs": [],
   "source": [
    "# Si quieres ordenar listas mezcladas de mayúsculas y minúsculas hay que usar el parámetro key = str.lower\n",
    "sin_orden = ['Isaac','alba']\n",
    "sin_orden.sort(key = str.lower)\n",
    "sin_orden"
   ]
  },
  {
   "cell_type": "markdown",
   "metadata": {},
   "source": [
    "Referencia con todos los métodos de las listas: https://www.w3schools.com/python/python_ref_list.asp"
   ]
  },
  {
   "cell_type": "markdown",
   "metadata": {},
   "source": [
    "#### Tuplas"
   ]
  },
  {
   "cell_type": "markdown",
   "metadata": {},
   "source": [
    "Se crean con paréntesis. \n",
    "\n",
    "Pueden tener cualquier tipo de elemento (números, cadenas, otras listas, ...) incluso mezclados. \n",
    "\n",
    "Son inmutables (tienen una longitud fija y no pueden cambiarse sus elementos)."
   ]
  },
  {
   "cell_type": "code",
   "execution_count": null,
   "metadata": {},
   "outputs": [],
   "source": [
    "tupla1 = (1,'rojo',['Isaac',41])\n",
    "tupla1"
   ]
  },
  {
   "cell_type": "code",
   "execution_count": null,
   "metadata": {},
   "outputs": [],
   "source": [
    "#Pero si intentamos cambiar un elemento no nos deja\n",
    "tupla1[0] = 2"
   ]
  },
  {
   "cell_type": "code",
   "execution_count": null,
   "metadata": {},
   "outputs": [],
   "source": [
    "#También se puede crear con la función tuple sobre una lista\n",
    "tupla1 = tuple([1,2,3])\n",
    "tupla1"
   ]
  },
  {
   "cell_type": "code",
   "execution_count": null,
   "metadata": {},
   "outputs": [],
   "source": [
    "#Si quisieras crear una tupla de un solo elemento hay que poner una coma al final\n",
    "print(type((5)))\n",
    "print(type((5,)))"
   ]
  },
  {
   "cell_type": "code",
   "execution_count": null,
   "metadata": {},
   "outputs": [],
   "source": [
    "#Las tuplas son el tipo de secuencia por defecto en Python.\n",
    "#Si ponemos una secuencia sin especificar el formato Python entiende que son tuplas\n",
    "sin_formato = 1,2,3,4\n",
    "type(sin_formato)"
   ]
  },
  {
   "cell_type": "markdown",
   "metadata": {},
   "source": [
    "#### Diccionarios"
   ]
  },
  {
   "cell_type": "markdown",
   "metadata": {},
   "source": [
    "Los diccionarios se crean con llaves. \n",
    "\n",
    "Son pares no ordenados y mutables de clave-valor. \n",
    "\n",
    "Pueden contener cualquier tipo de información, incluso mezclada."
   ]
  },
  {
   "cell_type": "code",
   "execution_count": null,
   "metadata": {},
   "outputs": [],
   "source": [
    "dicc1 = {'nombre':'Isaac', 'edad':41}\n",
    "dicc1"
   ]
  },
  {
   "cell_type": "code",
   "execution_count": null,
   "metadata": {},
   "outputs": [],
   "source": [
    "#También se pueden crear con la función dict sobre una lista de tuplas con los pares clave-valor\n",
    "dicc1 = dict([('nombre','Isaac'),('edad',41)])\n",
    "dicc1"
   ]
  },
  {
   "cell_type": "code",
   "execution_count": null,
   "metadata": {},
   "outputs": [],
   "source": [
    "#Crear un diccionario vacío\n",
    "vacio = {}\n",
    "vacio"
   ]
  },
  {
   "cell_type": "code",
   "execution_count": null,
   "metadata": {},
   "outputs": [],
   "source": [
    "#Modificar un elemento\n",
    "dicc1['edad'] = 43\n",
    "dicc1"
   ]
  },
  {
   "cell_type": "code",
   "execution_count": null,
   "metadata": {},
   "outputs": [],
   "source": [
    "#Eliminar un elemento\n",
    "del dicc1['edad']\n",
    "dicc1"
   ]
  },
  {
   "cell_type": "markdown",
   "metadata": {},
   "source": [
    "Referencia con todos los métodos de los diccionarios: https://www.w3schools.com/python/python_ref_dictionary.asp"
   ]
  },
  {
   "cell_type": "markdown",
   "metadata": {},
   "source": [
    "#### Conjuntos (sets)"
   ]
  },
  {
   "cell_type": "markdown",
   "metadata": {},
   "source": [
    "Los conjuntos se crean también con llaves, pero no son pares. \n",
    "\n",
    "Son colecciones de elementos UNICOS. \n",
    "\n",
    "Pueden contener cualquier tipo de información, incluso mezclada. Son mutables."
   ]
  },
  {
   "cell_type": "code",
   "execution_count": null,
   "metadata": {},
   "outputs": [],
   "source": [
    "conj1 = {1,1,1,2,2,2,'rojo','rojo'}\n",
    "conj1"
   ]
  },
  {
   "cell_type": "code",
   "execution_count": null,
   "metadata": {},
   "outputs": [],
   "source": [
    "#También se pueden crear con la función set sobre una lista\n",
    "lista = [1,1,1,2,2,2,'rojo','rojo']\n",
    "conj2 = set(lista)\n",
    "conj2"
   ]
  },
  {
   "cell_type": "code",
   "execution_count": null,
   "metadata": {},
   "outputs": [],
   "source": [
    "conj2 = set(lista)"
   ]
  },
  {
   "cell_type": "code",
   "execution_count": null,
   "metadata": {},
   "outputs": [],
   "source": [
    "conj2"
   ]
  },
  {
   "cell_type": "code",
   "execution_count": null,
   "metadata": {},
   "outputs": [],
   "source": [
    "#Podemos añadir un nuevo elemento con add\n",
    "conj2.add('amarillo')\n",
    "conj2"
   ]
  },
  {
   "cell_type": "code",
   "execution_count": null,
   "metadata": {},
   "outputs": [],
   "source": [
    "#O añadir otro conjunto o lista con update\n",
    "conj3 = {'negro','rosa'}\n",
    "conj2.update(conj3)\n",
    "conj2"
   ]
  },
  {
   "cell_type": "code",
   "execution_count": null,
   "metadata": {},
   "outputs": [],
   "source": [
    "#Eliminar por valor con discard\n",
    "conj2.discard('rosa')\n",
    "conj2"
   ]
  },
  {
   "cell_type": "code",
   "execution_count": null,
   "metadata": {},
   "outputs": [],
   "source": [
    "#Lógica de conjuntos: unión\n",
    "conj1 = {'negro','rosa'}\n",
    "conj2 = {'rosa','gris'}\n",
    "conj1.union(conj2)"
   ]
  },
  {
   "cell_type": "code",
   "execution_count": null,
   "metadata": {},
   "outputs": [],
   "source": [
    "#Lógica de conjuntos: intersección\n",
    "conj1 = {'negro','rosa'}\n",
    "conj2 = {'rosa','gris'}\n",
    "conj1.intersection(conj2)"
   ]
  },
  {
   "cell_type": "code",
   "execution_count": null,
   "metadata": {},
   "outputs": [],
   "source": [
    "#Lógica de conjuntos: diferencia del conjunto 1\n",
    "conj1 = {'negro','rosa'}\n",
    "conj2 = {'rosa','gris'}\n",
    "conj1.difference(conj2)"
   ]
  },
  {
   "cell_type": "code",
   "execution_count": null,
   "metadata": {},
   "outputs": [],
   "source": [
    "#Lógica de conjuntos: diferencia del conjunto 2\n",
    "conj1 = {'negro','rosa'}\n",
    "conj2 = {'rosa','gris'}\n",
    "conj2.difference(conj1)"
   ]
  },
  {
   "cell_type": "markdown",
   "metadata": {},
   "source": [
    "Referencia con todos los métodos de los conjuntos: https://www.w3schools.com/python/python_ref_set.asp"
   ]
  },
  {
   "cell_type": "markdown",
   "metadata": {},
   "source": [
    "### Repaso y a recordar:\n",
    "\n",
    "* Podemos tener datos individuales o secuencias\n",
    "* Dentro de los individuales los tipos más comunes son: int, float, none, str\n",
    "* Dentro de las secuencias:\n",
    "    * Rangos: son un tipo en sí mismos, se crean con range\n",
    "    * Listas: se crean con corchetes o con la función list\n",
    "    * Tuplas: se crean con paréntesis o con la función tuple\n",
    "    * Diccionarios: se crean con llaves o con la función dict. Son pares\n",
    "    * Sets: se crean con llaves o con la función set pero no son pares"
   ]
  },
  {
   "cell_type": "markdown",
   "metadata": {},
   "source": [
    "## INDEXACIÓN"
   ]
  },
  {
   "cell_type": "markdown",
   "metadata": {},
   "source": [
    "Lo más importante es recordar siempre que en Python los índices empiezan en cero"
   ]
  },
  {
   "cell_type": "code",
   "execution_count": null,
   "metadata": {},
   "outputs": [],
   "source": [
    "lista = [0,1,2,3,4]\n",
    "lista[0]"
   ]
  },
  {
   "cell_type": "markdown",
   "metadata": {},
   "source": [
    "### Indexar cadenas"
   ]
  },
  {
   "cell_type": "code",
   "execution_count": null,
   "metadata": {},
   "outputs": [],
   "source": [
    "nombre = 'Isaac'\n",
    "nombre[0]"
   ]
  },
  {
   "cell_type": "code",
   "execution_count": null,
   "metadata": {},
   "outputs": [],
   "source": [
    "#Se pueden pasar rangos con slice, pero el intervalo derecho es abierto (no cuenta):\n",
    "nombre = 'Isaac'\n",
    "nombre[0:3]"
   ]
  },
  {
   "cell_type": "code",
   "execution_count": null,
   "metadata": {},
   "outputs": [],
   "source": [
    "#La indexación con números negativos lo que hace es empezar por el final\n",
    "nombre[-1]"
   ]
  },
  {
   "cell_type": "markdown",
   "metadata": {},
   "source": [
    "### Indexar listas"
   ]
  },
  {
   "cell_type": "code",
   "execution_count": null,
   "metadata": {
    "scrolled": true
   },
   "outputs": [],
   "source": [
    "lista = ['rojo','verde','azul']\n",
    "lista[2]"
   ]
  },
  {
   "cell_type": "code",
   "execution_count": null,
   "metadata": {},
   "outputs": [],
   "source": [
    "#Funciona slice\n",
    "lista[0:2]"
   ]
  },
  {
   "cell_type": "code",
   "execution_count": null,
   "metadata": {},
   "outputs": [],
   "source": [
    "#Las listas no se pueden indexar por valor\n",
    "lista['rojo']"
   ]
  },
  {
   "cell_type": "code",
   "execution_count": null,
   "metadata": {},
   "outputs": [],
   "source": [
    "#Si queremos indexar por valor hay que usar index, pero cuidado, porque solo devuelve lo primero que encuentra\n",
    "lista = ['rojo','verde','rojo']\n",
    "posicion = lista.index('rojo')\n",
    "lista[posicion]"
   ]
  },
  {
   "cell_type": "code",
   "execution_count": null,
   "metadata": {},
   "outputs": [],
   "source": [
    "#La indexación con números negativos lo que hace es empezar por el final\n",
    "lista = ['rojo','verde','azul']\n",
    "lista[-1]"
   ]
  },
  {
   "cell_type": "code",
   "execution_count": null,
   "metadata": {},
   "outputs": [],
   "source": [
    "# Indexar listas dentro de listas\n",
    "lista_anidada = ['Isaac','Maria',['Jose Antonio','Jose Manuel'],'Pedro']\n",
    "print(lista_anidada[2])\n",
    "print(lista_anidada[2][1])"
   ]
  },
  {
   "cell_type": "markdown",
   "metadata": {},
   "source": [
    "### Indexar tuplas"
   ]
  },
  {
   "cell_type": "code",
   "execution_count": null,
   "metadata": {},
   "outputs": [],
   "source": [
    "#Se indexan por posición como las listas\n",
    "tupla = (0,1,2,3,4)\n",
    "tupla[0]"
   ]
  },
  {
   "cell_type": "code",
   "execution_count": null,
   "metadata": {},
   "outputs": [],
   "source": [
    "#Se pueden indexar varios elementos con slice\n",
    "tupla[0:2]"
   ]
  },
  {
   "cell_type": "code",
   "execution_count": null,
   "metadata": {},
   "outputs": [],
   "source": [
    "#La indexación con números negativos lo que hace es empezar por el final\n",
    "tupla[-1]"
   ]
  },
  {
   "cell_type": "markdown",
   "metadata": {},
   "source": [
    "### Indexar diccionarios"
   ]
  },
  {
   "cell_type": "code",
   "execution_count": null,
   "metadata": {},
   "outputs": [],
   "source": [
    "#Si intentamos indexar por posición no funciona\n",
    "dicc1 = {'nombre':'Isaac', 'edad':41}\n",
    "dicc1[0]"
   ]
  },
  {
   "cell_type": "code",
   "execution_count": null,
   "metadata": {},
   "outputs": [],
   "source": [
    "#Tenemos que indexar por la clave, y se indexa con corchetes, no con llaves!!\n",
    "dicc1['nombre']"
   ]
  },
  {
   "cell_type": "code",
   "execution_count": null,
   "metadata": {},
   "outputs": [],
   "source": [
    "#Indexar diccionarios o listas dentro de diccionarios\n",
    "dicc_complejo = {'nombre':'Isaac',\n",
    "                 'edad':41,\n",
    "                 'familia':[{'mujer':'Gema'},{'hijos':['Carla','Mario']}]}\n",
    "dicc_complejo"
   ]
  },
  {
   "cell_type": "code",
   "execution_count": null,
   "metadata": {},
   "outputs": [],
   "source": [
    "dicc_complejo['familia']"
   ]
  },
  {
   "cell_type": "code",
   "execution_count": null,
   "metadata": {},
   "outputs": [],
   "source": [
    "dicc_complejo['familia'][1]"
   ]
  },
  {
   "cell_type": "code",
   "execution_count": null,
   "metadata": {},
   "outputs": [],
   "source": [
    "dicc_complejo['familia'][1]['hijos']"
   ]
  },
  {
   "cell_type": "code",
   "execution_count": null,
   "metadata": {
    "scrolled": true
   },
   "outputs": [],
   "source": [
    "dicc_complejo['familia'][1]['hijos'][0]"
   ]
  },
  {
   "cell_type": "markdown",
   "metadata": {},
   "source": [
    "Nota: esta forma de indexación múltiple se puede usar en Python, pero después en Pandas veremos que no es buena práctica y tenemos alternativas mejores."
   ]
  },
  {
   "cell_type": "markdown",
   "metadata": {},
   "source": [
    "### Indexar conjuntos"
   ]
  },
  {
   "cell_type": "markdown",
   "metadata": {},
   "source": [
    "Los conjuntos no se pueden indexar"
   ]
  },
  {
   "cell_type": "markdown",
   "metadata": {},
   "source": [
    "### Repaso y a recordar:"
   ]
  },
  {
   "cell_type": "markdown",
   "metadata": {},
   "source": [
    "* Los índices empiezan en cero\n",
    "* Se puede utilizar slice para indexar\n",
    "* Los índices con números negativos empiezan por atrás\n",
    "* Las listas se indexan por posición. Si queremos por valor hay que usar index\n",
    "* Las tuplas se indexan por posición\n",
    "* Los diccionarios se indexan por su clave\n",
    "* Los conjuntos no se pueden indexar\n",
    "* En estructuras complejas de datos simplemente debemos identificar de qué tipo es el siguiente elemento anidado y utilzar su forma de indexación para ir avanzando"
   ]
  },
  {
   "cell_type": "markdown",
   "metadata": {},
   "source": [
    "## CONTROL DE FLUJO"
   ]
  },
  {
   "cell_type": "markdown",
   "metadata": {},
   "source": [
    "### If"
   ]
  },
  {
   "cell_type": "markdown",
   "metadata": {},
   "source": [
    "Se utiliza para comprobar condiciones si ... entonces ... Detrás del si va un criterio, que si se se cumple se aplica el proceso del entonces.\n",
    "\n",
    "Para mantener una sintaxis limpia Python utiliza (en esto y en todo) la indentación: cada línea se sabe a qué bloque pertenece por su nivel de indentación."
   ]
  },
  {
   "cell_type": "code",
   "execution_count": null,
   "metadata": {},
   "outputs": [],
   "source": [
    "x = 5\n",
    "y = 3\n",
    "if x > y:\n",
    "    print('x es mayor que y')"
   ]
  },
  {
   "cell_type": "markdown",
   "metadata": {},
   "source": [
    "También se puede definir un proceso para el caso de que no se cumpla la condición."
   ]
  },
  {
   "cell_type": "code",
   "execution_count": null,
   "metadata": {},
   "outputs": [],
   "source": [
    "x = 3\n",
    "y = 5\n",
    "if x > y:\n",
    "    print('x es mayor que y')\n",
    "else:\n",
    "    print('y es mayor que x')"
   ]
  },
  {
   "cell_type": "markdown",
   "metadata": {},
   "source": [
    "Notar la importancia de la indentación del código en Python. Esto no funciona:"
   ]
  },
  {
   "cell_type": "code",
   "execution_count": null,
   "metadata": {},
   "outputs": [],
   "source": [
    "x = 3\n",
    "y = 5\n",
    "if x > y:\n",
    "    print('x es mayor que y')\n",
    "    else:\n",
    "        print('y es mayor que x')"
   ]
  },
  {
   "cell_type": "markdown",
   "metadata": {},
   "source": [
    "Se pueden incluir condiciones intermedias con elif"
   ]
  },
  {
   "cell_type": "code",
   "execution_count": null,
   "metadata": {},
   "outputs": [],
   "source": [
    "x = 3\n",
    "y = 6\n",
    "if x > y:\n",
    "    print('x es mayor que y')\n",
    "elif x == y:\n",
    "    print('x es igual que y')\n",
    "else:\n",
    "    print('y es mayor que x')"
   ]
  },
  {
   "cell_type": "markdown",
   "metadata": {},
   "source": [
    "### For"
   ]
  },
  {
   "cell_type": "markdown",
   "metadata": {},
   "source": [
    "Sirve para crear bucles que recorran de forma iterativa cualquier tipo de elemento que sea iterable."
   ]
  },
  {
   "cell_type": "code",
   "execution_count": null,
   "metadata": {},
   "outputs": [],
   "source": [
    "for cada in range(5):\n",
    "    print(cada)"
   ]
  },
  {
   "cell_type": "code",
   "execution_count": null,
   "metadata": {},
   "outputs": [],
   "source": [
    "#Iterar una cadena\n",
    "cadena = 'Isaac'\n",
    "for cada in cadena:\n",
    "    print(cada)"
   ]
  },
  {
   "cell_type": "code",
   "execution_count": null,
   "metadata": {},
   "outputs": [],
   "source": [
    "#Iterar una lista\n",
    "lista = ['Isaac','Pedro','Juan Carlos']\n",
    "for nombre in lista:\n",
    "    print(len(nombre))"
   ]
  },
  {
   "cell_type": "code",
   "execution_count": null,
   "metadata": {},
   "outputs": [],
   "source": [
    "#Iterar una tupla\n",
    "tupla = (0,1,2,3)\n",
    "salida = list()\n",
    "for cada in tupla:\n",
    "    salida.append(cada * 2)\n",
    "salida"
   ]
  },
  {
   "cell_type": "code",
   "execution_count": null,
   "metadata": {},
   "outputs": [],
   "source": [
    "res = [(1,2,3),(4,5,6)]\n",
    "res"
   ]
  },
  {
   "cell_type": "code",
   "execution_count": null,
   "metadata": {},
   "outputs": [],
   "source": [
    "for cada in res:\n",
    "    print(cada)"
   ]
  },
  {
   "cell_type": "code",
   "execution_count": null,
   "metadata": {},
   "outputs": [],
   "source": [
    "#Si la tupla tiene varios valores podemos asignarlos directamente a diferentes variables\n",
    "#Es lo que se llama \"tuple unpacking\" y muchas funciones devuelven el resultado como lista de tuplas, así que es útil\n",
    "res = [(1,2,3),(4,5,6)]\n",
    "for a,b,c in res:\n",
    "    print(a,b,c)"
   ]
  },
  {
   "cell_type": "code",
   "execution_count": null,
   "metadata": {},
   "outputs": [],
   "source": [
    "a"
   ]
  },
  {
   "cell_type": "code",
   "execution_count": null,
   "metadata": {},
   "outputs": [],
   "source": [
    "#Iterar un conjunto\n",
    "conj = {'rojo','verde','azul'}\n",
    "for cada in conj:\n",
    "    print(cada)"
   ]
  },
  {
   "cell_type": "code",
   "execution_count": 35,
   "metadata": {},
   "outputs": [
    {
     "name": "stdout",
     "output_type": "stream",
     "text": [
      "uno\n",
      "dos\n",
      "tres\n"
     ]
    }
   ],
   "source": [
    "#Iterar un diccionario. Fijarse que nos devuelve solo las claves\n",
    "dicc = {'uno': 1, 'dos': 2, 'tres': 3}\n",
    "for cada in dicc:\n",
    "    print(cada)"
   ]
  },
  {
   "cell_type": "code",
   "execution_count": 36,
   "metadata": {},
   "outputs": [
    {
     "name": "stdout",
     "output_type": "stream",
     "text": [
      "('uno', 1)\n",
      "('dos', 2)\n",
      "('tres', 3)\n"
     ]
    }
   ],
   "source": [
    "#Si queremos que nos devuelva el elemento compuesto por clave-valor tenemos que usar items\n",
    "dicc2 = {'uno': 1, 'dos': 2, 'tres': 3}\n",
    "for cada in dicc2.items():\n",
    "    print(cada)"
   ]
  },
  {
   "cell_type": "code",
   "execution_count": 37,
   "metadata": {},
   "outputs": [
    {
     "name": "stdout",
     "output_type": "stream",
     "text": [
      "uno 1\n",
      "dos 2\n",
      "tres 3\n"
     ]
    }
   ],
   "source": [
    "#Y como vemos nos ha devuelto una tupla, que ya podríamos desempaquetar con lo que sabemos de tuple unpacking\n",
    "dicc2 = {'uno': 1, 'dos': 2, 'tres': 3}\n",
    "for letra,numero in dicc2.items():\n",
    "    print(letra,numero)"
   ]
  },
  {
   "cell_type": "code",
   "execution_count": 39,
   "metadata": {},
   "outputs": [
    {
     "name": "stdout",
     "output_type": "stream",
     "text": [
      "uno\n",
      "dos\n",
      "tres\n"
     ]
    }
   ],
   "source": [
    "#Si queremos solo las claves usaremos keys (es el comportamiento por defecto que ya hemos visto)\n",
    "dicc2 = {'uno': 1, 'dos': 2, 'tres': 3}\n",
    "for cada in dicc2.keys():\n",
    "    print(cada)"
   ]
  },
  {
   "cell_type": "code",
   "execution_count": 40,
   "metadata": {},
   "outputs": [
    {
     "name": "stdout",
     "output_type": "stream",
     "text": [
      "1\n",
      "2\n",
      "3\n"
     ]
    }
   ],
   "source": [
    "#Si queremos solo los valores usaremos values\n",
    "dicc2 = {'uno': 1, 'dos': 2, 'tres': 3}\n",
    "for cada in dicc2.values():\n",
    "    print(cada)"
   ]
  },
  {
   "cell_type": "code",
   "execution_count": 41,
   "metadata": {},
   "outputs": [
    {
     "name": "stdout",
     "output_type": "stream",
     "text": [
      "la posición es 0 y el clave es uno\n",
      "la posición es 1 y el clave es dos\n",
      "la posición es 2 y el clave es tres\n"
     ]
    }
   ],
   "source": [
    "#Si queremos la posición y la clave separados usaremos enumerate\n",
    "dicc2 = {'uno': 1, 'dos': 2, 'tres': 3}\n",
    "for clave,valor in enumerate(dicc2):\n",
    "    print('la posición es {} y el clave es {}'.format(clave,valor))"
   ]
  },
  {
   "cell_type": "markdown",
   "metadata": {},
   "source": [
    "La iteración de estructuras de datos mediante FOR será algo muy común, así que vamos a recapitular lo más importante que tenemos que recordar:\n",
    "\n",
    "* Podemos iterar cadenas, tuplas, conjuntos, diccionarios o listas\n",
    "* Con las tuplas es importante entender el tuple unpacking\n",
    "* Si iteramos un diccionario, por defecto nos devolverá la clave\n",
    "* Si queremos explícitamente las claves usamos nombrediccionario.keys()\n",
    "* Si queremos los valores usamos nombrediccionario.values()\n",
    "* Si queremos las claves y los valores usamos nombrediccionario.items()\n",
    "* Si queremos la posición y las claves usamos enumerate(nombrediccionario)"
   ]
  },
  {
   "cell_type": "markdown",
   "metadata": {},
   "source": [
    "### List comprehension"
   ]
  },
  {
   "cell_type": "markdown",
   "metadata": {},
   "source": [
    "Es una forma más compacta e incluso más rápida para iterar de forma similar a lo que hacemos con For. Su sintaxis es entre corchetes [haz esto por cada elemento en un iterable].\n",
    "\n",
    "Aunque se llame list comprehension también funciona en conjuntos y diccionarios."
   ]
  },
  {
   "cell_type": "code",
   "execution_count": 136,
   "metadata": {},
   "outputs": [
    {
     "name": "stdout",
     "output_type": "stream",
     "text": [
      "0\n",
      "1\n",
      "2\n",
      "3\n",
      "4\n"
     ]
    },
    {
     "data": {
      "text/plain": [
       "[None, None, None, None, None]"
      ]
     },
     "execution_count": 136,
     "metadata": {},
     "output_type": "execute_result"
    }
   ],
   "source": [
    "[print(x) for x in range(5)]"
   ]
  },
  {
   "cell_type": "code",
   "execution_count": 137,
   "metadata": {},
   "outputs": [
    {
     "name": "stdout",
     "output_type": "stream",
     "text": [
      "3\n",
      "4\n"
     ]
    },
    {
     "data": {
      "text/plain": [
       "[None, None]"
      ]
     },
     "execution_count": 137,
     "metadata": {},
     "output_type": "execute_result"
    }
   ],
   "source": [
    "#Se pueden incluir condiciones para hacerlo más flexible\n",
    "[print(x) for x in range(0,5) if x>=3]"
   ]
  },
  {
   "cell_type": "code",
   "execution_count": 138,
   "metadata": {},
   "outputs": [
    {
     "data": {
      "text/plain": [
       "['A', 'B']"
      ]
     },
     "execution_count": 138,
     "metadata": {},
     "output_type": "execute_result"
    }
   ],
   "source": [
    "#Ejemplo en un diccionario\n",
    "dicc = {'a':1,'b':2}\n",
    "[clave.upper() for clave in dicc.keys()]"
   ]
  },
  {
   "cell_type": "markdown",
   "metadata": {},
   "source": [
    "### Contadores"
   ]
  },
  {
   "cell_type": "markdown",
   "metadata": {},
   "source": [
    "No son un elemento de sintaxis en sí mismos, pero es un recurso que se usa a veces en la programación, por lo que merece la pena conocerlo.\n",
    "Básicamente es definir una variable que de forma iterativa se irá incrementando."
   ]
  },
  {
   "cell_type": "code",
   "execution_count": 139,
   "metadata": {},
   "outputs": [
    {
     "name": "stdout",
     "output_type": "stream",
     "text": [
      "1\n",
      "2\n",
      "3\n",
      "4\n",
      "Hasta aquí he llegado\n"
     ]
    }
   ],
   "source": [
    "#Un uso típico es para romper un bucle cuando el contador llegue a un límite\n",
    "limite = 5\n",
    "cont = 1\n",
    "while cont < limite:\n",
    "        print(cont)\n",
    "        cont = cont + 1\n",
    "print('Hasta aquí he llegado')        \n",
    "        "
   ]
  },
  {
   "cell_type": "code",
   "execution_count": 140,
   "metadata": {},
   "outputs": [
    {
     "name": "stdout",
     "output_type": "stream",
     "text": [
      "1\n",
      "2\n",
      "3\n",
      "4\n",
      "Hasta aquí he llegado\n"
     ]
    }
   ],
   "source": [
    "#Hay una sintaxis reducida para los contadores cont += 1\n",
    "limite = 5\n",
    "cont = 1\n",
    "while cont < limite:\n",
    "        print(cont)\n",
    "        cont += 1\n",
    "print('Hasta aquí he llegado')        \n",
    "        "
   ]
  },
  {
   "cell_type": "code",
   "execution_count": 141,
   "metadata": {},
   "outputs": [
    {
     "name": "stdout",
     "output_type": "stream",
     "text": [
      "Dime un amigo: \n",
      "{0: ''}\n"
     ]
    }
   ],
   "source": [
    "#Otro uso típico es para ir \"rellenando\" por ejemplo un diccionario en función de su índice\n",
    "amigos = dict()\n",
    "cont = 0\n",
    "\n",
    "entrada = 'gsdfgdf'\n",
    "while entrada != '':\n",
    "    entrada = input('Dime un amigo: ')\n",
    "    amigos[cont] = entrada\n",
    "    cont = cont + 1\n",
    "print(amigos)"
   ]
  },
  {
   "cell_type": "markdown",
   "metadata": {},
   "source": [
    "### Repaso y a recordar:\n",
    "\n",
    "* If sirve para crear reglas si entonces. Sintaxis: if - elif - else\n",
    "* For recorre cada elemento de cualquier objeto iterable\n",
    "* Al iterar diccionarios acordarse de .items(), .keys(), .values(), .enumerate() y el concepto tuple unpacking\n",
    "* Sintaxis de list comprehension: [haz esto por cada elemento en iterable si se cumple condición]\n",
    "* Los contadores son un recurso frecuente en programación que debemos recordar"
   ]
  },
  {
   "cell_type": "markdown",
   "metadata": {},
   "source": [
    "## FUNCIONES PERSONALIZADAS"
   ]
  },
  {
   "cell_type": "markdown",
   "metadata": {},
   "source": [
    "### Funciones definidas por el usuario"
   ]
  },
  {
   "cell_type": "markdown",
   "metadata": {},
   "source": [
    "Quizá sin saberlo, hemos estado usando un montón de funciones. Sin ir más lejos print es una. \n",
    "\n",
    "En general una función es algo a lo que le pasas unos parámetros (aunque no necesariamente) y te devuelve una salida (aunque no necesariamente).\n",
    "\n",
    "Pero además de las funciones predefinidas de Python nosotros podemos crear nuestras propias funciones.\n",
    "\n",
    "Especificamos lo que queremos que devuelva con return."
   ]
  },
  {
   "cell_type": "code",
   "execution_count": 142,
   "metadata": {
    "scrolled": true
   },
   "outputs": [],
   "source": [
    "def suma_dos(num1,num2):\n",
    "    resultado = num1 + num2\n",
    "    return(resultado)"
   ]
  },
  {
   "cell_type": "code",
   "execution_count": 143,
   "metadata": {},
   "outputs": [
    {
     "data": {
      "text/plain": [
       "6"
      ]
     },
     "execution_count": 143,
     "metadata": {},
     "output_type": "execute_result"
    }
   ],
   "source": [
    "#Para llamar a una función usaremos su nombre más paréntesis y dentro de los mismos los parámetros que queramos pasarle\n",
    "suma_dos(2,4)"
   ]
  },
  {
   "cell_type": "code",
   "execution_count": 144,
   "metadata": {},
   "outputs": [
    {
     "data": {
      "text/plain": [
       "6"
      ]
     },
     "execution_count": 144,
     "metadata": {},
     "output_type": "execute_result"
    }
   ],
   "source": [
    "#Se pueden poner valores por defecto a los parámetros para el caso de que no se le pasen a la función\n",
    "def suma_dos(num1,num2 = 4):\n",
    "    resultado = num1 + num2\n",
    "    return(resultado)\n",
    "suma_dos(num1 = 2)"
   ]
  },
  {
   "cell_type": "code",
   "execution_count": 145,
   "metadata": {},
   "outputs": [
    {
     "name": "stdout",
     "output_type": "stream",
     "text": [
      "6\n",
      "8\n"
     ]
    }
   ],
   "source": [
    "#Las funciones de Python pueden devolver varios valores\n",
    "def suma_dos(num1,num2 = 4):\n",
    "    resultado1 = num1 + num2\n",
    "    resultado2 = num1 * num2\n",
    "    return(resultado1,resultado2)\n",
    "\n",
    "res1,res2 = suma_dos(num1 = 2)\n",
    "print(res1)\n",
    "print(res2)"
   ]
  },
  {
   "cell_type": "markdown",
   "metadata": {},
   "source": [
    "### Funciones lambda"
   ]
  },
  {
   "cell_type": "markdown",
   "metadata": {},
   "source": [
    "Hay veces que no necesitaremos crear una función como tal ya que únicamente querremos algo puntual y \"al vuelo\". \n",
    "\n",
    "Es lo que se llaman funciones lambda, que normalmente irán dentro de otros procesos para hacer su trabajo y luego no persistirán. \n",
    "\n",
    "También se llaman anónimas, ya que no tienen nombre.\n",
    "\n",
    "Otro punto importante es que sólo pueden tener una única expresión, no un bloque de acciones (que sí pueden tener las funciones normales).\n",
    "\n",
    "Las usaremos mucho dentro de la función map (que veremos más adelante)"
   ]
  },
  {
   "cell_type": "code",
   "execution_count": 146,
   "metadata": {},
   "outputs": [
    {
     "data": {
      "text/plain": [
       "[2, 4, 6, 8]"
      ]
     },
     "execution_count": 146,
     "metadata": {},
     "output_type": "execute_result"
    }
   ],
   "source": [
    "#Ejemplo de cómo tendríamos que hacer para aplicar una función dentro de map definiéndola tradicionalmente (con nombre)\n",
    "\n",
    "numeros = [1,2,3,4]\n",
    "\n",
    "def doble(num):\n",
    "    return(num * 2)\n",
    "\n",
    "list(map(doble,numeros))"
   ]
  },
  {
   "cell_type": "code",
   "execution_count": 147,
   "metadata": {},
   "outputs": [
    {
     "data": {
      "text/plain": [
       "[2, 4, 6, 8]"
      ]
     },
     "execution_count": 147,
     "metadata": {},
     "output_type": "execute_result"
    }
   ],
   "source": [
    "#Mismo ejemplo pero ahora con una función lambda (anónima)\n",
    "\n",
    "list(map(lambda num: num * 2,numeros))"
   ]
  },
  {
   "cell_type": "markdown",
   "metadata": {},
   "source": [
    "## OTRAS FUNCIONES ÚTILES"
   ]
  },
  {
   "cell_type": "markdown",
   "metadata": {},
   "source": [
    "### Map"
   ]
  },
  {
   "cell_type": "markdown",
   "metadata": {},
   "source": [
    "Sirve para aplicar una función a cada elemento de un objeto iterable. Pero devuelve un objeto map, que normalmente hay que convertir para visualizarlo, por ej a una lista, tupla, etc"
   ]
  },
  {
   "cell_type": "code",
   "execution_count": 148,
   "metadata": {},
   "outputs": [
    {
     "data": {
      "text/plain": [
       "[4, 8, 5]"
      ]
     },
     "execution_count": 148,
     "metadata": {},
     "output_type": "execute_result"
    }
   ],
   "source": [
    "colores = ['rojo','amarillo','verde']\n",
    "list(map(len,colores))"
   ]
  },
  {
   "cell_type": "code",
   "execution_count": 149,
   "metadata": {},
   "outputs": [
    {
     "data": {
      "text/plain": [
       "[4, 8, 5]"
      ]
     },
     "execution_count": 149,
     "metadata": {},
     "output_type": "execute_result"
    }
   ],
   "source": [
    "#También se puede usar con funciones personalizadas que hayamos construido nosotros\n",
    "def num_caracteres(texto):\n",
    "    return(len(texto))\n",
    "\n",
    "list(map(num_caracteres,colores))"
   ]
  },
  {
   "cell_type": "markdown",
   "metadata": {},
   "source": [
    "Es equivalente a un list comprehension, y es más sencillo de hacer."
   ]
  },
  {
   "cell_type": "code",
   "execution_count": 150,
   "metadata": {},
   "outputs": [
    {
     "data": {
      "text/plain": [
       "[4, 8, 5]"
      ]
     },
     "execution_count": 150,
     "metadata": {},
     "output_type": "execute_result"
    }
   ],
   "source": [
    "#El ejercicio superior con list comprehension\n",
    "colores = ['rojo','amarillo','verde']\n",
    "\n",
    "[len(color) for color in colores]"
   ]
  },
  {
   "cell_type": "markdown",
   "metadata": {},
   "source": [
    "### Filter"
   ]
  },
  {
   "cell_type": "markdown",
   "metadata": {},
   "source": [
    "Devuelve los elementos de una secuencia que cumplen una condición. Pero devuelve un objeto filter, que normalmente hay que convertir para visualizarlo, por ej a una lista, tupla, etc"
   ]
  },
  {
   "cell_type": "code",
   "execution_count": 151,
   "metadata": {},
   "outputs": [
    {
     "data": {
      "text/plain": [
       "['rojo']"
      ]
     },
     "execution_count": 151,
     "metadata": {},
     "output_type": "execute_result"
    }
   ],
   "source": [
    "colores = ['rojo','amarillo','verde']\n",
    "list(filter(lambda color: len(color) == 4, colores))"
   ]
  },
  {
   "cell_type": "markdown",
   "metadata": {},
   "source": [
    "Es equivalente a un list comprehension que incluya un if."
   ]
  },
  {
   "cell_type": "code",
   "execution_count": 152,
   "metadata": {},
   "outputs": [
    {
     "data": {
      "text/plain": [
       "['rojo']"
      ]
     },
     "execution_count": 152,
     "metadata": {},
     "output_type": "execute_result"
    }
   ],
   "source": [
    "#El ejercicio superior con list comprehension\n",
    "colores = ['rojo','amarillo','verde']\n",
    "\n",
    "[color for color in colores if len(color) == 4]"
   ]
  },
  {
   "cell_type": "markdown",
   "metadata": {},
   "source": [
    "### Input"
   ]
  },
  {
   "cell_type": "markdown",
   "metadata": {},
   "source": [
    "Sirve para pedir al usuario una entrada manual de datos"
   ]
  },
  {
   "cell_type": "code",
   "execution_count": 153,
   "metadata": {},
   "outputs": [
    {
     "name": "stdout",
     "output_type": "stream",
     "text": [
      "Cómo te llamas?\n",
      "\n",
      "Hola , encantado de saludarte\n"
     ]
    }
   ],
   "source": [
    "pregunta_nombre = input(\"Cómo te llamas?\\n\")\n",
    "print(\"Hola {}, encantado de saludarte\".format(pregunta_nombre))"
   ]
  },
  {
   "cell_type": "code",
   "execution_count": 155,
   "metadata": {},
   "outputs": [
    {
     "name": "stdout",
     "output_type": "stream",
     "text": [
      "Dime un número que le sumaré 5: \n"
     ]
    },
    {
     "ename": "TypeError",
     "evalue": "can only concatenate str (not \"int\") to str",
     "output_type": "error",
     "traceback": [
      "\u001b[1;31m---------------------------------------------------------------------------\u001b[0m",
      "\u001b[1;31mTypeError\u001b[0m                                 Traceback (most recent call last)",
      "\u001b[1;32m~\\AppData\\Local\\Temp\\ipykernel_29752\\21804365.py\u001b[0m in \u001b[0;36m<module>\u001b[1;34m\u001b[0m\n\u001b[0;32m      1\u001b[0m \u001b[1;31m#Cuidado, input siempre devuelve una cadena\u001b[0m\u001b[1;33m\u001b[0m\u001b[1;33m\u001b[0m\u001b[0m\n\u001b[0;32m      2\u001b[0m \u001b[0mpregunta_numero\u001b[0m \u001b[1;33m=\u001b[0m \u001b[0minput\u001b[0m\u001b[1;33m(\u001b[0m\u001b[1;34m\"Dime un número que le sumaré 5: \"\u001b[0m\u001b[1;33m)\u001b[0m\u001b[1;33m\u001b[0m\u001b[1;33m\u001b[0m\u001b[0m\n\u001b[1;32m----> 3\u001b[1;33m \u001b[0mprint\u001b[0m\u001b[1;33m(\u001b[0m\u001b[0mpregunta_numero\u001b[0m \u001b[1;33m+\u001b[0m \u001b[1;36m5\u001b[0m\u001b[1;33m)\u001b[0m\u001b[1;33m\u001b[0m\u001b[1;33m\u001b[0m\u001b[0m\n\u001b[0m",
      "\u001b[1;31mTypeError\u001b[0m: can only concatenate str (not \"int\") to str"
     ]
    }
   ],
   "source": [
    "#Cuidado, input siempre devuelve una cadena\n",
    "pregunta_numero = input(\"Dime un número que le sumaré 5: \")\n",
    "print(pregunta_numero + 5)"
   ]
  },
  {
   "cell_type": "code",
   "execution_count": 156,
   "metadata": {},
   "outputs": [
    {
     "name": "stdout",
     "output_type": "stream",
     "text": [
      "Dime un número que le sumaré 5: 3\n",
      "8\n"
     ]
    }
   ],
   "source": [
    "#Si lo que queremos como entrada es un número tenemos que convertirlo con int()\n",
    "pregunta_numero = int(input(\"Dime un número que le sumaré 5: \"))\n",
    "print(pregunta_numero + 5)"
   ]
  },
  {
   "cell_type": "markdown",
   "metadata": {},
   "source": [
    "### Zip"
   ]
  },
  {
   "cell_type": "markdown",
   "metadata": {},
   "source": [
    "Zip es una función que construye un objeto iterable a partir de otros y los empareja primero con primero, segundo con segundo y así.\n",
    "\n",
    "Por ejemplo vamos a usarlo para unificar en un diccionario dos listas separadas de nombres y apellidos."
   ]
  },
  {
   "cell_type": "code",
   "execution_count": 157,
   "metadata": {},
   "outputs": [
    {
     "data": {
      "text/plain": [
       "{'Pedro': 'García', 'Manuel': 'González', 'Maria': 'Martinez'}"
      ]
     },
     "execution_count": 157,
     "metadata": {},
     "output_type": "execute_result"
    }
   ],
   "source": [
    "nombres = ['Pedro','Manuel','Maria']\n",
    "apellidos = ['García','González','Martinez']\n",
    "\n",
    "dict(zip(nombres, apellidos))"
   ]
  },
  {
   "cell_type": "markdown",
   "metadata": {},
   "source": [
    "### Funciones estadísticas básicas"
   ]
  },
  {
   "cell_type": "markdown",
   "metadata": {},
   "source": [
    "Notar que hay que pasarles una lista cuando hay varios valores"
   ]
  },
  {
   "cell_type": "code",
   "execution_count": 158,
   "metadata": {},
   "outputs": [
    {
     "data": {
      "text/plain": [
       "10"
      ]
     },
     "execution_count": 158,
     "metadata": {},
     "output_type": "execute_result"
    }
   ],
   "source": [
    "sum([1,5,4])"
   ]
  },
  {
   "cell_type": "code",
   "execution_count": 159,
   "metadata": {},
   "outputs": [
    {
     "data": {
      "text/plain": [
       "5"
      ]
     },
     "execution_count": 159,
     "metadata": {},
     "output_type": "execute_result"
    }
   ],
   "source": [
    "max([1,5,4])"
   ]
  },
  {
   "cell_type": "code",
   "execution_count": 160,
   "metadata": {},
   "outputs": [
    {
     "data": {
      "text/plain": [
       "1"
      ]
     },
     "execution_count": 160,
     "metadata": {},
     "output_type": "execute_result"
    }
   ],
   "source": [
    "min([1,5,4])"
   ]
  },
  {
   "cell_type": "code",
   "execution_count": 161,
   "metadata": {},
   "outputs": [
    {
     "data": {
      "text/plain": [
       "5"
      ]
     },
     "execution_count": 161,
     "metadata": {},
     "output_type": "execute_result"
    }
   ],
   "source": [
    "abs(-5)"
   ]
  },
  {
   "cell_type": "code",
   "execution_count": 162,
   "metadata": {},
   "outputs": [
    {
     "data": {
      "text/plain": [
       "3.14"
      ]
     },
     "execution_count": 162,
     "metadata": {},
     "output_type": "execute_result"
    }
   ],
   "source": [
    "round(3.1416, ndigits=2)"
   ]
  },
  {
   "cell_type": "markdown",
   "metadata": {},
   "source": [
    "Referencia con todas las funciones internas de Python: https://www.w3schools.com/python/python_ref_functions.asp"
   ]
  },
  {
   "cell_type": "markdown",
   "metadata": {},
   "source": [
    "### Repaso y a recordar:\n",
    "\n",
    "* Podemos crear funciones personalizadas con def nombre(parámetros):\n",
    "* Puede haber funciones sin parámetros, y también podemos definirlos por defecto\n",
    "* Las funciones lambda no tienen nombre y se aplican al vuelo\n",
    "* Map aplica una función a cada elemento de un iterable\n",
    "* Filter permite filtrar elementos de una secuencia según un criterio\n",
    "* Input devuelve una cadena, si queremos un entero hay que usar int()\n",
    "* Zip va recorriendo los elementos de 2 iterables y emparejándolos"
   ]
  },
  {
   "cell_type": "markdown",
   "metadata": {},
   "source": [
    "## IMPORTACIÓN DE MÓDULOS"
   ]
  },
  {
   "cell_type": "markdown",
   "metadata": {},
   "source": [
    "Lo que hemos visto hasta ahora ha sido un recorrido por lo más importante y lo que debes conocer de Python \"base\".\n",
    "\n",
    "No obstante, la funcionalidad de Python no termina aquí, si no que de hecho empieza, ya que a partir de aquí hay infinidad de nuevas \"ampliaciones\" que permiten incorporar nuevas funciones y por tanto nuevas funcionalidades.\n",
    "\n",
    "Es lo que se llaman módulos, o también hay gente que lo llama paquetes o librerías. Aunque realmente un paquete es una agregación de módulos.\n",
    "\n",
    "Al final, conociendo la sintaxis base de Python que ya has estudiado, incorporar nuevas funcionalidades mediante módulos suele ser simplemente investigar cómo importarlos y la documentación de sus funciones.\n",
    "\n",
    "Aquí puedes ver la lista de módulos \"oficiales\" que ya vienen con Python.\n",
    "\n",
    "https://docs.python.org/3/py-modindex.html"
   ]
  },
  {
   "cell_type": "markdown",
   "metadata": {},
   "source": [
    "Hay tres formas principales de importar módulos:\n",
    "\n",
    "1. Usando la forma \"import modulo as alias\"\n",
    "\n",
    "2. Usando la forma \"from modulo import *\"\n",
    "\n",
    "3. O la forma \"from modulo import funcion\""
   ]
  },
  {
   "cell_type": "code",
   "execution_count": 163,
   "metadata": {
    "scrolled": true
   },
   "outputs": [
    {
     "data": {
      "text/plain": [
       "0.9013156011965977"
      ]
     },
     "execution_count": 163,
     "metadata": {},
     "output_type": "execute_result"
    }
   ],
   "source": [
    "#Con la 1 importamos todas las funciones, pero cada vez que las queramos usar deberemos poner alias.funcion\n",
    "#Por ejemplo vamos a importar el módulo random y generar un aleatorio\n",
    "import random as rd\n",
    "rd.random()"
   ]
  },
  {
   "cell_type": "code",
   "execution_count": 164,
   "metadata": {},
   "outputs": [
    {
     "data": {
      "text/plain": [
       "0.6784571307500908"
      ]
     },
     "execution_count": 164,
     "metadata": {},
     "output_type": "execute_result"
    }
   ],
   "source": [
    "#Con la 2 también importamos todas las funciones del módulo, pero no es necesario poner el módulo cuando la llamemos\n",
    "#Por ejemplo vamos a importar el módulo random y generar un aleatorio\n",
    "from random import *\n",
    "random()"
   ]
  },
  {
   "cell_type": "code",
   "execution_count": 165,
   "metadata": {},
   "outputs": [
    {
     "data": {
      "text/plain": [
       "0.22406069542237628"
      ]
     },
     "execution_count": 165,
     "metadata": {},
     "output_type": "execute_result"
    }
   ],
   "source": [
    "#Con la 3 importamos solo lo que le digamos, y no es necesario poner modulo.funcion si no simplemente la función\n",
    "#Por ejemplo vamos a importar el módulo random pero sólo con la función random y generar un aleatorio\n",
    "from random import random\n",
    "random()"
   ]
  },
  {
   "cell_type": "markdown",
   "metadata": {},
   "source": [
    "Cuando estemos trabajando en real seguramente estaremos usando funciones de varios módulos: numpy, pandas, seaborn, etc.\n",
    "\n",
    "Por tanto se considera buena práctica usar la notación de módulo.función por legibilidad y claridad del código"
   ]
  }
 ],
 "metadata": {
  "kernelspec": {
   "display_name": "Python 3 (ipykernel)",
   "language": "python",
   "name": "python3"
  },
  "language_info": {
   "codemirror_mode": {
    "name": "ipython",
    "version": 3
   },
   "file_extension": ".py",
   "mimetype": "text/x-python",
   "name": "python",
   "nbconvert_exporter": "python",
   "pygments_lexer": "ipython3",
   "version": "3.9.2"
  },
  "toc": {
   "base_numbering": 1,
   "nav_menu": {},
   "number_sections": true,
   "sideBar": true,
   "skip_h1_title": false,
   "title_cell": "Table of Contents",
   "title_sidebar": "Contents",
   "toc_cell": false,
   "toc_position": {
    "height": "calc(100% - 180px)",
    "left": "10px",
    "top": "150px",
    "width": "428.8px"
   },
   "toc_section_display": true,
   "toc_window_display": true
  },
  "varInspector": {
   "cols": {
    "lenName": 16,
    "lenType": 16,
    "lenVar": 40
   },
   "kernels_config": {
    "python": {
     "delete_cmd_postfix": "",
     "delete_cmd_prefix": "del ",
     "library": "var_list.py",
     "varRefreshCmd": "print(var_dic_list())"
    },
    "r": {
     "delete_cmd_postfix": ") ",
     "delete_cmd_prefix": "rm(",
     "library": "var_list.r",
     "varRefreshCmd": "cat(var_dic_list()) "
    }
   },
   "oldHeight": 122.84966599999998,
   "position": {
    "height": "144.683px",
    "left": "1373px",
    "right": "20px",
    "top": "119px",
    "width": "350px"
   },
   "types_to_exclude": [
    "module",
    "function",
    "builtin_function_or_method",
    "instance",
    "_Feature"
   ],
   "varInspector_section_display": "block",
   "window_display": false
  }
 },
 "nbformat": 4,
 "nbformat_minor": 2
}
