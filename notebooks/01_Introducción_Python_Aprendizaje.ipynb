{
 "cells": [
  {
   "cell_type": "markdown",
   "metadata": {},
   "source": [
    "# 🌦️ Introducción a Python 🐼\n",
    "\n",
    "## 🌎 Razones para utilizar Python en ciencia de datos\n",
    "\n",
    "---\n",
    "\n",
    "### 🚀 Python se ha convertido en uno de los lenguajes de programación más ampliamente utilizados hasta la fecha, y rápidamente se está convirtiendo en el lenguaje de elección para profesionales de la ciencia de datos en particular. ¿Por qué? Aquí tienes algunas razones clave:\n",
    "\n",
    "> \"El conocimiento de un lenguaje de programación puede transformar datos en ideas.\" - Anónimo\n",
    "\n",
    "### 🌡️ Razones clave:\n",
    "\n",
    "- **Facilidad para principiantes**: Python es amigable para quienes se inician en la programación. Su sintaxis simple y su enfoque en la legibilidad hacen que sea accesible para personas de diferentes campos, incluso aquellos sin experiencia en tecnología. En solo unas semanas, puedes aprender a procesar datos y construir modelos básicos en Python.\n",
    "- **Herramientas matemáticas y estadísticas**: Python ofrece una amplia funcionalidad para realizar cálculos matemáticos, obtener estadísticas descriptivas y construir modelos estadísticos. Desde operaciones matemáticas básicas hasta funciones más avanzadas, Python tiene un conjunto de herramientas sólido para la ciencia de datos.\n",
    "- **Automatización y scripting**: Python es ideal para automatizar tareas repetitivas dentro de flujos de trabajo de ciencia de datos. Su capacidad para interactuar con otras tecnologías, como Apache Spark para big data, garantiza escalabilidad y flexibilidad.\n",
    "- **Librerías y frameworks**: Python cuenta con una gran cantidad de librerías y frameworks específicos para la ciencia de datos, como Pandas, NumPy, SciPy y Scikit-Learn. Estas herramientas facilitan el análisis, la visualización y la construcción de modelos predictivos.\n",
    "- **Comunidad activa**: La comunidad de Python es extensa y activa. Esto significa que siempre hay recursos, tutoriales y soluciones disponibles para resolver problemas específicos de ciencia de datos.\n",
    "- **Versatilidad general**: Además de la ciencia de datos, Python se utiliza en desarrollo web, automatización, inteligencia artificial, aprendizaje automático y más. Su versatilidad lo convierte en una opción poderosa para profesionales de diferentes áreas.\n",
    "\n",
    "---\n",
    "\n",
    "## 🎯 Objetivos del Aprendizaje\n",
    "\n",
    "Al finalizar este curso, serás capaz de:\n",
    "\n",
    "1. 📊 **Manipular** conjuntos de datos complejos.\n",
    "2. 🔍 **Identificar** patrones y tendencias en los datos.\n",
    "3. 🧮 **Calcular** estadísticas descriptivas y realizar análisis estadísticos.\n",
    "4. 📈 **Visualizar** datos de manera efectiva utilizando librerías como Matplotlib y Seaborn.\n",
    "5. 🤖 **Desarrollar** modelos predictivos básicos con Scikit-Learn.\n",
    "6. 📝 **Generar** informes y presentaciones profesionales basados en el análisis de datos.\n",
    "\n",
    "---\n",
    "\n",
    "## 💪 Competencias que Desarrollarás\n",
    "\n",
    "| Competencia               | Descripción                                                          |\n",
    "|---------------------------|----------------------------------------------------------------------|\n",
    "| 🧠 Análisis de Datos       | Dominarás la exploración y transformación de datos complejos.       |\n",
    "| 📐 Pensamiento Estadístico | Aplicarás conceptos estadísticos al análisis de datos.              |\n",
    "| 💻 Programación en Python  | Te volverás un experto en Python y sus principales librerías.       |\n",
    "| 🎨 Visualización de Datos  | Crearás gráficos y visualizaciones que cuenten historias convincentes.|\n",
    "| 🔬 Pensamiento Crítico     | Evaluarás datos, identificarás anomalías y formularás hipótesis.     |\n",
    "| 🧩 Resolución de Problemas | Abordarás desafíos complejos con soluciones creativas.              |\n",
    "| 📢 Comunicación Científica | Presentarás hallazgos de manera clara y persuasiva.                  |\n",
    "| ⏱️ Gestión del Tiempo      | Manejarás múltiples análisis con eficiencia.                        |\n",
    "| 📚 Aprendizaje Continuo    | Te mantendrás al día con las últimas técnicas y herramientas.       |\n",
    "\n",
    "---\n",
    "\n",
    "### 🌟 El Futuro está en tus Manos\n",
    "\n",
    "> \"Los datos son el nuevo petróleo. Es valioso, pero si no se refina, no se puede usar realmente.\" - Clive Humby\n",
    "\n",
    "Prepárate para sumergirte en un mundo donde los datos cobran vida. Cada línea de código que escribas te acercará más a descifrar los misterios del análisis de datos y a hacer un impacto real en el mundo.\n",
    "\n",
    "**¿Estás listo para convertir datos en conocimiento y ese conocimiento en acción?** 🌍🔬🚀"
   ]
  },
  {
   "cell_type": "markdown",
   "metadata": {},
   "source": [
    "## Operadores aritméticos:\n",
    "- `+` (suma): Suma dos valores.\n",
    "- `-` (resta): Resta el segundo valor del primero.\n",
    "- `*` (multiplicación): Multiplica dos valores.\n",
    "- `/` (división): Divide el primer valor por el segundo.\n",
    "- `%` (módulo): Devuelve el residuo de la división.\n",
    "- `**` (exponenciación): Calcula la potencia.\n",
    "- `//` (división entera): Devuelve la parte entera de la división.\n",
    "\n",
    "## Operadores de asignación:\n",
    "- `=`: Asigna un valor a una variable.\n",
    "- `+=`, `-=`: Realiza una operación y actualiza el valor de la variable.\n",
    "- `*=`, `/=`, `%=`: Realiza una operación y actualiza el valor de la variable.\n",
    "- `**=`, `//=`: Realiza una operación y actualiza el valor de la variable.\n",
    "\n",
    "## Operadores de comparación:\n",
    "- `==` (igual): Compara si dos valores son iguales.\n",
    "- `!=` (distinto): Compara si dos valores son diferentes.\n",
    "- `>`, `<`, `>=`, `<=`: Compara si un valor es mayor, menor, mayor o igual, o menor o igual que otro.\n",
    "\n",
    "## Operadores lógicos:\n",
    "- `and` (y): Retorna verdadero si ambas condiciones son verdaderas.\n",
    "- `or` (o): Retorna verdadero si al menos una condición es verdadera.\n",
    "- `not` (no): Invierte el resultado de una condición.\n"
   ]
  },
  {
   "cell_type": "markdown",
   "metadata": {},
   "source": [
    "# Operadores básicos"
   ]
  },
  {
   "cell_type": "code",
   "execution_count": null,
   "metadata": {
    "scrolled": false
   },
   "outputs": [],
   "source": [
    "2 + 2"
   ]
  },
  {
   "cell_type": "code",
   "execution_count": null,
   "metadata": {},
   "outputs": [],
   "source": []
  },
  {
   "cell_type": "code",
   "execution_count": null,
   "metadata": {},
   "outputs": [],
   "source": [
    "2 - 1"
   ]
  },
  {
   "cell_type": "code",
   "execution_count": null,
   "metadata": {},
   "outputs": [],
   "source": []
  },
  {
   "cell_type": "code",
   "execution_count": null,
   "metadata": {},
   "outputs": [],
   "source": []
  },
  {
   "cell_type": "code",
   "execution_count": null,
   "metadata": {},
   "outputs": [],
   "source": [
    "2 * 2"
   ]
  },
  {
   "cell_type": "code",
   "execution_count": null,
   "metadata": {},
   "outputs": [],
   "source": []
  },
  {
   "cell_type": "code",
   "execution_count": null,
   "metadata": {},
   "outputs": [],
   "source": [
    "4 / 2"
   ]
  },
  {
   "cell_type": "code",
   "execution_count": null,
   "metadata": {},
   "outputs": [],
   "source": []
  },
  {
   "cell_type": "code",
   "execution_count": null,
   "metadata": {},
   "outputs": [],
   "source": [
    "2 ** 3"
   ]
  },
  {
   "cell_type": "code",
   "execution_count": null,
   "metadata": {},
   "outputs": [],
   "source": []
  },
  {
   "cell_type": "code",
   "execution_count": null,
   "metadata": {},
   "outputs": [],
   "source": [
    "True"
   ]
  },
  {
   "cell_type": "code",
   "execution_count": null,
   "metadata": {},
   "outputs": [],
   "source": []
  },
  {
   "cell_type": "code",
   "execution_count": null,
   "metadata": {},
   "outputs": [],
   "source": [
    "False"
   ]
  },
  {
   "cell_type": "code",
   "execution_count": null,
   "metadata": {},
   "outputs": [],
   "source": []
  },
  {
   "cell_type": "code",
   "execution_count": null,
   "metadata": {},
   "outputs": [],
   "source": [
    "5 < 8"
   ]
  },
  {
   "cell_type": "code",
   "execution_count": null,
   "metadata": {},
   "outputs": [],
   "source": []
  },
  {
   "cell_type": "code",
   "execution_count": null,
   "metadata": {},
   "outputs": [],
   "source": [
    "8 > 5"
   ]
  },
  {
   "cell_type": "code",
   "execution_count": null,
   "metadata": {},
   "outputs": [],
   "source": []
  },
  {
   "cell_type": "code",
   "execution_count": null,
   "metadata": {},
   "outputs": [],
   "source": [
    "5 <= 8"
   ]
  },
  {
   "cell_type": "code",
   "execution_count": null,
   "metadata": {},
   "outputs": [],
   "source": []
  },
  {
   "cell_type": "code",
   "execution_count": null,
   "metadata": {},
   "outputs": [],
   "source": [
    "8 >= 5"
   ]
  },
  {
   "cell_type": "code",
   "execution_count": null,
   "metadata": {},
   "outputs": [],
   "source": []
  },
  {
   "cell_type": "code",
   "execution_count": null,
   "metadata": {},
   "outputs": [],
   "source": [
    "5 == 5"
   ]
  },
  {
   "cell_type": "code",
   "execution_count": null,
   "metadata": {},
   "outputs": [],
   "source": []
  },
  {
   "cell_type": "code",
   "execution_count": null,
   "metadata": {},
   "outputs": [],
   "source": [
    "5 != 5"
   ]
  },
  {
   "cell_type": "code",
   "execution_count": null,
   "metadata": {},
   "outputs": [],
   "source": []
  },
  {
   "cell_type": "code",
   "execution_count": null,
   "metadata": {},
   "outputs": [],
   "source": [
    "('a' == 'a') and (5 != 5)"
   ]
  },
  {
   "cell_type": "code",
   "execution_count": null,
   "metadata": {},
   "outputs": [],
   "source": [
    "('a' == 'a') or (5 != 5)"
   ]
  },
  {
   "cell_type": "code",
   "execution_count": null,
   "metadata": {},
   "outputs": [],
   "source": [
    "('a' == 'a') & (5 != 5)"
   ]
  },
  {
   "cell_type": "code",
   "execution_count": null,
   "metadata": {},
   "outputs": [],
   "source": [
    "('a' == 'a') | (5 != 5)"
   ]
  },
  {
   "cell_type": "code",
   "execution_count": null,
   "metadata": {},
   "outputs": [],
   "source": [
    "not True"
   ]
  },
  {
   "cell_type": "code",
   "execution_count": null,
   "metadata": {},
   "outputs": [],
   "source": [
    "a = [1,2,3,4]"
   ]
  },
  {
   "cell_type": "code",
   "execution_count": null,
   "metadata": {},
   "outputs": [],
   "source": [
    "a[1:4]"
   ]
  },
  {
   "cell_type": "markdown",
   "metadata": {},
   "source": [
    "### Operador slice. Se usa mucho para indexar por rango. [inicio:final:salto]\n",
    "> Tener en cuenta que en Python los índices empiezan por cero y que el intervalo de la derecha es abierto\n"
   ]
  },
  {
   "cell_type": "code",
   "execution_count": null,
   "metadata": {},
   "outputs": [],
   "source": [
    "a = [1,2,3,4]\n",
    "a[1:3]"
   ]
  },
  {
   "cell_type": "code",
   "execution_count": null,
   "metadata": {},
   "outputs": [],
   "source": [
    "a = [1,2,3,4]\n",
    "a[1:3]"
   ]
  },
  {
   "cell_type": "markdown",
   "metadata": {},
   "source": [
    "### Ejemplo del salto\n"
   ]
  },
  {
   "cell_type": "code",
   "execution_count": null,
   "metadata": {},
   "outputs": [],
   "source": [
    "a[0:3:2]"
   ]
  },
  {
   "cell_type": "markdown",
   "metadata": {},
   "source": [
    "### Función sum()\n",
    "> - La función sum() suma todos los elementos de un iterable (como una lista).\n",
    "> - Sintaxis: sum(iterable, start=0)\n",
    "> - 'start' es un valor opcional que se añade al total (por defecto es 0).\n",
    "\n"
   ]
  },
  {
   "cell_type": "code",
   "execution_count": null,
   "metadata": {},
   "outputs": [],
   "source": [
    "numeros = [1, 2, 3, 4, 5]\n",
    "suma = sum(numeros)\n",
    "print(suma)  # Resultado: 15\n",
    "\n"
   ]
  },
  {
   "cell_type": "markdown",
   "metadata": {},
   "source": [
    "### Ejemplo con 'start'\n"
   ]
  },
  {
   "cell_type": "code",
   "execution_count": null,
   "metadata": {},
   "outputs": [],
   "source": [
    "suma_con_inicio = sum(numeros, 10)\n",
    "print(suma_con_inicio)  # Resultado: 25\n"
   ]
  },
  {
   "cell_type": "markdown",
   "metadata": {},
   "source": [
    "\n",
    "### Función len()\n",
    "> - La función len() devuelve el número de elementos en un objeto.\n",
    "> - Funciona con strings, listas, tuplas, diccionarios, etc.\n",
    "> - Sintaxis: len(objeto)\n"
   ]
  },
  {
   "cell_type": "code",
   "execution_count": null,
   "metadata": {},
   "outputs": [],
   "source": [
    "\n",
    "lista = [1, 2, 3, 4, 5]\n",
    "longitud = len(lista)\n",
    "print(longitud)  # Resultado: 5\n",
    "\n"
   ]
  },
  {
   "cell_type": "code",
   "execution_count": null,
   "metadata": {},
   "outputs": [],
   "source": [
    "texto = \"Hola, mundo!\"\n",
    "longitud_texto = len(texto)\n",
    "print(longitud_texto)  # Resultado: 12\n"
   ]
  },
  {
   "cell_type": "markdown",
   "metadata": {},
   "source": [
    "\n",
    "### Función any()\n",
    "> - La función any() devuelve True si algún elemento del iterable es True.\n",
    "> - Si el iterable está vacío, devuelve False.\n",
    "> - Sintaxis: any(iterable)\n"
   ]
  },
  {
   "cell_type": "code",
   "execution_count": null,
   "metadata": {},
   "outputs": [],
   "source": [
    "\n",
    "lista1 = [True, False, False]\n",
    "resultado1 = any(lista1)\n",
    "print(resultado1)  # Resultado: True\n"
   ]
  },
  {
   "cell_type": "code",
   "execution_count": null,
   "metadata": {},
   "outputs": [],
   "source": [
    "\n",
    "lista2 = [False, False, False]\n",
    "resultado2 = any(lista2)\n",
    "print(resultado2)  # Resultado: False\n"
   ]
  },
  {
   "cell_type": "markdown",
   "metadata": {},
   "source": [
    "\n",
    "### any() también funciona con generadores\n"
   ]
  },
  {
   "cell_type": "code",
   "execution_count": null,
   "metadata": {},
   "outputs": [],
   "source": [
    "numeros = [1, 2, 3, 4, 5]\n",
    "hay_par = any(num % 2 == 0 for num in numeros)\n",
    "print(hay_par)  # Resultado: True"
   ]
  },
  {
   "cell_type": "markdown",
   "metadata": {},
   "source": [
    "# Ejercicios de aplicacion"
   ]
  },
  {
   "cell_type": "markdown",
   "metadata": {},
   "source": [
    "## Ejercicio 1: Análisis de Calidad del Agua en un Río\n",
    "\n",
    "### Tienes datos de concentración de oxígeno disuelto (en mg/L) en diferentes puntos de un río.\n",
    "### La lista 'oxigeno_disuelto' contiene las mediciones en orden, desde la fuente hasta la desembocadura.\n",
    "\n",
    "oxigeno_disuelto = [8.5, 8.2, 7.9, 7.6, 7.2, 6.8, 6.5, 6.1, 5.8, 5.5]\n",
    "\n",
    "- Calcula la concentración promedio de oxígeno disuelto en el río.\n",
    "- Determina si en algún punto del río la concentración de oxígeno disuelto cae por debajo de 6.0 mg/L, lo cual es crítico para la vida acuática.\n",
    "- Obtén las mediciones de oxígeno disuelto en el tramo medio del río (desde el cuarto hasta el séptimo punto de medición, inclusive).\n",
    "- Calcula el porcentaje de disminución de oxígeno disuelto entre el primer y último punto de medición.\n",
    "### Imprime todos los resultados con mensajes descriptivos.\n"
   ]
  },
  {
   "cell_type": "markdown",
   "metadata": {},
   "source": [
    "## Solución: \n",
    "\n",
    "### Análisis de Calidad del Agua en un Río\n"
   ]
  },
  {
   "cell_type": "code",
   "execution_count": null,
   "metadata": {},
   "outputs": [],
   "source": [
    "\n",
    "oxigeno_disuelto = [8.5, 8.2, 7.9, 7.6, 7.2, 6.8, 6.5, 6.1, 5.8, 5.5]\n"
   ]
  },
  {
   "cell_type": "markdown",
   "metadata": {},
   "source": [
    "### Cálculo del promedio de oxígeno disuelto"
   ]
  },
  {
   "cell_type": "code",
   "execution_count": null,
   "metadata": {},
   "outputs": [],
   "source": [
    "promedio_oxigeno = sum(oxigeno_disuelto) / len(oxigeno_disuelto)\n",
    "print(f\"1. La concentración promedio de oxígeno disuelto es {promedio_oxigeno:.2f} mg/L\")\n"
   ]
  },
  {
   "cell_type": "markdown",
   "metadata": {},
   "source": [
    "\n",
    "### Verificar si en algún punto la concentración cae por debajo de 6.0 mg/L\n"
   ]
  },
  {
   "cell_type": "code",
   "execution_count": null,
   "metadata": {},
   "outputs": [],
   "source": [
    "nivel_critico = any(nivel < 6.0 for nivel in oxigeno_disuelto)\n",
    "print(f\"2. ¿Hay algún punto con nivel crítico de oxígeno disuelto? {nivel_critico}\")\n"
   ]
  },
  {
   "cell_type": "markdown",
   "metadata": {},
   "source": [
    "\n",
    "### Obtener mediciones del tramo medio del río"
   ]
  },
  {
   "cell_type": "code",
   "execution_count": null,
   "metadata": {},
   "outputs": [],
   "source": [
    "tramo_medio = oxigeno_disuelto[3:7]\n",
    "print(f\"3. Las mediciones en el tramo medio del río son: {tramo_medio}\")\n"
   ]
  },
  {
   "cell_type": "markdown",
   "metadata": {},
   "source": [
    "### Calcular el porcentaje de disminución entre el primer y último punto\n"
   ]
  },
  {
   "cell_type": "code",
   "execution_count": null,
   "metadata": {},
   "outputs": [],
   "source": [
    "disminucion_porcentaje = (oxigeno_disuelto[0] - oxigeno_disuelto[-1]) / oxigeno_disuelto[0] * 100\n",
    "print(f\"4. El porcentaje de disminución de oxígeno disuelto es {disminucion_porcentaje:.2f}%\")"
   ]
  },
  {
   "cell_type": "markdown",
   "metadata": {},
   "source": [
    "## Ejercicio 2: Cálculo de volumen de agua\n",
    "### Un embalse tiene forma rectangular con las siguientes dimensiones:\n",
    "### largo = 500 m, ancho = 200 m, profundidad = 10 m\n",
    "### Calcula el volumen de agua en el embalse en metros cúbicos.\n",
    "\n"
   ]
  },
  {
   "cell_type": "code",
   "execution_count": null,
   "metadata": {},
   "outputs": [],
   "source": [
    "largo = 500\n",
    "ancho = 200\n",
    "profundidad = 10\n",
    "\n",
    "volumen = # Tu código aquí\n",
    "\n",
    "print(f\"El volumen de agua en el embalse es {volumen} metros cúbicos.\")\n"
   ]
  },
  {
   "cell_type": "markdown",
   "metadata": {},
   "source": [
    "\n",
    "## Ejercicio 3: Comparación de niveles de pH\n",
    "### El pH neutro es 7. Un pH por debajo de 7 es ácido, por encima es básico.\n",
    "### Determina si una muestra de agua con pH 6.5 es ácida.\n"
   ]
  },
  {
   "cell_type": "code",
   "execution_count": null,
   "metadata": {},
   "outputs": [],
   "source": [
    "\n",
    "ph_muestra = 6.5\n",
    "es_acida = # Tu código aquí\n",
    "\n",
    "print(f\"¿La muestra de agua es ácida? {es_acida}\")\n"
   ]
  },
  {
   "cell_type": "markdown",
   "metadata": {},
   "source": [
    "\n",
    "## Ejercicio 4: Evaluación de la calidad del agua\n",
    "### El agua es potable si cumple todas estas condiciones:\n",
    "- pH entre 6.5 y 8.5\n",
    "- Turbidez menor a 5 NTU\n",
    "- Cloro residual entre 0.3 y 1.5 mg/L\n",
    "### Determina si una muestra de agua es potable con los siguientes valores:\n"
   ]
  },
  {
   "cell_type": "code",
   "execution_count": null,
   "metadata": {},
   "outputs": [],
   "source": [
    "\n",
    "ph = 7.2\n",
    "turbidez = 3.5\n",
    "cloro_residual = 0.5\n",
    "\n",
    "es_potable = # Tu código aquí\n",
    "\n",
    "print(f\"¿El agua es potable? {es_potable}\")\n"
   ]
  },
  {
   "cell_type": "markdown",
   "metadata": {},
   "source": [
    "\n",
    "## Ejercicio 5: Análisis de precipitaciones\n",
    "### Tienes una lista con las precipitaciones diarias (en mm) de la última semana.\n",
    "### Obtén las precipitaciones de los días laborables (índices 0 a 4).\n"
   ]
  },
  {
   "cell_type": "code",
   "execution_count": null,
   "metadata": {},
   "outputs": [],
   "source": [
    "\n",
    "precipitaciones = [5.2, 0.0, 12.8, 3.5, 1.0, 22.3, 8.7]\n",
    "precipitaciones_laborables = # Tu código aquí\n",
    "\n",
    "print(f\"Las precipitaciones en los días laborables fueron: {precipitaciones_laborables}\")\n"
   ]
  },
  {
   "cell_type": "markdown",
   "metadata": {},
   "source": [
    "\n",
    "## Ejercicio 6: Comparación de caudales\n",
    "### Tienes dos listas con mediciones de caudal (en m³/s) en dos puntos de un río.\n",
    "### Determina si el caudal promedio en el segundo punto es mayor que en el primero.\n"
   ]
  },
  {
   "cell_type": "code",
   "execution_count": null,
   "metadata": {},
   "outputs": [],
   "source": [
    "\n",
    "caudal_punto1 = [23.5, 25.1, 22.8, 24.3, 26.5]\n",
    "caudal_punto2 = [24.1, 25.3, 23.6, 24.8, 26.2]\n",
    "\n",
    "promedio_punto1 = # Tu código aquí\n",
    "promedio_punto2 = # Tu código aquí\n",
    "caudal_aumenta = # Tu código aquí\n",
    "\n",
    "print(f\"¿El caudal aumenta entre el punto 1 y el punto 2? {caudal_aumenta}\")"
   ]
  },
  {
   "cell_type": "markdown",
   "metadata": {},
   "source": [
    "## ¿Cómo funcionan las asignaciones y las asignaciones dinámicas?\n",
    "\n",
    "En Jupyter Notebook, las asignaciones se refieren a la creación y actualización de variables. Puedes asignar valores a variables utilizando el operador =. Por ejemplo:\n",
    "\n"
   ]
  },
  {
   "cell_type": "code",
   "execution_count": null,
   "metadata": {},
   "outputs": [],
   "source": [
    "# Asignación de valores\n",
    "x = 10\n",
    "y = \"Hola, mundo\"\n"
   ]
  },
  {
   "cell_type": "markdown",
   "metadata": {},
   "source": [
    "# Impresión dinámica\n",
    "La impresión dinámica se refiere a mostrar resultados o información en tiempo real mientras ejecutas celdas de código. Puedes imprimir valores o mensajes utilizando la función print(). Por ejemplo:"
   ]
  },
  {
   "cell_type": "code",
   "execution_count": null,
   "metadata": {},
   "outputs": [],
   "source": [
    "print(\"El valor de x es:\", x)\n",
    "print(\"Mensaje de bienvenida:\", y)"
   ]
  },
  {
   "cell_type": "code",
   "execution_count": null,
   "metadata": {},
   "outputs": [],
   "source": [
    "caudal_rio = 25"
   ]
  },
  {
   "cell_type": "markdown",
   "metadata": {},
   "source": [
    "Reglas para los nombres de las variables:\n",
    "* Pueden ser arbitrariamente largos.\n",
    "* Pueden contener tanto letras como números.\n",
    "* Deben empezar con letras.\n",
    "* Pueden aparecer subrayados para unir múltiples palabras.\n",
    "* No pueden ser palabras reservadas de Python."
   ]
  },
  {
   "cell_type": "markdown",
   "metadata": {},
   "source": [
    "## Esta es la lista de palabras reservadas\n"
   ]
  },
  {
   "cell_type": "code",
   "execution_count": null,
   "metadata": {},
   "outputs": [],
   "source": [
    "import keyword\n",
    "print(keyword.kwlist)"
   ]
  },
  {
   "cell_type": "code",
   "execution_count": null,
   "metadata": {},
   "outputs": [],
   "source": [
    "nombre = 'Paquita la del barrio'\n",
    "edad = 56"
   ]
  },
  {
   "cell_type": "code",
   "execution_count": null,
   "metadata": {},
   "outputs": [],
   "source": [
    "nombre"
   ]
  },
  {
   "cell_type": "code",
   "execution_count": null,
   "metadata": {},
   "outputs": [],
   "source": [
    "print(nombre)"
   ]
  },
  {
   "cell_type": "code",
   "execution_count": null,
   "metadata": {},
   "outputs": [],
   "source": [
    "a = 1\n",
    "b = 2\n"
   ]
  },
  {
   "cell_type": "markdown",
   "metadata": {},
   "source": [
    "## Se pueden hacer asignaciones directas a varias variables a la vez\n"
   ]
  },
  {
   "cell_type": "code",
   "execution_count": null,
   "metadata": {},
   "outputs": [],
   "source": [
    "\n",
    "a,b,c,d = 1,2,3,4\n",
    "c"
   ]
  },
  {
   "cell_type": "code",
   "execution_count": null,
   "metadata": {},
   "outputs": [],
   "source": [
    "\"comillas dobles\""
   ]
  },
  {
   "cell_type": "code",
   "execution_count": null,
   "metadata": {},
   "outputs": [],
   "source": [
    "'o comillas simples'"
   ]
  },
  {
   "cell_type": "code",
   "execution_count": null,
   "metadata": {},
   "outputs": [],
   "source": [
    "\"o simples 'dentro de dobles'\""
   ]
  },
  {
   "cell_type": "code",
   "execution_count": null,
   "metadata": {},
   "outputs": [],
   "source": [
    "'o simples \"dentro\" de dobles'"
   ]
  },
  {
   "cell_type": "code",
   "execution_count": null,
   "metadata": {},
   "outputs": [],
   "source": [
    "'pero del 'mismo' tipo no funcionan'"
   ]
  },
  {
   "cell_type": "markdown",
   "metadata": {},
   "source": [
    "Se pueden meter variables dentro de textos de forma dinámica"
   ]
  },
  {
   "cell_type": "code",
   "execution_count": null,
   "metadata": {},
   "outputs": [],
   "source": [
    "print('Soy {} y tengo {} años'.format(nombre,edad))"
   ]
  },
  {
   "cell_type": "markdown",
   "metadata": {},
   "source": [
    "### Otra manera de introducir datos en texto de forma dinámica es con los indicadores de formato:\n",
    "\n",
    "> -%d para enteros\n",
    "> \n",
    "> -%f para reales\n",
    "> \n",
    "> -%s para texto\n",
    "> \n",
    "> -Al terminar el texto se pondrá de nuevo % con el valor a incluir"
   ]
  },
  {
   "cell_type": "code",
   "execution_count": null,
   "metadata": {
    "scrolled": true
   },
   "outputs": [],
   "source": [
    "print('Hola me llamo %s' %'Ulises')\n",
    "print('Tengo %d años y %d hijos' %(44,1))"
   ]
  },
  {
   "cell_type": "code",
   "execution_count": null,
   "metadata": {},
   "outputs": [],
   "source": [
    "#En los reales podemos decirle el número de decimales que queremos\n",
    "print('Con 2 decimales: %.2f' % 3.1416)"
   ]
  },
  {
   "cell_type": "code",
   "execution_count": null,
   "metadata": {},
   "outputs": [],
   "source": [
    "#Si sumamos cadenas lo que hace es concatenarlas\n",
    "print('Soy ' + 'Ulises y tengo ' + '44 años')"
   ]
  },
  {
   "cell_type": "markdown",
   "metadata": {},
   "source": [
    "--------------------------------------------------------------------------------------------------------------------------------------------------------"
   ]
  },
  {
   "cell_type": "markdown",
   "metadata": {},
   "source": [
    "## TIPOS DE DATOS"
   ]
  },
  {
   "cell_type": "markdown",
   "metadata": {},
   "source": [
    "### Individuales"
   ]
  },
  {
   "cell_type": "markdown",
   "metadata": {},
   "source": [
    "#### Números"
   ]
  },
  {
   "cell_type": "code",
   "execution_count": null,
   "metadata": {},
   "outputs": [],
   "source": [
    "#Tipo entero (int)\n"
   ]
  },
  {
   "cell_type": "code",
   "execution_count": null,
   "metadata": {},
   "outputs": [],
   "source": [
    "a = 14\n",
    "print(type(a))\n"
   ]
  },
  {
   "cell_type": "code",
   "execution_count": null,
   "metadata": {},
   "outputs": [],
   "source": [
    "\n",
    "#Tipo real (float)\n"
   ]
  },
  {
   "cell_type": "code",
   "execution_count": null,
   "metadata": {},
   "outputs": [],
   "source": [
    "b = 14.34\n",
    "print(type(b))"
   ]
  },
  {
   "cell_type": "markdown",
   "metadata": {},
   "source": [
    "### Crea una celda y evalúa e identifica los tipos de datos: 3,-2, 3,14159"
   ]
  },
  {
   "cell_type": "markdown",
   "metadata": {},
   "source": [
    "#### Nulos"
   ]
  },
  {
   "cell_type": "markdown",
   "metadata": {},
   "source": [
    "En Python estandar se identifican con None. Pero cuidado porque en otros paquetes como Numpy, Pandas, ... tienen otras notaciones."
   ]
  },
  {
   "cell_type": "code",
   "execution_count": null,
   "metadata": {},
   "outputs": [],
   "source": [
    "nulo = None\n",
    "type(nulo)"
   ]
  },
  {
   "cell_type": "markdown",
   "metadata": {},
   "source": [
    "#### Fechas"
   ]
  },
  {
   "cell_type": "markdown",
   "metadata": {},
   "source": [
    "Python estandar no tiene un tipo de datos como tal para las fechas. Para la gestión de fechas usaremos una librería que se llama Pandas."
   ]
  },
  {
   "cell_type": "markdown",
   "metadata": {},
   "source": [
    "#### Cadenas (texto)"
   ]
  },
  {
   "cell_type": "markdown",
   "metadata": {},
   "source": [
    "Un tipo especial de datos es cuando trabajamos con textos. Python tiene métodos específicos para este tipo de variables. Vamos a conocer los más frecuentes."
   ]
  },
  {
   "cell_type": "code",
   "execution_count": null,
   "metadata": {},
   "outputs": [],
   "source": [
    "cadena = 'Me llamo Ulises González y tengo 44 años'"
   ]
  },
  {
   "cell_type": "code",
   "execution_count": null,
   "metadata": {},
   "outputs": [],
   "source": [
    "type(cadena)"
   ]
  },
  {
   "cell_type": "code",
   "execution_count": null,
   "metadata": {},
   "outputs": [],
   "source": [
    "cadena.lower()"
   ]
  },
  {
   "cell_type": "code",
   "execution_count": null,
   "metadata": {},
   "outputs": [],
   "source": [
    "cadena.upper()"
   ]
  },
  {
   "cell_type": "code",
   "execution_count": null,
   "metadata": {},
   "outputs": [],
   "source": [
    "cadena.split()"
   ]
  },
  {
   "cell_type": "code",
   "execution_count": null,
   "metadata": {},
   "outputs": [],
   "source": [
    "cadena.split('y')"
   ]
  },
  {
   "cell_type": "code",
   "execution_count": null,
   "metadata": {},
   "outputs": [],
   "source": [
    "cadena.replace('Ulises','Mario')"
   ]
  },
  {
   "cell_type": "code",
   "execution_count": null,
   "metadata": {},
   "outputs": [],
   "source": [
    "cadena.count('a')"
   ]
  },
  {
   "cell_type": "markdown",
   "metadata": {},
   "source": [
    "El método `.find()` en Python se utiliza para buscar la primera aparición de una subcadena dentro de una cadena más grande. Devuelve el índice (posición) de la primera ocurrencia de la subcadena o -1 si no se encuentra.\n",
    "\n",
    "En tu ejemplo, cadena.find('Ulises') buscaría la subcadena “Ulises” dentro de la variable cadena. Si se encuentra, devolverá la posición donde comienza la subcadena. Si no se encuentra, devolverá -1"
   ]
  },
  {
   "cell_type": "code",
   "execution_count": null,
   "metadata": {},
   "outputs": [],
   "source": [
    "cadena.find('Ulises')"
   ]
  },
  {
   "cell_type": "markdown",
   "metadata": {},
   "source": [
    "### Lista de todos los métodos de cadenas:\n",
    "- https://www.w3schools.com/python/python_ref_string.asp"
   ]
  },
  {
   "cell_type": "markdown",
   "metadata": {},
   "source": [
    "#### Conversiones"
   ]
  },
  {
   "cell_type": "markdown",
   "metadata": {},
   "source": [
    "Se pueden convertir de un tipo a otro (siempre que tenga sentido, si no dará un error)"
   ]
  },
  {
   "cell_type": "code",
   "execution_count": null,
   "metadata": {},
   "outputs": [],
   "source": [
    "float(14)"
   ]
  },
  {
   "cell_type": "code",
   "execution_count": null,
   "metadata": {},
   "outputs": [],
   "source": [
    "int(14.34)"
   ]
  },
  {
   "cell_type": "code",
   "execution_count": null,
   "metadata": {},
   "outputs": [],
   "source": [
    "str(14.34)"
   ]
  },
  {
   "cell_type": "code",
   "execution_count": null,
   "metadata": {},
   "outputs": [],
   "source": [
    "int('Soy Ulises')"
   ]
  },
  {
   "cell_type": "markdown",
   "metadata": {},
   "source": [
    "# Ejercicio de aplicación resuelto"
   ]
  },
  {
   "cell_type": "markdown",
   "metadata": {},
   "source": [
    "## Problema: Análisis de Calidad del Agua\n",
    "\n",
    "- Crea una variable llamada 'nombre_rio' y asígnale el valor \"Río Colorado\".\n",
    "\n",
    "- Crea una lista llamada 'mediciones_ph' con los siguientes valores de pH: 7.2, 6.8, 7.5, 8.0, 7.1\n",
    "\n",
    "- Calcula el pH promedio y guárdalo en una variable llamada 'ph_promedio'.\n",
    "\n",
    "- Crea un mensaje que diga: \"El pH promedio del [nombre del río] es [pH promedio]\", usando .format() para insertar las variables.\n",
    "\n",
    "- Convierte el mensaje a mayúsculas usando un método de cadenas.\n",
    "\n",
    "- Imprime el mensaje final."
   ]
  },
  {
   "cell_type": "markdown",
   "metadata": {},
   "source": [
    "# Solución:"
   ]
  },
  {
   "cell_type": "markdown",
   "metadata": {},
   "source": [
    "- Crear la variable 'nombre_rio'\n"
   ]
  },
  {
   "cell_type": "code",
   "execution_count": null,
   "metadata": {},
   "outputs": [],
   "source": [
    "nombre_rio = \"Río Colorado\"\n",
    "nombre_rio"
   ]
  },
  {
   "cell_type": "markdown",
   "metadata": {},
   "source": [
    "\n",
    "- Crear la lista 'mediciones_ph'\n"
   ]
  },
  {
   "cell_type": "code",
   "execution_count": null,
   "metadata": {},
   "outputs": [],
   "source": [
    "mediciones_ph = [7.2, 6.8, 7.5, 8.0, 7.1]\n"
   ]
  },
  {
   "cell_type": "markdown",
   "metadata": {},
   "source": [
    "\n",
    "- Calcular el pH promedio"
   ]
  },
  {
   "cell_type": "code",
   "execution_count": null,
   "metadata": {},
   "outputs": [],
   "source": [
    "# Usamos sum() para sumar todos los valores de la lista\n",
    "# y len() para obtener el número de elementos\n",
    "ph_promedio = sum(mediciones_ph) / len(mediciones_ph)\n",
    "ph_promedio\n"
   ]
  },
  {
   "cell_type": "markdown",
   "metadata": {},
   "source": [
    "\n",
    "- Crear el mensaje usando .format()\n"
   ]
  },
  {
   "cell_type": "code",
   "execution_count": null,
   "metadata": {},
   "outputs": [],
   "source": [
    "mensaje = \"El pH promedio del {} es {:.2f}\".format(nombre_rio, ph_promedio)\n",
    "mensaje"
   ]
  },
  {
   "cell_type": "markdown",
   "metadata": {},
   "source": [
    "\n",
    "- Convertir el mensaje a mayúsculas\n"
   ]
  },
  {
   "cell_type": "code",
   "execution_count": null,
   "metadata": {},
   "outputs": [],
   "source": [
    "mensaje_mayusculas = mensaje.upper()\n",
    "mensaje_mayusculas"
   ]
  },
  {
   "cell_type": "markdown",
   "metadata": {},
   "source": [
    "\n",
    "- Imprimir el mensaje final\n"
   ]
  },
  {
   "cell_type": "code",
   "execution_count": null,
   "metadata": {},
   "outputs": [],
   "source": [
    "print(mensaje_mayusculas)\n"
   ]
  },
  {
   "cell_type": "markdown",
   "metadata": {},
   "source": [
    "\n",
    "\n",
    "### Explicación adicional:\n",
    "- En el paso 3, usamos sum() y len(), que son funciones integradas de Python.\n",
    "- En el paso 4, usamos .format() para insertar las variables en el string.\n",
    "- El {:.2f} indica que queremos mostrar el número con 2 decimales.\n",
    "- En el paso 5, upper() es un método de cadenas que convierte todo a mayúsculas."
   ]
  },
  {
   "cell_type": "markdown",
   "metadata": {},
   "source": [
    "# Ejercicios de aplicación "
   ]
  },
  {
   "cell_type": "markdown",
   "metadata": {},
   "source": [
    "## Ejercicio 7: Asignación de variables\n",
    "- Asigna valores a variables para representar diferentes mediciones en un río.\n",
    "- Usa nombres de variables apropiados según las reglas mencionadas.\n",
    "- Desarrolla el código (asigna al menos 3 variables con diferentes tipos de datos)\n",
    "- Imprime las variables utilizando print()"
   ]
  },
  {
   "cell_type": "markdown",
   "metadata": {},
   "source": [
    "## Ejercicio 8: Formateo de cadenas\n",
    "- Utiliza los datos del problema 1 para crear un mensaje formateado sobre el estado del río.\n",
    "- Usa tanto .format() como los indicadores de formato (%d, %f, %s).\n",
    "- Desarrolla el código"
   ]
  },
  {
   "cell_type": "markdown",
   "metadata": {},
   "source": [
    "## Ejercicio 9: Manipulación de cadenas\n",
    "- Crea una cadena que describa los componentes de un sistema hídrico.\n",
    "- Utiliza al menos 3 métodos de cadenas diferentes (como lower(), upper(), split(), etc.).\n",
    "- sistema_hidrico = \"Río Chucunaque: Cuenca, Afluentes, Desembocadura\"\n",
    "- Desarrolla el código"
   ]
  },
  {
   "cell_type": "markdown",
   "metadata": {},
   "source": [
    "## Ejercicio 10: Conversiones de tipos de datos\n",
    "### Convierte los siguientes datos a los tipos especificados:\n",
    "- El número 15.7 a entero\n",
    "- El número 24 a float\n",
    "- El número 30.5 a string\n",
    "\n",
    "\n",
    "\n"
   ]
  },
  {
   "cell_type": "markdown",
   "metadata": {},
   "source": [
    "## Ejercicio 11: Asignación múltiple y operaciones básicas\n",
    "- Asigna en una sola línea valores a variables que representen mediciones de pH en diferentes puntos de un río.\n",
    "- Calcula el pH promedio y muestra el resultado."
   ]
  },
  {
   "cell_type": "markdown",
   "metadata": {},
   "source": [
    "--------------------------------------------------------------------------------------------------------------------------------------------------------"
   ]
  },
  {
   "cell_type": "markdown",
   "metadata": {},
   "source": [
    "# Secuencias"
   ]
  },
  {
   "cell_type": "markdown",
   "metadata": {},
   "source": [
    "Las secuencias en Python son estructuras de datos que almacenan una colección ordenada de elementos. Algunos ejemplos de secuencias incluyen listas, tuplas y cadenas. Veamos cómo pueden ser útiles para meteorólogos, biólogos e hidrólogos interesados en aprender analítica de datos:"
   ]
  },
  {
   "cell_type": "markdown",
   "metadata": {},
   "source": [
    "#### Rango"
   ]
  },
  {
   "cell_type": "code",
   "execution_count": null,
   "metadata": {},
   "outputs": [],
   "source": [
    "#El rango en Python es tratado como un tipo de datos\n",
    "rango = range(10)\n",
    "type(rango)"
   ]
  },
  {
   "cell_type": "code",
   "execution_count": null,
   "metadata": {},
   "outputs": [],
   "source": [
    "#La sintaxis es range(inicio,final,paso)\n",
    "list(range(0,10,2))"
   ]
  },
  {
   "cell_type": "markdown",
   "metadata": {},
   "source": [
    "#### Listas"
   ]
  },
  {
   "cell_type": "markdown",
   "metadata": {},
   "source": [
    "> Las listas se crean con corchetes. Pueden tener cualquier tipo de elemento (números, cadenas, otras listas, ...), e incluso mezclados. Son mutables \n",
    "> (se pueden añadir, eliminar o modificar elementos)."
   ]
  },
  {
   "cell_type": "code",
   "execution_count": null,
   "metadata": {},
   "outputs": [],
   "source": [
    "lista1 = [1, 2, 3]\n",
    "lista2 = ['rojo','amarillo','verde','rosa']\n",
    "print(lista1,lista2)"
   ]
  },
  {
   "cell_type": "code",
   "execution_count": null,
   "metadata": {},
   "outputs": [],
   "source": [
    "lista_mezclada = ['rojo',1,['Auto','41']]\n",
    "lista_mezclada"
   ]
  },
  {
   "cell_type": "code",
   "execution_count": null,
   "metadata": {},
   "outputs": [],
   "source": [
    "# también se pueden crear con la función list\n",
    "lista3 = list((1,2,3))\n",
    "lista3"
   ]
  },
  {
   "cell_type": "code",
   "execution_count": null,
   "metadata": {},
   "outputs": [],
   "source": [
    "#O simplemente crear una lista vacía para luego ir añadiendo elementos\n",
    "vacia = []\n",
    "type(vacia)"
   ]
  },
  {
   "cell_type": "code",
   "execution_count": null,
   "metadata": {},
   "outputs": [],
   "source": [
    "lista2"
   ]
  },
  {
   "cell_type": "code",
   "execution_count": null,
   "metadata": {},
   "outputs": [],
   "source": [
    "# Añadir un elemento a la lista\n",
    "lista2.append('azul')\n",
    "print(lista2)"
   ]
  },
  {
   "cell_type": "code",
   "execution_count": null,
   "metadata": {},
   "outputs": [],
   "source": [
    "# Para añadir varios elementos a la lista usamos extend\n",
    "lista2.extend(['gris','negro'])\n",
    "print(lista2)"
   ]
  },
  {
   "cell_type": "code",
   "execution_count": null,
   "metadata": {},
   "outputs": [],
   "source": [
    "lista2[0]"
   ]
  },
  {
   "cell_type": "code",
   "execution_count": null,
   "metadata": {},
   "outputs": [],
   "source": [
    "# Reemplazar elementos\n",
    "lista2[0] = 'bermellon'\n",
    "print(lista2)"
   ]
  },
  {
   "cell_type": "code",
   "execution_count": null,
   "metadata": {},
   "outputs": [],
   "source": [
    "# Eliminar elementos por el índice\n",
    "del lista2[1]\n",
    "lista2"
   ]
  },
  {
   "cell_type": "code",
   "execution_count": null,
   "metadata": {},
   "outputs": [],
   "source": [
    "# Eliminar elementos por su valor. Notar que ahora es un método\n",
    "lista2.remove('rosa')\n",
    "lista2"
   ]
  },
  {
   "cell_type": "code",
   "execution_count": null,
   "metadata": {},
   "outputs": [],
   "source": [
    "# Sacar un elemento para meterlos en otra variable\n",
    "cielo = lista2.pop(2)\n",
    "cielo"
   ]
  },
  {
   "cell_type": "code",
   "execution_count": null,
   "metadata": {},
   "outputs": [],
   "source": [
    "# Si no le pasamos argumento a pop saca el último elemento que haya\n",
    "ultimo = lista2.pop()\n",
    "ultimo"
   ]
  },
  {
   "cell_type": "code",
   "execution_count": null,
   "metadata": {},
   "outputs": [],
   "source": [
    "lista2"
   ]
  },
  {
   "cell_type": "code",
   "execution_count": null,
   "metadata": {},
   "outputs": [],
   "source": [
    "# Comprobar si un elemento está en una lista (parte 1)\n",
    "'azul' in lista2"
   ]
  },
  {
   "cell_type": "code",
   "execution_count": null,
   "metadata": {},
   "outputs": [],
   "source": [
    "# Comprobar si un elemento está en una lista (parte 2)\n",
    "'bermellon' in lista2"
   ]
  },
  {
   "cell_type": "code",
   "execution_count": null,
   "metadata": {},
   "outputs": [],
   "source": [
    "# Ver la longitud de una lista\n",
    "len(lista2)"
   ]
  },
  {
   "cell_type": "code",
   "execution_count": null,
   "metadata": {},
   "outputs": [],
   "source": [
    "# Ordenar una lista. Fijarse que lo hace al vuelo (inplace)\n",
    "sin_orden = ['f','h','a','g']\n",
    "sin_orden.sort()\n",
    "sin_orden"
   ]
  },
  {
   "cell_type": "code",
   "execution_count": null,
   "metadata": {},
   "outputs": [],
   "source": [
    "# Pero cuidado, sort sigue un orden donde las mayúsculas van antes que las minúsculas\n",
    "sin_orden = ['Isaac','alba']\n",
    "sin_orden.sort()\n",
    "sin_orden"
   ]
  },
  {
   "cell_type": "code",
   "execution_count": null,
   "metadata": {},
   "outputs": [],
   "source": [
    "# Si quieres ordenar listas mezcladas de mayúsculas y minúsculas hay que usar el parámetro key = str.lower\n",
    "sin_orden = ['Isaac','alba']\n",
    "sin_orden.sort(key = str.lower)\n",
    "sin_orden"
   ]
  },
  {
   "cell_type": "markdown",
   "metadata": {},
   "source": [
    "Referencia con todos los métodos de las listas: https://www.w3schools.com/python/python_ref_list.asp"
   ]
  },
  {
   "cell_type": "markdown",
   "metadata": {},
   "source": [
    "#### Tuplas"
   ]
  },
  {
   "cell_type": "markdown",
   "metadata": {},
   "source": [
    "Se crean con paréntesis. \n",
    "\n",
    "Pueden tener cualquier tipo de elemento (números, cadenas, otras listas, ...) incluso mezclados. \n",
    "\n",
    "Son inmutables (tienen una longitud fija y no pueden cambiarse sus elementos)."
   ]
  },
  {
   "cell_type": "code",
   "execution_count": null,
   "metadata": {},
   "outputs": [],
   "source": [
    "tupla1 = (1,'rojo',['Auto',41])\n",
    "tupla1"
   ]
  },
  {
   "cell_type": "code",
   "execution_count": null,
   "metadata": {},
   "outputs": [],
   "source": [
    "#Pero si intentamos cambiar un elemento no nos deja\n",
    "tupla1[0] = 2"
   ]
  },
  {
   "cell_type": "code",
   "execution_count": null,
   "metadata": {},
   "outputs": [],
   "source": [
    "#También se puede crear con la función tuple sobre una lista\n",
    "tupla1 = tuple([1,2,3])\n",
    "tupla1"
   ]
  },
  {
   "cell_type": "code",
   "execution_count": null,
   "metadata": {},
   "outputs": [],
   "source": [
    "#Si quisieras crear una tupla de un solo elemento hay que poner una coma al final\n",
    "print(type((5)))\n",
    "print(type((5,)))"
   ]
  },
  {
   "cell_type": "code",
   "execution_count": null,
   "metadata": {},
   "outputs": [],
   "source": [
    "#Las tuplas son el tipo de secuencia por defecto en Python.\n",
    "#Si ponemos una secuencia sin especificar el formato Python entiende que son tuplas\n",
    "sin_formato = 1,2,3,4\n",
    "type(sin_formato)"
   ]
  },
  {
   "cell_type": "markdown",
   "metadata": {},
   "source": [
    "#### Diccionarios"
   ]
  },
  {
   "cell_type": "markdown",
   "metadata": {},
   "source": [
    "Los diccionarios se crean con llaves. \n",
    "\n",
    "Son pares no ordenados y mutables de clave-valor. \n",
    "\n",
    "Pueden contener cualquier tipo de información, incluso mezclada."
   ]
  },
  {
   "cell_type": "code",
   "execution_count": null,
   "metadata": {},
   "outputs": [],
   "source": [
    "dicc1 = {'nombre':'Isaac', 'edad':41}\n",
    "dicc1"
   ]
  },
  {
   "cell_type": "code",
   "execution_count": null,
   "metadata": {},
   "outputs": [],
   "source": [
    "#También se pueden crear con la función dict sobre una lista de tuplas con los pares clave-valor\n",
    "dicc1 = dict([('nombre','Isaac'),('edad',41)])\n",
    "dicc1"
   ]
  },
  {
   "cell_type": "code",
   "execution_count": null,
   "metadata": {},
   "outputs": [],
   "source": [
    "#Crear un diccionario vacío\n",
    "vacio = {}\n",
    "vacio"
   ]
  },
  {
   "cell_type": "code",
   "execution_count": null,
   "metadata": {},
   "outputs": [],
   "source": [
    "#Modificar un elemento\n",
    "dicc1['edad'] = 43\n",
    "dicc1"
   ]
  },
  {
   "cell_type": "code",
   "execution_count": null,
   "metadata": {},
   "outputs": [],
   "source": [
    "#Eliminar un elemento\n",
    "del dicc1['edad']\n",
    "dicc1"
   ]
  },
  {
   "cell_type": "markdown",
   "metadata": {},
   "source": [
    "Referencia con todos los métodos de los diccionarios: https://www.w3schools.com/python/python_ref_dictionary.asp"
   ]
  },
  {
   "cell_type": "markdown",
   "metadata": {},
   "source": [
    "# ¿Dónde usar cada tipo? \n",
    "\n",
    "### Listas:\n",
    "* Meteorología: Las listas son útiles para almacenar series temporales de datos climáticos como temperaturas diarias, registros de precipitaciones, velocidad del viento a lo largo del tiempo, etc.\n",
    "Pueden utilizarse para mantener listas de eventos meteorológicos específicos, como tormentas, nevadas o períodos de sequía, organizados cronológicamente.\n",
    "\n",
    "* Hidrología: En hidrología, las listas pueden ser utilizadas para almacenar datos de caudal de ríos, niveles de agua en embalses o estaciones de monitoreo, registros de precipitaciones acumuladas, entre otros.\n",
    "Son adecuadas para mantener registros de eventos hidrológicos como crecidas repentinas, sequías prolongadas o inundaciones, permitiendo un acceso ordenado y secuencial a los datos.\n",
    "\n",
    "* Biología: Los biólogos pueden emplear listas para organizar muestras de campo, listas de especies observadas en un estudio particular, o registros de avistamientos de fauna y flora.\n",
    "Son útiles para mantener registros de experimentos biológicos, como el seguimiento de la evolución de poblaciones o el análisis de cambios en ecosistemas a lo largo del tiempo.\n",
    "\n",
    "### Tuplas:\n",
    "\n",
    "* Meteorología: Las tuplas son útiles para representar coordenadas geográficas fijas, como ubicaciones de estaciones meteorológicas o puntos de muestreo específicos en mapas.\n",
    "Pueden ser utilizadas como claves en estructuras de datos donde se requiere una garantía de que las coordenadas no cambiarán, como en sistemas de base de datos geoespaciales.\n",
    "\n",
    "* Hidrología: En hidrología, las tuplas pueden ser empleadas para almacenar registros de mediciones puntuales en ubicaciones específicas, como la temperatura del agua en puntos de monitoreo o la salinidad en puntos de muestreo.\n",
    "Se utilizan para garantizar la integridad de datos espaciales, como la representación de la profundidad del agua en diferentes puntos de un cuerpo de agua.\n",
    "\n",
    "* Biología: Los biólogos pueden utilizar tuplas para representar datos asociados con muestras individuales, como las coordenadas de recolección de especímenes, la fecha de recolección y la especie observada.\n",
    "Son adecuadas para garantizar la consistencia y la inmutabilidad de datos que describen puntos de interés en estudios de campo y observaciones biológicas.\n",
    "\n",
    "### Diccionarios:\n",
    "\n",
    "* Meteorología: Los diccionarios son ideales para almacenar datos estructurados con claves únicas, como información de contacto de estaciones meteorológicas (nombre, ubicación, coordenadas). Se pueden utilizar para gestionar configuraciones específicas de estaciones o modelos de predicción meteorológica.\n",
    "\n",
    "* Hidrología: En hidrología, los diccionarios son útiles para asociar datos complejos con claves únicas, como información detallada de estaciones de monitoreo hidrológico (caudal, nivel de agua, temperatura).\n",
    "Permiten un acceso eficiente y rápido a los datos de diferentes puntos de monitoreo o parámetros hidrológicos específicos.\n",
    "\n",
    "* Biología: Los biólogos pueden emplear diccionarios para gestionar bases de datos de especies con claves únicas basadas en nombres científicos, vinculadas a datos detallados de cada especie (hábitat, distribución, características).\n",
    "Son adecuados para almacenar y recuperar rápidamente información estructurada sobre especies observadas, facilitando análisis y comparaciones entre diferentes estudios biológicos.\n"
   ]
  },
  {
   "cell_type": "markdown",
   "metadata": {},
   "source": [
    "#### Conjuntos (sets)"
   ]
  },
  {
   "cell_type": "markdown",
   "metadata": {},
   "source": [
    "Los conjuntos en Python son estructuras de datos que almacenan elementos únicos y no ordenados. Aquí tienes algunos usos comunes de los conjuntos:\n",
    "\n",
    "+ Eliminar duplicados: Si tienes una lista o secuencia con elementos repetidos, puedes convertirla en un conjunto para eliminar duplicados. Los conjuntos garantizan que cada elemento aparezca solo una vez.\n",
    "+ Verificar pertenencia: Puedes verificar rápidamente si un elemento está presente en un conjunto sin necesidad de recorrerlo por completo. Esto es útil para búsquedas eficientes.\n",
    "+ Operaciones matemáticas y lógicas: Los conjuntos permiten realizar operaciones como unión, intersección, diferencia y complemento.\n",
    "+ Ejemplos:\n",
    "Unión: Combina elementos de dos conjuntos.\n",
    "Intersección: Encuentra elementos comunes entre dos conjuntos.\n",
    "Diferencia: Elimina elementos de un conjunto basándose en otro.\n",
    "Complemento: Encuentra elementos que no están en otro conjunto."
   ]
  },
  {
   "cell_type": "markdown",
   "metadata": {},
   "source": [
    "Los conjuntos se crean también con llaves, pero no son pares. \n",
    "\n",
    "Son colecciones de elementos UNICOS. \n",
    "\n",
    "Pueden contener cualquier tipo de información, incluso mezclada. Son mutables."
   ]
  },
  {
   "cell_type": "code",
   "execution_count": null,
   "metadata": {},
   "outputs": [],
   "source": [
    "conj1 = {1,1,1,2,2,2,'rojo','rojo'}\n",
    "conj1"
   ]
  },
  {
   "cell_type": "code",
   "execution_count": null,
   "metadata": {},
   "outputs": [],
   "source": [
    "#También se pueden crear con la función set sobre una lista\n",
    "lista = [1,1,1,2,2,2,'rojo','rojo']\n",
    "conj2 = set(lista)\n",
    "conj2"
   ]
  },
  {
   "cell_type": "code",
   "execution_count": null,
   "metadata": {},
   "outputs": [],
   "source": [
    "conj2 = set(lista)"
   ]
  },
  {
   "cell_type": "code",
   "execution_count": null,
   "metadata": {},
   "outputs": [],
   "source": [
    "conj2"
   ]
  },
  {
   "cell_type": "code",
   "execution_count": null,
   "metadata": {},
   "outputs": [],
   "source": [
    "#Podemos añadir un nuevo elemento con add\n",
    "conj2.add('amarillo')\n",
    "conj2"
   ]
  },
  {
   "cell_type": "code",
   "execution_count": null,
   "metadata": {},
   "outputs": [],
   "source": [
    "#O añadir otro conjunto o lista con update\n",
    "conj3 = {'negro','rosa'}\n",
    "conj2.update(conj3)\n",
    "conj2"
   ]
  },
  {
   "cell_type": "code",
   "execution_count": null,
   "metadata": {},
   "outputs": [],
   "source": [
    "#Eliminar por valor con discard\n",
    "conj2.discard('rosa')\n",
    "conj2"
   ]
  },
  {
   "cell_type": "code",
   "execution_count": null,
   "metadata": {},
   "outputs": [],
   "source": [
    "#Lógica de conjuntos: unión\n",
    "conj1 = {'negro','rosa'}\n",
    "conj2 = {'rosa','gris'}\n",
    "conj1.union(conj2)"
   ]
  },
  {
   "cell_type": "code",
   "execution_count": null,
   "metadata": {},
   "outputs": [],
   "source": [
    "#Lógica de conjuntos: intersección\n",
    "conj1 = {'negro','rosa'}\n",
    "conj2 = {'rosa','gris'}\n",
    "conj1.intersection(conj2)"
   ]
  },
  {
   "cell_type": "code",
   "execution_count": null,
   "metadata": {},
   "outputs": [],
   "source": [
    "#Lógica de conjuntos: diferencia del conjunto 1\n",
    "conj1 = {'negro','rosa'}\n",
    "conj2 = {'rosa','gris'}\n",
    "conj1.difference(conj2)"
   ]
  },
  {
   "cell_type": "code",
   "execution_count": null,
   "metadata": {},
   "outputs": [],
   "source": [
    "#Lógica de conjuntos: diferencia del conjunto 2\n",
    "conj1 = {'negro','rosa'}\n",
    "conj2 = {'rosa','gris'}\n",
    "conj2.difference(conj1)"
   ]
  },
  {
   "cell_type": "markdown",
   "metadata": {},
   "source": [
    "# Ejercicios"
   ]
  },
  {
   "cell_type": "markdown",
   "metadata": {},
   "source": [
    "## Ejercicio 12: Listas en el Contexto Meteorológico\n",
    "### Objetivo: Crear y manipular listas de datos meteorológicos.\n",
    "\n",
    "- Instrucciones:\n",
    "\n",
    "- Crea una lista llamada temperaturas_diarias que contenga las siguientes temperaturas en grados Celsius: 22.5, 23.3, 21.8, 19.5, 20.1.\n",
    "- Agrega la temperatura de hoy (por ejemplo, 24.0) a la lista.\n",
    "- Cambia la segunda temperatura (23.3) por 25.0 debido a una corrección en los datos.\n",
    "- Elimina la temperatura más baja de la lista.\n",
    "- Imprime el número de días de los que tienes datos de temperatura.\n",
    "- Ordena la lista de temperaturas en orden ascendente y luego imprímela."
   ]
  },
  {
   "cell_type": "markdown",
   "metadata": {},
   "source": [
    "## Ejercicio 13: Tuplas en el Contexto de Fauna\n",
    "### Objetivo: Utilizar tuplas para almacenar datos de especies animales y sus características.\n",
    "\n",
    "- Instrucciones:\n",
    "\n",
    "- Crea una tupla llamada especie_info que contenga el nombre de una especie animal, su hábitat y su promedio de vida en años. Ejemplo: (\"Lince\", \"Bosque\", 15).\n",
    "- Imprime la información de la especie en un formato claro.\n",
    "- Accede e imprime solo el hábitat de la especie."
   ]
  },
  {
   "cell_type": "markdown",
   "metadata": {},
   "source": [
    "## Ejercicio 14: Diccionarios en el Contexto de Embalses\n",
    "### Objetivo: Crear y manipular diccionarios que contengan información de embalses.\n",
    "\n",
    "- Instrucciones:\n",
    "\n",
    "- Crea un diccionario llamado embalses con la siguiente estructura: \n",
    "- embalses = {\n",
    "    \"Embalse A\": {\"capacidad\": 120, \"nivel_actual\": 80},\n",
    "    \"Embalse B\": {\"capacidad\": 200, \"nivel_actual\": 150},\n",
    "    \"Embalse C\": {\"capacidad\": 100, \"nivel_actual\": 70}\n",
    "  }\n",
    "- Agrega un nuevo embalse llamado \"Embalse D\" con una capacidad de 250 y un nivel actual de 200.\n",
    "- Actualiza el nivel actual del \"Embalse A\" a 90.\n",
    "- Elimina el \"Embalse C\" del diccionario.\n",
    "- Imprime la capacidad del \"Embalse B\"."
   ]
  },
  {
   "cell_type": "markdown",
   "metadata": {},
   "source": [
    "## Ejercicio 15: Conjuntos en el Contexto de Clima\n",
    "### Objetivo: Utilizar conjuntos para trabajar con datos únicos de fenómenos climáticos.\n",
    "\n",
    "- Instrucciones:\n",
    "\n",
    "- Crea un conjunto llamado fenomenos_climaticos que contenga los siguientes fenómenos: \"tormenta\", \"inundación\", \"sequía\".\n",
    "- Agrega \"huracán\" al conjunto.\n",
    "- Intenta agregar \"tormenta\" nuevamente al conjunto y observa qué sucede.\n",
    "- Elimina \"sequía\" del conjunto.\n",
    "- Imprime todos los fenómenos climáticos en el conjunto."
   ]
  },
  {
   "cell_type": "markdown",
   "metadata": {},
   "source": [
    "## Ejercicio 16: Combinando Estructuras de Datos en el Contexto Meteorológico\n",
    "### Objetivo: Utilizar listas, tuplas, diccionarios y conjuntos en un solo ejercicio para analizar datos meteorológicos.\n",
    "\n",
    "- Instrucciones:\n",
    "\n",
    "- Crea una lista de tuplas llamada datos_meteorologicos, donde cada tupla contenga el nombre de una ciudad, la temperatura promedio del día y la condición climática (por ejemplo: [(\"Madrid\", 30, \"soleado\"), (\"Londres\", 22, \"nublado\"), (\"Nueva York\", 25, \"lluvioso\")]).\n",
    "- Convierte esta lista en un diccionario llamado ciudades_meteorologia donde las claves sean los nombres de las ciudades y los valores sean otros diccionarios con las temperaturas y condiciones.\n",
    "- Crea un conjunto llamado condiciones_unicas que contenga todas las condiciones climáticas únicas presentes en ciudades_meteorologia.\n",
    "- Imprime las condiciones únicas y la temperatura promedio de Madrid."
   ]
  },
  {
   "cell_type": "markdown",
   "metadata": {},
   "source": [
    "# Soluciones"
   ]
  },
  {
   "cell_type": "markdown",
   "metadata": {},
   "source": [
    "## Ejercicio 17: Listas en el Contexto Meteorológico\n",
    "\n",
    "**Objetivo**: Crear y manipular listas de datos meteorológicos.\n",
    "\n",
    "**Instrucciones**:\n",
    "\n",
    "1. Crea una lista llamada `temperaturas_diarias` que contenga las siguientes temperaturas en grados Celsius: 22.5, 23.3, 21.8, 19.5, 20.1.\n",
    "2. Agrega la temperatura de hoy (por ejemplo, 24.0) a la lista.\n",
    "3. Cambia la segunda temperatura (23.3) por 25.0 debido a una corrección en los datos.\n",
    "4. Elimina la temperatura más baja de la lista.\n",
    "5. Imprime el número de días de los que tienes datos de temperatura.\n",
    "6. Ordena la lista de temperaturas en orden ascendente y luego imprímela.\n",
    "\n",
    "```python\n",
    "# Solución\n",
    "temperaturas_diarias = [22.5, 23.3, 21.8, 19.5, 20.1]\n",
    "temperaturas_diarias.append(24.0)\n",
    "temperaturas_diarias[1] = 25.0\n",
    "temperaturas_diarias.remove(min(temperaturas_diarias))\n",
    "print(\"Número de días con datos de temperatura:\", len(temperaturas_diarias))\n",
    "temperaturas_diarias.sort()\n",
    "print(\"Temperaturas ordenadas:\", temperaturas_diarias)\n",
    "\n"
   ]
  },
  {
   "cell_type": "markdown",
   "metadata": {},
   "source": [
    "# Ejercicio 18: Tuplas en el Contexto de Fauna\n",
    "\n",
    "**Objetivo**: Utilizar tuplas para almacenar datos de especies animales y sus características.\n",
    "\n",
    "**Instrucciones**:\n",
    "\n",
    "1. Crea una tupla llamada `especie_info` que contenga el nombre de una especie animal, su hábitat y su promedio de vida en años. Ejemplo: (\"Lince\", \"Bosque\", 15).\n",
    "2. Imprime la información de la especie en un formato claro.\n",
    "3. Accede e imprime solo el hábitat de la especie.\n",
    "\n",
    "```python\n",
    "# Solución\n",
    "especie_info = (\"Lince\", \"Bosque\", 15)\n",
    "print(f\"Especie: {especie_info[0]}, Hábitat: {especie_info[1]}, Promedio de vida: {especie_info[2]} años\")\n",
    "print(\"Hábitat de la especie:\", especie_info[1])\n",
    "\n",
    "\n"
   ]
  },
  {
   "cell_type": "markdown",
   "metadata": {},
   "source": [
    "# Ejercicio 19: Diccionarios en el Contexto de Embalses\n",
    "\n",
    "**Objetivo**: Crear y manipular diccionarios que contengan información de embalses.\n",
    "\n",
    "**Instrucciones**:\n",
    "\n",
    "1. Crea un diccionario llamado `embalses` con la siguiente estructura:\n",
    "   ```python\n",
    "   embalses = {\n",
    "       \"Embalse A\": {\"capacidad\": 120, \"nivel_actual\": 80},\n",
    "       \"Embalse B\": {\"capacidad\": 200, \"nivel_actual\": 150},\n",
    "       \"Embalse C\": {\"capacidad\": 100, \"nivel_actual\": 70}\n",
    "   }\n",
    "Agrega un nuevo embalse llamado \"Embalse D\" con una capacidad de 250 y un nivel actual de 200.\n",
    "Actualiza el nivel actual del \"Embalse A\" a 90.\n",
    "Elimina el \"Embalse C\" del diccionario.\n",
    "Imprime la capacidad del \"Embalse B\".\n",
    "\n",
    "```python\n",
    "# Solución\n",
    "embalses = {\n",
    "    \"Embalse A\": {\"capacidad\": 120, \"nivel_actual\": 80},\n",
    "    \"Embalse B\": {\"capacidad\": 200, \"nivel_actual\": 150},\n",
    "    \"Embalse C\": {\"capacidad\": 100, \"nivel_actual\": 70}\n",
    "}\n",
    "\n",
    "embalses[\"Embalse D\"] = {\"capacidad\": 250, \"nivel_actual\": 200}\n",
    "embalses[\"Embalse A\"][\"nivel_actual\"] = 90\n",
    "del embalses[\"Embalse C\"]\n",
    "\n",
    "print(\"Capacidad del Embalse B:\", embalses[\"Embalse B\"][\"capacidad\"])\n"
   ]
  },
  {
   "cell_type": "markdown",
   "metadata": {},
   "source": [
    "# Ejercicio 20: Conjuntos en el Contexto de Clima\n",
    "\n",
    "**Objetivo**: Utilizar conjuntos para trabajar con datos únicos de fenómenos climáticos.\n",
    "\n",
    "**Instrucciones**:\n",
    "\n",
    "1. Crea un conjunto llamado `fenomenos_climaticos` que contenga los siguientes fenómenos: \"tormenta\", \"inundación\", \"sequía\".\n",
    "2. Agrega \"huracán\" al conjunto.\n",
    "3. Intenta agregar \"tormenta\" nuevamente al conjunto y observa qué sucede.\n",
    "4. Elimina \"sequía\" del conjunto.\n",
    "5. Imprime todos los fenómenos climáticos en el conjunto.\n",
    "\n",
    "```python\n",
    "# Solución\n",
    "fenomenos_climaticos = {\"tormenta\", \"inundación\", \"sequía\"}\n",
    "fenomenos_climaticos.add(\"huracán\")\n",
    "fenomenos_climaticos.add(\"tormenta\")  # No se agregará porque ya existe en el conjunto\n",
    "fenomenos_climaticos.remove(\"sequía\")\n",
    "print(\"Fenómenos climáticos:\", fenomenos_climaticos)"
   ]
  },
  {
   "cell_type": "markdown",
   "metadata": {},
   "source": [
    "# Ejercicio 21: Combinando Estructuras de Datos en el Contexto Meteorológico\n",
    "\n",
    "**Objetivo**: Utilizar listas, tuplas, diccionarios y conjuntos en un solo ejercicio para analizar datos meteorológicos.\n",
    "\n",
    "**Instrucciones**:\n",
    "\n",
    "1. Crea una lista de tuplas llamada `datos_meteorologicos`, donde cada tupla contenga el nombre de una ciudad, la temperatura promedio del día y la condición climática (por ejemplo: [(\"Madrid\", 30, \"soleado\"), (\"Londres\", 22, \"nublado\"), (\"Nueva York\", 25, \"lluvioso\")]).\n",
    "2. Convierte esta lista en un diccionario llamado `ciudades_meteorologia` donde las claves sean los nombres de las ciudades y los valores sean otros diccionarios con las temperaturas y condiciones.\n",
    "3. Crea un conjunto llamado `condiciones_unicas` que contenga todas las condiciones climáticas únicas presentes en `ciudades_meteorologia`.\n",
    "4. Imprime las condiciones únicas y la temperatura promedio de Madrid.\n",
    "\n",
    "```python\n",
    "# Solución\n",
    "datos_meteorologicos = [(\"Madrid\", 30, \"soleado\"), (\"Londres\", 22, \"nublado\"), (\"Nueva York\", 25, \"lluvioso\")]\n",
    "\n",
    "ciudades_meteorologia = {ciudad: {\"temperatura\": temp, \"condicion\": cond} for ciudad, temp, cond in datos_meteorologicos}\n",
    "\n",
    "condiciones_unicas = {info[\"condicion\"] for info in ciudades_meteorologia.values()}\n",
    "\n",
    "print(\"Condiciones climáticas únicas:\", condiciones_unicas)\n",
    "print(\"Temperatura promedio en Madrid:\", ciudades_meteorologia[\"Madrid\"][\"temperatura\"])"
   ]
  },
  {
   "cell_type": "markdown",
   "metadata": {},
   "source": [
    "Referencia con todos los métodos de los conjuntos: https://www.w3schools.com/python/python_ref_set.asp"
   ]
  },
  {
   "cell_type": "markdown",
   "metadata": {},
   "source": [
    "### Repaso y a recordar:\n",
    "\n",
    "* Podemos tener datos individuales o secuencias\n",
    "* Dentro de los individuales los tipos más comunes son: int, float, none, str\n",
    "* Dentro de las secuencias:\n",
    "    * Rangos: son un tipo en sí mismos, se crean con range\n",
    "    * Listas: se crean con corchetes o con la función list\n",
    "    * Tuplas: se crean con paréntesis o con la función tuple\n",
    "    * Diccionarios: se crean con llaves o con la función dict. Son pares\n",
    "    * Sets: se crean con llaves o con la función set pero no son pares"
   ]
  },
  {
   "cell_type": "markdown",
   "metadata": {},
   "source": [
    "--------------------------------------------------------------------------------------------------------------------------------------------------------"
   ]
  },
  {
   "cell_type": "markdown",
   "metadata": {},
   "source": [
    "## INDEXACIÓN"
   ]
  },
  {
   "cell_type": "markdown",
   "metadata": {},
   "source": [
    "Lo más importante es recordar siempre que en Python los índices empiezan en cero"
   ]
  },
  {
   "cell_type": "code",
   "execution_count": null,
   "metadata": {},
   "outputs": [],
   "source": [
    "lista = [0,1,2,3,4]\n",
    "lista[0]"
   ]
  },
  {
   "cell_type": "markdown",
   "metadata": {},
   "source": [
    "### Indexar cadenas"
   ]
  },
  {
   "cell_type": "code",
   "execution_count": null,
   "metadata": {},
   "outputs": [],
   "source": [
    "nombre = 'Ulises'\n",
    "nombre[0]"
   ]
  },
  {
   "cell_type": "code",
   "execution_count": null,
   "metadata": {},
   "outputs": [],
   "source": [
    "#Se pueden pasar rangos con slice, pero el intervalo derecho es abierto (no cuenta):\n",
    "nombre = 'Isaac'\n",
    "nombre[0:3]"
   ]
  },
  {
   "cell_type": "code",
   "execution_count": null,
   "metadata": {},
   "outputs": [],
   "source": [
    "#La indexación con números negativos lo que hace es empezar por el final\n",
    "nombre[-1]"
   ]
  },
  {
   "cell_type": "markdown",
   "metadata": {},
   "source": [
    "### Indexar listas"
   ]
  },
  {
   "cell_type": "code",
   "execution_count": null,
   "metadata": {
    "scrolled": true
   },
   "outputs": [],
   "source": [
    "lista = ['rojo','verde','azul']\n",
    "lista[2]"
   ]
  },
  {
   "cell_type": "code",
   "execution_count": null,
   "metadata": {},
   "outputs": [],
   "source": [
    "#Funciona slice\n",
    "lista[0:2]"
   ]
  },
  {
   "cell_type": "code",
   "execution_count": null,
   "metadata": {},
   "outputs": [],
   "source": [
    "#Las listas no se pueden indexar por valor\n",
    "lista['rojo']"
   ]
  },
  {
   "cell_type": "code",
   "execution_count": null,
   "metadata": {},
   "outputs": [],
   "source": [
    "#Si queremos indexar por valor hay que usar index, pero cuidado, porque solo devuelve lo primero que encuentra\n",
    "lista = ['rojo','verde','rojo']\n",
    "posicion = lista.index('rojo')\n",
    "lista[posicion]"
   ]
  },
  {
   "cell_type": "code",
   "execution_count": null,
   "metadata": {},
   "outputs": [],
   "source": [
    "#La indexación con números negativos lo que hace es empezar por el final\n",
    "lista = ['rojo','verde','azul']\n",
    "lista[-1]"
   ]
  },
  {
   "cell_type": "code",
   "execution_count": null,
   "metadata": {},
   "outputs": [],
   "source": [
    "# Indexar listas dentro de listas\n",
    "lista_anidada = ['Isaac','Maria',['Jose Antonio','Jose Manuel'],'Pedro']\n",
    "print(lista_anidada[2])\n",
    "print(lista_anidada[2][1])"
   ]
  },
  {
   "cell_type": "markdown",
   "metadata": {},
   "source": [
    "### Indexar tuplas"
   ]
  },
  {
   "cell_type": "code",
   "execution_count": null,
   "metadata": {},
   "outputs": [],
   "source": [
    "#Se indexan por posición como las listas\n",
    "tupla = (0,1,2,3,4)\n",
    "tupla[0]"
   ]
  },
  {
   "cell_type": "code",
   "execution_count": null,
   "metadata": {},
   "outputs": [],
   "source": [
    "#Se pueden indexar varios elementos con slice\n",
    "tupla[0:2]"
   ]
  },
  {
   "cell_type": "code",
   "execution_count": null,
   "metadata": {},
   "outputs": [],
   "source": [
    "#La indexación con números negativos lo que hace es empezar por el final\n",
    "tupla[-1]"
   ]
  },
  {
   "cell_type": "markdown",
   "metadata": {},
   "source": [
    "### Indexar diccionarios"
   ]
  },
  {
   "cell_type": "code",
   "execution_count": null,
   "metadata": {},
   "outputs": [],
   "source": [
    "#Si intentamos indexar por posición no funciona\n",
    "dicc1 = {'nombre':'Ulises', 'edad':44}\n",
    "dicc1[0]"
   ]
  },
  {
   "cell_type": "code",
   "execution_count": null,
   "metadata": {},
   "outputs": [],
   "source": [
    "#Tenemos que indexar por la clave, y se indexa con corchetes, no con llaves!!\n",
    "dicc1['nombre']"
   ]
  },
  {
   "cell_type": "code",
   "execution_count": null,
   "metadata": {},
   "outputs": [],
   "source": [
    "#Indexar diccionarios o listas dentro de diccionarios\n",
    "dicc_complejo = {'nombre':'Ulises',\n",
    "                 'edad':44,\n",
    "                 'familia':[{'mujer':'Luysana'},{'hijos':['Gabriel','Lila']}]}\n",
    "dicc_complejo"
   ]
  },
  {
   "cell_type": "code",
   "execution_count": null,
   "metadata": {},
   "outputs": [],
   "source": [
    "dicc_complejo['familia']"
   ]
  },
  {
   "cell_type": "code",
   "execution_count": null,
   "metadata": {},
   "outputs": [],
   "source": [
    "dicc_complejo['familia'][1]"
   ]
  },
  {
   "cell_type": "code",
   "execution_count": null,
   "metadata": {},
   "outputs": [],
   "source": [
    "dicc_complejo['familia'][1]['hijos']"
   ]
  },
  {
   "cell_type": "code",
   "execution_count": null,
   "metadata": {
    "scrolled": true
   },
   "outputs": [],
   "source": [
    "dicc_complejo['familia'][1]['hijos'][0]"
   ]
  },
  {
   "cell_type": "markdown",
   "metadata": {},
   "source": [
    "Nota: esta forma de indexación múltiple se puede usar en Python, pero después en Pandas veremos que no es buena práctica y tenemos alternativas mejores."
   ]
  },
  {
   "cell_type": "markdown",
   "metadata": {},
   "source": [
    "### Indexar conjuntos"
   ]
  },
  {
   "cell_type": "markdown",
   "metadata": {},
   "source": [
    "Los conjuntos no se pueden indexar"
   ]
  },
  {
   "cell_type": "markdown",
   "metadata": {},
   "source": [
    "### Repaso y a recordar:"
   ]
  },
  {
   "cell_type": "markdown",
   "metadata": {},
   "source": [
    "* Los índices empiezan en cero\n",
    "* Se puede utilizar slice para indexar\n",
    "* Los índices con números negativos empiezan por atrás\n",
    "* Las listas se indexan por posición. Si queremos por valor hay que usar index\n",
    "* Las tuplas se indexan por posición\n",
    "* Los diccionarios se indexan por su clave\n",
    "* Los conjuntos no se pueden indexar\n",
    "* En estructuras complejas de datos simplemente debemos identificar de qué tipo es el siguiente elemento anidado y utilzar su forma de indexación para ir avanzando"
   ]
  },
  {
   "cell_type": "markdown",
   "metadata": {},
   "source": [
    "--------------------------------------------------------------------------------------------------------------------------------------------------------"
   ]
  },
  {
   "cell_type": "markdown",
   "metadata": {},
   "source": [
    "## CONTROL DE FLUJO"
   ]
  },
  {
   "cell_type": "markdown",
   "metadata": {},
   "source": [
    "### If"
   ]
  },
  {
   "cell_type": "markdown",
   "metadata": {},
   "source": [
    "Se utiliza para comprobar condiciones si ... entonces ... Detrás del si va un criterio, que si se se cumple se aplica el proceso del entonces.\n",
    "\n",
    "Para mantener una sintaxis limpia Python utiliza (en esto y en todo) la indentación: cada línea se sabe a qué bloque pertenece por su nivel de indentación."
   ]
  },
  {
   "cell_type": "code",
   "execution_count": null,
   "metadata": {},
   "outputs": [],
   "source": [
    "x = 5\n",
    "y = 3\n",
    "if x > y:\n",
    "    print('x es mayor que y')"
   ]
  },
  {
   "cell_type": "markdown",
   "metadata": {},
   "source": [
    "También se puede definir un proceso para el caso de que no se cumpla la condición."
   ]
  },
  {
   "cell_type": "code",
   "execution_count": null,
   "metadata": {},
   "outputs": [],
   "source": [
    "x = 3\n",
    "y = 5\n",
    "if x > y:\n",
    "    print('x es mayor que y')\n",
    "else:\n",
    "    print('y es mayor que x')"
   ]
  },
  {
   "cell_type": "markdown",
   "metadata": {},
   "source": [
    "Notar la importancia de la indentación del código en Python. Esto no funciona:"
   ]
  },
  {
   "cell_type": "code",
   "execution_count": null,
   "metadata": {},
   "outputs": [],
   "source": [
    "x = 3\n",
    "y = 5\n",
    "if x > y:\n",
    "    print('x es mayor que y')\n",
    "    else:\n",
    "        print('y es mayor que x')"
   ]
  },
  {
   "cell_type": "markdown",
   "metadata": {},
   "source": [
    "Se pueden incluir condiciones intermedias con elif"
   ]
  },
  {
   "cell_type": "code",
   "execution_count": null,
   "metadata": {},
   "outputs": [],
   "source": [
    "x = 3\n",
    "y = 6\n",
    "if x > y:\n",
    "    print('x es mayor que y')\n",
    "elif x == y:\n",
    "    print('x es igual que y')\n",
    "else:\n",
    "    print('y es mayor que x')"
   ]
  },
  {
   "cell_type": "markdown",
   "metadata": {},
   "source": [
    "### For"
   ]
  },
  {
   "cell_type": "markdown",
   "metadata": {},
   "source": [
    "Sirve para crear bucles que recorran de forma iterativa cualquier tipo de elemento que sea iterable."
   ]
  },
  {
   "cell_type": "code",
   "execution_count": null,
   "metadata": {},
   "outputs": [],
   "source": [
    "for cada in range(5):\n",
    "    print(cada)"
   ]
  },
  {
   "cell_type": "code",
   "execution_count": null,
   "metadata": {},
   "outputs": [],
   "source": [
    "#Iterar una cadena\n",
    "cadena = 'Ulises'\n",
    "for cada_letra in cadena:\n",
    "    print(cada_letra)"
   ]
  },
  {
   "cell_type": "code",
   "execution_count": null,
   "metadata": {},
   "outputs": [],
   "source": [
    "#Iterar una lista\n",
    "lista = ['Ulises','Javier','Gonzalez']\n",
    "for cada_palabra in lista:\n",
    "    print(len(cada_palabra))"
   ]
  },
  {
   "cell_type": "code",
   "execution_count": null,
   "metadata": {},
   "outputs": [],
   "source": [
    "#Iterar una tupla\n",
    "tupla = (0,1,2,3)\n",
    "salida = list()\n",
    "for cada in tupla:\n",
    "    salida.append(cada * 2)\n",
    "salida"
   ]
  },
  {
   "cell_type": "code",
   "execution_count": null,
   "metadata": {},
   "outputs": [],
   "source": [
    "res = [(1,2,3),(4,5,6)]\n",
    "res"
   ]
  },
  {
   "cell_type": "code",
   "execution_count": null,
   "metadata": {},
   "outputs": [],
   "source": [
    "for cada in res:\n",
    "    print(cada)"
   ]
  },
  {
   "cell_type": "code",
   "execution_count": null,
   "metadata": {},
   "outputs": [],
   "source": [
    "#Si la tupla tiene varios valores podemos asignarlos directamente a diferentes variables\n",
    "#Es lo que se llama \"tuple unpacking\" y muchas funciones devuelven el resultado como lista de tuplas, así que es útil\n",
    "res = [(1,2,3),(4,5,6)]\n",
    "for a,b,c in res:\n",
    "    print(a,b,c)"
   ]
  },
  {
   "cell_type": "code",
   "execution_count": null,
   "metadata": {},
   "outputs": [],
   "source": [
    "#Iterar un conjunto\n",
    "conj = {'rojo','verde','azul'}\n",
    "for cada in conj:\n",
    "    print(cada)"
   ]
  },
  {
   "cell_type": "code",
   "execution_count": null,
   "metadata": {},
   "outputs": [],
   "source": [
    "#Iterar un diccionario. Fijarse que nos devuelve solo las claves\n",
    "dicc = {'uno': 1, 'dos': 2, 'tres': 3}\n",
    "for cada in dicc:\n",
    "    print(cada)"
   ]
  },
  {
   "cell_type": "code",
   "execution_count": null,
   "metadata": {},
   "outputs": [],
   "source": [
    "#Si queremos que nos devuelva el elemento compuesto por clave-valor tenemos que usar items\n",
    "dicc2 = {'uno': 1, 'dos': 2, 'tres': 3}\n",
    "for cada in dicc2.items():\n",
    "    print(cada)"
   ]
  },
  {
   "cell_type": "code",
   "execution_count": null,
   "metadata": {},
   "outputs": [],
   "source": [
    "#Y como vemos nos ha devuelto una tupla, que ya podríamos desempaquetar con lo que sabemos de tuple unpacking\n",
    "dicc2 = {'uno': 1, 'dos': 2, 'tres': 3}\n",
    "for letra,numero in dicc2.items():\n",
    "    print(letra,numero)"
   ]
  },
  {
   "cell_type": "code",
   "execution_count": null,
   "metadata": {},
   "outputs": [],
   "source": [
    "#Si queremos solo las claves usaremos keys (es el comportamiento por defecto que ya hemos visto)\n",
    "dicc2 = {'uno': 1, 'dos': 2, 'tres': 3}\n",
    "for cada in dicc2.keys():\n",
    "    print(cada)"
   ]
  },
  {
   "cell_type": "code",
   "execution_count": null,
   "metadata": {},
   "outputs": [],
   "source": [
    "#Si queremos solo los valores usaremos values\n",
    "dicc2 = {'uno': 1, 'dos': 2, 'tres': 3}\n",
    "for cada in dicc2.values():\n",
    "    print(cada)"
   ]
  },
  {
   "cell_type": "code",
   "execution_count": null,
   "metadata": {},
   "outputs": [],
   "source": [
    "#Si queremos la posición y la clave separados usaremos enumerate\n",
    "dicc2 = {'uno': 1, 'dos': 2, 'tres': 3}\n",
    "for clave,valor in enumerate(dicc2):\n",
    "    print('la posición es {} y el clave es {}'.format(clave,valor))"
   ]
  },
  {
   "cell_type": "markdown",
   "metadata": {},
   "source": [
    "La iteración de estructuras de datos mediante FOR será algo muy común, así que vamos a recapitular lo más importante que tenemos que recordar:\n",
    "\n",
    "* Podemos iterar cadenas, tuplas, conjuntos, diccionarios o listas\n",
    "* Con las tuplas es importante entender el tuple unpacking\n",
    "* Si iteramos un diccionario, por defecto nos devolverá la clave\n",
    "* Si queremos explícitamente las claves usamos nombrediccionario.keys()\n",
    "* Si queremos los valores usamos nombrediccionario.values()\n",
    "* Si queremos las claves y los valores usamos nombrediccionario.items()\n",
    "* Si queremos la posición y las claves usamos enumerate(nombrediccionario)"
   ]
  },
  {
   "cell_type": "markdown",
   "metadata": {},
   "source": [
    "# Ejercicio de aplicación resuelto"
   ]
  },
  {
   "cell_type": "code",
   "execution_count": null,
   "metadata": {},
   "outputs": [],
   "source": [
    "# Problema: Análisis de Calidad del Agua en Embalses\n",
    "\n",
    "# Tienes datos de calidad del agua de varios embalses. Cada embalse tiene mediciones \n",
    "# de diferentes parámetros tomadas en distintos días. Tu tarea es analizar estos datos \n",
    "# y proporcionar un informe.\n",
    "\n",
    "datos_embalses = {\n",
    "    \"Embalse A\": [\n",
    "        (\"2023-06-01\", {\"pH\": 7.2, \"temperatura\": 22.5, \"turbidez\": 3.7}),\n",
    "        (\"2023-06-02\", {\"pH\": 7.3, \"temperatura\": 23.1, \"turbidez\": 3.5}),\n",
    "        (\"2023-06-03\", {\"pH\": 7.1, \"temperatura\": 22.8, \"turbidez\": 4.0})\n",
    "    ],\n",
    "    \"Embalse B\": [\n",
    "        (\"2023-06-01\", {\"pH\": 6.9, \"temperatura\": 21.8, \"turbidez\": 4.2}),\n",
    "        (\"2023-06-02\", {\"pH\": 7.0, \"temperatura\": 22.2, \"turbidez\": 4.0}),\n",
    "        (\"2023-06-03\", {\"pH\": 6.8, \"temperatura\": 22.5, \"turbidez\": 4.5})\n",
    "    ],\n",
    "    \"Embalse C\": [\n",
    "        (\"2023-06-01\", {\"pH\": 7.5, \"temperatura\": 23.5, \"turbidez\": 3.2}),\n",
    "        (\"2023-06-02\", {\"pH\": 7.4, \"temperatura\": 24.1, \"turbidez\": 3.3}),\n",
    "        (\"2023-06-03\", {\"pH\": 7.6, \"temperatura\": 23.8, \"turbidez\": 3.1})\n",
    "    ]\n",
    "}\n",
    "\n",
    "# Tareas:\n",
    "# 1. Calcula el promedio de pH, temperatura y turbidez para cada embalse.\n",
    "# 2. Identifica el embalse con la temperatura más alta y en qué fecha ocurrió.\n",
    "# 3. Clasifica cada embalse según su pH promedio: \n",
    "#    \"Ácido\" si pH < 7, \"Neutral\" si 7 <= pH <= 7.5, \"Alcalino\" si pH > 7.5\n",
    "# 4. Crea un conjunto con los embalses que tienen al menos una medición de turbidez superior a 4.0.\n",
    "# 5. Imprime un informe con todos estos resultados.\n",
    "\n"
   ]
  },
  {
   "cell_type": "code",
   "execution_count": null,
   "metadata": {},
   "outputs": [],
   "source": [
    "# Solución: Análisis de Calidad del Agua en Embalses\n",
    "\n",
    "# 1. Calcular promedios\n",
    "promedios = {}\n",
    "for embalse, mediciones in datos_embalses.items():\n",
    "    suma_pH = suma_temp = suma_turb = 0\n",
    "    for _, datos in mediciones:\n",
    "        suma_pH += datos[\"pH\"]\n",
    "        suma_temp += datos[\"temperatura\"]\n",
    "        suma_turb += datos[\"turbidez\"]\n",
    "    n = len(mediciones)\n",
    "    promedios[embalse] = {\n",
    "        \"pH\": suma_pH / n,\n",
    "        \"temperatura\": suma_temp / n,\n",
    "        \"turbidez\": suma_turb / n\n",
    "    }\n",
    "print(\"Promedios de Calidad del Agua por Embalse:\")\n",
    "print(\"------------------------------------------\")\n",
    "\n",
    "for embalse, datos in promedios.items():\n",
    "    print(f\"\\nEmbalse: {embalse}\")\n",
    "    print(f\"  pH promedio:          {datos['pH']:.2f}\")\n",
    "    print(f\"  Temperatura promedio: {datos['temperatura']:.2f}°C\")\n",
    "    print(f\"  Turbidez promedio:    {datos['turbidez']:.2f} NTU\")\n",
    "\n",
    "print(\"\\n------------------------------------------\")\n",
    "\n",
    "# Explicación:\n",
    "# 1. Usamos un bucle for para iterar sobre el diccionario 'promedios'.\n",
    "# 2. Para cada embalse, imprimimos su nombre y los promedios de cada parámetro.\n",
    "# 3. Utilizamos f-strings para formatear la salida, incluyendo el nombre del embalse y los valores.\n",
    "# 4. Los valores se formatean a dos decimales usando :.2f para mejor legibilidad.\n",
    "# 5. Añadimos unidades a la temperatura (°C) y turbidez (NTU) para claridad.\n",
    "# 6. Usamos sangrías y líneas separadoras para mejorar la presentación visual.\n"
   ]
  },
  {
   "cell_type": "code",
   "execution_count": null,
   "metadata": {},
   "outputs": [],
   "source": [
    "\n",
    "# 3. Clasificar embalses por pH\n",
    "clasificacion_pH = {}\n",
    "for embalse, prom in promedios.items():\n",
    "    if prom[\"pH\"] < 7:\n",
    "        clasificacion_pH[embalse] = \"Ácido\"\n",
    "    elif prom[\"pH\"] <= 7.5:\n",
    "        clasificacion_pH[embalse] = \"Neutral\"\n",
    "    else:\n",
    "        clasificacion_pH[embalse] = \"Alcalino\"\n"
   ]
  },
  {
   "cell_type": "code",
   "execution_count": null,
   "metadata": {},
   "outputs": [],
   "source": [
    "\n",
    "# 4. Embalses con turbidez > 4.0\n",
    "embalses_alta_turbidez = set()\n",
    "for embalse, mediciones in datos_embalses.items():\n",
    "    for _, datos in mediciones:\n",
    "        if datos[\"turbidez\"] > 4.0:\n",
    "            embalses_alta_turbidez.add(embalse)\n",
    "            break\n"
   ]
  },
  {
   "cell_type": "code",
   "execution_count": null,
   "metadata": {},
   "outputs": [],
   "source": [
    "\n",
    "# 5. Imprimir informe\n",
    "print(\"Informe de Calidad del Agua en Embalses\\n\")\n",
    "\n",
    "print(\"1. Promedios por embalse:\")\n",
    "for embalse, prom in promedios.items():\n",
    "    print(f\"{embalse}:\")\n",
    "    print(f\"  pH: {prom['pH']:.2f}\")\n",
    "    print(f\"  Temperatura: {prom['temperatura']:.2f}°C\")\n",
    "    print(f\"  Turbidez: {prom['turbidez']:.2f} NTU\")\n",
    "\n",
    "print(f\"\\n2. Temperatura más alta: {temp_max}°C\")\n",
    "print(f\"   Embalse: {embalse_max}\")\n",
    "print(f\"   Fecha: {fecha_max}\")\n",
    "\n",
    "print(\"\\n3. Clasificación por pH:\")\n",
    "for embalse, clas in clasificacion_pH.items():\n",
    "    print(f\"{embalse}: {clas}\")\n",
    "\n",
    "print(\"\\n4. Embalses con alta turbidez (>4.0 NTU):\")\n",
    "print(\", \".join(embalses_alta_turbidez) if embalses_alta_turbidez else \"Ninguno\")"
   ]
  },
  {
   "cell_type": "markdown",
   "metadata": {},
   "source": [
    "# Ejercicios de aplicación"
   ]
  },
  {
   "cell_type": "code",
   "execution_count": null,
   "metadata": {},
   "outputs": [],
   "source": [
    "# Problema 1: Análisis de Precipitaciones\n",
    "# Crea una lista con las precipitaciones diarias (en mm) de un mes.\n",
    "# Utiliza un bucle for para calcular la precipitación total y el promedio.\n",
    "# Usa una estructura if para clasificar el mes como \"seco\" si el promedio es menor a 50 mm,\n",
    "# \"normal\" si está entre 50 y 100 mm, y \"lluvioso\" si es mayor a 100 mm.\n",
    "\n",
    "precipitaciones = [12.5, 8.0, 0.0, 22.3, 15.7, 30.1, 0.0, 5.2, 18.9, 7.6, \n",
    "                   0.0, 0.0, 2.1, 9.8, 25.4, 11.2, 0.0, 3.5, 14.7, 6.9, \n",
    "                   0.0, 1.8, 4.3, 8.7, 20.1, 13.5, 0.0, 6.4, 17.2, 9.1]\n",
    "\n",
    "# Tu código aquí\n"
   ]
  },
  {
   "cell_type": "code",
   "execution_count": null,
   "metadata": {},
   "outputs": [],
   "source": [
    "\n",
    "\n",
    "# Problema 2: Registro de Especies\n",
    "# Crea un diccionario donde las claves sean nombres de especies y los valores sean \n",
    "# el número de avistamientos. Usa un bucle for para imprimir cada especie y su conteo.\n",
    "# Luego, encuentra la especie con más avistamientos.\n",
    "\n",
    "avistamientos = {\n",
    "    \"águila real\": 5,\n",
    "    \"oso pardo\": 2,\n",
    "    \"lobo ibérico\": 3,\n",
    "    \"lince ibérico\": 1,\n",
    "    \"buitre leonado\": 8,\n",
    "    \"cabra montés\": 12\n",
    "}\n",
    "\n",
    "# Tu código aquí\n"
   ]
  },
  {
   "cell_type": "code",
   "execution_count": null,
   "metadata": {},
   "outputs": [],
   "source": [
    "\n",
    "\n",
    "# Problema 3: Análisis de Calidad del Agua\n",
    "# Crea una lista de tuplas, donde cada tupla contenga el nombre de un río y su pH.\n",
    "# Usa un bucle for con tuple unpacking para clasificar cada río como \n",
    "# \"ácido\" (pH < 7), \"neutral\" (pH == 7), o \"alcalino\" (pH > 7).\n",
    "\n",
    "rios_ph = [(\"Tajo\", 7.1), (\"Ebro\", 8.2), (\"Duero\", 6.8), \n",
    "           (\"Guadalquivir\", 7.8), (\"Guadiana\", 6.9)]\n",
    "\n",
    "# Tu código aquí\n"
   ]
  },
  {
   "cell_type": "code",
   "execution_count": null,
   "metadata": {},
   "outputs": [],
   "source": [
    "\n",
    "\n",
    "# Problema 4: Estaciones Meteorológicas\n",
    "# Crea un conjunto con los nombres de las estaciones que reportaron datos hoy,\n",
    "# y otro conjunto con las que se espera que reporten mañana.\n",
    "# Usa operaciones de conjuntos para encontrar:\n",
    "# 1. Estaciones que reportarán ambos días\n",
    "# 2. Estaciones que reportarán mañana pero no reportaron hoy\n",
    "# 3. Estaciones que reportaron hoy pero no reportarán mañana\n",
    "\n",
    "estaciones_hoy = {\"Madrid\", \"Barcelona\", \"Sevilla\", \"Valencia\", \"Zaragoza\"}\n",
    "estaciones_manana = {\"Madrid\", \"Barcelona\", \"Sevilla\", \"Bilbao\", \"Málaga\"}\n",
    "\n",
    "# Tu código aquí\n"
   ]
  },
  {
   "cell_type": "code",
   "execution_count": null,
   "metadata": {},
   "outputs": [],
   "source": [
    "\n",
    "\n",
    "# Problema 5: Análisis de Caudales\n",
    "# Crea un diccionario donde las claves sean nombres de ríos y los valores sean \n",
    "# listas con los caudales diarios (m³/s) durante una semana.\n",
    "# Usa bucles anidados para encontrar el río con el caudal máximo y el día en que ocurrió.\n",
    "\n",
    "caudales = {\n",
    "    \"Ebro\": [600, 580, 620, 590, 605, 615, 595],\n",
    "    \"Tajo\": [320, 310, 330, 305, 325, 315, 318],\n",
    "    \"Duero\": [400, 420, 380, 410, 405, 415, 390],\n",
    "    \"Guadalquivir\": [280, 290, 270, 285, 275, 295, 288]\n",
    "}\n",
    "\n",
    "# Tu código aquí"
   ]
  },
  {
   "cell_type": "markdown",
   "metadata": {},
   "source": [
    "### List comprehension"
   ]
  },
  {
   "cell_type": "markdown",
   "metadata": {},
   "source": [
    "Es una forma más compacta e incluso más rápida para iterar de forma similar a lo que hacemos con For. Su sintaxis es entre corchetes [haz esto por cada elemento en un iterable].\n",
    "\n",
    "Aunque se llame list comprehension también funciona en conjuntos y diccionarios."
   ]
  },
  {
   "cell_type": "code",
   "execution_count": null,
   "metadata": {},
   "outputs": [],
   "source": [
    "[print(x) for x in range(5)]"
   ]
  },
  {
   "cell_type": "code",
   "execution_count": null,
   "metadata": {},
   "outputs": [],
   "source": [
    "#Se pueden incluir condiciones para hacerlo más flexible\n",
    "[print(x) for x in range(0,5) if x>=3]"
   ]
  },
  {
   "cell_type": "code",
   "execution_count": null,
   "metadata": {},
   "outputs": [],
   "source": [
    "#Ejemplo en un diccionario\n",
    "dicc = {'a':1,'b':2}\n",
    "[clave.upper() for clave in dicc.keys()]"
   ]
  },
  {
   "cell_type": "markdown",
   "metadata": {},
   "source": [
    "### Contadores"
   ]
  },
  {
   "cell_type": "markdown",
   "metadata": {},
   "source": [
    "No son un elemento de sintaxis en sí mismos, pero es un recurso que se usa a veces en la programación, por lo que merece la pena conocerlo.\n",
    "Básicamente es definir una variable que de forma iterativa se irá incrementando."
   ]
  },
  {
   "cell_type": "code",
   "execution_count": null,
   "metadata": {},
   "outputs": [],
   "source": [
    "#Un uso típico es para romper un bucle cuando el contador llegue a un límite\n",
    "limite = 5\n",
    "cont = 1\n",
    "while cont < limite:\n",
    "        print(cont)\n",
    "        cont = cont + 1\n",
    "print('Hasta aquí he llegado')        \n",
    "        "
   ]
  },
  {
   "cell_type": "code",
   "execution_count": null,
   "metadata": {},
   "outputs": [],
   "source": [
    "#Hay una sintaxis reducida para los contadores cont += 1\n",
    "limite = 5\n",
    "cont = 1\n",
    "while cont < limite:\n",
    "        print(cont)\n",
    "        cont += 1\n",
    "print('Hasta aquí he llegado')        \n",
    "        "
   ]
  },
  {
   "cell_type": "code",
   "execution_count": null,
   "metadata": {},
   "outputs": [],
   "source": [
    "#Otro uso típico es para ir \"rellenando\" por ejemplo un diccionario en función de su índice\n",
    "amigos = dict()\n",
    "cont = 0\n",
    "\n",
    "entrada = 'gsdfgdf'\n",
    "while entrada != '':\n",
    "    entrada = input('Dime un amigo: ')\n",
    "    amigos[cont] = entrada\n",
    "    cont = cont + 1\n",
    "print(amigos)"
   ]
  },
  {
   "cell_type": "markdown",
   "metadata": {},
   "source": [
    "### Repaso y a recordar:\n",
    "\n",
    "* If sirve para crear reglas si entonces. Sintaxis: if - elif - else\n",
    "* For recorre cada elemento de cualquier objeto iterable\n",
    "* Al iterar diccionarios acordarse de .items(), .keys(), .values(), .enumerate() y el concepto tuple unpacking\n",
    "* Sintaxis de list comprehension: [haz esto por cada elemento en iterable si se cumple condición]\n",
    "* Los contadores son un recurso frecuente en programación que debemos recordar"
   ]
  },
  {
   "cell_type": "markdown",
   "metadata": {},
   "source": [
    "## FUNCIONES PERSONALIZADAS"
   ]
  },
  {
   "cell_type": "markdown",
   "metadata": {},
   "source": [
    "### Funciones definidas por el usuario"
   ]
  },
  {
   "cell_type": "markdown",
   "metadata": {},
   "source": [
    "Quizá sin saberlo, hemos estado usando un montón de funciones. Sin ir más lejos print es una. \n",
    "\n",
    "En general una función es algo a lo que le pasas unos parámetros (aunque no necesariamente) y te devuelve una salida (aunque no necesariamente).\n",
    "\n",
    "Pero además de las funciones predefinidas de Python nosotros podemos crear nuestras propias funciones.\n",
    "\n",
    "Especificamos lo que queremos que devuelva con return."
   ]
  },
  {
   "cell_type": "code",
   "execution_count": null,
   "metadata": {
    "scrolled": true
   },
   "outputs": [],
   "source": [
    "def suma_dos(num1,num2):\n",
    "    resultado = num1 + num2\n",
    "    return(resultado)"
   ]
  },
  {
   "cell_type": "code",
   "execution_count": null,
   "metadata": {},
   "outputs": [],
   "source": [
    "#Para llamar a una función usaremos su nombre más paréntesis y dentro de los mismos los parámetros que queramos pasarle\n",
    "suma_dos(2,4)"
   ]
  },
  {
   "cell_type": "code",
   "execution_count": null,
   "metadata": {},
   "outputs": [],
   "source": [
    "#Se pueden poner valores por defecto a los parámetros para el caso de que no se le pasen a la función\n",
    "def suma_dos(num1,num2 = 4):\n",
    "    resultado = num1 + num2\n",
    "    return(resultado)\n",
    "suma_dos(num1 = 2)"
   ]
  },
  {
   "cell_type": "code",
   "execution_count": null,
   "metadata": {},
   "outputs": [],
   "source": [
    "#Las funciones de Python pueden devolver varios valores\n",
    "def suma_dos(num1,num2 = 4):\n",
    "    resultado1 = num1 + num2\n",
    "    resultado2 = num1 * num2\n",
    "    return(resultado1,resultado2)\n",
    "\n",
    "res1,res2 = suma_dos(num1 = 2)\n",
    "print(res1)\n",
    "print(res2)"
   ]
  },
  {
   "cell_type": "markdown",
   "metadata": {},
   "source": [
    "### Funciones lambda"
   ]
  },
  {
   "cell_type": "markdown",
   "metadata": {},
   "source": [
    "Hay veces que no necesitaremos crear una función como tal ya que únicamente querremos algo puntual y \"al vuelo\". \n",
    "\n",
    "Es lo que se llaman funciones lambda, que normalmente irán dentro de otros procesos para hacer su trabajo y luego no persistirán. \n",
    "\n",
    "También se llaman anónimas, ya que no tienen nombre.\n",
    "\n",
    "Otro punto importante es que sólo pueden tener una única expresión, no un bloque de acciones (que sí pueden tener las funciones normales).\n",
    "\n",
    "Las usaremos mucho dentro de la función map (que veremos más adelante)"
   ]
  },
  {
   "cell_type": "code",
   "execution_count": null,
   "metadata": {},
   "outputs": [],
   "source": [
    "#Ejemplo de cómo tendríamos que hacer para aplicar una función dentro de map definiéndola tradicionalmente (con nombre)\n",
    "\n",
    "numeros = [1,2,3,4]\n",
    "\n",
    "def doble(num):\n",
    "    return(num * 2)\n",
    "\n",
    "list(map(doble,numeros))"
   ]
  },
  {
   "cell_type": "code",
   "execution_count": null,
   "metadata": {},
   "outputs": [],
   "source": [
    "#Mismo ejemplo pero ahora con una función lambda (anónima)\n",
    "\n",
    "list(map(lambda num: num * 2,numeros))"
   ]
  },
  {
   "cell_type": "markdown",
   "metadata": {},
   "source": [
    "## OTRAS FUNCIONES ÚTILES"
   ]
  },
  {
   "cell_type": "markdown",
   "metadata": {},
   "source": [
    "### Map"
   ]
  },
  {
   "cell_type": "markdown",
   "metadata": {},
   "source": [
    "Sirve para aplicar una función a cada elemento de un objeto iterable. Pero devuelve un objeto map, que normalmente hay que convertir para visualizarlo, por ej a una lista, tupla, etc"
   ]
  },
  {
   "cell_type": "code",
   "execution_count": null,
   "metadata": {},
   "outputs": [],
   "source": [
    "colores = ['rojo','amarillo','verde']\n",
    "list(map(len,colores))"
   ]
  },
  {
   "cell_type": "code",
   "execution_count": null,
   "metadata": {},
   "outputs": [],
   "source": [
    "#También se puede usar con funciones personalizadas que hayamos construido nosotros\n",
    "def num_caracteres(texto):\n",
    "    return(len(texto))\n",
    "\n",
    "list(map(num_caracteres,colores))"
   ]
  },
  {
   "cell_type": "markdown",
   "metadata": {},
   "source": [
    "Es equivalente a un list comprehension, y es más sencillo de hacer."
   ]
  },
  {
   "cell_type": "code",
   "execution_count": null,
   "metadata": {},
   "outputs": [],
   "source": [
    "#El ejercicio superior con list comprehension\n",
    "colores = ['rojo','amarillo','verde']\n",
    "\n",
    "[len(color) for color in colores]"
   ]
  },
  {
   "cell_type": "markdown",
   "metadata": {},
   "source": [
    "### Filter"
   ]
  },
  {
   "cell_type": "markdown",
   "metadata": {},
   "source": [
    "Devuelve los elementos de una secuencia que cumplen una condición. Pero devuelve un objeto filter, que normalmente hay que convertir para visualizarlo, por ej a una lista, tupla, etc"
   ]
  },
  {
   "cell_type": "code",
   "execution_count": null,
   "metadata": {},
   "outputs": [],
   "source": [
    "colores = ['rojo','amarillo','verde']\n",
    "list(filter(lambda color: len(color) == 4, colores))"
   ]
  },
  {
   "cell_type": "markdown",
   "metadata": {},
   "source": [
    "Es equivalente a un list comprehension que incluya un if."
   ]
  },
  {
   "cell_type": "code",
   "execution_count": null,
   "metadata": {},
   "outputs": [],
   "source": [
    "#El ejercicio superior con list comprehension\n",
    "colores = ['rojo','amarillo','verde']\n",
    "\n",
    "[color for color in colores if len(color) == 4]"
   ]
  },
  {
   "cell_type": "markdown",
   "metadata": {},
   "source": [
    "### Input"
   ]
  },
  {
   "cell_type": "markdown",
   "metadata": {},
   "source": [
    "Sirve para pedir al usuario una entrada manual de datos"
   ]
  },
  {
   "cell_type": "code",
   "execution_count": null,
   "metadata": {},
   "outputs": [],
   "source": [
    "pregunta_nombre = input(\"¿Cómo te llamas?\\n\")\n",
    "print(\"Hola {}, encantado de saludarte\".format(pregunta_nombre))"
   ]
  },
  {
   "cell_type": "code",
   "execution_count": null,
   "metadata": {},
   "outputs": [],
   "source": [
    "#Cuidado, input siempre devuelve una cadena\n",
    "pregunta_numero = input(\"Dime un número que le sumaré 5: \")\n",
    "print(pregunta_numero + 5)"
   ]
  },
  {
   "cell_type": "code",
   "execution_count": null,
   "metadata": {},
   "outputs": [],
   "source": [
    "#Si lo que queremos como entrada es un número tenemos que convertirlo con int()\n",
    "pregunta_numero = int(input(\"Dime un número que le sumaré 5: \"))\n",
    "print(pregunta_numero + 5)"
   ]
  },
  {
   "cell_type": "markdown",
   "metadata": {},
   "source": [
    "### Zip"
   ]
  },
  {
   "cell_type": "markdown",
   "metadata": {},
   "source": [
    "Zip es una función que construye un objeto iterable a partir de otros y los empareja primero con primero, segundo con segundo y así.\n",
    "\n",
    "Por ejemplo vamos a usarlo para unificar en un diccionario dos listas separadas de nombres y apellidos."
   ]
  },
  {
   "cell_type": "code",
   "execution_count": null,
   "metadata": {},
   "outputs": [],
   "source": [
    "nombres = ['Pedro','Manuel','Maria']\n",
    "apellidos = ['García','González','Martinez']\n",
    "\n",
    "dict(zip(nombres, apellidos))"
   ]
  },
  {
   "cell_type": "markdown",
   "metadata": {},
   "source": [
    "### Funciones estadísticas básicas"
   ]
  },
  {
   "cell_type": "markdown",
   "metadata": {},
   "source": [
    "Notar que hay que pasarles una lista cuando hay varios valores"
   ]
  },
  {
   "cell_type": "code",
   "execution_count": null,
   "metadata": {},
   "outputs": [],
   "source": [
    "sum([1,5,4])"
   ]
  },
  {
   "cell_type": "code",
   "execution_count": null,
   "metadata": {},
   "outputs": [],
   "source": [
    "max([1,5,4])"
   ]
  },
  {
   "cell_type": "code",
   "execution_count": null,
   "metadata": {},
   "outputs": [],
   "source": [
    "min([1,5,4])"
   ]
  },
  {
   "cell_type": "code",
   "execution_count": null,
   "metadata": {},
   "outputs": [],
   "source": [
    "abs(-5)"
   ]
  },
  {
   "cell_type": "code",
   "execution_count": null,
   "metadata": {},
   "outputs": [],
   "source": [
    "round(3.1416, ndigits=2)"
   ]
  },
  {
   "cell_type": "markdown",
   "metadata": {},
   "source": [
    "Referencia con todas las funciones internas de Python: https://www.w3schools.com/python/python_ref_functions.asp"
   ]
  },
  {
   "cell_type": "markdown",
   "metadata": {},
   "source": [
    "### Repaso y a recordar:\n",
    "\n",
    "* Podemos crear funciones personalizadas con def nombre(parámetros):\n",
    "* Puede haber funciones sin parámetros, y también podemos definirlos por defecto\n",
    "* Las funciones lambda no tienen nombre y se aplican al vuelo\n",
    "* Map aplica una función a cada elemento de un iterable\n",
    "* Filter permite filtrar elementos de una secuencia según un criterio\n",
    "* Input devuelve una cadena, si queremos un entero hay que usar int()\n",
    "* Zip va recorriendo los elementos de 2 iterables y emparejándolos"
   ]
  },
  {
   "cell_type": "markdown",
   "metadata": {},
   "source": [
    "## IMPORTACIÓN DE MÓDULOS"
   ]
  },
  {
   "cell_type": "markdown",
   "metadata": {},
   "source": [
    "Lo que hemos visto hasta ahora ha sido un recorrido por lo más importante y lo que debes conocer de Python \"base\".\n",
    "\n",
    "No obstante, la funcionalidad de Python no termina aquí, si no que de hecho empieza, ya que a partir de aquí hay infinidad de nuevas \"ampliaciones\" que permiten incorporar nuevas funciones y por tanto nuevas funcionalidades.\n",
    "\n",
    "Es lo que se llaman módulos, o también hay gente que lo llama paquetes o librerías. Aunque realmente un paquete es una agregación de módulos.\n",
    "\n",
    "Al final, conociendo la sintaxis base de Python que ya has estudiado, incorporar nuevas funcionalidades mediante módulos suele ser simplemente investigar cómo importarlos y la documentación de sus funciones.\n",
    "\n",
    "Aquí puedes ver la lista de módulos \"oficiales\" que ya vienen con Python.\n",
    "\n",
    "https://docs.python.org/3/py-modindex.html"
   ]
  },
  {
   "cell_type": "markdown",
   "metadata": {},
   "source": [
    "Hay tres formas principales de importar módulos:\n",
    "\n",
    "1. Usando la forma \"import modulo as alias\"\n",
    "\n",
    "2. Usando la forma \"from modulo import *\"\n",
    "\n",
    "3. O la forma \"from modulo import funcion\""
   ]
  },
  {
   "cell_type": "code",
   "execution_count": null,
   "metadata": {
    "scrolled": true
   },
   "outputs": [],
   "source": [
    "#Con la 1 importamos todas las funciones, pero cada vez que las queramos usar deberemos poner alias.funcion\n",
    "#Por ejemplo vamos a importar el módulo random y generar un aleatorio\n",
    "import random as rd\n",
    "rd.random()"
   ]
  },
  {
   "cell_type": "code",
   "execution_count": null,
   "metadata": {},
   "outputs": [],
   "source": [
    "#Con la 2 también importamos todas las funciones del módulo, pero no es necesario poner el módulo cuando la llamemos\n",
    "#Por ejemplo vamos a importar el módulo random y generar un aleatorio\n",
    "from random import *\n",
    "random()"
   ]
  },
  {
   "cell_type": "code",
   "execution_count": null,
   "metadata": {},
   "outputs": [],
   "source": [
    "#Con la 3 importamos solo lo que le digamos, y no es necesario poner modulo.funcion si no simplemente la función\n",
    "#Por ejemplo vamos a importar el módulo random pero sólo con la función random y generar un aleatorio\n",
    "from random import random\n",
    "random()"
   ]
  },
  {
   "cell_type": "markdown",
   "metadata": {},
   "source": [
    "Cuando estemos trabajando en real seguramente estaremos usando funciones de varios módulos: numpy, pandas, seaborn, etc.\n",
    "\n",
    "Por tanto se considera buena práctica usar la notación de módulo.función por legibilidad y claridad del código"
   ]
  }
 ],
 "metadata": {
  "kernelspec": {
   "display_name": "Python 3 (ipykernel)",
   "language": "python",
   "name": "python3"
  },
  "language_info": {
   "codemirror_mode": {
    "name": "ipython",
    "version": 3
   },
   "file_extension": ".py",
   "mimetype": "text/x-python",
   "name": "python",
   "nbconvert_exporter": "python",
   "pygments_lexer": "ipython3",
   "version": "3.9.2"
  },
  "toc": {
   "base_numbering": 1,
   "nav_menu": {},
   "number_sections": true,
   "sideBar": true,
   "skip_h1_title": false,
   "title_cell": "Table of Contents",
   "title_sidebar": "Contents",
   "toc_cell": false,
   "toc_position": {
    "height": "calc(100% - 180px)",
    "left": "10px",
    "top": "150px",
    "width": "428.8px"
   },
   "toc_section_display": true,
   "toc_window_display": true
  },
  "varInspector": {
   "cols": {
    "lenName": 16,
    "lenType": 16,
    "lenVar": 40
   },
   "kernels_config": {
    "python": {
     "delete_cmd_postfix": "",
     "delete_cmd_prefix": "del ",
     "library": "var_list.py",
     "varRefreshCmd": "print(var_dic_list())"
    },
    "r": {
     "delete_cmd_postfix": ") ",
     "delete_cmd_prefix": "rm(",
     "library": "var_list.r",
     "varRefreshCmd": "cat(var_dic_list()) "
    }
   },
   "oldHeight": 122.84966599999998,
   "position": {
    "height": "144.683px",
    "left": "1373px",
    "right": "20px",
    "top": "119px",
    "width": "350px"
   },
   "types_to_exclude": [
    "module",
    "function",
    "builtin_function_or_method",
    "instance",
    "_Feature"
   ],
   "varInspector_section_display": "block",
   "window_display": false
  }
 },
 "nbformat": 4,
 "nbformat_minor": 2
}
