{
 "cells": [
  {
   "cell_type": "markdown",
   "metadata": {},
   "source": [
    "# Laboratorio de la Sesión 1"
   ]
  },
  {
   "cell_type": "markdown",
   "metadata": {},
   "source": [
    "\n",
    "Les presento una serie de ejercicios diseñados para fortalecer sus habilidades en Python, aplicadas directamente a desafíos reales en el campo de las ciencias ambientales. Estos ejercicios no son solo una práctica de programación; son una puerta de entrada a un mundo donde la tecnología y la ciencia ambiental se fusionan para crear soluciones innovadoras y eficientes.\n",
    "\n",
    "## ¿Por qué es importante este aprendizaje?\n",
    "En la era actual, donde los datos son abundantes y complejos, la capacidad de analizarlos eficientemente es crucial. Como profesionales en ciencias ambientales, os enfrentáis a enormes cantidades de información proveniente de diversas fuentes: sensores remotos, estaciones de monitoreo, muestras de campo y más. Python se ha convertido en una herramienta indispensable en este campo por su versatilidad y potencia.\n",
    "Dominar estas habilidades os permitirá:\n",
    "\n",
    "+ Automatizar tareas repetitivas, liberando tiempo para el análisis crítico y la toma de decisiones.\n",
    "+ Procesar grandes volúmenes de datos de manera rápida y precisa.\n",
    "+ Crear visualizaciones impactantes que comuniquen eficazmente vuestros hallazgos.\n",
    "+ Desarrollar modelos predictivos para anticipar cambios ambientales.\n",
    "+ Integrar datos de múltiples fuentes para obtener una visión holística de los ecosistemas.\n",
    "\n",
    "## Variedad de conceptos abarcados\n",
    "Estos ejercicios han sido cuidadosamente diseñados para cubrir una amplia gama de conceptos de Python, todos aplicados a escenarios reales en ciencias ambientales:\n",
    "\n",
    "* Estructuras de datos: Aprenderéis a utilizar listas, tuplas, diccionarios y conjuntos para organizar eficientemente diferentes tipos de datos ambientales.\n",
    "* Control de flujo: Practicaréis con bucles y condicionales para analizar datos y tomar decisiones basadas en criterios específicos.\n",
    "* Funciones: Desarrollaréis funciones reutilizables para tareas comunes en el análisis ambiental.\n",
    "* Manipulación de datos: Ganaréis experiencia en el filtrado, transformación y agregación de datos, habilidades esenciales en el trabajo con conjuntos de datos ambientales.\n",
    "* Cálculos estadísticos básicos: Realizaréis cálculos como promedios, máximos y mínimos, fundamentales en el análisis de datos ambientales.\n",
    "Clasificación y categorización: Aprenderéis a clasificar datos según diferentes criterios, una habilidad crucial en la evaluación de la calidad ambiental.\n",
    "\n",
    "## Relevancia en el mundo real\n",
    "Cada ejercicio está basado en escenarios reales que podríais encontrar en vuestra carrera profesional:\n",
    "\n",
    "+ Análisis de la calidad del agua en ríos\n",
    "+ Monitoreo de la calidad del aire en zonas urbanas\n",
    "+ Estudios meteorológicos y predicción del clima\n",
    "+ Evaluación de la calidad del suelo para agricultura\n",
    "+ Gestión y análisis de residuos urbanos\n",
    "\n",
    "Estos ejercicios no solo os ayudarán a mejorar vuestras habilidades de programación, sino que también os prepararán para enfrentar desafíos reales en vuestro campo profesional. Al completar estos ejercicios, estaréis un paso más cerca de convertiros en profesionales de las ciencias ambientales equipados con herramientas modernas y eficaces para abordar los complejos desafíos ambientales de nuestro tiempo.\n",
    "\n",
    "¡Adelante, y que su código sea tan limpio como el medio ambiente que trabajan por proteger!"
   ]
  },
  {
   "cell_type": "code",
   "execution_count": null,
   "metadata": {},
   "outputs": [],
   "source": [
    "# Ejercicios de Ciencias Ambientales con Python\n",
    "\n",
    "## 1. Análisis de Calidad del Agua en Ríos\n",
    "\n",
    "datos_rios = {\n",
    "    \"Amazonas\": [\n",
    "        (\"2023-01\", {\"pH\": 6.5, \"oxigeno_disuelto\": 7.2, \"temperatura\": 28}),\n",
    "        (\"2023-02\", {\"pH\": 6.7, \"oxigeno_disuelto\": 7.0, \"temperatura\": 29}),\n",
    "        (\"2023-03\", {\"pH\": 6.6, \"oxigeno_disuelto\": 7.1, \"temperatura\": 27})\n",
    "    ],\n",
    "    \"Nilo\": [\n",
    "        (\"2023-01\", {\"pH\": 7.8, \"oxigeno_disuelto\": 6.5, \"temperatura\": 22}),\n",
    "        (\"2023-02\", {\"pH\": 7.9, \"oxigeno_disuelto\": 6.3, \"temperatura\": 23}),\n",
    "        (\"2023-03\", {\"pH\": 7.7, \"oxigeno_disuelto\": 6.4, \"temperatura\": 21})\n",
    "    ],\n",
    "    \"Danubio\": [\n",
    "        (\"2023-01\", {\"pH\": 7.2, \"oxigeno_disuelto\": 8.1, \"temperatura\": 10}),\n",
    "        (\"2023-02\", {\"pH\": 7.3, \"oxigeno_disuelto\": 8.0, \"temperatura\": 11}),\n",
    "        (\"2023-03\", {\"pH\": 7.1, \"oxigeno_disuelto\": 8.2, \"temperatura\": 9})\n",
    "    ]\n",
    "}\n",
    "\n",
    "# a) Calcula el promedio de pH, oxígeno disuelto y temperatura para cada río.\n",
    "# b) Identifica el río con la temperatura más alta y en qué mes ocurrió.\n",
    "# c) Clasifica cada río según su pH promedio: \"Ácido\" si pH < 7, \"Neutral\" si 7 <= pH < 8, \"Alcalino\" si pH >= 8.\n",
    "# d) Crea un conjunto con los ríos que tienen al menos una medición de oxígeno disuelto inferior a 7.0.\n",
    "\n",
    "# Tu código aquí\n"
   ]
  },
  {
   "cell_type": "code",
   "execution_count": null,
   "metadata": {},
   "outputs": [],
   "source": [
    "\n",
    "\n",
    "## 2. Monitoreo de Calidad del Aire\n",
    "\n",
    "contaminantes = [\n",
    "    (\"PM2.5\", [35, 42, 39, 36, 40]),\n",
    "    (\"PM10\", [65, 72, 68, 70, 66]),\n",
    "    (\"NO2\", [21, 24, 22, 25, 23]),\n",
    "    (\"SO2\", [8, 10, 9, 11, 10]),\n",
    "    (\"CO\", [1.2, 1.5, 1.3, 1.4, 1.6])\n",
    "]\n",
    "\n",
    "limites = {\"PM2.5\": 35, \"PM10\": 70, \"NO2\": 25, \"SO2\": 10, \"CO\": 1.5}\n",
    "\n",
    "# a) Calcula el promedio de cada contaminante.\n",
    "# b) Determina cuáles contaminantes exceden en promedio sus límites permitidos.\n",
    "# c) Encuentra el día con la peor calidad del aire (suma de todos los contaminantes).\n",
    "# d) Crea un diccionario que clasifique cada contaminante como \"Bajo\", \"Moderado\" o \"Alto\" \n",
    "#    según si está por debajo, dentro de un 10% o por encima del límite, respectivamente.\n",
    "\n",
    "# Tu código aquí\n"
   ]
  },
  {
   "cell_type": "code",
   "execution_count": null,
   "metadata": {},
   "outputs": [],
   "source": [
    "\n",
    "\n",
    "## 3. Análisis Meteorológico\n",
    "\n",
    "datos_clima = [\n",
    "    {\"fecha\": \"2023-07-01\", \"temperatura\": 25, \"humedad\": 60, \"presion\": 1013, \"precipitacion\": 0},\n",
    "    {\"fecha\": \"2023-07-02\", \"temperatura\": 27, \"humedad\": 55, \"presion\": 1012, \"precipitacion\": 0},\n",
    "    {\"fecha\": \"2023-07-03\", \"temperatura\": 26, \"humedad\": 58, \"presion\": 1011, \"precipitacion\": 5},\n",
    "    {\"fecha\": \"2023-07-04\", \"temperatura\": 24, \"humedad\": 65, \"presion\": 1010, \"precipitacion\": 10},\n",
    "    {\"fecha\": \"2023-07-05\", \"temperatura\": 23, \"humedad\": 70, \"presion\": 1009, \"precipitacion\": 15}\n",
    "]\n",
    "\n",
    "# a) Calcula la temperatura promedio y la precipitación total.\n",
    "# b) Encuentra el día con la humedad más alta.\n",
    "# c) Crea una lista de tuplas (fecha, presion) ordenada de mayor a menor presión.\n",
    "# d) Clasifica cada día como \"Seco\" (precipitacion == 0), \"Lluvia ligera\" (0 < precipitacion <= 10), \n",
    "#    o \"Lluvia intensa\" (precipitacion > 10).\n",
    "\n",
    "# Tu código aquí\n"
   ]
  },
  {
   "cell_type": "code",
   "execution_count": null,
   "metadata": {},
   "outputs": [],
   "source": [
    "\n",
    "\n",
    "## 4. Estudio de Suelos\n",
    "\n",
    "muestras_suelo = {\n",
    "    \"Muestra1\": {\"pH\": 6.5, \"N\": 0.15, \"P\": 10, \"K\": 150},\n",
    "    \"Muestra2\": {\"pH\": 7.2, \"N\": 0.22, \"P\": 15, \"K\": 200},\n",
    "    \"Muestra3\": {\"pH\": 5.8, \"N\": 0.10, \"P\": 8, \"K\": 120},\n",
    "    \"Muestra4\": {\"pH\": 6.9, \"N\": 0.18, \"P\": 12, \"K\": 180},\n",
    "    \"Muestra5\": {\"pH\": 7.5, \"N\": 0.25, \"P\": 20, \"K\": 220}\n",
    "}\n",
    "\n",
    "rangos_optimos = {\n",
    "    \"pH\": (6.0, 7.0),\n",
    "    \"N\": (0.15, 0.25),\n",
    "    \"P\": (10, 20),\n",
    "    \"K\": (150, 250)\n",
    "}\n",
    "\n",
    "# a) Identifica las muestras que están dentro del rango óptimo para todos los parámetros.\n",
    "# b) Para cada parámetro, encuentra la muestra con el valor más alto y más bajo.\n",
    "# c) Calcula el promedio de cada parámetro entre todas las muestras.\n",
    "# d) Crea un conjunto con las muestras que necesitan corrección de pH (fuera del rango óptimo).\n",
    "\n",
    "# Tu código aquí\n"
   ]
  },
  {
   "cell_type": "code",
   "execution_count": null,
   "metadata": {},
   "outputs": [],
   "source": [
    "\n",
    "\n",
    "## 5. Gestión de Residuos\n",
    "\n",
    "tipos_residuos = [\"Orgánico\", \"Plástico\", \"Papel\", \"Vidrio\", \"Metal\"]\n",
    "produccion_diaria = [\n",
    "    (2.5, 1.8, 1.2, 0.8, 0.7),\n",
    "    (2.3, 1.9, 1.1, 0.9, 0.8),\n",
    "    (2.6, 1.7, 1.3, 0.7, 0.6),\n",
    "    (2.4, 2.0, 1.0, 1.0, 0.9),\n",
    "    (2.7, 1.6, 1.4, 0.8, 0.5)\n",
    "]\n",
    "\n",
    "# a) Calcula la producción total de cada tipo de residuo durante el período.\n",
    "# b) Determina qué día se produjo la mayor cantidad total de residuos.\n",
    "# c) Crea un diccionario que muestre el porcentaje de cada tipo de residuo respecto al total.\n",
    "# d) Clasifica cada día según su producción total: \"Baja\" si < 7, \"Media\" si está entre 7 y 8, \"Alta\" si > 8.\n",
    "\n",
    "# Tu código aquí"
   ]
  },
  {
   "cell_type": "markdown",
   "metadata": {},
   "source": [
    "# Soluciones propuestas\n",
    "\n",
    "A continuación te comparto las soluciones a cada problema, recuerda, hay muchas maneras de resolver estos problemas. Si lo lograstes de una manera diferente ¡no te preocupes!, el único límite está en la creatividad:"
   ]
  },
  {
   "cell_type": "code",
   "execution_count": null,
   "metadata": {},
   "outputs": [],
   "source": [
    "# Soluciones Detalladas: Ejercicios de Ciencias Ambientales con Python\n",
    "\n",
    "## 1. Análisis de Calidad del Agua en Ríos\n",
    "\n",
    "# a) Calcula el promedio de pH, oxígeno disuelto y temperatura para cada río.\n",
    "promedios = {}\n",
    "for rio, mediciones in datos_rios.items():\n",
    "    suma_ph = suma_od = suma_temp = 0\n",
    "    for _, datos in mediciones:\n",
    "        suma_ph += datos[\"pH\"]\n",
    "        suma_od += datos[\"oxigeno_disuelto\"]\n",
    "        suma_temp += datos[\"temperatura\"]\n",
    "    n = len(mediciones)\n",
    "    promedios[rio] = {\n",
    "        \"pH\": suma_ph / n,\n",
    "        \"oxigeno_disuelto\": suma_od / n,\n",
    "        \"temperatura\": suma_temp / n\n",
    "    }\n",
    "\n",
    "print(\"Promedios por río:\")\n",
    "for rio, valores in promedios.items():\n",
    "    print(f\"{rio}: pH={valores['pH']:.2f}, OD={valores['oxigeno_disuelto']:.2f}, Temp={valores['temperatura']:.2f}\")\n"
   ]
  },
  {
   "cell_type": "code",
   "execution_count": null,
   "metadata": {},
   "outputs": [],
   "source": [
    "\n",
    "# b) Identifica el río con la temperatura más alta y en qué mes ocurrió.\n",
    "temp_max = float('-inf')\n",
    "rio_max = mes_max = \"\"\n",
    "for rio, mediciones in datos_rios.items():\n",
    "    for mes, datos in mediciones:\n",
    "        if datos[\"temperatura\"] > temp_max:\n",
    "            temp_max = datos[\"temperatura\"]\n",
    "            rio_max = rio\n",
    "            mes_max = mes\n",
    "\n",
    "print(f\"\\nTemperatura más alta: {temp_max}°C en {rio_max} durante {mes_max}\")\n"
   ]
  },
  {
   "cell_type": "code",
   "execution_count": null,
   "metadata": {},
   "outputs": [],
   "source": [
    "\n",
    "# c) Clasifica cada río según su pH promedio.\n",
    "clasificacion_ph = {}\n",
    "for rio, valores in promedios.items():\n",
    "    ph = valores[\"pH\"]\n",
    "    if ph < 7:\n",
    "        clasificacion_ph[rio] = \"Ácido\"\n",
    "    elif ph < 8:\n",
    "        clasificacion_ph[rio] = \"Neutral\"\n",
    "    else:\n",
    "        clasificacion_ph[rio] = \"Alcalino\"\n",
    "\n",
    "print(\"\\nClasificación de ríos por pH:\")\n",
    "for rio, clase in clasificacion_ph.items():\n",
    "    print(f\"{rio}: {clase}\")\n"
   ]
  },
  {
   "cell_type": "code",
   "execution_count": null,
   "metadata": {},
   "outputs": [],
   "source": [
    "\n",
    "# d) Crea un conjunto con los ríos que tienen al menos una medición de oxígeno disuelto inferior a 7.0.\n",
    "rios_bajo_oxigeno = set()\n",
    "for rio, mediciones in datos_rios.items():\n",
    "    for _, datos in mediciones:\n",
    "        if datos[\"oxigeno_disuelto\"] < 7.0:\n",
    "            rios_bajo_oxigeno.add(rio)\n",
    "            break\n",
    "\n",
    "print(\"\\nRíos con al menos una medición de oxígeno disuelto < 7.0:\")\n",
    "print(rios_bajo_oxigeno)\n"
   ]
  },
  {
   "cell_type": "code",
   "execution_count": null,
   "metadata": {},
   "outputs": [],
   "source": [
    "\n",
    "## 2. Monitoreo de Calidad del Aire\n",
    "\n",
    "# a) Calcula el promedio de cada contaminante.\n",
    "promedios_contaminantes = {}\n",
    "for contaminante, valores in contaminantes:\n",
    "    promedios_contaminantes[contaminante] = sum(valores) / len(valores)\n",
    "\n",
    "print(\"Promedios de contaminantes:\")\n",
    "for contaminante, promedio in promedios_contaminantes.items():\n",
    "    print(f\"{contaminante}: {promedio:.2f}\")\n"
   ]
  },
  {
   "cell_type": "code",
   "execution_count": null,
   "metadata": {},
   "outputs": [],
   "source": [
    "\n",
    "# b) Determina cuáles contaminantes exceden en promedio sus límites permitidos.\n",
    "exceden_limites = []\n",
    "for contaminante, promedio in promedios_contaminantes.items():\n",
    "    if promedio > limites[contaminante]:\n",
    "        exceden_limites.append(contaminante)\n",
    "\n",
    "print(\"\\nContaminantes que exceden límites:\")\n",
    "print(exceden_limites)\n"
   ]
  },
  {
   "cell_type": "code",
   "execution_count": null,
   "metadata": {},
   "outputs": [],
   "source": [
    "\n",
    "# c) Encuentra el día con la peor calidad del aire.\n",
    "suma_diaria = [sum(dia) for dia in zip(*[valores for _, valores in contaminantes])]\n",
    "peor_dia = suma_diaria.index(max(suma_diaria)) + 1\n",
    "\n",
    "print(f\"\\nDía con peor calidad del aire: Día {peor_dia}\")\n"
   ]
  },
  {
   "cell_type": "code",
   "execution_count": null,
   "metadata": {},
   "outputs": [],
   "source": [
    "\n",
    "# d) Clasifica cada contaminante como \"Bajo\", \"Moderado\" o \"Alto\".\n",
    "clasificacion_contaminantes = {}\n",
    "for contaminante, promedio in promedios_contaminantes.items():\n",
    "    limite = limites[contaminante]\n",
    "    if promedio <= limite:\n",
    "        clasificacion_contaminantes[contaminante] = \"Bajo\"\n",
    "    elif promedio <= limite * 1.1:\n",
    "        clasificacion_contaminantes[contaminante] = \"Moderado\"\n",
    "    else:\n",
    "        clasificacion_contaminantes[contaminante] = \"Alto\"\n",
    "\n",
    "print(\"\\nClasificación de contaminantes:\")\n",
    "for contaminante, clase in clasificacion_contaminantes.items():\n",
    "    print(f\"{contaminante}: {clase}\")\n"
   ]
  },
  {
   "cell_type": "code",
   "execution_count": null,
   "metadata": {},
   "outputs": [],
   "source": [
    "\n",
    "## 3. Análisis Meteorológico\n",
    "\n",
    "# a) Calcula la temperatura promedio y la precipitación total.\n",
    "temp_promedio = sum(dia[\"temperatura\"] for dia in datos_clima) / len(datos_clima)\n",
    "precipitacion_total = sum(dia[\"precipitacion\"] for dia in datos_clima)\n",
    "\n",
    "print(f\"Temperatura promedio: {temp_promedio:.2f}°C\")\n",
    "print(f\"Precipitación total: {precipitacion_total} mm\")\n"
   ]
  },
  {
   "cell_type": "code",
   "execution_count": null,
   "metadata": {},
   "outputs": [],
   "source": [
    "\n",
    "# b) Encuentra el día con la humedad más alta.\n",
    "dia_humedad_max = max(datos_clima, key=lambda x: x[\"humedad\"])\n",
    "print(f\"\\nDía con mayor humedad: {dia_humedad_max['fecha']} ({dia_humedad_max['humedad']}%)\")\n"
   ]
  },
  {
   "cell_type": "code",
   "execution_count": null,
   "metadata": {},
   "outputs": [],
   "source": [
    "\n",
    "# c) Crea una lista de tuplas (fecha, presion) ordenada de mayor a menor presión.\n",
    "presiones_ordenadas = sorted([(dia[\"fecha\"], dia[\"presion\"]) for dia in datos_clima], \n",
    "                             key=lambda x: x[1], reverse=True)\n",
    "print(\"\\nPresiones ordenadas de mayor a menor:\")\n",
    "for fecha, presion in presiones_ordenadas:\n",
    "    print(f\"{fecha}: {presion} hPa\")\n"
   ]
  },
  {
   "cell_type": "code",
   "execution_count": null,
   "metadata": {},
   "outputs": [],
   "source": [
    "\n",
    "# d) Clasifica cada día según su precipitación.\n",
    "clasificacion_dias = []\n",
    "for dia in datos_clima:\n",
    "    if dia[\"precipitacion\"] == 0:\n",
    "        clasificacion = \"Seco\"\n",
    "    elif dia[\"precipitacion\"] <= 10:\n",
    "        clasificacion = \"Lluvia ligera\"\n",
    "    else:\n",
    "        clasificacion = \"Lluvia intensa\"\n",
    "    clasificacion_dias.append((dia[\"fecha\"], clasificacion))\n",
    "\n",
    "print(\"\\nClasificación de días por precipitación:\")\n",
    "for fecha, clase in clasificacion_dias:\n",
    "    print(f\"{fecha}: {clase}\")\n"
   ]
  },
  {
   "cell_type": "code",
   "execution_count": null,
   "metadata": {},
   "outputs": [],
   "source": [
    "\n",
    "## 4. Estudio de Suelos\n",
    "\n",
    "# a) Identifica las muestras dentro del rango óptimo para todos los parámetros.\n",
    "muestras_optimas = []\n",
    "for muestra, valores in muestras_suelo.items():\n",
    "    if all(rangos_optimos[param][0] <= valores[param] <= rangos_optimos[param][1] \n",
    "           for param in rangos_optimos):\n",
    "        muestras_optimas.append(muestra)\n",
    "\n",
    "print(\"Muestras dentro del rango óptimo para todos los parámetros:\")\n",
    "print(muestras_optimas)\n"
   ]
  },
  {
   "cell_type": "code",
   "execution_count": null,
   "metadata": {},
   "outputs": [],
   "source": [
    "\n",
    "# b) Encuentra la muestra con el valor más alto y más bajo para cada parámetro.\n",
    "parametros = list(rangos_optimos.keys())\n",
    "valores_extremos = {param: {\"max\": (\"\", float('-inf')), \"min\": (\"\", float('inf'))} \n",
    "                    for param in parametros}\n",
    "\n",
    "for muestra, valores in muestras_suelo.items():\n",
    "    for param in parametros:\n",
    "        if valores[param] > valores_extremos[param][\"max\"][1]:\n",
    "            valores_extremos[param][\"max\"] = (muestra, valores[param])\n",
    "        if valores[param] < valores_extremos[param][\"min\"][1]:\n",
    "            valores_extremos[param][\"min\"] = (muestra, valores[param])\n",
    "\n",
    "print(\"\\nValores extremos por parámetro:\")\n",
    "for param, extremos in valores_extremos.items():\n",
    "    print(f\"{param}:\")\n",
    "    print(f\"  Máximo: {extremos['max'][0]} ({extremos['max'][1]})\")\n",
    "    print(f\"  Mínimo: {extremos['min'][0]} ({extremos['min'][1]})\")\n"
   ]
  },
  {
   "cell_type": "code",
   "execution_count": null,
   "metadata": {},
   "outputs": [],
   "source": [
    "\n",
    "# c) Calcula el promedio de cada parámetro entre todas las muestras.\n",
    "promedios_parametros = {param: sum(muestra[param] for muestra in muestras_suelo.values()) / len(muestras_suelo)\n",
    "                        for param in parametros}\n",
    "\n",
    "print(\"\\nPromedios de parámetros:\")\n",
    "for param, promedio in promedios_parametros.items():\n",
    "    print(f\"{param}: {promedio:.2f}\")\n"
   ]
  },
  {
   "cell_type": "code",
   "execution_count": null,
   "metadata": {},
   "outputs": [],
   "source": [
    "\n",
    "# d) Crea un conjunto con las muestras que necesitan corrección de pH.\n",
    "muestras_correccion_ph = {muestra for muestra, valores in muestras_suelo.items()\n",
    "                          if valores[\"pH\"] < rangos_optimos[\"pH\"][0] or valores[\"pH\"] > rangos_optimos[\"pH\"][1]}\n",
    "\n",
    "print(\"\\nMuestras que necesitan corrección de pH:\")\n",
    "print(muestras_correccion_ph)\n"
   ]
  },
  {
   "cell_type": "code",
   "execution_count": null,
   "metadata": {},
   "outputs": [],
   "source": [
    "\n",
    "## 5. Gestión de Residuos\n",
    "\n",
    "# a) Calcula la producción total de cada tipo de residuo durante el período.\n",
    "produccion_total = [sum(dia[i] for dia in produccion_diaria) for i in range(len(tipos_residuos))]\n",
    "print(\"Producción total por tipo de residuo:\")\n",
    "for tipo, total in zip(tipos_residuos, produccion_total):\n",
    "    print(f\"{tipo}: {total:.2f} toneladas\")\n"
   ]
  },
  {
   "cell_type": "code",
   "execution_count": null,
   "metadata": {},
   "outputs": [],
   "source": [
    "\n",
    "# b) Determina qué día se produjo la mayor cantidad total de residuos.\n",
    "produccion_diaria_total = [sum(dia) for dia in produccion_diaria]\n",
    "dia_mayor_produccion = produccion_diaria_total.index(max(produccion_diaria_total)) + 1\n",
    "print(f\"\\nDía con mayor producción de residuos: Día {dia_mayor_produccion}\")\n"
   ]
  },
  {
   "cell_type": "code",
   "execution_count": null,
   "metadata": {},
   "outputs": [],
   "source": [
    "\n",
    "# c) Crea un diccionario que muestre el porcentaje de cada tipo de residuo respecto al total.\n",
    "total_residuos = sum(produccion_total)\n",
    "porcentajes = {tipo: (total / total_residuos) * 100 \n",
    "               for tipo, total in zip(tipos_residuos, produccion_total)}\n",
    "\n",
    "print(\"\\nPorcentaje de cada tipo de residuo:\")\n",
    "for tipo, porcentaje in porcentajes.items():\n",
    "    print(f\"{tipo}: {porcentaje:.2f}%\")\n"
   ]
  },
  {
   "cell_type": "code",
   "execution_count": null,
   "metadata": {},
   "outputs": [],
   "source": [
    "\n",
    "# d) Clasifica cada día según su producción total.\n",
    "clasificacion_dias = []\n",
    "for i, total in enumerate(produccion_diaria_total):\n",
    "    if total < 7:\n",
    "        clasificacion = \"Baja\"\n",
    "    elif total <= 8:\n",
    "        clasificacion = \"Media\"\n",
    "    else:\n",
    "        clasificacion = \"Alta\"\n",
    "    clasificacion_dias.append((f\"Día {i+1}\", clasificacion))\n",
    "\n",
    "print(\"\\nClasificación de días por producción total:\")\n",
    "for dia, clase in clasificacion_dias:\n",
    "    print(f\"{dia}: {clase}\")"
   ]
  }
 ],
 "metadata": {
  "kernelspec": {
   "display_name": "Python 3",
   "language": "python",
   "name": "python3"
  },
  "language_info": {
   "codemirror_mode": {
    "name": "ipython",
    "version": 3
   },
   "file_extension": ".py",
   "mimetype": "text/x-python",
   "name": "python",
   "nbconvert_exporter": "python",
   "pygments_lexer": "ipython3",
   "version": "3.9.1"
  },
  "toc": {
   "base_numbering": 1,
   "nav_menu": {},
   "number_sections": true,
   "sideBar": true,
   "skip_h1_title": false,
   "title_cell": "Table of Contents",
   "title_sidebar": "Contents",
   "toc_cell": false,
   "toc_position": {},
   "toc_section_display": true,
   "toc_window_display": true
  },
  "varInspector": {
   "cols": {
    "lenName": 16,
    "lenType": 16,
    "lenVar": 40
   },
   "kernels_config": {
    "python": {
     "delete_cmd_postfix": "",
     "delete_cmd_prefix": "del ",
     "library": "var_list.py",
     "varRefreshCmd": "print(var_dic_list())"
    },
    "r": {
     "delete_cmd_postfix": ") ",
     "delete_cmd_prefix": "rm(",
     "library": "var_list.r",
     "varRefreshCmd": "cat(var_dic_list()) "
    }
   },
   "types_to_exclude": [
    "module",
    "function",
    "builtin_function_or_method",
    "instance",
    "_Feature"
   ],
   "window_display": false
  }
 },
 "nbformat": 4,
 "nbformat_minor": 4
}
